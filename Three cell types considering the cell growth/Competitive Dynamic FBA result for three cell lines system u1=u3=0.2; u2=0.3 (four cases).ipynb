{
 "cells": [
  {
   "cell_type": "markdown",
   "metadata": {},
   "source": [
    "# Competition for glucose, with internal goods X and Y, and social objective (model), Time-step growth model"
   ]
  },
  {
   "cell_type": "code",
   "execution_count": 1,
   "metadata": {},
   "outputs": [],
   "source": [
    "import cobra\n",
    "import pandas as pd\n",
    "import numpy as np\n",
    "import pickle\n",
    "import math\n",
    "from cobra.flux_analysis import pfba"
   ]
  },
  {
   "cell_type": "code",
   "execution_count": 2,
   "metadata": {},
   "outputs": [
    {
     "name": "stdout",
     "output_type": "stream",
     "text": [
      "Scaling...\n",
      " A: min|aij| =  1.000e+00  max|aij| =  1.000e+00  ratio =  1.000e+00\n",
      "Problem data seem to be well scaled\n"
     ]
    },
    {
     "name": "stderr",
     "output_type": "stream",
     "text": [
      "/Users/yanhualiu/Desktop/New_topic/model_building/model_building_exercise_by_yanhua/Cells' competition paper/Three cell types considering growth for paper/Cell types just including one mutation as cell type1/utils/findBiomarkers.py:6: FutureWarning: Passing a negative integer is deprecated in version 1.0 and will not be supported in future version. Instead, use None to not limit the column width.\n",
      "  pd.set_option('display.max_colwidth', -1)\n"
     ]
    }
   ],
   "source": [
    "# import map visualization tools\n",
    "from utils import show_map\n",
    "import escher\n",
    "map_loc = 'Three_cells_system_modelIIMap.json' # the escher map used below\n",
    "# show all output\n",
    "from IPython.core.interactiveshell import InteractiveShell\n",
    "InteractiveShell.ast_node_interactivity = \"all\"\n",
    "\n",
    "M = cobra.io.load_json_model('Three_cells_system_modelII.json')\n",
    "model = M.copy()"
   ]
  },
  {
   "cell_type": "code",
   "execution_count": 3,
   "metadata": {},
   "outputs": [
    {
     "name": "stdout",
     "output_type": "stream",
     "text": [
      "An empty solution was passed.\n"
     ]
    },
    {
     "data": {
      "application/vnd.jupyter.widget-view+json": {
       "model_id": "835a0211aebc4072a2d43bc2c6620d15",
       "version_major": 2,
       "version_minor": 0
      },
      "text/plain": [
       "Builder(hide_secondary_metabolites=False, highlight_missing=True, reaction_data={}, reaction_scale=[{'type': '…"
      ]
     },
     "metadata": {},
     "output_type": "display_data"
    }
   ],
   "source": [
    "b = show_map([],map_loc)\n",
    "b"
   ]
  },
  {
   "cell_type": "code",
   "execution_count": 3,
   "metadata": {},
   "outputs": [],
   "source": [
    "### Internal goods X and Y\n",
    "model.reactions.EX_Com_goodX_e.lower_bound=0\n",
    "model.reactions.EX_Com_goodY_e.lower_bound=0\n",
    "model.reactions.EX_glucose_e.lower_bound=-1\n",
    "quadratic_objective = M.problem.Objective(model.reactions.biomass1.flux_expression +\n",
    "    model.reactions.biomass2.flux_expression + model.reactions.biomass3.flux_expression ,direction='max')\n",
    "model.objective = quadratic_objective"
   ]
  },
  {
   "cell_type": "code",
   "execution_count": 4,
   "metadata": {},
   "outputs": [
    {
     "data": {
      "text/plain": [
       "0.5"
      ]
     },
     "execution_count": 4,
     "metadata": {},
     "output_type": "execute_result"
    },
    {
     "data": {
      "application/vnd.jupyter.widget-view+json": {
       "model_id": "630e3436694a46008a7ac499c29e113a",
       "version_major": 2,
       "version_minor": 0
      },
      "text/plain": [
       "Builder(hide_secondary_metabolites=False, highlight_missing=True, reaction_data={'EX_glucose_e': -1.0, 'GlcT':…"
      ]
     },
     "metadata": {},
     "output_type": "display_data"
    }
   ],
   "source": [
    "sol = model.optimize()\n",
    "sol.objective_value\n",
    "fbasol = model.optimize()\n",
    "b = show_map(fbasol,map_loc)\n",
    "b"
   ]
  },
  {
   "cell_type": "code",
   "execution_count": 6,
   "metadata": {},
   "outputs": [
    {
     "data": {
      "text/html": [
       "<div>\n",
       "<style scoped>\n",
       "    .dataframe tbody tr th:only-of-type {\n",
       "        vertical-align: middle;\n",
       "    }\n",
       "\n",
       "    .dataframe tbody tr th {\n",
       "        vertical-align: top;\n",
       "    }\n",
       "\n",
       "    .dataframe thead th {\n",
       "        text-align: right;\n",
       "    }\n",
       "</style>\n",
       "<table border=\"1\" class=\"dataframe\">\n",
       "  <thead>\n",
       "    <tr style=\"text-align: right;\">\n",
       "      <th></th>\n",
       "      <th>minimum</th>\n",
       "      <th>maximum</th>\n",
       "    </tr>\n",
       "  </thead>\n",
       "  <tbody>\n",
       "    <tr>\n",
       "      <th>EX_glucose_e</th>\n",
       "      <td>-1.00</td>\n",
       "      <td>-1.00</td>\n",
       "    </tr>\n",
       "    <tr>\n",
       "      <th>GlcT</th>\n",
       "      <td>1.00</td>\n",
       "      <td>1.00</td>\n",
       "    </tr>\n",
       "    <tr>\n",
       "      <th>GTI1</th>\n",
       "      <td>0.00</td>\n",
       "      <td>0.75</td>\n",
       "    </tr>\n",
       "    <tr>\n",
       "      <th>GTI2</th>\n",
       "      <td>0.25</td>\n",
       "      <td>0.75</td>\n",
       "    </tr>\n",
       "    <tr>\n",
       "      <th>GTI3</th>\n",
       "      <td>0.00</td>\n",
       "      <td>0.75</td>\n",
       "    </tr>\n",
       "    <tr>\n",
       "      <th>biomass1</th>\n",
       "      <td>0.00</td>\n",
       "      <td>0.50</td>\n",
       "    </tr>\n",
       "    <tr>\n",
       "      <th>biomass2</th>\n",
       "      <td>0.00</td>\n",
       "      <td>0.50</td>\n",
       "    </tr>\n",
       "    <tr>\n",
       "      <th>biomass3</th>\n",
       "      <td>0.00</td>\n",
       "      <td>0.50</td>\n",
       "    </tr>\n",
       "    <tr>\n",
       "      <th>DI1X</th>\n",
       "      <td>0.00</td>\n",
       "      <td>0.25</td>\n",
       "    </tr>\n",
       "    <tr>\n",
       "      <th>DI2Y</th>\n",
       "      <td>0.25</td>\n",
       "      <td>0.25</td>\n",
       "    </tr>\n",
       "  </tbody>\n",
       "</table>\n",
       "</div>"
      ],
      "text/plain": [
       "              minimum  maximum\n",
       "EX_glucose_e -1.00    -1.00   \n",
       "GlcT          1.00     1.00   \n",
       "GTI1          0.00     0.75   \n",
       "GTI2          0.25     0.75   \n",
       "GTI3          0.00     0.75   \n",
       "biomass1      0.00     0.50   \n",
       "biomass2      0.00     0.50   \n",
       "biomass3      0.00     0.50   \n",
       "DI1X          0.00     0.25   \n",
       "DI2Y          0.25     0.25   "
      ]
     },
     "execution_count": 6,
     "metadata": {},
     "output_type": "execute_result"
    }
   ],
   "source": [
    "### FVA result\n",
    "rxnsOfInterest=['EX_glucose_e','GlcT','GTI1','GTI2','GTI3',\n",
    "                'biomass1','biomass2','biomass3','DI1X','DI2Y']\n",
    "fvasol = cobra.flux_analysis.flux_variability_analysis(model,reaction_list=rxnsOfInterest,fraction_of_optimum=1)\n",
    "fvasol"
   ]
  },
  {
   "cell_type": "markdown",
   "metadata": {},
   "source": [
    "# Time stepwise growth calculation (model1)"
   ]
  },
  {
   "cell_type": "markdown",
   "metadata": {},
   "source": [
    "## Without regulation (the regulation between the cell1 and cell2 is dependent of the regulation in the initial time."
   ]
  },
  {
   "cell_type": "markdown",
   "metadata": {},
   "source": [
    "### Control (Cell type 3 gets regulation from cell type 2 and exists regulation to cell type 2.)"
   ]
  },
  {
   "cell_type": "code",
   "execution_count": 12,
   "metadata": {},
   "outputs": [],
   "source": [
    "model1=model.copy()\n",
    "model2=model1.copy()"
   ]
  },
  {
   "cell_type": "code",
   "execution_count": 13,
   "metadata": {},
   "outputs": [
    {
     "data": {
      "text/plain": [
       "<Figure size 640x480 with 0 Axes>"
      ]
     },
     "execution_count": 13,
     "metadata": {},
     "output_type": "execute_result"
    },
    {
     "name": "stdout",
     "output_type": "stream",
     "text": [
      "0.1986 0.2912 0.0102\n"
     ]
    },
    {
     "data": {
      "text/plain": [
       "<matplotlib.collections.PathCollection at 0x132be6950>"
      ]
     },
     "execution_count": 13,
     "metadata": {},
     "output_type": "execute_result"
    },
    {
     "data": {
      "text/plain": [
       "<matplotlib.collections.PathCollection at 0x132c67fd0>"
      ]
     },
     "execution_count": 13,
     "metadata": {},
     "output_type": "execute_result"
    },
    {
     "data": {
      "text/plain": [
       "<matplotlib.collections.PathCollection at 0x13e386260>"
      ]
     },
     "execution_count": 13,
     "metadata": {},
     "output_type": "execute_result"
    },
    {
     "data": {
      "text/plain": [
       "Text(0.5, 0, 't (month)')"
      ]
     },
     "execution_count": 13,
     "metadata": {},
     "output_type": "execute_result"
    },
    {
     "data": {
      "text/plain": [
       "(0.0, 1.0)"
      ]
     },
     "execution_count": 13,
     "metadata": {},
     "output_type": "execute_result"
    },
    {
     "data": {
      "text/plain": [
       "Text(0.5, 1.0, 'Stepwise growth (µ1=µ3=0.2, µ2=0.3; $\\\\varepsilon=1.2$)')"
      ]
     },
     "execution_count": 13,
     "metadata": {},
     "output_type": "execute_result"
    },
    {
     "data": {
      "text/plain": [
       "Text(0, 0.5, 'Cell number (billions)')"
      ]
     },
     "execution_count": 13,
     "metadata": {},
     "output_type": "execute_result"
    },
    {
     "data": {
      "text/plain": [
       "<matplotlib.legend.Legend at 0x13e384670>"
      ]
     },
     "execution_count": 13,
     "metadata": {},
     "output_type": "execute_result"
    },
    {
     "data": {
      "image/png": "[encoded data removed]",
      "text/plain": [
       "<Figure size 640x480 with 1 Axes>"
      ]
     },
     "metadata": {},
     "output_type": "display_data"
    }
   ],
   "source": [
    "##𝛆=1.2; b1=0.1986; b2=0.2912; b3=0.0102\n",
    "##𝛆=1; b1=0.1902; b2=0.3; b3=0.0098\n",
    "##𝛆=0.8; b1=0.1820; b2=0.3087; b3=0.0093\n",
    "##𝛆=0.5; b1=0.1699; b2=0.3214; b3=0.0087\n",
    "import matplotlib.pyplot as plt\n",
    "plt.figure()\n",
    "T_list=[0]\n",
    "Fluxes1_list=[0.1986]\n",
    "Fluxes2_list=[0.2912]\n",
    "Fluxes3_list=[0.0102]\n",
    "B1_vals=[0.39]\n",
    "B2_vals=[0.59]\n",
    "B3_vals=[0.02]\n",
    "Ratio1_list=[19.5]\n",
    "Ratio2_list=[19.5]\n",
    "def B1(t):\n",
    "    if(t<=0):\n",
    "        return 0.39\n",
    "    return B1_vals[int((t-1)/1)]*0.95+0.1*Fluxes1_list[-1]\n",
    "def B2(t):\n",
    "    if(t<=0):\n",
    "        return 0.59\n",
    "    return B2_vals[int((t-1)/1)]*0.95+0.1*Fluxes2_list[-1]\n",
    "def B3(t):\n",
    "    if(t<=0):\n",
    "        return 0.02\n",
    "    return B3_vals[int((t-1)/1)]*0.95+0.1*Fluxes3_list[-1]\n",
    "A=1.2\n",
    "for t in np.arange(1,500,1):\n",
    "    B1_t = B1(t)\n",
    "    B2_t = B2(t)\n",
    "    B3_t = B3(t)\n",
    "#     B1_vals.append(B1_t)\n",
    "#     B2_vals.append(B2_t)\n",
    "#     B3_vals.append(B3_t)\n",
    "    b1=0.5*0.2*B1_vals[-1]*(math.pow(B2_vals[-1],A))/(0.2*B1_vals[-1]*(math.pow(B2_vals[-1],A))+0.3*B2_vals[-1]*(math.pow((B1_vals[-1]+B3_vals[-1]),A))+0.2*B3_vals[-1]*(math.pow(B2_vals[-1],A)))\n",
    "    b2=0.5*0.3*B2_vals[-1]*(math.pow((B1_vals[-1]+B3_vals[-1]),A))/(0.2*B1_vals[-1]*(math.pow(B2_vals[-1],A))+0.3*B2_vals[-1]*(math.pow((B1_vals[-1]+B3_vals[-1]),A))+0.2*B3_vals[-1]*(math.pow(B2_vals[-1],A)))\n",
    "    b3=0.5*0.2*B3_vals[-1]*(math.pow(B2_vals[-1],A))/(0.2*B1_vals[-1]*(math.pow(B2_vals[-1],A))+0.3*B2_vals[-1]*(math.pow((B1_vals[-1]+B3_vals[-1]),A))+0.2*B3_vals[-1]*(math.pow(B2_vals[-1],A)))\n",
    "    \n",
    "    B1_vals.append(B1_t)\n",
    "    B2_vals.append(B2_t)\n",
    "    B3_vals.append(B3_t)\n",
    "    \n",
    "    Ratio1=B1_vals[-1]/B3_vals[-1]\n",
    "    model2.reactions.biomass3.upper_bound=b3\n",
    "    model2.reactions.biomass2.upper_bound=b2\n",
    "    model2.reactions.biomass1.upper_bound=b1\n",
    "    model2.reactions.DI1X.upper_bound=3*B1_vals[-1]\n",
    "    model2.reactions.DI2Y.upper_bound=3*B2_vals[-1]\n",
    "    model2.reactions.DI3X.upper_bound=3*B3_vals[-1]\n",
    "    sol = model2.optimize()\n",
    "    obj_val = sol.objective_value\n",
    "    Fluxes3=sol.fluxes.loc['biomass3']\n",
    "    Fluxes2=sol.fluxes.loc['biomass2']\n",
    "    Fluxes1=sol.fluxes.loc['biomass1']\n",
    "    Ratio2=Fluxes1/Fluxes3\n",
    "    \n",
    "    Fluxes1_list.append(Fluxes1)\n",
    "    Fluxes2_list.append(Fluxes2)\n",
    "    Fluxes3_list.append(Fluxes3)\n",
    "    \n",
    "    Ratio1_list.append(Ratio1)\n",
    "    Ratio2_list.append(Ratio2)\n",
    "    \n",
    "    T=t/10\n",
    "    T_list.append(T)\n",
    "print(Fluxes1_list[0],Fluxes2_list[0],Fluxes3_list[0])           \n",
    "# plt.scatter(T_list,Fluxes1_list,color='orange',s=10)\n",
    "# plt.scatter(T_list,Fluxes2_list,color='purple',s=10)\n",
    "# plt.scatter(T_list,Fluxes3_list,color='red',s=10)\n",
    "plt.scatter(T_list,B1_vals,color='orange',s=10)\n",
    "plt.scatter(T_list,B2_vals,color='purple',s=10)\n",
    "plt.scatter(T_list,B3_vals,color='red',s=10)\n",
    "\n",
    "# plt.scatter(T_list,Ratio1_list,color='red',s=10)\n",
    "# plt.scatter(T_list,Ratio2_list,color='green',s=10)\n",
    "\n",
    "plt.xlabel(\"t (month)\",fontsize=15)\n",
    "\n",
    "# plt.ylim(0,0.5)\n",
    "# plt.title('Stepwise growth (µ1=µ3=0.2, µ2=0.3; 'r'$\\varepsilon=0.5$'')',fontsize=12)\n",
    "# plt.ylabel(\"Biomass synthesis rate\", fontsize=12)\n",
    "# plt.legend(['b1(t)','b2(t)','b3(t)'],loc='upper right')\n",
    "\n",
    "plt.ylim(0,1)\n",
    "plt.title('Stepwise growth (µ1=µ3=0.2, µ2=0.3; 'r'$\\varepsilon=1.2$'')',fontsize=12)\n",
    "plt.ylabel(\"Cell number (billions)\",fontsize=12)\n",
    "plt.legend(['B1(t)','B2(t)','B3(t)'],loc='upper right')\n",
    "\n",
    "# plt.ylim(0,20)\n",
    "# plt.title('Stepwise growth (µ1=µ3=0.2, µ2=0.3; 'r'$\\varepsilon=0.5$'')',fontsize=12)\n",
    "# plt.ylabel(\"Cell number and biomass synthesis ratio\",fontsize=12)\n",
    "# plt.legend(['B1(t)/B3(t)','b1(t)/b3(t)'],loc='center right')\n",
    "\n",
    "plt.rc('xtick', labelsize=16) \n",
    "plt.rc('ytick', labelsize=16)\n",
    "plt.rcParams['legend.fontsize']=15\n",
    "plt.tight_layout()\n",
    "# plt.show()\n",
    "plt.savefig('Only regulation between biomass1 and biomass2(Obj=b1+b2+b3)',dpi=600)"
   ]
  },
  {
   "cell_type": "markdown",
   "metadata": {},
   "source": [
    "### Case 1 (Cell type 3 lost regulation from cell type 2 and lost regulation to cell type 2.)"
   ]
  },
  {
   "cell_type": "code",
   "execution_count": 20,
   "metadata": {},
   "outputs": [],
   "source": [
    "model1=model.copy()\n",
    "model2=model1.copy()"
   ]
  },
  {
   "cell_type": "code",
   "execution_count": 21,
   "metadata": {
    "scrolled": false
   },
   "outputs": [
    {
     "data": {
      "text/plain": [
       "<Figure size 640x480 with 0 Axes>"
      ]
     },
     "execution_count": 21,
     "metadata": {},
     "output_type": "execute_result"
    },
    {
     "name": "stdout",
     "output_type": "stream",
     "text": [
      "0.2018 0.2787 0.0195\n"
     ]
    },
    {
     "data": {
      "text/plain": [
       "<matplotlib.collections.PathCollection at 0x141908190>"
      ]
     },
     "execution_count": 21,
     "metadata": {},
     "output_type": "execute_result"
    },
    {
     "data": {
      "text/plain": [
       "<matplotlib.collections.PathCollection at 0x141908520>"
      ]
     },
     "execution_count": 21,
     "metadata": {},
     "output_type": "execute_result"
    },
    {
     "data": {
      "text/plain": [
       "<matplotlib.collections.PathCollection at 0x1418d4820>"
      ]
     },
     "execution_count": 21,
     "metadata": {},
     "output_type": "execute_result"
    },
    {
     "data": {
      "text/plain": [
       "Text(0.5, 0, 't (month)')"
      ]
     },
     "execution_count": 21,
     "metadata": {},
     "output_type": "execute_result"
    },
    {
     "data": {
      "text/plain": [
       "(0.0, 1.0)"
      ]
     },
     "execution_count": 21,
     "metadata": {},
     "output_type": "execute_result"
    },
    {
     "data": {
      "text/plain": [
       "Text(0.5, 1.0, 'Stepwise growth (µ1=µ3=0.2, µ2=0.3; $\\\\varepsilon=1.2$)')"
      ]
     },
     "execution_count": 21,
     "metadata": {},
     "output_type": "execute_result"
    },
    {
     "data": {
      "text/plain": [
       "Text(0, 0.5, 'Cell number (billions)')"
      ]
     },
     "execution_count": 21,
     "metadata": {},
     "output_type": "execute_result"
    },
    {
     "data": {
      "text/plain": [
       "<matplotlib.legend.Legend at 0x1418d5de0>"
      ]
     },
     "execution_count": 21,
     "metadata": {},
     "output_type": "execute_result"
    },
    {
     "data": {
      "image/png": "[encoded data removed]",
      "text/plain": [
       "<Figure size 640x480 with 1 Axes>"
      ]
     },
     "metadata": {},
     "output_type": "display_data"
    }
   ],
   "source": [
    "##𝛆=1.2; b1=0.2018; b2=0.2787; b3=0.0195\n",
    "##𝛆=1; b1=0.1933; b2=0.2899; b3=0.0168\n",
    "##𝛆=0.8; b1=0.1847; b2=0.3009; b3=0.0144\n",
    "##𝛆=0.5; b1=0.1717; b2=0.3168; b3=0.0115\n",
    "import matplotlib.pyplot as plt\n",
    "plt.figure()\n",
    "T_list=[0]\n",
    "Fluxes1_list=[0.2018]\n",
    "Fluxes2_list=[0.2787]\n",
    "Fluxes3_list=[0.0195]\n",
    "B1_vals=[0.39]\n",
    "B2_vals=[0.59]\n",
    "B3_vals=[0.02]\n",
    "Ratio1_list=[19.5]\n",
    "Ratio2_list=[14.9]\n",
    "def B1(t):\n",
    "    if(t<=0):\n",
    "        return 0.39\n",
    "    return B1_vals[int((t-1)/1)]*0.95+0.1*Fluxes1_list[-1]\n",
    "def B2(t):\n",
    "    if(t<=0):\n",
    "        return 0.59\n",
    "    return B2_vals[int((t-1)/1)]*0.95+0.1*Fluxes2_list[-1]\n",
    "def B3(t):\n",
    "    if(t<=0):\n",
    "        return 0.02\n",
    "    return B3_vals[int((t-1)/1)]*0.95+0.1*Fluxes3_list[-1]\n",
    "A=1.2\n",
    "for t in np.arange(1,500,1):\n",
    "    B1_t = B1(t)\n",
    "    B2_t = B2(t)\n",
    "    B3_t = B3(t)\n",
    "    \n",
    "#     B1_vals.append(B1_t)\n",
    "#     B2_vals.append(B2_t)\n",
    "#     B3_vals.append(B3_t)\n",
    "    \n",
    "    b1=0.5*0.2*B1_vals[-1]*(math.pow(B2_vals[-1],A))/(0.2*B1_vals[-1]*(math.pow(B2_vals[-1],A))+0.3*B2_vals[-1]*(math.pow(B1_vals[-1],A))+0.2*B3_vals[-1])\n",
    "    b2=0.5*0.3*B2_vals[-1]*(math.pow(B1_vals[-1],A))/(0.2*B1_vals[-1]*(math.pow(B2_vals[-1],A))+0.3*B2_vals[-1]*(math.pow(B1_vals[-1],A))+0.2*B3_vals[-1])\n",
    "    b3=0.5*0.2*B3_vals[-1]/(0.2*B1_vals[-1]*(math.pow(B2_vals[-1],A))+0.3*B2_vals[-1]*(math.pow(B1_vals[-1],A))+0.2*B3_vals[-1])\n",
    "    B1_vals.append(B1_t)\n",
    "    B2_vals.append(B2_t)\n",
    "    B3_vals.append(B3_t)\n",
    "    Ratio1=B1_vals[-1]/B3_vals[-1]\n",
    "    model2.reactions.biomass3.upper_bound=b3\n",
    "    model2.reactions.biomass2.upper_bound=b2\n",
    "    model2.reactions.biomass1.upper_bound=b1\n",
    "    model2.reactions.DI1X.upper_bound=3*B1_vals[-1]\n",
    "    model2.reactions.DI2Y.upper_bound=3*B2_vals[-1]\n",
    "    model2.reactions.DI3X.upper_bound=3*B3_vals[-1]\n",
    "    sol = model2.optimize()\n",
    "    obj_val = sol.objective_value\n",
    "    Fluxes3=sol.fluxes.loc['biomass3']\n",
    "    Fluxes2=sol.fluxes.loc['biomass2']\n",
    "    Fluxes1=sol.fluxes.loc['biomass1']\n",
    "    Ratio2=Fluxes1/Fluxes3\n",
    "    \n",
    "    Fluxes1_list.append(Fluxes1)\n",
    "    Fluxes2_list.append(Fluxes2)\n",
    "    Fluxes3_list.append(Fluxes3)\n",
    "    \n",
    "    Ratio1_list.append(Ratio1)\n",
    "    Ratio2_list.append(Ratio2)\n",
    "    T=t/10\n",
    "    T_list.append(T)\n",
    "print(Fluxes1_list[0],Fluxes2_list[0],Fluxes3_list[0])           \n",
    "# plt.scatter(T_list,Fluxes1_list,color='orange',s=10)\n",
    "# plt.scatter(T_list,Fluxes2_list,color='purple',s=10)\n",
    "# plt.scatter(T_list,Fluxes3_list,color='red',s=10)\n",
    "plt.scatter(T_list,B1_vals,color='orange',s=10)\n",
    "plt.scatter(T_list,B2_vals,color='purple',s=10)\n",
    "plt.scatter(T_list,B3_vals,color='red',s=10)\n",
    "\n",
    "# plt.scatter(T_list,Ratio1_list,color='red',s=10)\n",
    "# plt.scatter(T_list,Ratio2_list,color='green',s=10)\n",
    "\n",
    "plt.xlabel(\"t (month)\",fontsize=15)\n",
    "\n",
    "# plt.ylim(0,0.5)\n",
    "# plt.title('Stepwise growth (µ1=µ3=0.2, µ2=0.3; 'r'$\\varepsilon=0.5$'')',fontsize=12)\n",
    "# plt.ylabel(\"Biomass synthesis rate\", fontsize=12)\n",
    "# plt.legend(['b1(t)','b2(t)','b3(t)'],loc='upper right')\n",
    "\n",
    "plt.ylim(0,1)\n",
    "plt.title('Stepwise growth (µ1=µ3=0.2, µ2=0.3; 'r'$\\varepsilon=1.2$'')',fontsize=12)\n",
    "plt.ylabel(\"Cell number (billions)\",fontsize=12)\n",
    "plt.legend(['B1(t)','B2(t)','B3(t)'],loc='upper right')\n",
    "\n",
    "# plt.ylim(0,20)\n",
    "# plt.title('Stepwise growth (µ1=µ3=0.2, µ2=0.3; 'r'$\\varepsilon=0.5$'')',fontsize=12)\n",
    "# plt.ylabel(\"Cell number and biomass synthesis ratio\",fontsize=12)\n",
    "# plt.legend(['B1(t)/B3(t)','b1(t)/b3(t)'],loc='center right')\n",
    "\n",
    "plt.rc('xtick', labelsize=16) \n",
    "plt.rc('ytick', labelsize=16)\n",
    "plt.rcParams['legend.fontsize']=15\n",
    "plt.tight_layout()\n",
    "# plt.show()\n",
    "plt.savefig('Only regulation between biomass1 and biomass2(Obj=b1+b2+b3)',dpi=600)"
   ]
  },
  {
   "cell_type": "code",
   "execution_count": 38,
   "metadata": {},
   "outputs": [
    {
     "name": "stdout",
     "output_type": "stream",
     "text": [
      "0.5\n"
     ]
    }
   ],
   "source": [
    "print(b1+b2+b3)"
   ]
  },
  {
   "cell_type": "markdown",
   "metadata": {},
   "source": [
    "### Case 2 (Cell type 3 lost regulation from cell type 2 and still existed regulation to cell type 2.)"
   ]
  },
  {
   "cell_type": "code",
   "execution_count": 28,
   "metadata": {},
   "outputs": [],
   "source": [
    "model1=model.copy()\n",
    "model2=model1.copy()"
   ]
  },
  {
   "cell_type": "code",
   "execution_count": 29,
   "metadata": {
    "scrolled": false
   },
   "outputs": [
    {
     "data": {
      "text/plain": [
       "<Figure size 640x480 with 0 Axes>"
      ]
     },
     "execution_count": 29,
     "metadata": {},
     "output_type": "execute_result"
    },
    {
     "name": "stdout",
     "output_type": "stream",
     "text": [
      "0.169 0.3197 0.0113\n"
     ]
    },
    {
     "data": {
      "text/plain": [
       "<matplotlib.collections.PathCollection at 0x1449bc760>"
      ]
     },
     "execution_count": 29,
     "metadata": {},
     "output_type": "execute_result"
    },
    {
     "data": {
      "text/plain": [
       "<matplotlib.collections.PathCollection at 0x144a16a70>"
      ]
     },
     "execution_count": 29,
     "metadata": {},
     "output_type": "execute_result"
    },
    {
     "data": {
      "text/plain": [
       "<matplotlib.collections.PathCollection at 0x13eb27dc0>"
      ]
     },
     "execution_count": 29,
     "metadata": {},
     "output_type": "execute_result"
    },
    {
     "data": {
      "text/plain": [
       "Text(0.5, 0, 't (month)')"
      ]
     },
     "execution_count": 29,
     "metadata": {},
     "output_type": "execute_result"
    },
    {
     "data": {
      "text/plain": [
       "(0.0, 1.0)"
      ]
     },
     "execution_count": 29,
     "metadata": {},
     "output_type": "execute_result"
    },
    {
     "data": {
      "text/plain": [
       "Text(0.5, 1.0, 'Stepwise growth (µ1=µ3=0.2, µ2=0.3; $\\\\varepsilon=0.5$)')"
      ]
     },
     "execution_count": 29,
     "metadata": {},
     "output_type": "execute_result"
    },
    {
     "data": {
      "text/plain": [
       "Text(0, 0.5, 'Cell number (billions)')"
      ]
     },
     "execution_count": 29,
     "metadata": {},
     "output_type": "execute_result"
    },
    {
     "data": {
      "text/plain": [
       "<matplotlib.legend.Legend at 0x144a14be0>"
      ]
     },
     "execution_count": 29,
     "metadata": {},
     "output_type": "execute_result"
    },
    {
     "data": {
      "image/png": "[encoded data removed]",
      "text/plain": [
       "<Figure size 640x480 with 1 Axes>"
      ]
     },
     "metadata": {},
     "output_type": "display_data"
    }
   ],
   "source": [
    "##𝛆=1.2; b1=0.1951; b2=0.2861; b3=0.0188\n",
    "##𝛆=1; b1=0.1877; b2=0.2960; b3=0.0163\n",
    "##𝛆=0.8; b1=0.1802; b2=0.3057; b3=0.0141\n",
    "##𝛆=0.5; b1=0.1690; b2=0.3197; b3=0.0113\n",
    "##𝛆=0; b1=0.1506; b2=0.3417; b3=0.0077\n",
    "import matplotlib.pyplot as plt\n",
    "plt.figure()\n",
    "T_list=[0]\n",
    "Fluxes1_list=[0.1690]\n",
    "Fluxes2_list=[0.3197]\n",
    "Fluxes3_list=[0.0113]\n",
    "B1_vals=[0.39]\n",
    "B2_vals=[0.59]\n",
    "B3_vals=[0.02]\n",
    "\n",
    "Ratio1_list=[19.5]\n",
    "Ratio2_list=[10.4]\n",
    "\n",
    "def B1(t):\n",
    "    if(t<=0):\n",
    "        return 0.39\n",
    "    return B1_vals[int((t-1)/1)]*0.95+0.1*Fluxes1_list[-1]\n",
    "def B2(t):\n",
    "    if(t<=0):\n",
    "        return 0.59\n",
    "    return B2_vals[int((t-1)/1)]*0.95+0.1*Fluxes2_list[-1]\n",
    "def B3(t):\n",
    "    if(t<=0):\n",
    "        return 0.02\n",
    "    return B3_vals[int((t-1)/1)]*0.95+0.1*Fluxes3_list[-1]\n",
    "A=0.5\n",
    "for t in np.arange(1,500,1):\n",
    "    B1_t = B1(t)\n",
    "    B2_t = B2(t)\n",
    "    B3_t = B3(t)\n",
    "#     B1_vals.append(B1_t)\n",
    "#     B2_vals.append(B2_t)\n",
    "#     B3_vals.append(B3_t)\n",
    "    \n",
    "\n",
    "    b1=0.5*0.2*B1_vals[-1]*(math.pow(B2_vals[-1],A))/(0.2*B1_vals[-1]*(math.pow(B2_vals[-1],A))+0.3*B2_vals[-1]*(math.pow((B1_vals[-1]+B3_vals[-1]),A))+0.2*B3_vals[-1])\n",
    "    b2=0.5*0.3*B2_vals[-1]*(math.pow((B1_vals[-1]+B3_vals[-1]),A))/(0.2*B1_vals[-1]*(math.pow(B2_vals[-1],A))+0.3*B2_vals[-1]*(math.pow((B1_vals[-1]+B3_vals[-1]),A))+0.2*B3_vals[-1])\n",
    "    b3=0.5*0.2*B3_vals[-1]/(0.2*B1_vals[-1]*(math.pow(B2_vals[-1],A))+0.3*B2_vals[-1]*(math.pow((B1_vals[-1]+B3_vals[-1]),A))+0.2*B3_vals[-1])\n",
    "    B1_vals.append(B1_t)\n",
    "    B2_vals.append(B2_t)\n",
    "    B3_vals.append(B3_t)\n",
    "    \n",
    "    Ratio1=B1_vals[-1]/B3_vals[-1]\n",
    "    \n",
    "    model2.reactions.biomass3.upper_bound=b3\n",
    "    model2.reactions.biomass2.upper_bound=b2\n",
    "    model2.reactions.biomass1.upper_bound=b1\n",
    "    model2.reactions.DI1X.upper_bound=3*B1_vals[-1]\n",
    "    model2.reactions.DI2Y.upper_bound=3*B2_vals[-1]\n",
    "    model2.reactions.DI3X.upper_bound=3*B3_vals[-1]\n",
    "    sol = model2.optimize()\n",
    "    obj_val = sol.objective_value\n",
    "    Fluxes3=sol.fluxes.loc['biomass3']\n",
    "    Fluxes2=sol.fluxes.loc['biomass2']\n",
    "    Fluxes1=sol.fluxes.loc['biomass1']\n",
    "    Ratio2=Fluxes1/Fluxes3\n",
    "    \n",
    "    Fluxes1_list.append(Fluxes1)\n",
    "    Fluxes2_list.append(Fluxes2)\n",
    "    Fluxes3_list.append(Fluxes3)\n",
    "    Ratio1_list.append(Ratio1)\n",
    "    Ratio2_list.append(Ratio2)\n",
    "    T=t/10\n",
    "    T_list.append(T)\n",
    "print(Fluxes1_list[0],Fluxes2_list[0],Fluxes3_list[0])           \n",
    "# plt.scatter(T_list,Fluxes1_list,color='orange',s=10)\n",
    "# plt.scatter(T_list,Fluxes2_list,color='purple',s=10)\n",
    "# plt.scatter(T_list,Fluxes3_list,color='red',s=10)\n",
    "plt.scatter(T_list,B1_vals,color='orange',s=10)\n",
    "plt.scatter(T_list,B2_vals,color='purple',s=10)\n",
    "plt.scatter(T_list,B3_vals,color='red',s=10)\n",
    "\n",
    "# plt.scatter(T_list,Ratio1_list,color='red',s=10)\n",
    "# plt.scatter(T_list,Ratio2_list,color='green',s=10)\n",
    "\n",
    "plt.xlabel(\"t (month)\",fontsize=15)\n",
    "\n",
    "# plt.ylim(0,0.5)\n",
    "# plt.title('Stepwise growth (µ1=µ3=0.2, µ2=0.3; 'r'$\\varepsilon=1.2$'')',fontsize=12)\n",
    "# plt.ylabel(\"Biomass synthesis rate\", fontsize=12)\n",
    "# plt.legend(['b1(t)','b2(t)','b3(t)'],loc='upper right')\n",
    "\n",
    "plt.ylim(0,1)\n",
    "plt.title('Stepwise growth (µ1=µ3=0.2, µ2=0.3; 'r'$\\varepsilon=0.5$'')',fontsize=12)\n",
    "plt.ylabel(\"Cell number (billions)\",fontsize=12)\n",
    "plt.legend(['B1(t)','B2(t)','B3(t)'],loc='upper right')\n",
    "\n",
    "# plt.ylim(0,20)\n",
    "# plt.title('Stepwise growth (µ1=µ3=0.2, µ2=0.3; 'r'$\\varepsilon=1.2$'')',fontsize=12)\n",
    "# plt.ylabel(\"Cell number and biomass synthesis ratio\",fontsize=12)\n",
    "# plt.legend(['B1(t)/B3(t)','b1(t)/b3(t)'],loc='center right')\n",
    "\n",
    "plt.rc('xtick', labelsize=16) \n",
    "plt.rc('ytick', labelsize=16)\n",
    "plt.rcParams['legend.fontsize']=15\n",
    "plt.tight_layout()\n",
    "# plt.show()\n",
    "plt.savefig('Only regulation between biomass1 and biomass2(Obj=b1+b2+b3)',dpi=600)"
   ]
  },
  {
   "cell_type": "code",
   "execution_count": 19,
   "metadata": {},
   "outputs": [
    {
     "name": "stdout",
     "output_type": "stream",
     "text": [
      "5.9264550771782915e-08 0.2869930498762703 0.7130068908591778\n"
     ]
    }
   ],
   "source": [
    "print(B1_vals[-1],B2_vals[-1],B3_vals[-1])"
   ]
  },
  {
   "cell_type": "code",
   "execution_count": 18,
   "metadata": {},
   "outputs": [
    {
     "name": "stdout",
     "output_type": "stream",
     "text": [
      "0.5\n"
     ]
    }
   ],
   "source": [
    "print(b1+b2+b3)"
   ]
  },
  {
   "cell_type": "markdown",
   "metadata": {},
   "source": [
    "### Case 3 (Cell type lost regulation to cell type 2, but still existed regulation from cell type 2) "
   ]
  },
  {
   "cell_type": "code",
   "execution_count": 36,
   "metadata": {},
   "outputs": [],
   "source": [
    "model1=model.copy()\n",
    "model2=model1.copy()"
   ]
  },
  {
   "cell_type": "code",
   "execution_count": 37,
   "metadata": {},
   "outputs": [
    {
     "data": {
      "text/plain": [
       "<Figure size 640x480 with 0 Axes>"
      ]
     },
     "execution_count": 37,
     "metadata": {},
     "output_type": "execute_result"
    },
    {
     "name": "stdout",
     "output_type": "stream",
     "text": [
      "0.2056 0.2839 0.0105\n"
     ]
    },
    {
     "data": {
      "text/plain": [
       "<matplotlib.collections.PathCollection at 0x13be98ca0>"
      ]
     },
     "execution_count": 37,
     "metadata": {},
     "output_type": "execute_result"
    },
    {
     "data": {
      "text/plain": [
       "<matplotlib.collections.PathCollection at 0x13e43cd30>"
      ]
     },
     "execution_count": 37,
     "metadata": {},
     "output_type": "execute_result"
    },
    {
     "data": {
      "text/plain": [
       "<matplotlib.collections.PathCollection at 0x13be6e620>"
      ]
     },
     "execution_count": 37,
     "metadata": {},
     "output_type": "execute_result"
    },
    {
     "data": {
      "text/plain": [
       "Text(0.5, 0, 't (month)')"
      ]
     },
     "execution_count": 37,
     "metadata": {},
     "output_type": "execute_result"
    },
    {
     "data": {
      "text/plain": [
       "(0.0, 1.0)"
      ]
     },
     "execution_count": 37,
     "metadata": {},
     "output_type": "execute_result"
    },
    {
     "data": {
      "text/plain": [
       "Text(0.5, 1.0, 'Stepwise growth (µ1=µ3=0.2, µ2=0.3; $\\\\varepsilon=1.2$)')"
      ]
     },
     "execution_count": 37,
     "metadata": {},
     "output_type": "execute_result"
    },
    {
     "data": {
      "text/plain": [
       "Text(0, 0.5, 'Cell number (billions)')"
      ]
     },
     "execution_count": 37,
     "metadata": {},
     "output_type": "execute_result"
    },
    {
     "data": {
      "text/plain": [
       "<matplotlib.legend.Legend at 0x13be6fe20>"
      ]
     },
     "execution_count": 37,
     "metadata": {},
     "output_type": "execute_result"
    },
    {
     "data": {
      "image/png": "[encoded data removed]",
      "text/plain": [
       "<Figure size 640x480 with 1 Axes>"
      ]
     },
     "metadata": {},
     "output_type": "display_data"
    }
   ],
   "source": [
    "##𝛆=1.2; b1=0.2056; b2=0.2839; b3=0.0105\n",
    "##𝛆=1; b1=0.1960; b2=0.2940; b3=0.0100\n",
    "##𝛆=0.8; b1=0.1865; b2=0.3039; b3=0.0096\n",
    "##𝛆=0.5; b1=0.1726; b2=0.3185; b3=0.0089\n",
    "##𝛆=0; b1=0.1506; b2=0.3417; b3=0.0077\n",
    "import matplotlib.pyplot as plt\n",
    "plt.figure()\n",
    "T_list=[0]\n",
    "Fluxes1_list=[0.2056]\n",
    "Fluxes2_list=[0.2839]\n",
    "Fluxes3_list=[0.0105]\n",
    "B1_vals=[0.39]\n",
    "B2_vals=[0.59]\n",
    "B3_vals=[0.02]\n",
    "Ratio1_list=[19.5]\n",
    "Ratio2_list=[19.6]\n",
    "\n",
    "def B1(t):\n",
    "    if(t<=0):\n",
    "        return 0.39\n",
    "    return B1_vals[int((t-1)/1)]*0.95+0.1*Fluxes1_list[-1]\n",
    "def B2(t):\n",
    "    if(t<=0):\n",
    "        return 0.59\n",
    "    return B2_vals[int((t-1)/1)]*0.95+0.1*Fluxes2_list[-1]\n",
    "def B3(t):\n",
    "    if(t<=0):\n",
    "        return 0.02\n",
    "    return B3_vals[int((t-1)/1)]*0.95+0.1*Fluxes3_list[-1]\n",
    "A=1.2\n",
    "for t in np.arange(1,500,1):\n",
    "    B1_t = B1(t)\n",
    "    B2_t = B2(t)\n",
    "    B3_t = B3(t)\n",
    "#     B1_vals.append(B1_t)\n",
    "#     B2_vals.append(B2_t)\n",
    "#     B3_vals.append(B3_t)\n",
    "    b1=0.5*0.2*B1_vals[-1]*(math.pow(B2_vals[-1],A))/(0.2*B1_vals[-1]*(math.pow(B2_vals[-1],A))+0.3*B2_vals[-1]*(math.pow(B1_vals[-1],A))+0.2*B3_vals[-1]*(math.pow(B2_vals[-1],A)))\n",
    "    b2=0.5*0.3*B2_vals[-1]*(math.pow(B1_vals[-1],A))/(0.2*B1_vals[-1]*(math.pow(B2_vals[-1],A))+0.3*B2_vals[-1]*(math.pow(B1_vals[-1],A))+0.2*B3_vals[-1]*(math.pow(B2_vals[-1],A)))\n",
    "    b3=0.5*0.2*B3_vals[-1]*(math.pow(B2_vals[-1],A))/(0.2*B1_vals[-1]*(math.pow(B2_vals[-1],A))+0.3*B2_vals[-1]*(math.pow(B1_vals[-1],A))+0.2*B3_vals[-1]*(math.pow(B2_vals[-1],A)))\n",
    "    B1_vals.append(B1_t)\n",
    "    B2_vals.append(B2_t)\n",
    "    B3_vals.append(B3_t)\n",
    "    Ratio1=B1_vals[-1]/B3_vals[-1]\n",
    "    \n",
    "    model2.reactions.biomass3.upper_bound=b3\n",
    "    model2.reactions.biomass2.upper_bound=b2\n",
    "    model2.reactions.biomass1.upper_bound=b1\n",
    "    model2.reactions.DI1X.upper_bound=3*B1_vals[-1]\n",
    "    model2.reactions.DI2Y.upper_bound=3*B2_vals[-1]\n",
    "    model2.reactions.DI3X.upper_bound=3*B3_vals[-1]\n",
    "    sol = model2.optimize()\n",
    "    obj_val = sol.objective_value\n",
    "    Fluxes3=sol.fluxes.loc['biomass3']\n",
    "    Fluxes2=sol.fluxes.loc['biomass2']\n",
    "    Fluxes1=sol.fluxes.loc['biomass1']\n",
    "    Ratio2=Fluxes1/Fluxes3\n",
    "    \n",
    "    Fluxes1_list.append(Fluxes1)\n",
    "    Fluxes2_list.append(Fluxes2)\n",
    "    Fluxes3_list.append(Fluxes3)\n",
    "    Ratio1_list.append(Ratio1)\n",
    "    Ratio2_list.append(Ratio2)\n",
    "    T=t/10\n",
    "    T_list.append(T)\n",
    "print(Fluxes1_list[0],Fluxes2_list[0],Fluxes3_list[0])           \n",
    "# plt.scatter(T_list,Fluxes1_list,color='orange',s=10)\n",
    "# plt.scatter(T_list,Fluxes2_list,color='purple',s=10)\n",
    "# plt.scatter(T_list,Fluxes3_list,color='red',s=10)\n",
    "plt.scatter(T_list,B1_vals,color='orange',s=10)\n",
    "plt.scatter(T_list,B2_vals,color='purple',s=10)\n",
    "plt.scatter(T_list,B3_vals,color='red',s=10)\n",
    "\n",
    "# plt.scatter(T_list,Ratio1_list,color='red',s=10)\n",
    "# plt.scatter(T_list,Ratio2_list,color='green',s=10)\n",
    "\n",
    "plt.xlabel(\"t (month)\",fontsize=15)\n",
    "\n",
    "# plt.ylim(0,0.5)\n",
    "# plt.title('Stepwise growth (µ1=µ3=0.2, µ2=0.3; 'r'$\\varepsilon=0.5$'')',fontsize=12)\n",
    "# plt.ylabel(\"Biomass synthesis rate\", fontsize=12)\n",
    "# plt.legend(['b1(t)','b2(t)','b3(t)'],loc='upper right')\n",
    "\n",
    "plt.ylim(0,1)\n",
    "plt.title('Stepwise growth (µ1=µ3=0.2, µ2=0.3; 'r'$\\varepsilon=1.2$'')',fontsize=12)\n",
    "plt.ylabel(\"Cell number (billions)\",fontsize=12)\n",
    "plt.legend(['B1(t)','B2(t)','B3(t)'],loc='upper right')\n",
    "\n",
    "# plt.ylim(0,20)\n",
    "# plt.title('Stepwise growth (µ1=µ3=0.2, µ2=0.3; 'r'$\\varepsilon=1.2$'')',fontsize=12)\n",
    "# plt.ylabel(\"Cell number and biomass synthesis ratio\",fontsize=12)\n",
    "# plt.legend(['B1(t)/B3(t)','b1(t)/b3(t)'],loc='center right')\n",
    "\n",
    "plt.rc('xtick', labelsize=16) \n",
    "plt.rc('ytick', labelsize=16)\n",
    "plt.rcParams['legend.fontsize']=15\n",
    "plt.tight_layout()\n",
    "# plt.show()\n",
    "plt.savefig('Only regulation between biomass1 and biomass2(Obj=b1+b2+b3)',dpi=600)"
   ]
  },
  {
   "cell_type": "code",
   "execution_count": null,
   "metadata": {},
   "outputs": [],
   "source": []
  },
  {
   "cell_type": "code",
   "execution_count": null,
   "metadata": {},
   "outputs": [],
   "source": []
  },
  {
   "cell_type": "code",
   "execution_count": null,
   "metadata": {},
   "outputs": [],
   "source": []
  },
  {
   "cell_type": "markdown",
   "metadata": {},
   "source": [
    "## Without regulation (the regulation between the cell1 and cell2 is independent of the regulation in the initial time.)"
   ]
  },
  {
   "cell_type": "markdown",
   "metadata": {},
   "source": [
    "### Control (Cell type 3 gets regulation from cell type 2 and exists regulation to cell type 2.) (Autistic and egoistic case)"
   ]
  },
  {
   "cell_type": "code",
   "execution_count": 78,
   "metadata": {},
   "outputs": [],
   "source": [
    "model1=model.copy()\n",
    "model2=model1.copy()"
   ]
  },
  {
   "cell_type": "code",
   "execution_count": 79,
   "metadata": {},
   "outputs": [
    {
     "data": {
      "text/plain": [
       "<Figure size 640x480 with 0 Axes>"
      ]
     },
     "execution_count": 79,
     "metadata": {},
     "output_type": "execute_result"
    },
    {
     "name": "stderr",
     "output_type": "stream",
     "text": [
      "/var/folders/d7/l6g7ly057s9bcdclxhvjs64h0000gn/T/ipykernel_8954/785917045.py:61: RuntimeWarning: divide by zero encountered in double_scalars\n",
      "  Ratio2=Fluxes1/Fluxes3\n",
      "/var/folders/d7/l6g7ly057s9bcdclxhvjs64h0000gn/T/ipykernel_8954/785917045.py:61: RuntimeWarning: divide by zero encountered in double_scalars\n",
      "  Ratio2=Fluxes1/Fluxes3\n",
      "/var/folders/d7/l6g7ly057s9bcdclxhvjs64h0000gn/T/ipykernel_8954/785917045.py:61: RuntimeWarning: invalid value encountered in double_scalars\n",
      "  Ratio2=Fluxes1/Fluxes3\n",
      "/var/folders/d7/l6g7ly057s9bcdclxhvjs64h0000gn/T/ipykernel_8954/785917045.py:61: RuntimeWarning: invalid value encountered in double_scalars\n",
      "  Ratio2=Fluxes1/Fluxes3\n",
      "/var/folders/d7/l6g7ly057s9bcdclxhvjs64h0000gn/T/ipykernel_8954/785917045.py:61: RuntimeWarning: invalid value encountered in double_scalars\n",
      "  Ratio2=Fluxes1/Fluxes3\n",
      "/var/folders/d7/l6g7ly057s9bcdclxhvjs64h0000gn/T/ipykernel_8954/785917045.py:61: RuntimeWarning: invalid value encountered in double_scalars\n",
      "  Ratio2=Fluxes1/Fluxes3\n",
      "/var/folders/d7/l6g7ly057s9bcdclxhvjs64h0000gn/T/ipykernel_8954/785917045.py:61: RuntimeWarning: invalid value encountered in double_scalars\n",
      "  Ratio2=Fluxes1/Fluxes3\n",
      "/var/folders/d7/l6g7ly057s9bcdclxhvjs64h0000gn/T/ipykernel_8954/785917045.py:61: RuntimeWarning: invalid value encountered in double_scalars\n",
      "  Ratio2=Fluxes1/Fluxes3\n",
      "/var/folders/d7/l6g7ly057s9bcdclxhvjs64h0000gn/T/ipykernel_8954/785917045.py:61: RuntimeWarning: invalid value encountered in double_scalars\n",
      "  Ratio2=Fluxes1/Fluxes3\n",
      "/var/folders/d7/l6g7ly057s9bcdclxhvjs64h0000gn/T/ipykernel_8954/785917045.py:61: RuntimeWarning: invalid value encountered in double_scalars\n",
      "  Ratio2=Fluxes1/Fluxes3\n",
      "/var/folders/d7/l6g7ly057s9bcdclxhvjs64h0000gn/T/ipykernel_8954/785917045.py:61: RuntimeWarning: invalid value encountered in double_scalars\n",
      "  Ratio2=Fluxes1/Fluxes3\n",
      "/var/folders/d7/l6g7ly057s9bcdclxhvjs64h0000gn/T/ipykernel_8954/785917045.py:61: RuntimeWarning: invalid value encountered in double_scalars\n",
      "  Ratio2=Fluxes1/Fluxes3\n",
      "/var/folders/d7/l6g7ly057s9bcdclxhvjs64h0000gn/T/ipykernel_8954/785917045.py:61: RuntimeWarning: invalid value encountered in double_scalars\n",
      "  Ratio2=Fluxes1/Fluxes3\n",
      "/var/folders/d7/l6g7ly057s9bcdclxhvjs64h0000gn/T/ipykernel_8954/785917045.py:61: RuntimeWarning: invalid value encountered in double_scalars\n",
      "  Ratio2=Fluxes1/Fluxes3\n",
      "/var/folders/d7/l6g7ly057s9bcdclxhvjs64h0000gn/T/ipykernel_8954/785917045.py:61: RuntimeWarning: invalid value encountered in double_scalars\n",
      "  Ratio2=Fluxes1/Fluxes3\n",
      "/var/folders/d7/l6g7ly057s9bcdclxhvjs64h0000gn/T/ipykernel_8954/785917045.py:61: RuntimeWarning: invalid value encountered in double_scalars\n",
      "  Ratio2=Fluxes1/Fluxes3\n",
      "/var/folders/d7/l6g7ly057s9bcdclxhvjs64h0000gn/T/ipykernel_8954/785917045.py:61: RuntimeWarning: invalid value encountered in double_scalars\n",
      "  Ratio2=Fluxes1/Fluxes3\n",
      "/var/folders/d7/l6g7ly057s9bcdclxhvjs64h0000gn/T/ipykernel_8954/785917045.py:61: RuntimeWarning: invalid value encountered in double_scalars\n",
      "  Ratio2=Fluxes1/Fluxes3\n",
      "/var/folders/d7/l6g7ly057s9bcdclxhvjs64h0000gn/T/ipykernel_8954/785917045.py:61: RuntimeWarning: invalid value encountered in double_scalars\n",
      "  Ratio2=Fluxes1/Fluxes3\n",
      "/var/folders/d7/l6g7ly057s9bcdclxhvjs64h0000gn/T/ipykernel_8954/785917045.py:61: RuntimeWarning: invalid value encountered in double_scalars\n",
      "  Ratio2=Fluxes1/Fluxes3\n",
      "/var/folders/d7/l6g7ly057s9bcdclxhvjs64h0000gn/T/ipykernel_8954/785917045.py:61: RuntimeWarning: invalid value encountered in double_scalars\n",
      "  Ratio2=Fluxes1/Fluxes3\n",
      "/var/folders/d7/l6g7ly057s9bcdclxhvjs64h0000gn/T/ipykernel_8954/785917045.py:61: RuntimeWarning: invalid value encountered in double_scalars\n",
      "  Ratio2=Fluxes1/Fluxes3\n",
      "/var/folders/d7/l6g7ly057s9bcdclxhvjs64h0000gn/T/ipykernel_8954/785917045.py:61: RuntimeWarning: invalid value encountered in double_scalars\n",
      "  Ratio2=Fluxes1/Fluxes3\n",
      "/var/folders/d7/l6g7ly057s9bcdclxhvjs64h0000gn/T/ipykernel_8954/785917045.py:61: RuntimeWarning: invalid value encountered in double_scalars\n",
      "  Ratio2=Fluxes1/Fluxes3\n",
      "/var/folders/d7/l6g7ly057s9bcdclxhvjs64h0000gn/T/ipykernel_8954/785917045.py:61: RuntimeWarning: invalid value encountered in double_scalars\n",
      "  Ratio2=Fluxes1/Fluxes3\n",
      "/var/folders/d7/l6g7ly057s9bcdclxhvjs64h0000gn/T/ipykernel_8954/785917045.py:61: RuntimeWarning: invalid value encountered in double_scalars\n",
      "  Ratio2=Fluxes1/Fluxes3\n",
      "/var/folders/d7/l6g7ly057s9bcdclxhvjs64h0000gn/T/ipykernel_8954/785917045.py:61: RuntimeWarning: invalid value encountered in double_scalars\n",
      "  Ratio2=Fluxes1/Fluxes3\n",
      "/var/folders/d7/l6g7ly057s9bcdclxhvjs64h0000gn/T/ipykernel_8954/785917045.py:61: RuntimeWarning: invalid value encountered in double_scalars\n",
      "  Ratio2=Fluxes1/Fluxes3\n",
      "/var/folders/d7/l6g7ly057s9bcdclxhvjs64h0000gn/T/ipykernel_8954/785917045.py:61: RuntimeWarning: invalid value encountered in double_scalars\n",
      "  Ratio2=Fluxes1/Fluxes3\n",
      "/var/folders/d7/l6g7ly057s9bcdclxhvjs64h0000gn/T/ipykernel_8954/785917045.py:61: RuntimeWarning: invalid value encountered in double_scalars\n",
      "  Ratio2=Fluxes1/Fluxes3\n",
      "/var/folders/d7/l6g7ly057s9bcdclxhvjs64h0000gn/T/ipykernel_8954/785917045.py:61: RuntimeWarning: invalid value encountered in double_scalars\n",
      "  Ratio2=Fluxes1/Fluxes3\n",
      "/var/folders/d7/l6g7ly057s9bcdclxhvjs64h0000gn/T/ipykernel_8954/785917045.py:61: RuntimeWarning: invalid value encountered in double_scalars\n",
      "  Ratio2=Fluxes1/Fluxes3\n",
      "/var/folders/d7/l6g7ly057s9bcdclxhvjs64h0000gn/T/ipykernel_8954/785917045.py:61: RuntimeWarning: invalid value encountered in double_scalars\n",
      "  Ratio2=Fluxes1/Fluxes3\n",
      "/var/folders/d7/l6g7ly057s9bcdclxhvjs64h0000gn/T/ipykernel_8954/785917045.py:61: RuntimeWarning: invalid value encountered in double_scalars\n",
      "  Ratio2=Fluxes1/Fluxes3\n",
      "/var/folders/d7/l6g7ly057s9bcdclxhvjs64h0000gn/T/ipykernel_8954/785917045.py:61: RuntimeWarning: invalid value encountered in double_scalars\n",
      "  Ratio2=Fluxes1/Fluxes3\n",
      "/var/folders/d7/l6g7ly057s9bcdclxhvjs64h0000gn/T/ipykernel_8954/785917045.py:61: RuntimeWarning: invalid value encountered in double_scalars\n",
      "  Ratio2=Fluxes1/Fluxes3\n",
      "/var/folders/d7/l6g7ly057s9bcdclxhvjs64h0000gn/T/ipykernel_8954/785917045.py:61: RuntimeWarning: invalid value encountered in double_scalars\n",
      "  Ratio2=Fluxes1/Fluxes3\n",
      "/var/folders/d7/l6g7ly057s9bcdclxhvjs64h0000gn/T/ipykernel_8954/785917045.py:61: RuntimeWarning: invalid value encountered in double_scalars\n",
      "  Ratio2=Fluxes1/Fluxes3\n",
      "/var/folders/d7/l6g7ly057s9bcdclxhvjs64h0000gn/T/ipykernel_8954/785917045.py:61: RuntimeWarning: invalid value encountered in double_scalars\n",
      "  Ratio2=Fluxes1/Fluxes3\n",
      "/var/folders/d7/l6g7ly057s9bcdclxhvjs64h0000gn/T/ipykernel_8954/785917045.py:61: RuntimeWarning: invalid value encountered in double_scalars\n",
      "  Ratio2=Fluxes1/Fluxes3\n",
      "/var/folders/d7/l6g7ly057s9bcdclxhvjs64h0000gn/T/ipykernel_8954/785917045.py:61: RuntimeWarning: invalid value encountered in double_scalars\n",
      "  Ratio2=Fluxes1/Fluxes3\n",
      "/var/folders/d7/l6g7ly057s9bcdclxhvjs64h0000gn/T/ipykernel_8954/785917045.py:61: RuntimeWarning: invalid value encountered in double_scalars\n",
      "  Ratio2=Fluxes1/Fluxes3\n",
      "/var/folders/d7/l6g7ly057s9bcdclxhvjs64h0000gn/T/ipykernel_8954/785917045.py:61: RuntimeWarning: invalid value encountered in double_scalars\n",
      "  Ratio2=Fluxes1/Fluxes3\n",
      "/var/folders/d7/l6g7ly057s9bcdclxhvjs64h0000gn/T/ipykernel_8954/785917045.py:61: RuntimeWarning: invalid value encountered in double_scalars\n",
      "  Ratio2=Fluxes1/Fluxes3\n",
      "/var/folders/d7/l6g7ly057s9bcdclxhvjs64h0000gn/T/ipykernel_8954/785917045.py:61: RuntimeWarning: invalid value encountered in double_scalars\n",
      "  Ratio2=Fluxes1/Fluxes3\n",
      "/var/folders/d7/l6g7ly057s9bcdclxhvjs64h0000gn/T/ipykernel_8954/785917045.py:61: RuntimeWarning: invalid value encountered in double_scalars\n",
      "  Ratio2=Fluxes1/Fluxes3\n",
      "/var/folders/d7/l6g7ly057s9bcdclxhvjs64h0000gn/T/ipykernel_8954/785917045.py:61: RuntimeWarning: invalid value encountered in double_scalars\n",
      "  Ratio2=Fluxes1/Fluxes3\n",
      "/var/folders/d7/l6g7ly057s9bcdclxhvjs64h0000gn/T/ipykernel_8954/785917045.py:61: RuntimeWarning: invalid value encountered in double_scalars\n",
      "  Ratio2=Fluxes1/Fluxes3\n",
      "/var/folders/d7/l6g7ly057s9bcdclxhvjs64h0000gn/T/ipykernel_8954/785917045.py:61: RuntimeWarning: invalid value encountered in double_scalars\n",
      "  Ratio2=Fluxes1/Fluxes3\n",
      "/var/folders/d7/l6g7ly057s9bcdclxhvjs64h0000gn/T/ipykernel_8954/785917045.py:61: RuntimeWarning: invalid value encountered in double_scalars\n",
      "  Ratio2=Fluxes1/Fluxes3\n",
      "/var/folders/d7/l6g7ly057s9bcdclxhvjs64h0000gn/T/ipykernel_8954/785917045.py:61: RuntimeWarning: invalid value encountered in double_scalars\n",
      "  Ratio2=Fluxes1/Fluxes3\n",
      "/var/folders/d7/l6g7ly057s9bcdclxhvjs64h0000gn/T/ipykernel_8954/785917045.py:61: RuntimeWarning: invalid value encountered in double_scalars\n",
      "  Ratio2=Fluxes1/Fluxes3\n",
      "/var/folders/d7/l6g7ly057s9bcdclxhvjs64h0000gn/T/ipykernel_8954/785917045.py:61: RuntimeWarning: invalid value encountered in double_scalars\n",
      "  Ratio2=Fluxes1/Fluxes3\n",
      "/var/folders/d7/l6g7ly057s9bcdclxhvjs64h0000gn/T/ipykernel_8954/785917045.py:61: RuntimeWarning: invalid value encountered in double_scalars\n",
      "  Ratio2=Fluxes1/Fluxes3\n",
      "/var/folders/d7/l6g7ly057s9bcdclxhvjs64h0000gn/T/ipykernel_8954/785917045.py:61: RuntimeWarning: invalid value encountered in double_scalars\n",
      "  Ratio2=Fluxes1/Fluxes3\n",
      "/var/folders/d7/l6g7ly057s9bcdclxhvjs64h0000gn/T/ipykernel_8954/785917045.py:61: RuntimeWarning: invalid value encountered in double_scalars\n",
      "  Ratio2=Fluxes1/Fluxes3\n",
      "/var/folders/d7/l6g7ly057s9bcdclxhvjs64h0000gn/T/ipykernel_8954/785917045.py:61: RuntimeWarning: invalid value encountered in double_scalars\n",
      "  Ratio2=Fluxes1/Fluxes3\n",
      "/var/folders/d7/l6g7ly057s9bcdclxhvjs64h0000gn/T/ipykernel_8954/785917045.py:61: RuntimeWarning: invalid value encountered in double_scalars\n",
      "  Ratio2=Fluxes1/Fluxes3\n",
      "/var/folders/d7/l6g7ly057s9bcdclxhvjs64h0000gn/T/ipykernel_8954/785917045.py:61: RuntimeWarning: invalid value encountered in double_scalars\n",
      "  Ratio2=Fluxes1/Fluxes3\n",
      "/var/folders/d7/l6g7ly057s9bcdclxhvjs64h0000gn/T/ipykernel_8954/785917045.py:61: RuntimeWarning: invalid value encountered in double_scalars\n",
      "  Ratio2=Fluxes1/Fluxes3\n",
      "/var/folders/d7/l6g7ly057s9bcdclxhvjs64h0000gn/T/ipykernel_8954/785917045.py:61: RuntimeWarning: invalid value encountered in double_scalars\n",
      "  Ratio2=Fluxes1/Fluxes3\n",
      "/var/folders/d7/l6g7ly057s9bcdclxhvjs64h0000gn/T/ipykernel_8954/785917045.py:61: RuntimeWarning: invalid value encountered in double_scalars\n",
      "  Ratio2=Fluxes1/Fluxes3\n",
      "/var/folders/d7/l6g7ly057s9bcdclxhvjs64h0000gn/T/ipykernel_8954/785917045.py:61: RuntimeWarning: invalid value encountered in double_scalars\n",
      "  Ratio2=Fluxes1/Fluxes3\n",
      "/var/folders/d7/l6g7ly057s9bcdclxhvjs64h0000gn/T/ipykernel_8954/785917045.py:61: RuntimeWarning: invalid value encountered in double_scalars\n",
      "  Ratio2=Fluxes1/Fluxes3\n",
      "/var/folders/d7/l6g7ly057s9bcdclxhvjs64h0000gn/T/ipykernel_8954/785917045.py:61: RuntimeWarning: invalid value encountered in double_scalars\n",
      "  Ratio2=Fluxes1/Fluxes3\n",
      "/var/folders/d7/l6g7ly057s9bcdclxhvjs64h0000gn/T/ipykernel_8954/785917045.py:61: RuntimeWarning: invalid value encountered in double_scalars\n",
      "  Ratio2=Fluxes1/Fluxes3\n",
      "/var/folders/d7/l6g7ly057s9bcdclxhvjs64h0000gn/T/ipykernel_8954/785917045.py:61: RuntimeWarning: invalid value encountered in double_scalars\n",
      "  Ratio2=Fluxes1/Fluxes3\n",
      "/var/folders/d7/l6g7ly057s9bcdclxhvjs64h0000gn/T/ipykernel_8954/785917045.py:61: RuntimeWarning: invalid value encountered in double_scalars\n",
      "  Ratio2=Fluxes1/Fluxes3\n",
      "/var/folders/d7/l6g7ly057s9bcdclxhvjs64h0000gn/T/ipykernel_8954/785917045.py:61: RuntimeWarning: invalid value encountered in double_scalars\n",
      "  Ratio2=Fluxes1/Fluxes3\n",
      "/var/folders/d7/l6g7ly057s9bcdclxhvjs64h0000gn/T/ipykernel_8954/785917045.py:61: RuntimeWarning: invalid value encountered in double_scalars\n",
      "  Ratio2=Fluxes1/Fluxes3\n",
      "/var/folders/d7/l6g7ly057s9bcdclxhvjs64h0000gn/T/ipykernel_8954/785917045.py:61: RuntimeWarning: invalid value encountered in double_scalars\n",
      "  Ratio2=Fluxes1/Fluxes3\n",
      "/var/folders/d7/l6g7ly057s9bcdclxhvjs64h0000gn/T/ipykernel_8954/785917045.py:61: RuntimeWarning: invalid value encountered in double_scalars\n",
      "  Ratio2=Fluxes1/Fluxes3\n",
      "/var/folders/d7/l6g7ly057s9bcdclxhvjs64h0000gn/T/ipykernel_8954/785917045.py:61: RuntimeWarning: invalid value encountered in double_scalars\n",
      "  Ratio2=Fluxes1/Fluxes3\n",
      "/var/folders/d7/l6g7ly057s9bcdclxhvjs64h0000gn/T/ipykernel_8954/785917045.py:61: RuntimeWarning: invalid value encountered in double_scalars\n",
      "  Ratio2=Fluxes1/Fluxes3\n",
      "/var/folders/d7/l6g7ly057s9bcdclxhvjs64h0000gn/T/ipykernel_8954/785917045.py:61: RuntimeWarning: invalid value encountered in double_scalars\n",
      "  Ratio2=Fluxes1/Fluxes3\n",
      "/var/folders/d7/l6g7ly057s9bcdclxhvjs64h0000gn/T/ipykernel_8954/785917045.py:61: RuntimeWarning: invalid value encountered in double_scalars\n",
      "  Ratio2=Fluxes1/Fluxes3\n",
      "/var/folders/d7/l6g7ly057s9bcdclxhvjs64h0000gn/T/ipykernel_8954/785917045.py:61: RuntimeWarning: invalid value encountered in double_scalars\n",
      "  Ratio2=Fluxes1/Fluxes3\n",
      "/var/folders/d7/l6g7ly057s9bcdclxhvjs64h0000gn/T/ipykernel_8954/785917045.py:61: RuntimeWarning: invalid value encountered in double_scalars\n",
      "  Ratio2=Fluxes1/Fluxes3\n",
      "/var/folders/d7/l6g7ly057s9bcdclxhvjs64h0000gn/T/ipykernel_8954/785917045.py:61: RuntimeWarning: invalid value encountered in double_scalars\n",
      "  Ratio2=Fluxes1/Fluxes3\n",
      "/var/folders/d7/l6g7ly057s9bcdclxhvjs64h0000gn/T/ipykernel_8954/785917045.py:61: RuntimeWarning: invalid value encountered in double_scalars\n",
      "  Ratio2=Fluxes1/Fluxes3\n",
      "/var/folders/d7/l6g7ly057s9bcdclxhvjs64h0000gn/T/ipykernel_8954/785917045.py:61: RuntimeWarning: invalid value encountered in double_scalars\n",
      "  Ratio2=Fluxes1/Fluxes3\n",
      "/var/folders/d7/l6g7ly057s9bcdclxhvjs64h0000gn/T/ipykernel_8954/785917045.py:61: RuntimeWarning: invalid value encountered in double_scalars\n",
      "  Ratio2=Fluxes1/Fluxes3\n",
      "/var/folders/d7/l6g7ly057s9bcdclxhvjs64h0000gn/T/ipykernel_8954/785917045.py:61: RuntimeWarning: invalid value encountered in double_scalars\n",
      "  Ratio2=Fluxes1/Fluxes3\n",
      "/var/folders/d7/l6g7ly057s9bcdclxhvjs64h0000gn/T/ipykernel_8954/785917045.py:61: RuntimeWarning: invalid value encountered in double_scalars\n",
      "  Ratio2=Fluxes1/Fluxes3\n",
      "/var/folders/d7/l6g7ly057s9bcdclxhvjs64h0000gn/T/ipykernel_8954/785917045.py:61: RuntimeWarning: invalid value encountered in double_scalars\n",
      "  Ratio2=Fluxes1/Fluxes3\n",
      "/var/folders/d7/l6g7ly057s9bcdclxhvjs64h0000gn/T/ipykernel_8954/785917045.py:61: RuntimeWarning: invalid value encountered in double_scalars\n",
      "  Ratio2=Fluxes1/Fluxes3\n",
      "/var/folders/d7/l6g7ly057s9bcdclxhvjs64h0000gn/T/ipykernel_8954/785917045.py:61: RuntimeWarning: invalid value encountered in double_scalars\n",
      "  Ratio2=Fluxes1/Fluxes3\n",
      "/var/folders/d7/l6g7ly057s9bcdclxhvjs64h0000gn/T/ipykernel_8954/785917045.py:61: RuntimeWarning: invalid value encountered in double_scalars\n",
      "  Ratio2=Fluxes1/Fluxes3\n",
      "/var/folders/d7/l6g7ly057s9bcdclxhvjs64h0000gn/T/ipykernel_8954/785917045.py:61: RuntimeWarning: invalid value encountered in double_scalars\n",
      "  Ratio2=Fluxes1/Fluxes3\n",
      "/var/folders/d7/l6g7ly057s9bcdclxhvjs64h0000gn/T/ipykernel_8954/785917045.py:61: RuntimeWarning: invalid value encountered in double_scalars\n",
      "  Ratio2=Fluxes1/Fluxes3\n",
      "/var/folders/d7/l6g7ly057s9bcdclxhvjs64h0000gn/T/ipykernel_8954/785917045.py:61: RuntimeWarning: invalid value encountered in double_scalars\n",
      "  Ratio2=Fluxes1/Fluxes3\n",
      "/var/folders/d7/l6g7ly057s9bcdclxhvjs64h0000gn/T/ipykernel_8954/785917045.py:61: RuntimeWarning: invalid value encountered in double_scalars\n",
      "  Ratio2=Fluxes1/Fluxes3\n",
      "/var/folders/d7/l6g7ly057s9bcdclxhvjs64h0000gn/T/ipykernel_8954/785917045.py:61: RuntimeWarning: invalid value encountered in double_scalars\n",
      "  Ratio2=Fluxes1/Fluxes3\n",
      "/var/folders/d7/l6g7ly057s9bcdclxhvjs64h0000gn/T/ipykernel_8954/785917045.py:61: RuntimeWarning: invalid value encountered in double_scalars\n",
      "  Ratio2=Fluxes1/Fluxes3\n",
      "/var/folders/d7/l6g7ly057s9bcdclxhvjs64h0000gn/T/ipykernel_8954/785917045.py:61: RuntimeWarning: invalid value encountered in double_scalars\n",
      "  Ratio2=Fluxes1/Fluxes3\n",
      "/var/folders/d7/l6g7ly057s9bcdclxhvjs64h0000gn/T/ipykernel_8954/785917045.py:61: RuntimeWarning: invalid value encountered in double_scalars\n",
      "  Ratio2=Fluxes1/Fluxes3\n",
      "/var/folders/d7/l6g7ly057s9bcdclxhvjs64h0000gn/T/ipykernel_8954/785917045.py:61: RuntimeWarning: invalid value encountered in double_scalars\n",
      "  Ratio2=Fluxes1/Fluxes3\n",
      "/var/folders/d7/l6g7ly057s9bcdclxhvjs64h0000gn/T/ipykernel_8954/785917045.py:61: RuntimeWarning: invalid value encountered in double_scalars\n",
      "  Ratio2=Fluxes1/Fluxes3\n",
      "/var/folders/d7/l6g7ly057s9bcdclxhvjs64h0000gn/T/ipykernel_8954/785917045.py:61: RuntimeWarning: invalid value encountered in double_scalars\n",
      "  Ratio2=Fluxes1/Fluxes3\n",
      "/var/folders/d7/l6g7ly057s9bcdclxhvjs64h0000gn/T/ipykernel_8954/785917045.py:61: RuntimeWarning: invalid value encountered in double_scalars\n",
      "  Ratio2=Fluxes1/Fluxes3\n",
      "/var/folders/d7/l6g7ly057s9bcdclxhvjs64h0000gn/T/ipykernel_8954/785917045.py:61: RuntimeWarning: invalid value encountered in double_scalars\n",
      "  Ratio2=Fluxes1/Fluxes3\n",
      "/var/folders/d7/l6g7ly057s9bcdclxhvjs64h0000gn/T/ipykernel_8954/785917045.py:61: RuntimeWarning: invalid value encountered in double_scalars\n",
      "  Ratio2=Fluxes1/Fluxes3\n",
      "/var/folders/d7/l6g7ly057s9bcdclxhvjs64h0000gn/T/ipykernel_8954/785917045.py:61: RuntimeWarning: invalid value encountered in double_scalars\n",
      "  Ratio2=Fluxes1/Fluxes3\n",
      "/var/folders/d7/l6g7ly057s9bcdclxhvjs64h0000gn/T/ipykernel_8954/785917045.py:61: RuntimeWarning: invalid value encountered in double_scalars\n",
      "  Ratio2=Fluxes1/Fluxes3\n",
      "/var/folders/d7/l6g7ly057s9bcdclxhvjs64h0000gn/T/ipykernel_8954/785917045.py:61: RuntimeWarning: invalid value encountered in double_scalars\n",
      "  Ratio2=Fluxes1/Fluxes3\n",
      "/var/folders/d7/l6g7ly057s9bcdclxhvjs64h0000gn/T/ipykernel_8954/785917045.py:61: RuntimeWarning: invalid value encountered in double_scalars\n",
      "  Ratio2=Fluxes1/Fluxes3\n",
      "/var/folders/d7/l6g7ly057s9bcdclxhvjs64h0000gn/T/ipykernel_8954/785917045.py:61: RuntimeWarning: invalid value encountered in double_scalars\n",
      "  Ratio2=Fluxes1/Fluxes3\n",
      "/var/folders/d7/l6g7ly057s9bcdclxhvjs64h0000gn/T/ipykernel_8954/785917045.py:61: RuntimeWarning: invalid value encountered in double_scalars\n",
      "  Ratio2=Fluxes1/Fluxes3\n",
      "/var/folders/d7/l6g7ly057s9bcdclxhvjs64h0000gn/T/ipykernel_8954/785917045.py:61: RuntimeWarning: invalid value encountered in double_scalars\n",
      "  Ratio2=Fluxes1/Fluxes3\n",
      "/var/folders/d7/l6g7ly057s9bcdclxhvjs64h0000gn/T/ipykernel_8954/785917045.py:61: RuntimeWarning: invalid value encountered in double_scalars\n",
      "  Ratio2=Fluxes1/Fluxes3\n",
      "/var/folders/d7/l6g7ly057s9bcdclxhvjs64h0000gn/T/ipykernel_8954/785917045.py:61: RuntimeWarning: invalid value encountered in double_scalars\n",
      "  Ratio2=Fluxes1/Fluxes3\n",
      "/var/folders/d7/l6g7ly057s9bcdclxhvjs64h0000gn/T/ipykernel_8954/785917045.py:61: RuntimeWarning: invalid value encountered in double_scalars\n",
      "  Ratio2=Fluxes1/Fluxes3\n",
      "/var/folders/d7/l6g7ly057s9bcdclxhvjs64h0000gn/T/ipykernel_8954/785917045.py:61: RuntimeWarning: invalid value encountered in double_scalars\n",
      "  Ratio2=Fluxes1/Fluxes3\n",
      "/var/folders/d7/l6g7ly057s9bcdclxhvjs64h0000gn/T/ipykernel_8954/785917045.py:61: RuntimeWarning: invalid value encountered in double_scalars\n",
      "  Ratio2=Fluxes1/Fluxes3\n",
      "/var/folders/d7/l6g7ly057s9bcdclxhvjs64h0000gn/T/ipykernel_8954/785917045.py:61: RuntimeWarning: invalid value encountered in double_scalars\n",
      "  Ratio2=Fluxes1/Fluxes3\n",
      "/var/folders/d7/l6g7ly057s9bcdclxhvjs64h0000gn/T/ipykernel_8954/785917045.py:61: RuntimeWarning: invalid value encountered in double_scalars\n",
      "  Ratio2=Fluxes1/Fluxes3\n",
      "/var/folders/d7/l6g7ly057s9bcdclxhvjs64h0000gn/T/ipykernel_8954/785917045.py:61: RuntimeWarning: invalid value encountered in double_scalars\n",
      "  Ratio2=Fluxes1/Fluxes3\n",
      "/var/folders/d7/l6g7ly057s9bcdclxhvjs64h0000gn/T/ipykernel_8954/785917045.py:61: RuntimeWarning: invalid value encountered in double_scalars\n",
      "  Ratio2=Fluxes1/Fluxes3\n",
      "/var/folders/d7/l6g7ly057s9bcdclxhvjs64h0000gn/T/ipykernel_8954/785917045.py:61: RuntimeWarning: invalid value encountered in double_scalars\n",
      "  Ratio2=Fluxes1/Fluxes3\n",
      "/var/folders/d7/l6g7ly057s9bcdclxhvjs64h0000gn/T/ipykernel_8954/785917045.py:61: RuntimeWarning: invalid value encountered in double_scalars\n",
      "  Ratio2=Fluxes1/Fluxes3\n",
      "/var/folders/d7/l6g7ly057s9bcdclxhvjs64h0000gn/T/ipykernel_8954/785917045.py:61: RuntimeWarning: invalid value encountered in double_scalars\n",
      "  Ratio2=Fluxes1/Fluxes3\n",
      "/var/folders/d7/l6g7ly057s9bcdclxhvjs64h0000gn/T/ipykernel_8954/785917045.py:61: RuntimeWarning: invalid value encountered in double_scalars\n",
      "  Ratio2=Fluxes1/Fluxes3\n",
      "/var/folders/d7/l6g7ly057s9bcdclxhvjs64h0000gn/T/ipykernel_8954/785917045.py:61: RuntimeWarning: invalid value encountered in double_scalars\n",
      "  Ratio2=Fluxes1/Fluxes3\n",
      "/var/folders/d7/l6g7ly057s9bcdclxhvjs64h0000gn/T/ipykernel_8954/785917045.py:61: RuntimeWarning: invalid value encountered in double_scalars\n",
      "  Ratio2=Fluxes1/Fluxes3\n",
      "/var/folders/d7/l6g7ly057s9bcdclxhvjs64h0000gn/T/ipykernel_8954/785917045.py:61: RuntimeWarning: invalid value encountered in double_scalars\n",
      "  Ratio2=Fluxes1/Fluxes3\n",
      "/var/folders/d7/l6g7ly057s9bcdclxhvjs64h0000gn/T/ipykernel_8954/785917045.py:61: RuntimeWarning: invalid value encountered in double_scalars\n",
      "  Ratio2=Fluxes1/Fluxes3\n",
      "/var/folders/d7/l6g7ly057s9bcdclxhvjs64h0000gn/T/ipykernel_8954/785917045.py:61: RuntimeWarning: invalid value encountered in double_scalars\n",
      "  Ratio2=Fluxes1/Fluxes3\n",
      "/var/folders/d7/l6g7ly057s9bcdclxhvjs64h0000gn/T/ipykernel_8954/785917045.py:61: RuntimeWarning: invalid value encountered in double_scalars\n",
      "  Ratio2=Fluxes1/Fluxes3\n",
      "/var/folders/d7/l6g7ly057s9bcdclxhvjs64h0000gn/T/ipykernel_8954/785917045.py:61: RuntimeWarning: invalid value encountered in double_scalars\n",
      "  Ratio2=Fluxes1/Fluxes3\n",
      "/var/folders/d7/l6g7ly057s9bcdclxhvjs64h0000gn/T/ipykernel_8954/785917045.py:61: RuntimeWarning: invalid value encountered in double_scalars\n",
      "  Ratio2=Fluxes1/Fluxes3\n",
      "/var/folders/d7/l6g7ly057s9bcdclxhvjs64h0000gn/T/ipykernel_8954/785917045.py:61: RuntimeWarning: invalid value encountered in double_scalars\n",
      "  Ratio2=Fluxes1/Fluxes3\n",
      "/var/folders/d7/l6g7ly057s9bcdclxhvjs64h0000gn/T/ipykernel_8954/785917045.py:61: RuntimeWarning: invalid value encountered in double_scalars\n",
      "  Ratio2=Fluxes1/Fluxes3\n",
      "/var/folders/d7/l6g7ly057s9bcdclxhvjs64h0000gn/T/ipykernel_8954/785917045.py:61: RuntimeWarning: invalid value encountered in double_scalars\n",
      "  Ratio2=Fluxes1/Fluxes3\n",
      "/var/folders/d7/l6g7ly057s9bcdclxhvjs64h0000gn/T/ipykernel_8954/785917045.py:61: RuntimeWarning: invalid value encountered in double_scalars\n",
      "  Ratio2=Fluxes1/Fluxes3\n",
      "/var/folders/d7/l6g7ly057s9bcdclxhvjs64h0000gn/T/ipykernel_8954/785917045.py:61: RuntimeWarning: invalid value encountered in double_scalars\n",
      "  Ratio2=Fluxes1/Fluxes3\n",
      "/var/folders/d7/l6g7ly057s9bcdclxhvjs64h0000gn/T/ipykernel_8954/785917045.py:61: RuntimeWarning: invalid value encountered in double_scalars\n",
      "  Ratio2=Fluxes1/Fluxes3\n",
      "/var/folders/d7/l6g7ly057s9bcdclxhvjs64h0000gn/T/ipykernel_8954/785917045.py:61: RuntimeWarning: invalid value encountered in double_scalars\n",
      "  Ratio2=Fluxes1/Fluxes3\n",
      "/var/folders/d7/l6g7ly057s9bcdclxhvjs64h0000gn/T/ipykernel_8954/785917045.py:61: RuntimeWarning: invalid value encountered in double_scalars\n",
      "  Ratio2=Fluxes1/Fluxes3\n",
      "/var/folders/d7/l6g7ly057s9bcdclxhvjs64h0000gn/T/ipykernel_8954/785917045.py:61: RuntimeWarning: invalid value encountered in double_scalars\n",
      "  Ratio2=Fluxes1/Fluxes3\n",
      "/var/folders/d7/l6g7ly057s9bcdclxhvjs64h0000gn/T/ipykernel_8954/785917045.py:61: RuntimeWarning: invalid value encountered in double_scalars\n",
      "  Ratio2=Fluxes1/Fluxes3\n",
      "/var/folders/d7/l6g7ly057s9bcdclxhvjs64h0000gn/T/ipykernel_8954/785917045.py:61: RuntimeWarning: invalid value encountered in double_scalars\n",
      "  Ratio2=Fluxes1/Fluxes3\n",
      "/var/folders/d7/l6g7ly057s9bcdclxhvjs64h0000gn/T/ipykernel_8954/785917045.py:61: RuntimeWarning: invalid value encountered in double_scalars\n",
      "  Ratio2=Fluxes1/Fluxes3\n",
      "/var/folders/d7/l6g7ly057s9bcdclxhvjs64h0000gn/T/ipykernel_8954/785917045.py:61: RuntimeWarning: invalid value encountered in double_scalars\n",
      "  Ratio2=Fluxes1/Fluxes3\n",
      "/var/folders/d7/l6g7ly057s9bcdclxhvjs64h0000gn/T/ipykernel_8954/785917045.py:61: RuntimeWarning: invalid value encountered in double_scalars\n",
      "  Ratio2=Fluxes1/Fluxes3\n",
      "/var/folders/d7/l6g7ly057s9bcdclxhvjs64h0000gn/T/ipykernel_8954/785917045.py:61: RuntimeWarning: invalid value encountered in double_scalars\n",
      "  Ratio2=Fluxes1/Fluxes3\n",
      "/var/folders/d7/l6g7ly057s9bcdclxhvjs64h0000gn/T/ipykernel_8954/785917045.py:61: RuntimeWarning: invalid value encountered in double_scalars\n",
      "  Ratio2=Fluxes1/Fluxes3\n",
      "/var/folders/d7/l6g7ly057s9bcdclxhvjs64h0000gn/T/ipykernel_8954/785917045.py:61: RuntimeWarning: invalid value encountered in double_scalars\n",
      "  Ratio2=Fluxes1/Fluxes3\n",
      "/var/folders/d7/l6g7ly057s9bcdclxhvjs64h0000gn/T/ipykernel_8954/785917045.py:61: RuntimeWarning: invalid value encountered in double_scalars\n",
      "  Ratio2=Fluxes1/Fluxes3\n",
      "/var/folders/d7/l6g7ly057s9bcdclxhvjs64h0000gn/T/ipykernel_8954/785917045.py:61: RuntimeWarning: invalid value encountered in double_scalars\n",
      "  Ratio2=Fluxes1/Fluxes3\n",
      "/var/folders/d7/l6g7ly057s9bcdclxhvjs64h0000gn/T/ipykernel_8954/785917045.py:61: RuntimeWarning: invalid value encountered in double_scalars\n",
      "  Ratio2=Fluxes1/Fluxes3\n",
      "/var/folders/d7/l6g7ly057s9bcdclxhvjs64h0000gn/T/ipykernel_8954/785917045.py:61: RuntimeWarning: invalid value encountered in double_scalars\n",
      "  Ratio2=Fluxes1/Fluxes3\n",
      "/var/folders/d7/l6g7ly057s9bcdclxhvjs64h0000gn/T/ipykernel_8954/785917045.py:61: RuntimeWarning: invalid value encountered in double_scalars\n",
      "  Ratio2=Fluxes1/Fluxes3\n",
      "/var/folders/d7/l6g7ly057s9bcdclxhvjs64h0000gn/T/ipykernel_8954/785917045.py:61: RuntimeWarning: invalid value encountered in double_scalars\n",
      "  Ratio2=Fluxes1/Fluxes3\n",
      "/var/folders/d7/l6g7ly057s9bcdclxhvjs64h0000gn/T/ipykernel_8954/785917045.py:61: RuntimeWarning: invalid value encountered in double_scalars\n",
      "  Ratio2=Fluxes1/Fluxes3\n",
      "/var/folders/d7/l6g7ly057s9bcdclxhvjs64h0000gn/T/ipykernel_8954/785917045.py:61: RuntimeWarning: invalid value encountered in double_scalars\n",
      "  Ratio2=Fluxes1/Fluxes3\n",
      "/var/folders/d7/l6g7ly057s9bcdclxhvjs64h0000gn/T/ipykernel_8954/785917045.py:61: RuntimeWarning: invalid value encountered in double_scalars\n",
      "  Ratio2=Fluxes1/Fluxes3\n",
      "/var/folders/d7/l6g7ly057s9bcdclxhvjs64h0000gn/T/ipykernel_8954/785917045.py:61: RuntimeWarning: invalid value encountered in double_scalars\n",
      "  Ratio2=Fluxes1/Fluxes3\n",
      "/var/folders/d7/l6g7ly057s9bcdclxhvjs64h0000gn/T/ipykernel_8954/785917045.py:61: RuntimeWarning: invalid value encountered in double_scalars\n",
      "  Ratio2=Fluxes1/Fluxes3\n",
      "/var/folders/d7/l6g7ly057s9bcdclxhvjs64h0000gn/T/ipykernel_8954/785917045.py:61: RuntimeWarning: invalid value encountered in double_scalars\n",
      "  Ratio2=Fluxes1/Fluxes3\n",
      "/var/folders/d7/l6g7ly057s9bcdclxhvjs64h0000gn/T/ipykernel_8954/785917045.py:61: RuntimeWarning: invalid value encountered in double_scalars\n",
      "  Ratio2=Fluxes1/Fluxes3\n",
      "/var/folders/d7/l6g7ly057s9bcdclxhvjs64h0000gn/T/ipykernel_8954/785917045.py:61: RuntimeWarning: invalid value encountered in double_scalars\n",
      "  Ratio2=Fluxes1/Fluxes3\n",
      "/var/folders/d7/l6g7ly057s9bcdclxhvjs64h0000gn/T/ipykernel_8954/785917045.py:61: RuntimeWarning: invalid value encountered in double_scalars\n",
      "  Ratio2=Fluxes1/Fluxes3\n",
      "/var/folders/d7/l6g7ly057s9bcdclxhvjs64h0000gn/T/ipykernel_8954/785917045.py:61: RuntimeWarning: invalid value encountered in double_scalars\n",
      "  Ratio2=Fluxes1/Fluxes3\n",
      "/var/folders/d7/l6g7ly057s9bcdclxhvjs64h0000gn/T/ipykernel_8954/785917045.py:61: RuntimeWarning: invalid value encountered in double_scalars\n",
      "  Ratio2=Fluxes1/Fluxes3\n",
      "/var/folders/d7/l6g7ly057s9bcdclxhvjs64h0000gn/T/ipykernel_8954/785917045.py:61: RuntimeWarning: invalid value encountered in double_scalars\n",
      "  Ratio2=Fluxes1/Fluxes3\n",
      "/var/folders/d7/l6g7ly057s9bcdclxhvjs64h0000gn/T/ipykernel_8954/785917045.py:61: RuntimeWarning: invalid value encountered in double_scalars\n",
      "  Ratio2=Fluxes1/Fluxes3\n",
      "/var/folders/d7/l6g7ly057s9bcdclxhvjs64h0000gn/T/ipykernel_8954/785917045.py:61: RuntimeWarning: invalid value encountered in double_scalars\n",
      "  Ratio2=Fluxes1/Fluxes3\n",
      "/var/folders/d7/l6g7ly057s9bcdclxhvjs64h0000gn/T/ipykernel_8954/785917045.py:61: RuntimeWarning: invalid value encountered in double_scalars\n",
      "  Ratio2=Fluxes1/Fluxes3\n",
      "/var/folders/d7/l6g7ly057s9bcdclxhvjs64h0000gn/T/ipykernel_8954/785917045.py:61: RuntimeWarning: invalid value encountered in double_scalars\n",
      "  Ratio2=Fluxes1/Fluxes3\n",
      "/var/folders/d7/l6g7ly057s9bcdclxhvjs64h0000gn/T/ipykernel_8954/785917045.py:61: RuntimeWarning: invalid value encountered in double_scalars\n",
      "  Ratio2=Fluxes1/Fluxes3\n",
      "/var/folders/d7/l6g7ly057s9bcdclxhvjs64h0000gn/T/ipykernel_8954/785917045.py:61: RuntimeWarning: invalid value encountered in double_scalars\n",
      "  Ratio2=Fluxes1/Fluxes3\n",
      "/var/folders/d7/l6g7ly057s9bcdclxhvjs64h0000gn/T/ipykernel_8954/785917045.py:61: RuntimeWarning: invalid value encountered in double_scalars\n",
      "  Ratio2=Fluxes1/Fluxes3\n",
      "/var/folders/d7/l6g7ly057s9bcdclxhvjs64h0000gn/T/ipykernel_8954/785917045.py:61: RuntimeWarning: invalid value encountered in double_scalars\n",
      "  Ratio2=Fluxes1/Fluxes3\n",
      "/var/folders/d7/l6g7ly057s9bcdclxhvjs64h0000gn/T/ipykernel_8954/785917045.py:61: RuntimeWarning: invalid value encountered in double_scalars\n",
      "  Ratio2=Fluxes1/Fluxes3\n",
      "/var/folders/d7/l6g7ly057s9bcdclxhvjs64h0000gn/T/ipykernel_8954/785917045.py:61: RuntimeWarning: invalid value encountered in double_scalars\n",
      "  Ratio2=Fluxes1/Fluxes3\n",
      "/var/folders/d7/l6g7ly057s9bcdclxhvjs64h0000gn/T/ipykernel_8954/785917045.py:61: RuntimeWarning: invalid value encountered in double_scalars\n",
      "  Ratio2=Fluxes1/Fluxes3\n",
      "/var/folders/d7/l6g7ly057s9bcdclxhvjs64h0000gn/T/ipykernel_8954/785917045.py:61: RuntimeWarning: invalid value encountered in double_scalars\n",
      "  Ratio2=Fluxes1/Fluxes3\n",
      "/var/folders/d7/l6g7ly057s9bcdclxhvjs64h0000gn/T/ipykernel_8954/785917045.py:61: RuntimeWarning: invalid value encountered in double_scalars\n",
      "  Ratio2=Fluxes1/Fluxes3\n",
      "/var/folders/d7/l6g7ly057s9bcdclxhvjs64h0000gn/T/ipykernel_8954/785917045.py:61: RuntimeWarning: invalid value encountered in double_scalars\n",
      "  Ratio2=Fluxes1/Fluxes3\n",
      "/var/folders/d7/l6g7ly057s9bcdclxhvjs64h0000gn/T/ipykernel_8954/785917045.py:61: RuntimeWarning: invalid value encountered in double_scalars\n",
      "  Ratio2=Fluxes1/Fluxes3\n",
      "/var/folders/d7/l6g7ly057s9bcdclxhvjs64h0000gn/T/ipykernel_8954/785917045.py:61: RuntimeWarning: invalid value encountered in double_scalars\n",
      "  Ratio2=Fluxes1/Fluxes3\n",
      "/var/folders/d7/l6g7ly057s9bcdclxhvjs64h0000gn/T/ipykernel_8954/785917045.py:61: RuntimeWarning: invalid value encountered in double_scalars\n",
      "  Ratio2=Fluxes1/Fluxes3\n",
      "/var/folders/d7/l6g7ly057s9bcdclxhvjs64h0000gn/T/ipykernel_8954/785917045.py:61: RuntimeWarning: invalid value encountered in double_scalars\n",
      "  Ratio2=Fluxes1/Fluxes3\n",
      "/var/folders/d7/l6g7ly057s9bcdclxhvjs64h0000gn/T/ipykernel_8954/785917045.py:61: RuntimeWarning: invalid value encountered in double_scalars\n",
      "  Ratio2=Fluxes1/Fluxes3\n",
      "/var/folders/d7/l6g7ly057s9bcdclxhvjs64h0000gn/T/ipykernel_8954/785917045.py:61: RuntimeWarning: invalid value encountered in double_scalars\n",
      "  Ratio2=Fluxes1/Fluxes3\n",
      "/var/folders/d7/l6g7ly057s9bcdclxhvjs64h0000gn/T/ipykernel_8954/785917045.py:61: RuntimeWarning: invalid value encountered in double_scalars\n",
      "  Ratio2=Fluxes1/Fluxes3\n",
      "/var/folders/d7/l6g7ly057s9bcdclxhvjs64h0000gn/T/ipykernel_8954/785917045.py:61: RuntimeWarning: invalid value encountered in double_scalars\n",
      "  Ratio2=Fluxes1/Fluxes3\n",
      "/var/folders/d7/l6g7ly057s9bcdclxhvjs64h0000gn/T/ipykernel_8954/785917045.py:61: RuntimeWarning: invalid value encountered in double_scalars\n",
      "  Ratio2=Fluxes1/Fluxes3\n",
      "/var/folders/d7/l6g7ly057s9bcdclxhvjs64h0000gn/T/ipykernel_8954/785917045.py:61: RuntimeWarning: invalid value encountered in double_scalars\n",
      "  Ratio2=Fluxes1/Fluxes3\n",
      "/var/folders/d7/l6g7ly057s9bcdclxhvjs64h0000gn/T/ipykernel_8954/785917045.py:61: RuntimeWarning: invalid value encountered in double_scalars\n",
      "  Ratio2=Fluxes1/Fluxes3\n",
      "/var/folders/d7/l6g7ly057s9bcdclxhvjs64h0000gn/T/ipykernel_8954/785917045.py:61: RuntimeWarning: invalid value encountered in double_scalars\n",
      "  Ratio2=Fluxes1/Fluxes3\n",
      "/var/folders/d7/l6g7ly057s9bcdclxhvjs64h0000gn/T/ipykernel_8954/785917045.py:61: RuntimeWarning: invalid value encountered in double_scalars\n",
      "  Ratio2=Fluxes1/Fluxes3\n",
      "/var/folders/d7/l6g7ly057s9bcdclxhvjs64h0000gn/T/ipykernel_8954/785917045.py:61: RuntimeWarning: invalid value encountered in double_scalars\n",
      "  Ratio2=Fluxes1/Fluxes3\n",
      "/var/folders/d7/l6g7ly057s9bcdclxhvjs64h0000gn/T/ipykernel_8954/785917045.py:61: RuntimeWarning: invalid value encountered in double_scalars\n",
      "  Ratio2=Fluxes1/Fluxes3\n",
      "/var/folders/d7/l6g7ly057s9bcdclxhvjs64h0000gn/T/ipykernel_8954/785917045.py:61: RuntimeWarning: invalid value encountered in double_scalars\n",
      "  Ratio2=Fluxes1/Fluxes3\n",
      "/var/folders/d7/l6g7ly057s9bcdclxhvjs64h0000gn/T/ipykernel_8954/785917045.py:61: RuntimeWarning: invalid value encountered in double_scalars\n",
      "  Ratio2=Fluxes1/Fluxes3\n",
      "/var/folders/d7/l6g7ly057s9bcdclxhvjs64h0000gn/T/ipykernel_8954/785917045.py:61: RuntimeWarning: invalid value encountered in double_scalars\n",
      "  Ratio2=Fluxes1/Fluxes3\n",
      "/var/folders/d7/l6g7ly057s9bcdclxhvjs64h0000gn/T/ipykernel_8954/785917045.py:61: RuntimeWarning: invalid value encountered in double_scalars\n",
      "  Ratio2=Fluxes1/Fluxes3\n",
      "/var/folders/d7/l6g7ly057s9bcdclxhvjs64h0000gn/T/ipykernel_8954/785917045.py:61: RuntimeWarning: invalid value encountered in double_scalars\n",
      "  Ratio2=Fluxes1/Fluxes3\n",
      "/var/folders/d7/l6g7ly057s9bcdclxhvjs64h0000gn/T/ipykernel_8954/785917045.py:61: RuntimeWarning: invalid value encountered in double_scalars\n",
      "  Ratio2=Fluxes1/Fluxes3\n",
      "/var/folders/d7/l6g7ly057s9bcdclxhvjs64h0000gn/T/ipykernel_8954/785917045.py:61: RuntimeWarning: invalid value encountered in double_scalars\n",
      "  Ratio2=Fluxes1/Fluxes3\n",
      "/var/folders/d7/l6g7ly057s9bcdclxhvjs64h0000gn/T/ipykernel_8954/785917045.py:61: RuntimeWarning: invalid value encountered in double_scalars\n",
      "  Ratio2=Fluxes1/Fluxes3\n",
      "/var/folders/d7/l6g7ly057s9bcdclxhvjs64h0000gn/T/ipykernel_8954/785917045.py:61: RuntimeWarning: invalid value encountered in double_scalars\n",
      "  Ratio2=Fluxes1/Fluxes3\n",
      "/var/folders/d7/l6g7ly057s9bcdclxhvjs64h0000gn/T/ipykernel_8954/785917045.py:61: RuntimeWarning: invalid value encountered in double_scalars\n",
      "  Ratio2=Fluxes1/Fluxes3\n",
      "/var/folders/d7/l6g7ly057s9bcdclxhvjs64h0000gn/T/ipykernel_8954/785917045.py:61: RuntimeWarning: invalid value encountered in double_scalars\n",
      "  Ratio2=Fluxes1/Fluxes3\n",
      "/var/folders/d7/l6g7ly057s9bcdclxhvjs64h0000gn/T/ipykernel_8954/785917045.py:61: RuntimeWarning: invalid value encountered in double_scalars\n",
      "  Ratio2=Fluxes1/Fluxes3\n",
      "/var/folders/d7/l6g7ly057s9bcdclxhvjs64h0000gn/T/ipykernel_8954/785917045.py:61: RuntimeWarning: invalid value encountered in double_scalars\n",
      "  Ratio2=Fluxes1/Fluxes3\n",
      "/var/folders/d7/l6g7ly057s9bcdclxhvjs64h0000gn/T/ipykernel_8954/785917045.py:61: RuntimeWarning: invalid value encountered in double_scalars\n",
      "  Ratio2=Fluxes1/Fluxes3\n",
      "/var/folders/d7/l6g7ly057s9bcdclxhvjs64h0000gn/T/ipykernel_8954/785917045.py:61: RuntimeWarning: invalid value encountered in double_scalars\n",
      "  Ratio2=Fluxes1/Fluxes3\n",
      "/var/folders/d7/l6g7ly057s9bcdclxhvjs64h0000gn/T/ipykernel_8954/785917045.py:61: RuntimeWarning: invalid value encountered in double_scalars\n",
      "  Ratio2=Fluxes1/Fluxes3\n",
      "/var/folders/d7/l6g7ly057s9bcdclxhvjs64h0000gn/T/ipykernel_8954/785917045.py:61: RuntimeWarning: invalid value encountered in double_scalars\n",
      "  Ratio2=Fluxes1/Fluxes3\n",
      "/var/folders/d7/l6g7ly057s9bcdclxhvjs64h0000gn/T/ipykernel_8954/785917045.py:61: RuntimeWarning: invalid value encountered in double_scalars\n",
      "  Ratio2=Fluxes1/Fluxes3\n",
      "/var/folders/d7/l6g7ly057s9bcdclxhvjs64h0000gn/T/ipykernel_8954/785917045.py:61: RuntimeWarning: invalid value encountered in double_scalars\n",
      "  Ratio2=Fluxes1/Fluxes3\n",
      "/var/folders/d7/l6g7ly057s9bcdclxhvjs64h0000gn/T/ipykernel_8954/785917045.py:61: RuntimeWarning: invalid value encountered in double_scalars\n",
      "  Ratio2=Fluxes1/Fluxes3\n",
      "/var/folders/d7/l6g7ly057s9bcdclxhvjs64h0000gn/T/ipykernel_8954/785917045.py:61: RuntimeWarning: invalid value encountered in double_scalars\n",
      "  Ratio2=Fluxes1/Fluxes3\n",
      "/var/folders/d7/l6g7ly057s9bcdclxhvjs64h0000gn/T/ipykernel_8954/785917045.py:61: RuntimeWarning: invalid value encountered in double_scalars\n",
      "  Ratio2=Fluxes1/Fluxes3\n",
      "/var/folders/d7/l6g7ly057s9bcdclxhvjs64h0000gn/T/ipykernel_8954/785917045.py:61: RuntimeWarning: invalid value encountered in double_scalars\n",
      "  Ratio2=Fluxes1/Fluxes3\n",
      "/var/folders/d7/l6g7ly057s9bcdclxhvjs64h0000gn/T/ipykernel_8954/785917045.py:61: RuntimeWarning: invalid value encountered in double_scalars\n",
      "  Ratio2=Fluxes1/Fluxes3\n",
      "/var/folders/d7/l6g7ly057s9bcdclxhvjs64h0000gn/T/ipykernel_8954/785917045.py:61: RuntimeWarning: invalid value encountered in double_scalars\n",
      "  Ratio2=Fluxes1/Fluxes3\n",
      "/var/folders/d7/l6g7ly057s9bcdclxhvjs64h0000gn/T/ipykernel_8954/785917045.py:61: RuntimeWarning: invalid value encountered in double_scalars\n",
      "  Ratio2=Fluxes1/Fluxes3\n",
      "/var/folders/d7/l6g7ly057s9bcdclxhvjs64h0000gn/T/ipykernel_8954/785917045.py:61: RuntimeWarning: invalid value encountered in double_scalars\n",
      "  Ratio2=Fluxes1/Fluxes3\n",
      "/var/folders/d7/l6g7ly057s9bcdclxhvjs64h0000gn/T/ipykernel_8954/785917045.py:61: RuntimeWarning: invalid value encountered in double_scalars\n",
      "  Ratio2=Fluxes1/Fluxes3\n",
      "/var/folders/d7/l6g7ly057s9bcdclxhvjs64h0000gn/T/ipykernel_8954/785917045.py:61: RuntimeWarning: invalid value encountered in double_scalars\n",
      "  Ratio2=Fluxes1/Fluxes3\n",
      "/var/folders/d7/l6g7ly057s9bcdclxhvjs64h0000gn/T/ipykernel_8954/785917045.py:61: RuntimeWarning: invalid value encountered in double_scalars\n",
      "  Ratio2=Fluxes1/Fluxes3\n",
      "/var/folders/d7/l6g7ly057s9bcdclxhvjs64h0000gn/T/ipykernel_8954/785917045.py:61: RuntimeWarning: invalid value encountered in double_scalars\n",
      "  Ratio2=Fluxes1/Fluxes3\n",
      "/var/folders/d7/l6g7ly057s9bcdclxhvjs64h0000gn/T/ipykernel_8954/785917045.py:61: RuntimeWarning: invalid value encountered in double_scalars\n",
      "  Ratio2=Fluxes1/Fluxes3\n",
      "/var/folders/d7/l6g7ly057s9bcdclxhvjs64h0000gn/T/ipykernel_8954/785917045.py:61: RuntimeWarning: invalid value encountered in double_scalars\n",
      "  Ratio2=Fluxes1/Fluxes3\n",
      "/var/folders/d7/l6g7ly057s9bcdclxhvjs64h0000gn/T/ipykernel_8954/785917045.py:61: RuntimeWarning: invalid value encountered in double_scalars\n",
      "  Ratio2=Fluxes1/Fluxes3\n",
      "/var/folders/d7/l6g7ly057s9bcdclxhvjs64h0000gn/T/ipykernel_8954/785917045.py:61: RuntimeWarning: invalid value encountered in double_scalars\n",
      "  Ratio2=Fluxes1/Fluxes3\n",
      "/var/folders/d7/l6g7ly057s9bcdclxhvjs64h0000gn/T/ipykernel_8954/785917045.py:61: RuntimeWarning: invalid value encountered in double_scalars\n",
      "  Ratio2=Fluxes1/Fluxes3\n",
      "/var/folders/d7/l6g7ly057s9bcdclxhvjs64h0000gn/T/ipykernel_8954/785917045.py:61: RuntimeWarning: invalid value encountered in double_scalars\n",
      "  Ratio2=Fluxes1/Fluxes3\n",
      "/var/folders/d7/l6g7ly057s9bcdclxhvjs64h0000gn/T/ipykernel_8954/785917045.py:61: RuntimeWarning: invalid value encountered in double_scalars\n",
      "  Ratio2=Fluxes1/Fluxes3\n",
      "/var/folders/d7/l6g7ly057s9bcdclxhvjs64h0000gn/T/ipykernel_8954/785917045.py:61: RuntimeWarning: invalid value encountered in double_scalars\n",
      "  Ratio2=Fluxes1/Fluxes3\n",
      "/var/folders/d7/l6g7ly057s9bcdclxhvjs64h0000gn/T/ipykernel_8954/785917045.py:61: RuntimeWarning: invalid value encountered in double_scalars\n",
      "  Ratio2=Fluxes1/Fluxes3\n",
      "/var/folders/d7/l6g7ly057s9bcdclxhvjs64h0000gn/T/ipykernel_8954/785917045.py:61: RuntimeWarning: invalid value encountered in double_scalars\n",
      "  Ratio2=Fluxes1/Fluxes3\n",
      "/var/folders/d7/l6g7ly057s9bcdclxhvjs64h0000gn/T/ipykernel_8954/785917045.py:61: RuntimeWarning: invalid value encountered in double_scalars\n",
      "  Ratio2=Fluxes1/Fluxes3\n",
      "/var/folders/d7/l6g7ly057s9bcdclxhvjs64h0000gn/T/ipykernel_8954/785917045.py:61: RuntimeWarning: invalid value encountered in double_scalars\n",
      "  Ratio2=Fluxes1/Fluxes3\n",
      "/var/folders/d7/l6g7ly057s9bcdclxhvjs64h0000gn/T/ipykernel_8954/785917045.py:61: RuntimeWarning: invalid value encountered in double_scalars\n",
      "  Ratio2=Fluxes1/Fluxes3\n",
      "/var/folders/d7/l6g7ly057s9bcdclxhvjs64h0000gn/T/ipykernel_8954/785917045.py:61: RuntimeWarning: invalid value encountered in double_scalars\n",
      "  Ratio2=Fluxes1/Fluxes3\n",
      "/var/folders/d7/l6g7ly057s9bcdclxhvjs64h0000gn/T/ipykernel_8954/785917045.py:61: RuntimeWarning: invalid value encountered in double_scalars\n",
      "  Ratio2=Fluxes1/Fluxes3\n",
      "/var/folders/d7/l6g7ly057s9bcdclxhvjs64h0000gn/T/ipykernel_8954/785917045.py:61: RuntimeWarning: invalid value encountered in double_scalars\n",
      "  Ratio2=Fluxes1/Fluxes3\n",
      "/var/folders/d7/l6g7ly057s9bcdclxhvjs64h0000gn/T/ipykernel_8954/785917045.py:61: RuntimeWarning: invalid value encountered in double_scalars\n",
      "  Ratio2=Fluxes1/Fluxes3\n",
      "/var/folders/d7/l6g7ly057s9bcdclxhvjs64h0000gn/T/ipykernel_8954/785917045.py:61: RuntimeWarning: invalid value encountered in double_scalars\n",
      "  Ratio2=Fluxes1/Fluxes3\n",
      "/var/folders/d7/l6g7ly057s9bcdclxhvjs64h0000gn/T/ipykernel_8954/785917045.py:61: RuntimeWarning: invalid value encountered in double_scalars\n",
      "  Ratio2=Fluxes1/Fluxes3\n",
      "/var/folders/d7/l6g7ly057s9bcdclxhvjs64h0000gn/T/ipykernel_8954/785917045.py:61: RuntimeWarning: invalid value encountered in double_scalars\n",
      "  Ratio2=Fluxes1/Fluxes3\n",
      "/var/folders/d7/l6g7ly057s9bcdclxhvjs64h0000gn/T/ipykernel_8954/785917045.py:61: RuntimeWarning: invalid value encountered in double_scalars\n",
      "  Ratio2=Fluxes1/Fluxes3\n",
      "/var/folders/d7/l6g7ly057s9bcdclxhvjs64h0000gn/T/ipykernel_8954/785917045.py:61: RuntimeWarning: invalid value encountered in double_scalars\n",
      "  Ratio2=Fluxes1/Fluxes3\n",
      "/var/folders/d7/l6g7ly057s9bcdclxhvjs64h0000gn/T/ipykernel_8954/785917045.py:61: RuntimeWarning: invalid value encountered in double_scalars\n",
      "  Ratio2=Fluxes1/Fluxes3\n",
      "/var/folders/d7/l6g7ly057s9bcdclxhvjs64h0000gn/T/ipykernel_8954/785917045.py:61: RuntimeWarning: invalid value encountered in double_scalars\n",
      "  Ratio2=Fluxes1/Fluxes3\n",
      "/var/folders/d7/l6g7ly057s9bcdclxhvjs64h0000gn/T/ipykernel_8954/785917045.py:61: RuntimeWarning: invalid value encountered in double_scalars\n",
      "  Ratio2=Fluxes1/Fluxes3\n",
      "/var/folders/d7/l6g7ly057s9bcdclxhvjs64h0000gn/T/ipykernel_8954/785917045.py:61: RuntimeWarning: invalid value encountered in double_scalars\n",
      "  Ratio2=Fluxes1/Fluxes3\n",
      "/var/folders/d7/l6g7ly057s9bcdclxhvjs64h0000gn/T/ipykernel_8954/785917045.py:61: RuntimeWarning: invalid value encountered in double_scalars\n",
      "  Ratio2=Fluxes1/Fluxes3\n",
      "/var/folders/d7/l6g7ly057s9bcdclxhvjs64h0000gn/T/ipykernel_8954/785917045.py:61: RuntimeWarning: invalid value encountered in double_scalars\n",
      "  Ratio2=Fluxes1/Fluxes3\n",
      "/var/folders/d7/l6g7ly057s9bcdclxhvjs64h0000gn/T/ipykernel_8954/785917045.py:61: RuntimeWarning: invalid value encountered in double_scalars\n",
      "  Ratio2=Fluxes1/Fluxes3\n",
      "/var/folders/d7/l6g7ly057s9bcdclxhvjs64h0000gn/T/ipykernel_8954/785917045.py:61: RuntimeWarning: invalid value encountered in double_scalars\n",
      "  Ratio2=Fluxes1/Fluxes3\n",
      "/var/folders/d7/l6g7ly057s9bcdclxhvjs64h0000gn/T/ipykernel_8954/785917045.py:61: RuntimeWarning: invalid value encountered in double_scalars\n",
      "  Ratio2=Fluxes1/Fluxes3\n",
      "/var/folders/d7/l6g7ly057s9bcdclxhvjs64h0000gn/T/ipykernel_8954/785917045.py:61: RuntimeWarning: invalid value encountered in double_scalars\n",
      "  Ratio2=Fluxes1/Fluxes3\n",
      "/var/folders/d7/l6g7ly057s9bcdclxhvjs64h0000gn/T/ipykernel_8954/785917045.py:61: RuntimeWarning: invalid value encountered in double_scalars\n",
      "  Ratio2=Fluxes1/Fluxes3\n",
      "/var/folders/d7/l6g7ly057s9bcdclxhvjs64h0000gn/T/ipykernel_8954/785917045.py:61: RuntimeWarning: invalid value encountered in double_scalars\n",
      "  Ratio2=Fluxes1/Fluxes3\n",
      "/var/folders/d7/l6g7ly057s9bcdclxhvjs64h0000gn/T/ipykernel_8954/785917045.py:61: RuntimeWarning: invalid value encountered in double_scalars\n",
      "  Ratio2=Fluxes1/Fluxes3\n",
      "/var/folders/d7/l6g7ly057s9bcdclxhvjs64h0000gn/T/ipykernel_8954/785917045.py:61: RuntimeWarning: invalid value encountered in double_scalars\n",
      "  Ratio2=Fluxes1/Fluxes3\n",
      "/var/folders/d7/l6g7ly057s9bcdclxhvjs64h0000gn/T/ipykernel_8954/785917045.py:61: RuntimeWarning: invalid value encountered in double_scalars\n",
      "  Ratio2=Fluxes1/Fluxes3\n",
      "/var/folders/d7/l6g7ly057s9bcdclxhvjs64h0000gn/T/ipykernel_8954/785917045.py:61: RuntimeWarning: invalid value encountered in double_scalars\n",
      "  Ratio2=Fluxes1/Fluxes3\n",
      "/var/folders/d7/l6g7ly057s9bcdclxhvjs64h0000gn/T/ipykernel_8954/785917045.py:61: RuntimeWarning: invalid value encountered in double_scalars\n",
      "  Ratio2=Fluxes1/Fluxes3\n",
      "/var/folders/d7/l6g7ly057s9bcdclxhvjs64h0000gn/T/ipykernel_8954/785917045.py:61: RuntimeWarning: invalid value encountered in double_scalars\n",
      "  Ratio2=Fluxes1/Fluxes3\n",
      "/var/folders/d7/l6g7ly057s9bcdclxhvjs64h0000gn/T/ipykernel_8954/785917045.py:61: RuntimeWarning: invalid value encountered in double_scalars\n",
      "  Ratio2=Fluxes1/Fluxes3\n",
      "/var/folders/d7/l6g7ly057s9bcdclxhvjs64h0000gn/T/ipykernel_8954/785917045.py:61: RuntimeWarning: invalid value encountered in double_scalars\n",
      "  Ratio2=Fluxes1/Fluxes3\n"
     ]
    },
    {
     "name": "stdout",
     "output_type": "stream",
     "text": [
      "0.1505791505791506 0.3416988416988417 0.007722007722007707\n"
     ]
    },
    {
     "name": "stderr",
     "output_type": "stream",
     "text": [
      "/var/folders/d7/l6g7ly057s9bcdclxhvjs64h0000gn/T/ipykernel_8954/785917045.py:61: RuntimeWarning: invalid value encountered in double_scalars\n",
      "  Ratio2=Fluxes1/Fluxes3\n",
      "/var/folders/d7/l6g7ly057s9bcdclxhvjs64h0000gn/T/ipykernel_8954/785917045.py:61: RuntimeWarning: invalid value encountered in double_scalars\n",
      "  Ratio2=Fluxes1/Fluxes3\n",
      "/var/folders/d7/l6g7ly057s9bcdclxhvjs64h0000gn/T/ipykernel_8954/785917045.py:61: RuntimeWarning: invalid value encountered in double_scalars\n",
      "  Ratio2=Fluxes1/Fluxes3\n",
      "/var/folders/d7/l6g7ly057s9bcdclxhvjs64h0000gn/T/ipykernel_8954/785917045.py:61: RuntimeWarning: invalid value encountered in double_scalars\n",
      "  Ratio2=Fluxes1/Fluxes3\n",
      "/var/folders/d7/l6g7ly057s9bcdclxhvjs64h0000gn/T/ipykernel_8954/785917045.py:61: RuntimeWarning: invalid value encountered in double_scalars\n",
      "  Ratio2=Fluxes1/Fluxes3\n",
      "/var/folders/d7/l6g7ly057s9bcdclxhvjs64h0000gn/T/ipykernel_8954/785917045.py:61: RuntimeWarning: invalid value encountered in double_scalars\n",
      "  Ratio2=Fluxes1/Fluxes3\n",
      "/var/folders/d7/l6g7ly057s9bcdclxhvjs64h0000gn/T/ipykernel_8954/785917045.py:61: RuntimeWarning: invalid value encountered in double_scalars\n",
      "  Ratio2=Fluxes1/Fluxes3\n",
      "/var/folders/d7/l6g7ly057s9bcdclxhvjs64h0000gn/T/ipykernel_8954/785917045.py:61: RuntimeWarning: invalid value encountered in double_scalars\n",
      "  Ratio2=Fluxes1/Fluxes3\n",
      "/var/folders/d7/l6g7ly057s9bcdclxhvjs64h0000gn/T/ipykernel_8954/785917045.py:61: RuntimeWarning: invalid value encountered in double_scalars\n",
      "  Ratio2=Fluxes1/Fluxes3\n",
      "/var/folders/d7/l6g7ly057s9bcdclxhvjs64h0000gn/T/ipykernel_8954/785917045.py:61: RuntimeWarning: invalid value encountered in double_scalars\n",
      "  Ratio2=Fluxes1/Fluxes3\n",
      "/var/folders/d7/l6g7ly057s9bcdclxhvjs64h0000gn/T/ipykernel_8954/785917045.py:61: RuntimeWarning: invalid value encountered in double_scalars\n",
      "  Ratio2=Fluxes1/Fluxes3\n",
      "/var/folders/d7/l6g7ly057s9bcdclxhvjs64h0000gn/T/ipykernel_8954/785917045.py:61: RuntimeWarning: invalid value encountered in double_scalars\n",
      "  Ratio2=Fluxes1/Fluxes3\n",
      "/var/folders/d7/l6g7ly057s9bcdclxhvjs64h0000gn/T/ipykernel_8954/785917045.py:61: RuntimeWarning: invalid value encountered in double_scalars\n",
      "  Ratio2=Fluxes1/Fluxes3\n",
      "/var/folders/d7/l6g7ly057s9bcdclxhvjs64h0000gn/T/ipykernel_8954/785917045.py:61: RuntimeWarning: invalid value encountered in double_scalars\n",
      "  Ratio2=Fluxes1/Fluxes3\n",
      "/var/folders/d7/l6g7ly057s9bcdclxhvjs64h0000gn/T/ipykernel_8954/785917045.py:61: RuntimeWarning: invalid value encountered in double_scalars\n",
      "  Ratio2=Fluxes1/Fluxes3\n",
      "/var/folders/d7/l6g7ly057s9bcdclxhvjs64h0000gn/T/ipykernel_8954/785917045.py:61: RuntimeWarning: invalid value encountered in double_scalars\n",
      "  Ratio2=Fluxes1/Fluxes3\n",
      "/var/folders/d7/l6g7ly057s9bcdclxhvjs64h0000gn/T/ipykernel_8954/785917045.py:61: RuntimeWarning: invalid value encountered in double_scalars\n",
      "  Ratio2=Fluxes1/Fluxes3\n",
      "/var/folders/d7/l6g7ly057s9bcdclxhvjs64h0000gn/T/ipykernel_8954/785917045.py:61: RuntimeWarning: invalid value encountered in double_scalars\n",
      "  Ratio2=Fluxes1/Fluxes3\n",
      "/var/folders/d7/l6g7ly057s9bcdclxhvjs64h0000gn/T/ipykernel_8954/785917045.py:61: RuntimeWarning: invalid value encountered in double_scalars\n",
      "  Ratio2=Fluxes1/Fluxes3\n",
      "/var/folders/d7/l6g7ly057s9bcdclxhvjs64h0000gn/T/ipykernel_8954/785917045.py:61: RuntimeWarning: invalid value encountered in double_scalars\n",
      "  Ratio2=Fluxes1/Fluxes3\n",
      "/var/folders/d7/l6g7ly057s9bcdclxhvjs64h0000gn/T/ipykernel_8954/785917045.py:61: RuntimeWarning: invalid value encountered in double_scalars\n",
      "  Ratio2=Fluxes1/Fluxes3\n",
      "/var/folders/d7/l6g7ly057s9bcdclxhvjs64h0000gn/T/ipykernel_8954/785917045.py:61: RuntimeWarning: invalid value encountered in double_scalars\n",
      "  Ratio2=Fluxes1/Fluxes3\n",
      "/var/folders/d7/l6g7ly057s9bcdclxhvjs64h0000gn/T/ipykernel_8954/785917045.py:61: RuntimeWarning: invalid value encountered in double_scalars\n",
      "  Ratio2=Fluxes1/Fluxes3\n",
      "/var/folders/d7/l6g7ly057s9bcdclxhvjs64h0000gn/T/ipykernel_8954/785917045.py:61: RuntimeWarning: invalid value encountered in double_scalars\n",
      "  Ratio2=Fluxes1/Fluxes3\n",
      "/var/folders/d7/l6g7ly057s9bcdclxhvjs64h0000gn/T/ipykernel_8954/785917045.py:61: RuntimeWarning: invalid value encountered in double_scalars\n",
      "  Ratio2=Fluxes1/Fluxes3\n",
      "/var/folders/d7/l6g7ly057s9bcdclxhvjs64h0000gn/T/ipykernel_8954/785917045.py:61: RuntimeWarning: invalid value encountered in double_scalars\n",
      "  Ratio2=Fluxes1/Fluxes3\n",
      "/var/folders/d7/l6g7ly057s9bcdclxhvjs64h0000gn/T/ipykernel_8954/785917045.py:61: RuntimeWarning: invalid value encountered in double_scalars\n",
      "  Ratio2=Fluxes1/Fluxes3\n",
      "/var/folders/d7/l6g7ly057s9bcdclxhvjs64h0000gn/T/ipykernel_8954/785917045.py:61: RuntimeWarning: invalid value encountered in double_scalars\n",
      "  Ratio2=Fluxes1/Fluxes3\n",
      "/var/folders/d7/l6g7ly057s9bcdclxhvjs64h0000gn/T/ipykernel_8954/785917045.py:61: RuntimeWarning: invalid value encountered in double_scalars\n",
      "  Ratio2=Fluxes1/Fluxes3\n",
      "/var/folders/d7/l6g7ly057s9bcdclxhvjs64h0000gn/T/ipykernel_8954/785917045.py:61: RuntimeWarning: invalid value encountered in double_scalars\n",
      "  Ratio2=Fluxes1/Fluxes3\n",
      "/var/folders/d7/l6g7ly057s9bcdclxhvjs64h0000gn/T/ipykernel_8954/785917045.py:61: RuntimeWarning: invalid value encountered in double_scalars\n",
      "  Ratio2=Fluxes1/Fluxes3\n",
      "/var/folders/d7/l6g7ly057s9bcdclxhvjs64h0000gn/T/ipykernel_8954/785917045.py:61: RuntimeWarning: invalid value encountered in double_scalars\n",
      "  Ratio2=Fluxes1/Fluxes3\n",
      "/var/folders/d7/l6g7ly057s9bcdclxhvjs64h0000gn/T/ipykernel_8954/785917045.py:61: RuntimeWarning: invalid value encountered in double_scalars\n",
      "  Ratio2=Fluxes1/Fluxes3\n",
      "/var/folders/d7/l6g7ly057s9bcdclxhvjs64h0000gn/T/ipykernel_8954/785917045.py:61: RuntimeWarning: invalid value encountered in double_scalars\n",
      "  Ratio2=Fluxes1/Fluxes3\n",
      "/var/folders/d7/l6g7ly057s9bcdclxhvjs64h0000gn/T/ipykernel_8954/785917045.py:61: RuntimeWarning: invalid value encountered in double_scalars\n",
      "  Ratio2=Fluxes1/Fluxes3\n",
      "/var/folders/d7/l6g7ly057s9bcdclxhvjs64h0000gn/T/ipykernel_8954/785917045.py:61: RuntimeWarning: invalid value encountered in double_scalars\n",
      "  Ratio2=Fluxes1/Fluxes3\n",
      "/var/folders/d7/l6g7ly057s9bcdclxhvjs64h0000gn/T/ipykernel_8954/785917045.py:61: RuntimeWarning: invalid value encountered in double_scalars\n",
      "  Ratio2=Fluxes1/Fluxes3\n",
      "/var/folders/d7/l6g7ly057s9bcdclxhvjs64h0000gn/T/ipykernel_8954/785917045.py:61: RuntimeWarning: invalid value encountered in double_scalars\n",
      "  Ratio2=Fluxes1/Fluxes3\n",
      "/var/folders/d7/l6g7ly057s9bcdclxhvjs64h0000gn/T/ipykernel_8954/785917045.py:61: RuntimeWarning: invalid value encountered in double_scalars\n",
      "  Ratio2=Fluxes1/Fluxes3\n",
      "/var/folders/d7/l6g7ly057s9bcdclxhvjs64h0000gn/T/ipykernel_8954/785917045.py:61: RuntimeWarning: invalid value encountered in double_scalars\n",
      "  Ratio2=Fluxes1/Fluxes3\n",
      "/var/folders/d7/l6g7ly057s9bcdclxhvjs64h0000gn/T/ipykernel_8954/785917045.py:61: RuntimeWarning: invalid value encountered in double_scalars\n",
      "  Ratio2=Fluxes1/Fluxes3\n",
      "/var/folders/d7/l6g7ly057s9bcdclxhvjs64h0000gn/T/ipykernel_8954/785917045.py:61: RuntimeWarning: invalid value encountered in double_scalars\n",
      "  Ratio2=Fluxes1/Fluxes3\n",
      "/var/folders/d7/l6g7ly057s9bcdclxhvjs64h0000gn/T/ipykernel_8954/785917045.py:61: RuntimeWarning: invalid value encountered in double_scalars\n",
      "  Ratio2=Fluxes1/Fluxes3\n",
      "/var/folders/d7/l6g7ly057s9bcdclxhvjs64h0000gn/T/ipykernel_8954/785917045.py:61: RuntimeWarning: invalid value encountered in double_scalars\n",
      "  Ratio2=Fluxes1/Fluxes3\n",
      "/var/folders/d7/l6g7ly057s9bcdclxhvjs64h0000gn/T/ipykernel_8954/785917045.py:61: RuntimeWarning: invalid value encountered in double_scalars\n",
      "  Ratio2=Fluxes1/Fluxes3\n",
      "/var/folders/d7/l6g7ly057s9bcdclxhvjs64h0000gn/T/ipykernel_8954/785917045.py:61: RuntimeWarning: invalid value encountered in double_scalars\n",
      "  Ratio2=Fluxes1/Fluxes3\n",
      "/var/folders/d7/l6g7ly057s9bcdclxhvjs64h0000gn/T/ipykernel_8954/785917045.py:61: RuntimeWarning: invalid value encountered in double_scalars\n",
      "  Ratio2=Fluxes1/Fluxes3\n",
      "/var/folders/d7/l6g7ly057s9bcdclxhvjs64h0000gn/T/ipykernel_8954/785917045.py:61: RuntimeWarning: invalid value encountered in double_scalars\n",
      "  Ratio2=Fluxes1/Fluxes3\n",
      "/var/folders/d7/l6g7ly057s9bcdclxhvjs64h0000gn/T/ipykernel_8954/785917045.py:61: RuntimeWarning: invalid value encountered in double_scalars\n",
      "  Ratio2=Fluxes1/Fluxes3\n",
      "/var/folders/d7/l6g7ly057s9bcdclxhvjs64h0000gn/T/ipykernel_8954/785917045.py:61: RuntimeWarning: invalid value encountered in double_scalars\n",
      "  Ratio2=Fluxes1/Fluxes3\n",
      "/var/folders/d7/l6g7ly057s9bcdclxhvjs64h0000gn/T/ipykernel_8954/785917045.py:61: RuntimeWarning: invalid value encountered in double_scalars\n",
      "  Ratio2=Fluxes1/Fluxes3\n",
      "/var/folders/d7/l6g7ly057s9bcdclxhvjs64h0000gn/T/ipykernel_8954/785917045.py:61: RuntimeWarning: invalid value encountered in double_scalars\n",
      "  Ratio2=Fluxes1/Fluxes3\n",
      "/var/folders/d7/l6g7ly057s9bcdclxhvjs64h0000gn/T/ipykernel_8954/785917045.py:61: RuntimeWarning: invalid value encountered in double_scalars\n",
      "  Ratio2=Fluxes1/Fluxes3\n",
      "/var/folders/d7/l6g7ly057s9bcdclxhvjs64h0000gn/T/ipykernel_8954/785917045.py:61: RuntimeWarning: invalid value encountered in double_scalars\n",
      "  Ratio2=Fluxes1/Fluxes3\n",
      "/var/folders/d7/l6g7ly057s9bcdclxhvjs64h0000gn/T/ipykernel_8954/785917045.py:61: RuntimeWarning: invalid value encountered in double_scalars\n",
      "  Ratio2=Fluxes1/Fluxes3\n",
      "/var/folders/d7/l6g7ly057s9bcdclxhvjs64h0000gn/T/ipykernel_8954/785917045.py:61: RuntimeWarning: invalid value encountered in double_scalars\n",
      "  Ratio2=Fluxes1/Fluxes3\n",
      "/var/folders/d7/l6g7ly057s9bcdclxhvjs64h0000gn/T/ipykernel_8954/785917045.py:61: RuntimeWarning: invalid value encountered in double_scalars\n",
      "  Ratio2=Fluxes1/Fluxes3\n",
      "/var/folders/d7/l6g7ly057s9bcdclxhvjs64h0000gn/T/ipykernel_8954/785917045.py:61: RuntimeWarning: invalid value encountered in double_scalars\n",
      "  Ratio2=Fluxes1/Fluxes3\n",
      "/var/folders/d7/l6g7ly057s9bcdclxhvjs64h0000gn/T/ipykernel_8954/785917045.py:61: RuntimeWarning: invalid value encountered in double_scalars\n",
      "  Ratio2=Fluxes1/Fluxes3\n",
      "/var/folders/d7/l6g7ly057s9bcdclxhvjs64h0000gn/T/ipykernel_8954/785917045.py:61: RuntimeWarning: invalid value encountered in double_scalars\n",
      "  Ratio2=Fluxes1/Fluxes3\n",
      "/var/folders/d7/l6g7ly057s9bcdclxhvjs64h0000gn/T/ipykernel_8954/785917045.py:61: RuntimeWarning: invalid value encountered in double_scalars\n",
      "  Ratio2=Fluxes1/Fluxes3\n",
      "/var/folders/d7/l6g7ly057s9bcdclxhvjs64h0000gn/T/ipykernel_8954/785917045.py:61: RuntimeWarning: invalid value encountered in double_scalars\n",
      "  Ratio2=Fluxes1/Fluxes3\n",
      "/var/folders/d7/l6g7ly057s9bcdclxhvjs64h0000gn/T/ipykernel_8954/785917045.py:61: RuntimeWarning: invalid value encountered in double_scalars\n",
      "  Ratio2=Fluxes1/Fluxes3\n",
      "/var/folders/d7/l6g7ly057s9bcdclxhvjs64h0000gn/T/ipykernel_8954/785917045.py:61: RuntimeWarning: invalid value encountered in double_scalars\n",
      "  Ratio2=Fluxes1/Fluxes3\n",
      "/var/folders/d7/l6g7ly057s9bcdclxhvjs64h0000gn/T/ipykernel_8954/785917045.py:61: RuntimeWarning: invalid value encountered in double_scalars\n",
      "  Ratio2=Fluxes1/Fluxes3\n",
      "/var/folders/d7/l6g7ly057s9bcdclxhvjs64h0000gn/T/ipykernel_8954/785917045.py:61: RuntimeWarning: invalid value encountered in double_scalars\n",
      "  Ratio2=Fluxes1/Fluxes3\n",
      "/var/folders/d7/l6g7ly057s9bcdclxhvjs64h0000gn/T/ipykernel_8954/785917045.py:61: RuntimeWarning: invalid value encountered in double_scalars\n",
      "  Ratio2=Fluxes1/Fluxes3\n",
      "/var/folders/d7/l6g7ly057s9bcdclxhvjs64h0000gn/T/ipykernel_8954/785917045.py:61: RuntimeWarning: invalid value encountered in double_scalars\n",
      "  Ratio2=Fluxes1/Fluxes3\n",
      "/var/folders/d7/l6g7ly057s9bcdclxhvjs64h0000gn/T/ipykernel_8954/785917045.py:61: RuntimeWarning: invalid value encountered in double_scalars\n",
      "  Ratio2=Fluxes1/Fluxes3\n",
      "/var/folders/d7/l6g7ly057s9bcdclxhvjs64h0000gn/T/ipykernel_8954/785917045.py:61: RuntimeWarning: invalid value encountered in double_scalars\n",
      "  Ratio2=Fluxes1/Fluxes3\n",
      "/var/folders/d7/l6g7ly057s9bcdclxhvjs64h0000gn/T/ipykernel_8954/785917045.py:61: RuntimeWarning: invalid value encountered in double_scalars\n",
      "  Ratio2=Fluxes1/Fluxes3\n",
      "/var/folders/d7/l6g7ly057s9bcdclxhvjs64h0000gn/T/ipykernel_8954/785917045.py:61: RuntimeWarning: invalid value encountered in double_scalars\n",
      "  Ratio2=Fluxes1/Fluxes3\n",
      "/var/folders/d7/l6g7ly057s9bcdclxhvjs64h0000gn/T/ipykernel_8954/785917045.py:61: RuntimeWarning: invalid value encountered in double_scalars\n",
      "  Ratio2=Fluxes1/Fluxes3\n",
      "/var/folders/d7/l6g7ly057s9bcdclxhvjs64h0000gn/T/ipykernel_8954/785917045.py:61: RuntimeWarning: invalid value encountered in double_scalars\n",
      "  Ratio2=Fluxes1/Fluxes3\n",
      "/var/folders/d7/l6g7ly057s9bcdclxhvjs64h0000gn/T/ipykernel_8954/785917045.py:61: RuntimeWarning: invalid value encountered in double_scalars\n",
      "  Ratio2=Fluxes1/Fluxes3\n",
      "/var/folders/d7/l6g7ly057s9bcdclxhvjs64h0000gn/T/ipykernel_8954/785917045.py:61: RuntimeWarning: invalid value encountered in double_scalars\n",
      "  Ratio2=Fluxes1/Fluxes3\n",
      "/var/folders/d7/l6g7ly057s9bcdclxhvjs64h0000gn/T/ipykernel_8954/785917045.py:61: RuntimeWarning: invalid value encountered in double_scalars\n",
      "  Ratio2=Fluxes1/Fluxes3\n",
      "/var/folders/d7/l6g7ly057s9bcdclxhvjs64h0000gn/T/ipykernel_8954/785917045.py:61: RuntimeWarning: invalid value encountered in double_scalars\n",
      "  Ratio2=Fluxes1/Fluxes3\n",
      "/var/folders/d7/l6g7ly057s9bcdclxhvjs64h0000gn/T/ipykernel_8954/785917045.py:61: RuntimeWarning: invalid value encountered in double_scalars\n",
      "  Ratio2=Fluxes1/Fluxes3\n",
      "/var/folders/d7/l6g7ly057s9bcdclxhvjs64h0000gn/T/ipykernel_8954/785917045.py:61: RuntimeWarning: invalid value encountered in double_scalars\n",
      "  Ratio2=Fluxes1/Fluxes3\n",
      "/var/folders/d7/l6g7ly057s9bcdclxhvjs64h0000gn/T/ipykernel_8954/785917045.py:61: RuntimeWarning: invalid value encountered in double_scalars\n",
      "  Ratio2=Fluxes1/Fluxes3\n",
      "/var/folders/d7/l6g7ly057s9bcdclxhvjs64h0000gn/T/ipykernel_8954/785917045.py:61: RuntimeWarning: invalid value encountered in double_scalars\n",
      "  Ratio2=Fluxes1/Fluxes3\n",
      "/var/folders/d7/l6g7ly057s9bcdclxhvjs64h0000gn/T/ipykernel_8954/785917045.py:61: RuntimeWarning: invalid value encountered in double_scalars\n",
      "  Ratio2=Fluxes1/Fluxes3\n",
      "/var/folders/d7/l6g7ly057s9bcdclxhvjs64h0000gn/T/ipykernel_8954/785917045.py:61: RuntimeWarning: invalid value encountered in double_scalars\n",
      "  Ratio2=Fluxes1/Fluxes3\n",
      "/var/folders/d7/l6g7ly057s9bcdclxhvjs64h0000gn/T/ipykernel_8954/785917045.py:61: RuntimeWarning: invalid value encountered in double_scalars\n",
      "  Ratio2=Fluxes1/Fluxes3\n",
      "/var/folders/d7/l6g7ly057s9bcdclxhvjs64h0000gn/T/ipykernel_8954/785917045.py:61: RuntimeWarning: invalid value encountered in double_scalars\n",
      "  Ratio2=Fluxes1/Fluxes3\n",
      "/var/folders/d7/l6g7ly057s9bcdclxhvjs64h0000gn/T/ipykernel_8954/785917045.py:61: RuntimeWarning: invalid value encountered in double_scalars\n",
      "  Ratio2=Fluxes1/Fluxes3\n",
      "/var/folders/d7/l6g7ly057s9bcdclxhvjs64h0000gn/T/ipykernel_8954/785917045.py:61: RuntimeWarning: invalid value encountered in double_scalars\n",
      "  Ratio2=Fluxes1/Fluxes3\n",
      "/var/folders/d7/l6g7ly057s9bcdclxhvjs64h0000gn/T/ipykernel_8954/785917045.py:61: RuntimeWarning: invalid value encountered in double_scalars\n",
      "  Ratio2=Fluxes1/Fluxes3\n",
      "/var/folders/d7/l6g7ly057s9bcdclxhvjs64h0000gn/T/ipykernel_8954/785917045.py:61: RuntimeWarning: invalid value encountered in double_scalars\n",
      "  Ratio2=Fluxes1/Fluxes3\n",
      "/var/folders/d7/l6g7ly057s9bcdclxhvjs64h0000gn/T/ipykernel_8954/785917045.py:61: RuntimeWarning: invalid value encountered in double_scalars\n",
      "  Ratio2=Fluxes1/Fluxes3\n",
      "/var/folders/d7/l6g7ly057s9bcdclxhvjs64h0000gn/T/ipykernel_8954/785917045.py:61: RuntimeWarning: invalid value encountered in double_scalars\n",
      "  Ratio2=Fluxes1/Fluxes3\n",
      "/var/folders/d7/l6g7ly057s9bcdclxhvjs64h0000gn/T/ipykernel_8954/785917045.py:61: RuntimeWarning: invalid value encountered in double_scalars\n",
      "  Ratio2=Fluxes1/Fluxes3\n",
      "/var/folders/d7/l6g7ly057s9bcdclxhvjs64h0000gn/T/ipykernel_8954/785917045.py:61: RuntimeWarning: invalid value encountered in double_scalars\n",
      "  Ratio2=Fluxes1/Fluxes3\n",
      "/var/folders/d7/l6g7ly057s9bcdclxhvjs64h0000gn/T/ipykernel_8954/785917045.py:61: RuntimeWarning: invalid value encountered in double_scalars\n",
      "  Ratio2=Fluxes1/Fluxes3\n",
      "/var/folders/d7/l6g7ly057s9bcdclxhvjs64h0000gn/T/ipykernel_8954/785917045.py:61: RuntimeWarning: invalid value encountered in double_scalars\n",
      "  Ratio2=Fluxes1/Fluxes3\n",
      "/var/folders/d7/l6g7ly057s9bcdclxhvjs64h0000gn/T/ipykernel_8954/785917045.py:61: RuntimeWarning: invalid value encountered in double_scalars\n",
      "  Ratio2=Fluxes1/Fluxes3\n",
      "/var/folders/d7/l6g7ly057s9bcdclxhvjs64h0000gn/T/ipykernel_8954/785917045.py:61: RuntimeWarning: invalid value encountered in double_scalars\n",
      "  Ratio2=Fluxes1/Fluxes3\n",
      "/var/folders/d7/l6g7ly057s9bcdclxhvjs64h0000gn/T/ipykernel_8954/785917045.py:61: RuntimeWarning: invalid value encountered in double_scalars\n",
      "  Ratio2=Fluxes1/Fluxes3\n",
      "/var/folders/d7/l6g7ly057s9bcdclxhvjs64h0000gn/T/ipykernel_8954/785917045.py:61: RuntimeWarning: invalid value encountered in double_scalars\n",
      "  Ratio2=Fluxes1/Fluxes3\n",
      "/var/folders/d7/l6g7ly057s9bcdclxhvjs64h0000gn/T/ipykernel_8954/785917045.py:61: RuntimeWarning: invalid value encountered in double_scalars\n",
      "  Ratio2=Fluxes1/Fluxes3\n",
      "/var/folders/d7/l6g7ly057s9bcdclxhvjs64h0000gn/T/ipykernel_8954/785917045.py:61: RuntimeWarning: invalid value encountered in double_scalars\n",
      "  Ratio2=Fluxes1/Fluxes3\n",
      "/var/folders/d7/l6g7ly057s9bcdclxhvjs64h0000gn/T/ipykernel_8954/785917045.py:61: RuntimeWarning: invalid value encountered in double_scalars\n",
      "  Ratio2=Fluxes1/Fluxes3\n",
      "/var/folders/d7/l6g7ly057s9bcdclxhvjs64h0000gn/T/ipykernel_8954/785917045.py:61: RuntimeWarning: invalid value encountered in double_scalars\n",
      "  Ratio2=Fluxes1/Fluxes3\n",
      "/var/folders/d7/l6g7ly057s9bcdclxhvjs64h0000gn/T/ipykernel_8954/785917045.py:61: RuntimeWarning: invalid value encountered in double_scalars\n",
      "  Ratio2=Fluxes1/Fluxes3\n",
      "/var/folders/d7/l6g7ly057s9bcdclxhvjs64h0000gn/T/ipykernel_8954/785917045.py:61: RuntimeWarning: invalid value encountered in double_scalars\n",
      "  Ratio2=Fluxes1/Fluxes3\n",
      "/var/folders/d7/l6g7ly057s9bcdclxhvjs64h0000gn/T/ipykernel_8954/785917045.py:61: RuntimeWarning: invalid value encountered in double_scalars\n",
      "  Ratio2=Fluxes1/Fluxes3\n",
      "/var/folders/d7/l6g7ly057s9bcdclxhvjs64h0000gn/T/ipykernel_8954/785917045.py:61: RuntimeWarning: invalid value encountered in double_scalars\n",
      "  Ratio2=Fluxes1/Fluxes3\n",
      "/var/folders/d7/l6g7ly057s9bcdclxhvjs64h0000gn/T/ipykernel_8954/785917045.py:61: RuntimeWarning: invalid value encountered in double_scalars\n",
      "  Ratio2=Fluxes1/Fluxes3\n",
      "/var/folders/d7/l6g7ly057s9bcdclxhvjs64h0000gn/T/ipykernel_8954/785917045.py:61: RuntimeWarning: invalid value encountered in double_scalars\n",
      "  Ratio2=Fluxes1/Fluxes3\n",
      "/var/folders/d7/l6g7ly057s9bcdclxhvjs64h0000gn/T/ipykernel_8954/785917045.py:61: RuntimeWarning: invalid value encountered in double_scalars\n",
      "  Ratio2=Fluxes1/Fluxes3\n",
      "/var/folders/d7/l6g7ly057s9bcdclxhvjs64h0000gn/T/ipykernel_8954/785917045.py:61: RuntimeWarning: invalid value encountered in double_scalars\n",
      "  Ratio2=Fluxes1/Fluxes3\n",
      "/var/folders/d7/l6g7ly057s9bcdclxhvjs64h0000gn/T/ipykernel_8954/785917045.py:61: RuntimeWarning: invalid value encountered in double_scalars\n",
      "  Ratio2=Fluxes1/Fluxes3\n",
      "/var/folders/d7/l6g7ly057s9bcdclxhvjs64h0000gn/T/ipykernel_8954/785917045.py:61: RuntimeWarning: invalid value encountered in double_scalars\n",
      "  Ratio2=Fluxes1/Fluxes3\n",
      "/var/folders/d7/l6g7ly057s9bcdclxhvjs64h0000gn/T/ipykernel_8954/785917045.py:61: RuntimeWarning: invalid value encountered in double_scalars\n",
      "  Ratio2=Fluxes1/Fluxes3\n",
      "/var/folders/d7/l6g7ly057s9bcdclxhvjs64h0000gn/T/ipykernel_8954/785917045.py:61: RuntimeWarning: invalid value encountered in double_scalars\n",
      "  Ratio2=Fluxes1/Fluxes3\n",
      "/var/folders/d7/l6g7ly057s9bcdclxhvjs64h0000gn/T/ipykernel_8954/785917045.py:61: RuntimeWarning: invalid value encountered in double_scalars\n",
      "  Ratio2=Fluxes1/Fluxes3\n",
      "/var/folders/d7/l6g7ly057s9bcdclxhvjs64h0000gn/T/ipykernel_8954/785917045.py:61: RuntimeWarning: invalid value encountered in double_scalars\n",
      "  Ratio2=Fluxes1/Fluxes3\n",
      "/var/folders/d7/l6g7ly057s9bcdclxhvjs64h0000gn/T/ipykernel_8954/785917045.py:61: RuntimeWarning: invalid value encountered in double_scalars\n",
      "  Ratio2=Fluxes1/Fluxes3\n",
      "/var/folders/d7/l6g7ly057s9bcdclxhvjs64h0000gn/T/ipykernel_8954/785917045.py:61: RuntimeWarning: invalid value encountered in double_scalars\n",
      "  Ratio2=Fluxes1/Fluxes3\n"
     ]
    },
    {
     "data": {
      "text/plain": [
       "<matplotlib.collections.PathCollection at 0x139340ca0>"
      ]
     },
     "execution_count": 79,
     "metadata": {},
     "output_type": "execute_result"
    },
    {
     "data": {
      "text/plain": [
       "<matplotlib.collections.PathCollection at 0x1366412d0>"
      ]
     },
     "execution_count": 79,
     "metadata": {},
     "output_type": "execute_result"
    },
    {
     "data": {
      "text/plain": [
       "<matplotlib.collections.PathCollection at 0x136645330>"
      ]
     },
     "execution_count": 79,
     "metadata": {},
     "output_type": "execute_result"
    },
    {
     "data": {
      "text/plain": [
       "Text(0.5, 0, 'time (h)')"
      ]
     },
     "execution_count": 79,
     "metadata": {},
     "output_type": "execute_result"
    },
    {
     "data": {
      "text/plain": [
       "(0.0, 1.0)"
      ]
     },
     "execution_count": 79,
     "metadata": {},
     "output_type": "execute_result"
    },
    {
     "data": {
      "text/plain": [
       "Text(0.5, 1.0, 'Stepwise growth (µ1=µ3=0.2, µ2=0.3; $\\\\varepsilon=0$)')"
      ]
     },
     "execution_count": 79,
     "metadata": {},
     "output_type": "execute_result"
    },
    {
     "data": {
      "text/plain": [
       "Text(0, 0.5, 'Cell number')"
      ]
     },
     "execution_count": 79,
     "metadata": {},
     "output_type": "execute_result"
    },
    {
     "data": {
      "text/plain": [
       "<matplotlib.legend.Legend at 0x139315960>"
      ]
     },
     "execution_count": 79,
     "metadata": {},
     "output_type": "execute_result"
    },
    {
     "data": {
      "image/png": "[encoded data removed]",
      "text/plain": [
       "<Figure size 640x480 with 1 Axes>"
      ]
     },
     "metadata": {},
     "output_type": "display_data"
    }
   ],
   "source": [
    "##𝛆=1.2; b1=0.1506; b2=0.3417; b3=0.0077\n",
    "##𝛆=1; b1=0.1506; b2=0.3417; b3=0.0077\n",
    "##𝛆=0.8; b1=0.1506; b2=0.3417; b3=0.0077\n",
    "##𝛆=0.5; b1=0.1506; b2=0.3417; b3=0.0077\n",
    "\n",
    "import matplotlib.pyplot as plt\n",
    "plt.figure()\n",
    "T_list=[]\n",
    "Fluxes1_list=[]\n",
    "Fluxes2_list=[]\n",
    "Fluxes3_list=[]\n",
    "B1_vals=[]\n",
    "B2_vals=[]\n",
    "B3_vals=[]\n",
    "Ratio1_list=[]\n",
    "Ratio2_list=[]\n",
    "\n",
    "def B1(t):\n",
    "    if(t<=0):\n",
    "        return 0.39\n",
    "    return B1_vals[int((t-1)/1)]*0.95+0.1*Fluxes1_list[-1]\n",
    "def B2(t):\n",
    "    if(t<=0):\n",
    "        return 0.59\n",
    "    return B2_vals[int((t-1)/1)]*0.95+0.1*Fluxes2_list[-1]\n",
    "def B3(t):\n",
    "    if(t<=0):\n",
    "        return 0.02\n",
    "    return B3_vals[int((t-1)/1)]*0.95+0.1*Fluxes3_list[-1]\n",
    "A=0\n",
    "for t in np.arange(0,500,1):\n",
    "    B1_t = B1(t)\n",
    "    B2_t = B2(t)\n",
    "    B3_t = B3(t)\n",
    "    \n",
    "    B1_vals.append(B1_t)\n",
    "    B2_vals.append(B2_t)\n",
    "    B3_vals.append(B3_t)\n",
    "\n",
    "    b1=0.5*0.2*B1_vals[-1]*(math.pow((B2_vals[-1]/0.59),A))/(0.2*B1_vals[-1]*(math.pow(B2_vals[-1]/0.59,A))+0.3*B2_vals[-1]*(math.pow(((B1_vals[-1]+B3_vals[-1])/0.41),A))+0.2*B3_vals[-1]*(math.pow(B2_vals[-1]/0.59,A)))\n",
    "    b2=0.5*0.3*B2_vals[-1]*(math.pow(((B1_vals[-1]+B3_vals[-1])/0.41),A))/(0.2*B1_vals[-1]*(math.pow(B2_vals[-1]/0.59,A))+0.3*B2_vals[-1]*(math.pow(((B1_vals[-1]+B3_vals[-1])/0.41),A))+0.2*B3_vals[-1]*(math.pow(B2_vals[-1]/0.59,A)))\n",
    "    b3=0.5*0.2*B3_vals[-1]*(math.pow(B2_vals[-1]/0.59,A))/(0.2*B1_vals[-1]*(math.pow(B2_vals[-1]/0.59,A))+0.3*B2_vals[-1]*(math.pow(((B1_vals[-1]+B3_vals[-1])/0.41),A))+0.2*B3_vals[-1]*(math.pow(B2_vals[-1]/0.59,A)))\n",
    "\n",
    "#     B1_vals.append(B1_t)\n",
    "#     B2_vals.append(B2_t)\n",
    "#     B3_vals.append(B3_t)\n",
    "    \n",
    "    Ratio1=B1_vals[-1]/B3_vals[-1]\n",
    "    \n",
    "    model2.reactions.biomass3.upper_bound=b3\n",
    "    model2.reactions.biomass2.upper_bound=b2\n",
    "    model2.reactions.biomass1.upper_bound=b1\n",
    "    model2.reactions.DI1X.upper_bound=3*B1_vals[-1]\n",
    "    model2.reactions.DI2Y.upper_bound=3*B2_vals[-1]\n",
    "    model2.reactions.DI3X.upper_bound=3*B3_vals[-1]\n",
    "    sol = model2.optimize()\n",
    "    obj_val = sol.objective_value\n",
    "    Fluxes3=sol.fluxes.loc['biomass3']\n",
    "    Fluxes2=sol.fluxes.loc['biomass2']\n",
    "    Fluxes1=sol.fluxes.loc['biomass1']\n",
    "    Ratio2=Fluxes1/Fluxes3\n",
    "    \n",
    "    Fluxes1_list.append(Fluxes1)\n",
    "    Fluxes2_list.append(Fluxes2)\n",
    "    Fluxes3_list.append(Fluxes3)\n",
    "    \n",
    "    Ratio1_list.append(Ratio1)\n",
    "    Ratio2_list.append(Ratio2)\n",
    "    \n",
    "    T=t/10\n",
    "    T_list.append(T)\n",
    "print(Fluxes1_list[0],Fluxes2_list[0],Fluxes3_list[0])           \n",
    "# plt.scatter(T_list,Fluxes1_list,color='orange',s=10)\n",
    "# plt.scatter(T_list,Fluxes2_list,color='purple',s=10)\n",
    "# plt.scatter(T_list,Fluxes3_list,color='red',s=10)\n",
    "plt.scatter(T_list,B1_vals,color='orange',s=10)\n",
    "plt.scatter(T_list,B2_vals,color='purple',s=10)\n",
    "plt.scatter(T_list,B3_vals,color='red',s=10)\n",
    "\n",
    "# plt.scatter(T_list,Ratio1_list,color='red',s=10)\n",
    "# plt.scatter(T_list,Ratio2_list,color='green',s=10)\n",
    "\n",
    "plt.xlabel(\"time (h)\",fontsize=15)\n",
    "\n",
    "# plt.ylim(0,0.5)\n",
    "# plt.title('Stepwise growth (µ1=µ3=0.2, µ2=0.3; 'r'$\\varepsilon=0$'')',fontsize=12)\n",
    "# plt.ylabel(\"Biomass synthesis rate\", fontsize=12)\n",
    "# plt.legend(['b1(t)','b2(t)','b3(t)'],loc='upper right')\n",
    "\n",
    "plt.ylim(0,1)\n",
    "plt.title('Stepwise growth (µ1=µ3=0.2, µ2=0.3; 'r'$\\varepsilon=0$'')',fontsize=12)\n",
    "plt.ylabel(\"Cell number\",fontsize=12)\n",
    "plt.legend(['B1(t)','B2(t)','B3(t)'],loc='upper right')\n",
    "\n",
    "# plt.ylim(0,20)\n",
    "# plt.title('Stepwise growth (µ1=µ3=0.2, µ2=0.3; 'r'$\\varepsilon=0$'')',fontsize=12)\n",
    "# plt.ylabel(\"Cell number and biomass synthesis ratio\",fontsize=12)\n",
    "# plt.legend(['B1(t)/B3(t)','b1(t)/b3(t)'],loc='center right')\n",
    "\n",
    "plt.rc('xtick', labelsize=16) \n",
    "plt.rc('ytick', labelsize=16)\n",
    "plt.rcParams['legend.fontsize']=15\n",
    "plt.tight_layout()\n",
    "# plt.show()\n",
    "plt.savefig('Only regulation between biomass1 and biomass2(Obj=b1+b2+b3)',dpi=300)"
   ]
  },
  {
   "cell_type": "markdown",
   "metadata": {},
   "source": [
    "##regulation power for cell type3 is higher than  other."
   ]
  },
  {
   "cell_type": "code",
   "execution_count": 185,
   "metadata": {},
   "outputs": [],
   "source": [
    "model1=model.copy()\n",
    "model2=model1.copy()"
   ]
  },
  {
   "cell_type": "code",
   "execution_count": 186,
   "metadata": {},
   "outputs": [
    {
     "data": {
      "text/plain": [
       "<Figure size 640x480 with 0 Axes>"
      ]
     },
     "execution_count": 186,
     "metadata": {},
     "output_type": "execute_result"
    },
    {
     "name": "stdout",
     "output_type": "stream",
     "text": [
      "0.1506 0.3417 0.0077\n"
     ]
    },
    {
     "data": {
      "text/plain": [
       "<matplotlib.collections.PathCollection at 0x1473200a0>"
      ]
     },
     "execution_count": 186,
     "metadata": {},
     "output_type": "execute_result"
    },
    {
     "data": {
      "text/plain": [
       "<matplotlib.collections.PathCollection at 0x14b440e50>"
      ]
     },
     "execution_count": 186,
     "metadata": {},
     "output_type": "execute_result"
    },
    {
     "data": {
      "text/plain": [
       "<matplotlib.collections.PathCollection at 0x1508e87c0>"
      ]
     },
     "execution_count": 186,
     "metadata": {},
     "output_type": "execute_result"
    },
    {
     "data": {
      "text/plain": [
       "Text(0.5, 0, 'time (h)')"
      ]
     },
     "execution_count": 186,
     "metadata": {},
     "output_type": "execute_result"
    },
    {
     "data": {
      "text/plain": [
       "(0.0, 0.5)"
      ]
     },
     "execution_count": 186,
     "metadata": {},
     "output_type": "execute_result"
    },
    {
     "data": {
      "text/plain": [
       "Text(0.5, 1.0, 'Stepwise growth (µ1=µ3=0.2, µ2=0.3; $\\\\varepsilon=4$)')"
      ]
     },
     "execution_count": 186,
     "metadata": {},
     "output_type": "execute_result"
    },
    {
     "data": {
      "text/plain": [
       "Text(0, 0.5, 'Biomass synthesis rate')"
      ]
     },
     "execution_count": 186,
     "metadata": {},
     "output_type": "execute_result"
    },
    {
     "data": {
      "text/plain": [
       "<matplotlib.legend.Legend at 0x14b42ef80>"
      ]
     },
     "execution_count": 186,
     "metadata": {},
     "output_type": "execute_result"
    },
    {
     "data": {
      "image/png": "[encoded data removed]",
      "text/plain": [
       "<Figure size 640x480 with 1 Axes>"
      ]
     },
     "metadata": {},
     "output_type": "display_data"
    }
   ],
   "source": [
    "import matplotlib.pyplot as plt\n",
    "plt.figure()\n",
    "T_list=[0]\n",
    "Fluxes1_list=[0.1506]\n",
    "Fluxes2_list=[0.3417]\n",
    "Fluxes3_list=[0.0077]\n",
    "B1_vals=[0.39]\n",
    "B2_vals=[0.59]\n",
    "B3_vals=[0.02]\n",
    "# Ratio1_list=[]\n",
    "# Ratio2_list=[]\n",
    "\n",
    "def B1(t):\n",
    "    if(t<=0):\n",
    "        return 0.39\n",
    "    return B1_vals[int((t-1)/1)]*0.95+0.1*Fluxes1_list[-1]\n",
    "def B2(t):\n",
    "    if(t<=0):\n",
    "        return 0.59\n",
    "    return B2_vals[int((t-1)/1)]*0.95+0.1*Fluxes2_list[-1]\n",
    "def B3(t):\n",
    "    if(t<=0):\n",
    "        return 0.02\n",
    "    return B3_vals[int((t-1)/1)]*0.95+0.1*Fluxes3_list[-1]\n",
    "A=4\n",
    "B=4\n",
    "for t in np.arange(1,1000,1):\n",
    "    B1_t = B1(t)\n",
    "    B2_t = B2(t)\n",
    "    B3_t = B3(t)\n",
    "    \n",
    "#     B1_vals.append(B1_t)\n",
    "#     B2_vals.append(B2_t)\n",
    "#     B3_vals.append(B3_t)\n",
    "\n",
    "    b1=0.5*0.2*B1_vals[-1]*(math.pow((B2_vals[-1]/0.59),A))/(0.2*B1_vals[-1]*(math.pow((B2_vals[-1]/0.59),A))+0.3*B2_vals[-1]*(math.pow(((B1_vals[-1]+B3_vals[-1])/0.41),A))+0.2*B3_vals[-1]*(math.pow((B2_vals[-1]/0.59),B)))\n",
    "    b2=0.5*0.3*B2_vals[-1]*(math.pow(((B1_vals[-1]+B3_vals[-1])/0.41),A))/(0.2*B1_vals[-1]*(math.pow((B2_vals[-1]/0.59),A))+0.3*B2_vals[-1]*(math.pow(((B1_vals[-1]+B3_vals[-1])/0.41),A))+0.2*B3_vals[-1]*(math.pow((B2_vals[-1]/0.59),B)))\n",
    "    b3=0.5*0.2*B3_vals[-1]*(math.pow((B2_vals[-1]/0.59),B))/(0.2*B1_vals[-1]*(math.pow((B2_vals[-1]/0.59),A))+0.3*B2_vals[-1]*(math.pow(((B1_vals[-1]+B3_vals[-1])/0.41),A))+0.2*B3_vals[-1]*(math.pow((B2_vals[-1]/0.59),B)))\n",
    "\n",
    "    B1_vals.append(B1_t)\n",
    "    B2_vals.append(B2_t)\n",
    "    B3_vals.append(B3_t)\n",
    "    \n",
    "#     Ratio1=B1_vals[-1]/B3_vals[-1]\n",
    "    \n",
    "    model2.reactions.biomass3.upper_bound=b3\n",
    "    model2.reactions.biomass2.upper_bound=b2\n",
    "    model2.reactions.biomass1.upper_bound=b1\n",
    "    model2.reactions.DI1X.upper_bound=3*B1_vals[-1]\n",
    "    model2.reactions.DI2Y.upper_bound=3*B2_vals[-1]\n",
    "    model2.reactions.DI3X.upper_bound=3*B3_vals[-1]\n",
    "    sol = model2.optimize()\n",
    "    obj_val = sol.objective_value\n",
    "    Fluxes3=sol.fluxes.loc['biomass3']\n",
    "    Fluxes2=sol.fluxes.loc['biomass2']\n",
    "    Fluxes1=sol.fluxes.loc['biomass1']\n",
    "#     Ratio2=Fluxes1/Fluxes3\n",
    "    \n",
    "    Fluxes1_list.append(Fluxes1)\n",
    "    Fluxes2_list.append(Fluxes2)\n",
    "    Fluxes3_list.append(Fluxes3)\n",
    "    \n",
    "    Ratio1_list.append(Ratio1)\n",
    "    Ratio2_list.append(Ratio2)\n",
    "    \n",
    "    T=t/10\n",
    "    T_list.append(T)\n",
    "print(Fluxes1_list[0],Fluxes2_list[0],Fluxes3_list[0])           \n",
    "plt.scatter(T_list,Fluxes1_list,color='orange',s=10)\n",
    "plt.scatter(T_list,Fluxes2_list,color='purple',s=10)\n",
    "plt.scatter(T_list,Fluxes3_list,color='red',s=10)\n",
    "# plt.scatter(T_list,B1_vals,color='orange',s=10)\n",
    "# plt.scatter(T_list,B2_vals,color='purple',s=10)\n",
    "# plt.scatter(T_list,B3_vals,color='red',s=10)\n",
    "\n",
    "# plt.scatter(T_list,Ratio1_list,color='red',s=10)\n",
    "# plt.scatter(T_list,Ratio2_list,color='green',s=10)\n",
    "\n",
    "plt.xlabel(\"time (h)\",fontsize=15)\n",
    "\n",
    "plt.ylim(0,0.5)\n",
    "plt.title('Stepwise growth (µ1=µ3=0.2, µ2=0.3; 'r'$\\varepsilon=4$'')',fontsize=12)\n",
    "plt.ylabel(\"Biomass synthesis rate\", fontsize=12)\n",
    "plt.legend(['b1(t)','b2(t)','b3(t)'],loc='upper right')\n",
    "\n",
    "# plt.ylim(0,1)\n",
    "# plt.title('Stepwise growth (µ1=µ3=0.2, µ2=0.3; 'r'$\\varepsilon=4$'')',fontsize=12)\n",
    "# plt.ylabel(\"Cell number\",fontsize=12)\n",
    "# plt.legend(['B1(t)','B2(t)','B3(t)'],loc='upper right')\n",
    "\n",
    "# plt.ylim(0,20)\n",
    "# plt.title('Stepwise growth (µ1=µ3=0.2, µ2=0.3; 'r'$\\varepsilon=0$'')',fontsize=12)\n",
    "# plt.ylabel(\"Cell number and biomass synthesis ratio\",fontsize=12)\n",
    "# plt.legend(['B1(t)/B3(t)','b1(t)/b3(t)'],loc='center right')\n",
    "\n",
    "plt.rc('xtick', labelsize=16) \n",
    "plt.rc('ytick', labelsize=16)\n",
    "plt.rcParams['legend.fontsize']=15\n",
    "plt.tight_layout()\n",
    "# plt.show()\n",
    "plt.savefig('Only regulation between biomass1 and biomass2(Obj=b1+b2+b3)',dpi=300)"
   ]
  },
  {
   "cell_type": "code",
   "execution_count": null,
   "metadata": {},
   "outputs": [],
   "source": []
  },
  {
   "cell_type": "markdown",
   "metadata": {},
   "source": [
    "### Case 1 (Cell type 3 lost regulation from cell type 2 and lost regulation to cell type 2.)"
   ]
  },
  {
   "cell_type": "code",
   "execution_count": 64,
   "metadata": {},
   "outputs": [],
   "source": [
    "model1=model.copy()\n",
    "model2=model1.copy()"
   ]
  },
  {
   "cell_type": "code",
   "execution_count": 65,
   "metadata": {},
   "outputs": [
    {
     "data": {
      "text/plain": [
       "<Figure size 640x480 with 0 Axes>"
      ]
     },
     "execution_count": 65,
     "metadata": {},
     "output_type": "execute_result"
    },
    {
     "name": "stdout",
     "output_type": "stream",
     "text": [
      "0.1506 0.3417 0.0077\n"
     ]
    },
    {
     "data": {
      "text/plain": [
       "<matplotlib.collections.PathCollection at 0x14bb0ff70>"
      ]
     },
     "execution_count": 65,
     "metadata": {},
     "output_type": "execute_result"
    },
    {
     "data": {
      "text/plain": [
       "<matplotlib.collections.PathCollection at 0x148c60760>"
      ]
     },
     "execution_count": 65,
     "metadata": {},
     "output_type": "execute_result"
    },
    {
     "data": {
      "text/plain": [
       "<matplotlib.collections.PathCollection at 0x14bb0f040>"
      ]
     },
     "execution_count": 65,
     "metadata": {},
     "output_type": "execute_result"
    },
    {
     "data": {
      "text/plain": [
       "Text(0.5, 0, 'time (h)')"
      ]
     },
     "execution_count": 65,
     "metadata": {},
     "output_type": "execute_result"
    },
    {
     "data": {
      "text/plain": [
       "(0.0, 0.5)"
      ]
     },
     "execution_count": 65,
     "metadata": {},
     "output_type": "execute_result"
    },
    {
     "data": {
      "text/plain": [
       "Text(0.5, 1.0, 'Stepwise growth (µ1=µ3=0.2, µ2=0.3; $\\\\varepsilon=2$)')"
      ]
     },
     "execution_count": 65,
     "metadata": {},
     "output_type": "execute_result"
    },
    {
     "data": {
      "text/plain": [
       "Text(0, 0.5, 'Biomass synthesis rate')"
      ]
     },
     "execution_count": 65,
     "metadata": {},
     "output_type": "execute_result"
    },
    {
     "data": {
      "text/plain": [
       "<matplotlib.legend.Legend at 0x14bb0dd20>"
      ]
     },
     "execution_count": 65,
     "metadata": {},
     "output_type": "execute_result"
    },
    {
     "data": {
      "image/png": "[encoded data removed]",
      "text/plain": [
       "<Figure size 640x480 with 1 Axes>"
      ]
     },
     "metadata": {},
     "output_type": "display_data"
    }
   ],
   "source": [
    "##𝛆=1.2; b1=0.1506; b2=0.3417; b3=0.0077\n",
    "##𝛆=1; b1=0.1506; b2=0.3417; b3=0.0077\n",
    "##𝛆=0.8; b1=0.1506; b2=0.3417; b3=0.0077\n",
    "##𝛆=0.5; b1=0.1506; b2=0.3417; b3=0.0077\n",
    "##0.3077 0.6923\n",
    "import matplotlib.pyplot as plt\n",
    "plt.figure()\n",
    "T_list=[0]\n",
    "Fluxes1_list=[0.1506]\n",
    "Fluxes2_list=[0.3417]\n",
    "Fluxes3_list=[0.0077]\n",
    "B1_vals=[0.39]\n",
    "B2_vals=[0.59]\n",
    "B3_vals=[0.02]\n",
    "# Ratio1_list=[]\n",
    "# Ratio2_list=[]\n",
    "\n",
    "def B1(t):\n",
    "    if(t<=0):\n",
    "        return 0.39\n",
    "    return B1_vals[int((t-1)/1)]*0.95+0.1*Fluxes1_list[-1]\n",
    "def B2(t):\n",
    "    if(t<=0):\n",
    "        return 0.59\n",
    "    return B2_vals[int((t-1)/1)]*0.95+0.1*Fluxes2_list[-1]\n",
    "def B3(t):\n",
    "    if(t<=0):\n",
    "        return 0.02\n",
    "    return B3_vals[int((t-1)/1)]*0.95+0.1*Fluxes3_list[-1]\n",
    "A=2\n",
    "B=0\n",
    "for t in np.arange(1,500,1):\n",
    "    B1_t = B1(t)\n",
    "    B2_t = B2(t)\n",
    "    B3_t = B3(t)\n",
    "    \n",
    "#     B1_vals.append(B1_t)\n",
    "#     B2_vals.append(B2_t)\n",
    "#     B3_vals.append(B3_t)\n",
    "    \n",
    "    b1=0.5*0.2*B1_vals[-1]*(math.pow((B2_vals[-1]/0.59),A))/(0.2*B1_vals[-1]*(math.pow((B2_vals[-1]/0.59),A))+0.3*B2_vals[-1]*(math.pow((B1_vals[-1]/0.39),A))+0.2*B3_vals[-1])\n",
    "    b2=0.5*0.3*B2_vals[-1]*(math.pow((B1_vals[-1]/0.39),A))/(0.2*B1_vals[-1]*(math.pow((B2_vals[-1]/0.59),A))+0.3*B2_vals[-1]*(math.pow((B1_vals[-1]/0.39),A))+0.2*B3_vals[-1])\n",
    "    b3=0.5*0.2*B3_vals[-1]/(0.2*B1_vals[-1]*(math.pow((B2_vals[-1]/0.59),A))+0.3*B2_vals[-1]*(math.pow((B1_vals[-1]/0.39),A))+0.2*B3_vals[-1])\n",
    "    \n",
    "#     b1=0.5*0.2*B1_vals[-1]*(math.pow((B2_vals[-1]/0.6923),A))/(0.2*B1_vals[-1]*(math.pow((B2_vals[-1]/0.6923),A))+0.3*B2_vals[-1]*(math.pow((B1_vals[-1]/0.2877),A))+0.2*B3_vals[-1]*(math.pow((B2_vals[-1]/0.6923),B)))\n",
    "#     b2=0.5*0.3*B2_vals[-1]*(math.pow((B1_vals[-1]/0.2877),A))/(0.2*B1_vals[-1]*(math.pow((B2_vals[-1]/0.6923),A))+0.3*B2_vals[-1]*(math.pow((B1_vals[-1]/0.2877),A))+0.2*B3_vals[-1]*(math.pow((B2_vals[-1]/0.6923),B)))\n",
    "#     b3=0.5*0.2*B3_vals[-1]*(math.pow((B2_vals[-1]/0.6923),B))/(0.2*B1_vals[-1]*(math.pow((B2_vals[-1]/0.6923),A))+0.3*B2_vals[-1]*(math.pow((B1_vals[-1]/0.2877),A))+0.2*B3_vals[-1]*(math.pow((B2_vals[-1]/0.6923),B)))\n",
    "    \n",
    "    \n",
    "    B1_vals.append(B1_t)\n",
    "    B2_vals.append(B2_t)\n",
    "    B3_vals.append(B3_t)\n",
    "    \n",
    "#     Ratio1=B1_vals[-1]/B3_vals[-1]\n",
    "    model2.reactions.biomass3.upper_bound=b3\n",
    "    model2.reactions.biomass2.upper_bound=b2\n",
    "    model2.reactions.biomass1.upper_bound=b1\n",
    "    model2.reactions.DI1X.upper_bound=3*B1_vals[-1]\n",
    "    model2.reactions.DI2Y.upper_bound=3*B2_vals[-1]\n",
    "    model2.reactions.DI3X.upper_bound=3*B3_vals[-1]\n",
    "    sol = model2.optimize()\n",
    "    obj_val = sol.objective_value\n",
    "    Fluxes3=sol.fluxes.loc['biomass3']\n",
    "    Fluxes2=sol.fluxes.loc['biomass2']\n",
    "    Fluxes1=sol.fluxes.loc['biomass1']\n",
    "#     Ratio2=Fluxes1/Fluxes3\n",
    "    \n",
    "    Fluxes1_list.append(Fluxes1)\n",
    "    Fluxes2_list.append(Fluxes2)\n",
    "    Fluxes3_list.append(Fluxes3)\n",
    "    \n",
    "#     Ratio1_list.append(Ratio1)\n",
    "#     Ratio2_list.append(Ratio2)\n",
    "\n",
    "    T=t/10\n",
    "    T_list.append(T)\n",
    "print(Fluxes1_list[0],Fluxes2_list[0],Fluxes3_list[0])           \n",
    "plt.scatter(T_list,Fluxes1_list,color='orange',s=10)\n",
    "plt.scatter(T_list,Fluxes2_list,color='purple',s=10)\n",
    "plt.scatter(T_list,Fluxes3_list,color='red',s=10)\n",
    "# plt.scatter(T_list,B1_vals,color='orange',s=10)\n",
    "# plt.scatter(T_list,B2_vals,color='purple',s=10)\n",
    "# plt.scatter(T_list,B3_vals,color='red',s=10)\n",
    "\n",
    "# plt.scatter(T_list,Ratio1_list,color='red',s=10)\n",
    "# plt.scatter(T_list,Ratio2_list,color='green',s=10)\n",
    "\n",
    "plt.xlabel(\"time (h)\",fontsize=15)\n",
    "\n",
    "plt.ylim(0,0.5)\n",
    "plt.title('Stepwise growth (µ1=µ3=0.2, µ2=0.3; 'r'$\\varepsilon=2$'')',fontsize=12)\n",
    "plt.ylabel(\"Biomass synthesis rate\", fontsize=12)\n",
    "plt.legend(['b1(t)','b2(t)','b3(t)'],loc='upper right')\n",
    "\n",
    "# plt.ylim(0,1)\n",
    "# plt.title('Stepwise growth (µ1=µ3=0.2, µ2=0.3; 'r'$\\varepsilon=2$'')',fontsize=12)\n",
    "# plt.ylabel(\"Cell number\",fontsize=12)\n",
    "# plt.legend(['B1(t)','B2(t)','B3(t)'],loc='upper right')\n",
    "\n",
    "# plt.ylim(0,50)\n",
    "# plt.title('Stepwise growth (µ1=µ3=0.2, µ2=0.3; 'r'$\\varepsilon=0$'')',fontsize=12)\n",
    "# plt.ylabel(\"Cell number and biomass synthesis ratio\",fontsize=12)\n",
    "# plt.legend(['B1(t)/B3(t)','b1(t)/b3(t)'],loc='center right')\n",
    "\n",
    "plt.rc('xtick', labelsize=16) \n",
    "plt.rc('ytick', labelsize=16)\n",
    "plt.rcParams['legend.fontsize']=15\n",
    "plt.tight_layout()\n",
    "# plt.show()\n",
    "plt.savefig('Only regulation between biomass1 and biomass2(Obj=b1+b2+b3)',dpi=300)"
   ]
  },
  {
   "cell_type": "code",
   "execution_count": 41,
   "metadata": {},
   "outputs": [
    {
     "name": "stdout",
     "output_type": "stream",
     "text": [
      "0.1505791505791506 0.3416988416988417 0.007722007722007707\n"
     ]
    }
   ],
   "source": [
    "print(Fluxes1_list[0],Fluxes2_list[0],Fluxes3_list[0]) "
   ]
  },
  {
   "cell_type": "markdown",
   "metadata": {},
   "source": [
    "### Case 2 (Cell type 3 lost regulation from cell type 2 and still existed regulation to cell type 2.) (Autistic case)"
   ]
  },
  {
   "cell_type": "code",
   "execution_count": 90,
   "metadata": {},
   "outputs": [],
   "source": [
    "model1=model.copy()\n",
    "model2=model1.copy()"
   ]
  },
  {
   "cell_type": "code",
   "execution_count": 91,
   "metadata": {},
   "outputs": [
    {
     "data": {
      "text/plain": [
       "<Figure size 640x480 with 0 Axes>"
      ]
     },
     "execution_count": 91,
     "metadata": {},
     "output_type": "execute_result"
    },
    {
     "name": "stdout",
     "output_type": "stream",
     "text": [
      "0.1506 0.3417 0.0077\n"
     ]
    },
    {
     "data": {
      "text/plain": [
       "<matplotlib.collections.PathCollection at 0x14dd2c910>"
      ]
     },
     "execution_count": 91,
     "metadata": {},
     "output_type": "execute_result"
    },
    {
     "data": {
      "text/plain": [
       "<matplotlib.collections.PathCollection at 0x14dd2d4b0>"
      ]
     },
     "execution_count": 91,
     "metadata": {},
     "output_type": "execute_result"
    },
    {
     "data": {
      "text/plain": [
       "<matplotlib.collections.PathCollection at 0x14e953070>"
      ]
     },
     "execution_count": 91,
     "metadata": {},
     "output_type": "execute_result"
    },
    {
     "data": {
      "text/plain": [
       "Text(0.5, 0, 'time (h)')"
      ]
     },
     "execution_count": 91,
     "metadata": {},
     "output_type": "execute_result"
    },
    {
     "data": {
      "text/plain": [
       "(0.0, 1.0)"
      ]
     },
     "execution_count": 91,
     "metadata": {},
     "output_type": "execute_result"
    },
    {
     "data": {
      "text/plain": [
       "Text(0.5, 1.0, 'Stepwise growth (µ1=µ3=0.2, µ2=0.3; $\\\\varepsilon=2$)')"
      ]
     },
     "execution_count": 91,
     "metadata": {},
     "output_type": "execute_result"
    },
    {
     "data": {
      "text/plain": [
       "Text(0, 0.5, 'Cell number')"
      ]
     },
     "execution_count": 91,
     "metadata": {},
     "output_type": "execute_result"
    },
    {
     "data": {
      "text/plain": [
       "<matplotlib.legend.Legend at 0x14dcb7520>"
      ]
     },
     "execution_count": 91,
     "metadata": {},
     "output_type": "execute_result"
    },
    {
     "data": {
      "image/png": "[encoded data removed]",
      "text/plain": [
       "<Figure size 640x480 with 1 Axes>"
      ]
     },
     "metadata": {},
     "output_type": "display_data"
    }
   ],
   "source": [
    "##𝛆=1.2; b1=0.1951; b2=0.2861; b3=0.0188\n",
    "##𝛆=1; b1=0.1877; b2=0.2960; b3=0.0163\n",
    "##𝛆=0.8; b1=0.1802; b2=0.3057; b3=0.0141\n",
    "##𝛆=0.5; b1=0.1690; b2=0.3197; b3=0.0113\n",
    "##𝛆=0; b1=0.1506; b2=0.3417; b3=0.0077\n",
    "import matplotlib.pyplot as plt\n",
    "plt.figure()\n",
    "T_list=[0]\n",
    "Fluxes1_list=[0.1506]\n",
    "Fluxes2_list=[0.3417]\n",
    "Fluxes3_list=[0.0077]\n",
    "B1_vals=[0.39]\n",
    "B2_vals=[0.59]\n",
    "B3_vals=[0.02]\n",
    "\n",
    "# Ratio1_list=[]\n",
    "# Ratio2_list=[]\n",
    "\n",
    "def B1(t):\n",
    "    if(t<=0):\n",
    "        return 0.39\n",
    "    return B1_vals[int((t-1)/1)]*0.95+0.1*Fluxes1_list[-1]\n",
    "def B2(t):\n",
    "    if(t<=0):\n",
    "        return 0.59\n",
    "    return B2_vals[int((t-1)/1)]*0.95+0.1*Fluxes2_list[-1]\n",
    "def B3(t):\n",
    "    if(t<=0):\n",
    "        return 0.02\n",
    "    return B3_vals[int((t-1)/1)]*0.95+0.1*Fluxes3_list[-1]\n",
    "A=2\n",
    "for t in np.arange(1,500,1):\n",
    "    B1_t = B1(t)\n",
    "    B2_t = B2(t)\n",
    "    B3_t = B3(t)\n",
    "    \n",
    "#     B1_vals.append(B1_t)\n",
    "#     B2_vals.append(B2_t)\n",
    "#     B3_vals.append(B3_t)\n",
    "    \n",
    "\n",
    "    b1=0.5*0.2*B1_vals[-1]*(math.pow((B2_vals[-1]/0.59),A))/(0.2*B1_vals[-1]*(math.pow((B2_vals[-1]/0.59),A))+0.3*B2_vals[-1]*(math.pow(((B1_vals[-1]+B3_vals[-1])/0.41),A))+0.2*B3_vals[-1])\n",
    "    b2=0.5*0.3*B2_vals[-1]*(math.pow(((B1_vals[-1]+B3_vals[-1])/0.41),A))/(0.2*B1_vals[-1]*(math.pow((B2_vals[-1]/0.59),A))+0.3*B2_vals[-1]*(math.pow(((B1_vals[-1]+B3_vals[-1])/0.41),A))+0.2*B3_vals[-1])\n",
    "    b3=0.5*0.2*B3_vals[-1]/(0.2*B1_vals[-1]*(math.pow((B2_vals[-1]/0.59),A))+0.3*B2_vals[-1]*(math.pow(((B1_vals[-1]+B3_vals[-1])/0.41),A))+0.2*B3_vals[-1])\n",
    "   \n",
    "    \n",
    "    B1_vals.append(B1_t)\n",
    "    B2_vals.append(B2_t)\n",
    "    B3_vals.append(B3_t)\n",
    "    \n",
    "#     Ratio1=B1_vals[-1]/B3_vals[-1]\n",
    "    \n",
    "    model2.reactions.biomass3.upper_bound=b3\n",
    "    model2.reactions.biomass2.upper_bound=b2\n",
    "    model2.reactions.biomass1.upper_bound=b1\n",
    "    model2.reactions.DI1X.upper_bound=3*B1_vals[-1]\n",
    "    model2.reactions.DI2Y.upper_bound=3*B2_vals[-1]\n",
    "    model2.reactions.DI3X.upper_bound=3*B3_vals[-1]\n",
    "    sol = model2.optimize()\n",
    "    obj_val = sol.objective_value\n",
    "    Fluxes3=sol.fluxes.loc['biomass3']\n",
    "    Fluxes2=sol.fluxes.loc['biomass2']\n",
    "    Fluxes1=sol.fluxes.loc['biomass1']\n",
    "#     Ratio2=Fluxes1/Fluxes3\n",
    "    \n",
    "    Fluxes1_list.append(Fluxes1)\n",
    "    Fluxes2_list.append(Fluxes2)\n",
    "    Fluxes3_list.append(Fluxes3)\n",
    "#     Ratio1_list.append(Ratio1)\n",
    "#     Ratio2_list.append(Ratio2)\n",
    "\n",
    "    T=t/10\n",
    "    T_list.append(T)\n",
    "print(Fluxes1_list[0],Fluxes2_list[0],Fluxes3_list[0])           \n",
    "# plt.scatter(T_list,Fluxes1_list,color='orange',s=10)\n",
    "# plt.scatter(T_list,Fluxes2_list,color='purple',s=10)\n",
    "# plt.scatter(T_list,Fluxes3_list,color='red',s=10)\n",
    "plt.scatter(T_list,B1_vals,color='orange',s=10)\n",
    "plt.scatter(T_list,B2_vals,color='purple',s=10)\n",
    "plt.scatter(T_list,B3_vals,color='red',s=10)\n",
    "\n",
    "# plt.scatter(T_list,Ratio1_list,color='red',s=10)\n",
    "# plt.scatter(T_list,Ratio2_list,color='green',s=10)\n",
    "\n",
    "plt.xlabel(\"time (h)\",fontsize=15)\n",
    "\n",
    "# plt.ylim(0,0.5)\n",
    "# plt.title('Stepwise growth (µ1=µ3=0.2, µ2=0.3; 'r'$\\varepsilon=2$'')',fontsize=12)\n",
    "# plt.ylabel(\"Biomass synthesis rate\", fontsize=12)\n",
    "# plt.legend(['b1(t)','b2(t)','b3(t)'],loc='upper right')\n",
    "\n",
    "plt.ylim(0,1)\n",
    "plt.title('Stepwise growth (µ1=µ3=0.2, µ2=0.3; 'r'$\\varepsilon=2$'')',fontsize=12)\n",
    "plt.ylabel(\"Cell number\",fontsize=12)\n",
    "plt.legend(['B1(t)','B2(t)','B3(t)'],loc='upper right')\n",
    "\n",
    "# plt.ylim(0,20)\n",
    "# plt.title('Stepwise growth (µ1=µ3=0.2, µ2=0.3; 'r'$\\varepsilon=1.2$'')',fontsize=12)\n",
    "# plt.ylabel(\"Cell number and biomass synthesis ratio\",fontsize=12)\n",
    "# plt.legend(['B1(t)/B3(t)','b1(t)/b3(t)'],loc='center right')\n",
    "\n",
    "plt.rc('xtick', labelsize=16) \n",
    "plt.rc('ytick', labelsize=16)\n",
    "plt.rcParams['legend.fontsize']=15\n",
    "plt.tight_layout()\n",
    "# plt.show()\n",
    "plt.savefig('Only regulation between biomass1 and biomass2(Obj=b1+b2+b3)',dpi=300)"
   ]
  },
  {
   "cell_type": "markdown",
   "metadata": {},
   "source": [
    "### Case 3 (Cell type lost regulation to cell type 2, but still existed regulation from cell type 2) (egoistic case)"
   ]
  },
  {
   "cell_type": "code",
   "execution_count": 116,
   "metadata": {},
   "outputs": [],
   "source": [
    "model1=model.copy()\n",
    "model2=model1.copy()"
   ]
  },
  {
   "cell_type": "code",
   "execution_count": 117,
   "metadata": {},
   "outputs": [
    {
     "data": {
      "text/plain": [
       "<Figure size 640x480 with 0 Axes>"
      ]
     },
     "execution_count": 117,
     "metadata": {},
     "output_type": "execute_result"
    },
    {
     "name": "stdout",
     "output_type": "stream",
     "text": [
      "0.1506 0.3417 0.0077\n"
     ]
    },
    {
     "data": {
      "text/plain": [
       "<matplotlib.collections.PathCollection at 0x151f8dd50>"
      ]
     },
     "execution_count": 117,
     "metadata": {},
     "output_type": "execute_result"
    },
    {
     "data": {
      "text/plain": [
       "<matplotlib.collections.PathCollection at 0x151f8e110>"
      ]
     },
     "execution_count": 117,
     "metadata": {},
     "output_type": "execute_result"
    },
    {
     "data": {
      "text/plain": [
       "<matplotlib.collections.PathCollection at 0x151281c60>"
      ]
     },
     "execution_count": 117,
     "metadata": {},
     "output_type": "execute_result"
    },
    {
     "data": {
      "text/plain": [
       "Text(0.5, 0, 'time (h)')"
      ]
     },
     "execution_count": 117,
     "metadata": {},
     "output_type": "execute_result"
    },
    {
     "data": {
      "text/plain": [
       "(0.0, 1.0)"
      ]
     },
     "execution_count": 117,
     "metadata": {},
     "output_type": "execute_result"
    },
    {
     "data": {
      "text/plain": [
       "Text(0.5, 1.0, 'Stepwise growth (µ1=µ3=0.2, µ2=0.3; $\\\\varepsilon=2$)')"
      ]
     },
     "execution_count": 117,
     "metadata": {},
     "output_type": "execute_result"
    },
    {
     "data": {
      "text/plain": [
       "Text(0, 0.5, 'Cell number')"
      ]
     },
     "execution_count": 117,
     "metadata": {},
     "output_type": "execute_result"
    },
    {
     "data": {
      "text/plain": [
       "<matplotlib.legend.Legend at 0x151f84310>"
      ]
     },
     "execution_count": 117,
     "metadata": {},
     "output_type": "execute_result"
    },
    {
     "data": {
      "image/png": "[encoded data removed]",
      "text/plain": [
       "<Figure size 640x480 with 1 Axes>"
      ]
     },
     "metadata": {},
     "output_type": "display_data"
    }
   ],
   "source": [
    "import matplotlib.pyplot as plt\n",
    "plt.figure()\n",
    "T_list=[0]\n",
    "Fluxes1_list=[0.1506]\n",
    "Fluxes2_list=[0.3417]\n",
    "Fluxes3_list=[0.0077]\n",
    "B1_vals=[0.39]\n",
    "B2_vals=[0.59]\n",
    "B3_vals=[0.02]\n",
    "# Ratio1_list=[]\n",
    "# Ratio2_list=[]\n",
    "\n",
    "def B1(t):\n",
    "    if(t<=0):\n",
    "        return 0.39\n",
    "    return B1_vals[int((t-1)/1)]*0.95+0.1*Fluxes1_list[-1]\n",
    "def B2(t):\n",
    "    if(t<=0):\n",
    "        return 0.59\n",
    "    return B2_vals[int((t-1)/1)]*0.95+0.1*Fluxes2_list[-1]\n",
    "def B3(t):\n",
    "    if(t<=0):\n",
    "        return 0.02\n",
    "    return B3_vals[int((t-1)/1)]*0.95+0.1*Fluxes3_list[-1]\n",
    "A=2\n",
    "for t in np.arange(1,500,1):\n",
    "    B1_t = B1(t)\n",
    "    B2_t = B2(t)\n",
    "    B3_t = B3(t)\n",
    "    \n",
    "#     B1_vals.append(B1_t)\n",
    "#     B2_vals.append(B2_t)\n",
    "#     B3_vals.append(B3_t)\n",
    "\n",
    "    b1=0.5*0.2*B1_vals[-1]*(math.pow((B2_vals[-1]/0.59),A))/(0.2*B1_vals[-1]*(math.pow((B2_vals[-1]/0.59),A))+0.3*B2_vals[-1]*(math.pow((B1_vals[-1]/0.39),A))+0.2*B3_vals[-1]*(math.pow((B2_vals[-1]/0.59),A)))\n",
    "    b2=0.5*0.3*B2_vals[-1]*(math.pow((B1_vals[-1]/0.39),A))/(0.2*B1_vals[-1]*(math.pow((B2_vals[-1]/0.59),A))+0.3*B2_vals[-1]*(math.pow((B1_vals[-1]/0.39),A))+0.2*B3_vals[-1]*(math.pow((B2_vals[-1]/0.59),A)))\n",
    "    b3=0.5*0.2*B3_vals[-1]*(math.pow((B2_vals[-1]/0.59),A))/(0.2*B1_vals[-1]*(math.pow((B2_vals[-1]/0.59),A))+0.3*B2_vals[-1]*(math.pow((B1_vals[-1]/0.39),A))+0.2*B3_vals[-1]*(math.pow((B2_vals[-1]/0.59),A)))\n",
    "    \n",
    "    B1_vals.append(B1_t)\n",
    "    B2_vals.append(B2_t)\n",
    "    B3_vals.append(B3_t)\n",
    "    \n",
    "#     Ratio1=B1_vals[-1]/B3_vals[-1]\n",
    "    \n",
    "    model2.reactions.biomass3.upper_bound=b3\n",
    "    model2.reactions.biomass2.upper_bound=b2\n",
    "    model2.reactions.biomass1.upper_bound=b1\n",
    "    model2.reactions.DI1X.upper_bound=3*B1_vals[-1]\n",
    "    model2.reactions.DI2Y.upper_bound=3*B2_vals[-1]\n",
    "    model2.reactions.DI3X.upper_bound=3*B3_vals[-1]\n",
    "    sol = model2.optimize()\n",
    "    obj_val = sol.objective_value\n",
    "    Fluxes3=sol.fluxes.loc['biomass3']\n",
    "    Fluxes2=sol.fluxes.loc['biomass2']\n",
    "    Fluxes1=sol.fluxes.loc['biomass1']\n",
    "#     Ratio2=Fluxes1/Fluxes3\n",
    "    \n",
    "    Fluxes1_list.append(Fluxes1)\n",
    "    Fluxes2_list.append(Fluxes2)\n",
    "    Fluxes3_list.append(Fluxes3)\n",
    "    \n",
    "#     Ratio1_list.append(Ratio1)\n",
    "#     Ratio2_list.append(Ratio2)\n",
    "    \n",
    "    T=t/10\n",
    "    T_list.append(T)\n",
    "print(Fluxes1_list[0],Fluxes2_list[0],Fluxes3_list[0])           \n",
    "# plt.scatter(T_list,Fluxes1_list,color='orange',s=10)\n",
    "# plt.scatter(T_list,Fluxes2_list,color='purple',s=10)\n",
    "# plt.scatter(T_list,Fluxes3_list,color='red',s=10)\n",
    "plt.scatter(T_list,B1_vals,color='orange',s=10)\n",
    "plt.scatter(T_list,B2_vals,color='purple',s=10)\n",
    "plt.scatter(T_list,B3_vals,color='red',s=10)\n",
    "\n",
    "# plt.scatter(T_list,Ratio1_list,color='red',s=10)\n",
    "# plt.scatter(T_list,Ratio2_list,color='green',s=10)\n",
    "\n",
    "plt.xlabel(\"time (h)\",fontsize=15)\n",
    "\n",
    "# plt.ylim(0,0.5)\n",
    "# plt.title('Stepwise growth (µ1=µ3=0.2, µ2=0.3; 'r'$\\varepsilon=2$'')',fontsize=12)\n",
    "# plt.ylabel(\"Biomass synthesis rate\", fontsize=12)\n",
    "# plt.legend(['b1(t)','b2(t)','b3(t)'],loc='upper right')\n",
    "\n",
    "plt.ylim(0,1)\n",
    "plt.title('Stepwise growth (µ1=µ3=0.2, µ2=0.3; 'r'$\\varepsilon=2$'')',fontsize=12)\n",
    "plt.ylabel(\"Cell number\",fontsize=12)\n",
    "plt.legend(['B1(t)','B2(t)','B3(t)'],loc='upper right')\n",
    "\n",
    "# plt.ylim(0,20)\n",
    "# plt.title('Stepwise growth (µ1=µ3=0.2, µ2=0.3; 'r'$\\varepsilon=1.2$'')',fontsize=12)\n",
    "# plt.ylabel(\"Cell number and biomass synthesis ratio\",fontsize=12)\n",
    "# plt.legend(['B1(t)/B3(t)','b1(t)/b3(t)'],loc='center right')\n",
    "\n",
    "plt.rc('xtick', labelsize=16) \n",
    "plt.rc('ytick', labelsize=16)\n",
    "plt.rcParams['legend.fontsize']=15\n",
    "plt.tight_layout()\n",
    "# plt.show()\n",
    "plt.savefig('Only regulation between biomass1 and biomass2(Obj=b1+b2+b3)',dpi=300)"
   ]
  },
  {
   "cell_type": "markdown",
   "metadata": {},
   "source": [
    "##regulation power for cell type3 is higher than  other."
   ]
  },
  {
   "cell_type": "code",
   "execution_count": 189,
   "metadata": {},
   "outputs": [],
   "source": [
    "model1=model.copy()\n",
    "model2=model1.copy()"
   ]
  },
  {
   "cell_type": "code",
   "execution_count": 190,
   "metadata": {},
   "outputs": [
    {
     "data": {
      "text/plain": [
       "<Figure size 640x480 with 0 Axes>"
      ]
     },
     "execution_count": 190,
     "metadata": {},
     "output_type": "execute_result"
    },
    {
     "name": "stdout",
     "output_type": "stream",
     "text": [
      "0.1506 0.3417 0.0077\n"
     ]
    },
    {
     "data": {
      "text/plain": [
       "<matplotlib.collections.PathCollection at 0x151281270>"
      ]
     },
     "execution_count": 190,
     "metadata": {},
     "output_type": "execute_result"
    },
    {
     "data": {
      "text/plain": [
       "<matplotlib.collections.PathCollection at 0x149c2b820>"
      ]
     },
     "execution_count": 190,
     "metadata": {},
     "output_type": "execute_result"
    },
    {
     "data": {
      "text/plain": [
       "<matplotlib.collections.PathCollection at 0x114b5f820>"
      ]
     },
     "execution_count": 190,
     "metadata": {},
     "output_type": "execute_result"
    },
    {
     "data": {
      "text/plain": [
       "Text(0.5, 0, 'time (h)')"
      ]
     },
     "execution_count": 190,
     "metadata": {},
     "output_type": "execute_result"
    },
    {
     "data": {
      "text/plain": [
       "(0.0, 0.5)"
      ]
     },
     "execution_count": 190,
     "metadata": {},
     "output_type": "execute_result"
    },
    {
     "data": {
      "text/plain": [
       "Text(0.5, 1.0, 'Stepwise growth (µ1=µ3=0.2, µ2=0.3; $\\\\varepsilon=4$)')"
      ]
     },
     "execution_count": 190,
     "metadata": {},
     "output_type": "execute_result"
    },
    {
     "data": {
      "text/plain": [
       "Text(0, 0.5, 'Biomass synthesis rate')"
      ]
     },
     "execution_count": 190,
     "metadata": {},
     "output_type": "execute_result"
    },
    {
     "data": {
      "text/plain": [
       "<matplotlib.legend.Legend at 0x149cb1240>"
      ]
     },
     "execution_count": 190,
     "metadata": {},
     "output_type": "execute_result"
    },
    {
     "data": {
      "image/png": "[encoded data removed]",
      "text/plain": [
       "<Figure size 640x480 with 1 Axes>"
      ]
     },
     "metadata": {},
     "output_type": "display_data"
    }
   ],
   "source": [
    "import matplotlib.pyplot as plt\n",
    "plt.figure()\n",
    "T_list=[0]\n",
    "Fluxes1_list=[0.1506]\n",
    "Fluxes2_list=[0.3417]\n",
    "Fluxes3_list=[0.0077]\n",
    "B1_vals=[0.39]\n",
    "B2_vals=[0.59]\n",
    "B3_vals=[0.02]\n",
    "# Ratio1_list=[]\n",
    "# Ratio2_list=[]\n",
    "\n",
    "def B1(t):\n",
    "    if(t<=0):\n",
    "        return 0.39\n",
    "    return B1_vals[int((t-1)/1)]*0.95+0.1*Fluxes1_list[-1]\n",
    "def B2(t):\n",
    "    if(t<=0):\n",
    "        return 0.59\n",
    "    return B2_vals[int((t-1)/1)]*0.95+0.1*Fluxes2_list[-1]\n",
    "def B3(t):\n",
    "    if(t<=0):\n",
    "        return 0.02\n",
    "    return B3_vals[int((t-1)/1)]*0.95+0.1*Fluxes3_list[-1]\n",
    "A=4\n",
    "B=4\n",
    "for t in np.arange(1,2000,1):\n",
    "    B1_t = B1(t)\n",
    "    B2_t = B2(t)\n",
    "    B3_t = B3(t)\n",
    "    \n",
    "    B1_vals.append(B1_t)\n",
    "    B2_vals.append(B2_t)\n",
    "    B3_vals.append(B3_t)\n",
    "\n",
    "    b1=0.5*0.2*B1_vals[-1]*(math.pow((B2_vals[-1]/0.59),A))/(0.2*B1_vals[-1]*(math.pow((B2_vals[-1]/0.59),A))+0.3*B2_vals[-1]*(math.pow((B1_vals[-1]/0.39),A))+0.2*B3_vals[-1]*(math.pow((B2_vals[-1]/0.59),B)))\n",
    "    b2=0.5*0.3*B2_vals[-1]*(math.pow((B1_vals[-1]/0.39),A))/(0.2*B1_vals[-1]*(math.pow((B2_vals[-1]/0.59),A))+0.3*B2_vals[-1]*(math.pow((B1_vals[-1]/0.39),A))+0.2*B3_vals[-1]*(math.pow((B2_vals[-1]/0.59),B)))\n",
    "    b3=0.5*0.2*B3_vals[-1]*(math.pow((B2_vals[-1]/0.59),B))/(0.2*B1_vals[-1]*(math.pow((B2_vals[-1]/0.59),A))+0.3*B2_vals[-1]*(math.pow((B1_vals[-1]/0.39),A))+0.2*B3_vals[-1]*(math.pow((B2_vals[-1]/0.59),B)))\n",
    "    \n",
    "#     B1_vals.append(B1_t)\n",
    "#     B2_vals.append(B2_t)\n",
    "#     B3_vals.append(B3_t)\n",
    "    \n",
    "#     Ratio1=B1_vals[-1]/B3_vals[-1]\n",
    "    \n",
    "    model2.reactions.biomass3.upper_bound=b3\n",
    "    model2.reactions.biomass2.upper_bound=b2\n",
    "    model2.reactions.biomass1.upper_bound=b1\n",
    "    model2.reactions.DI1X.upper_bound=3*B1_vals[-1]\n",
    "    model2.reactions.DI2Y.upper_bound=3*B2_vals[-1]\n",
    "    model2.reactions.DI3X.upper_bound=3*B3_vals[-1]\n",
    "    sol = model2.optimize()\n",
    "    obj_val = sol.objective_value\n",
    "    Fluxes3=sol.fluxes.loc['biomass3']\n",
    "    Fluxes2=sol.fluxes.loc['biomass2']\n",
    "    Fluxes1=sol.fluxes.loc['biomass1']\n",
    "#     Ratio2=Fluxes1/Fluxes3\n",
    "    \n",
    "    Fluxes1_list.append(Fluxes1)\n",
    "    Fluxes2_list.append(Fluxes2)\n",
    "    Fluxes3_list.append(Fluxes3)\n",
    "    \n",
    "#     Ratio1_list.append(Ratio1)\n",
    "#     Ratio2_list.append(Ratio2)\n",
    "    \n",
    "    T=t/10\n",
    "    T_list.append(T)\n",
    "print(Fluxes1_list[0],Fluxes2_list[0],Fluxes3_list[0])           \n",
    "plt.scatter(T_list,Fluxes1_list,color='orange',s=10)\n",
    "plt.scatter(T_list,Fluxes2_list,color='purple',s=10)\n",
    "plt.scatter(T_list,Fluxes3_list,color='red',s=10)\n",
    "# plt.scatter(T_list,B1_vals,color='orange',s=10)\n",
    "# plt.scatter(T_list,B2_vals,color='purple',s=10)\n",
    "# plt.scatter(T_list,B3_vals,color='red',s=10)\n",
    "\n",
    "# plt.scatter(T_list,Ratio1_list,color='red',s=10)\n",
    "# plt.scatter(T_list,Ratio2_list,color='green',s=10)\n",
    "\n",
    "plt.xlabel(\"time (h)\",fontsize=15)\n",
    "\n",
    "plt.ylim(0,0.5)\n",
    "plt.title('Stepwise growth (µ1=µ3=0.2, µ2=0.3; 'r'$\\varepsilon=4$'')',fontsize=12)\n",
    "plt.ylabel(\"Biomass synthesis rate\", fontsize=12)\n",
    "plt.legend(['b1(t)','b2(t)','b3(t)'],loc='upper right')\n",
    "\n",
    "# plt.ylim(0,1)\n",
    "# plt.title('Stepwise growth (µ1=µ3=0.2, µ2=0.3; 'r'$\\varepsilon=4$'')',fontsize=12)\n",
    "# plt.ylabel(\"Cell number\",fontsize=12)\n",
    "# plt.legend(['B1(t)','B2(t)','B3(t)'],loc='upper right')\n",
    "\n",
    "# plt.ylim(0,20)\n",
    "# plt.title('Stepwise growth (µ1=µ3=0.2, µ2=0.3; 'r'$\\varepsilon=1.2$'')',fontsize=12)\n",
    "# plt.ylabel(\"Cell number and biomass synthesis ratio\",fontsize=12)\n",
    "# plt.legend(['B1(t)/B3(t)','b1(t)/b3(t)'],loc='center right')\n",
    "\n",
    "plt.rc('xtick', labelsize=16) \n",
    "plt.rc('ytick', labelsize=16)\n",
    "plt.rcParams['legend.fontsize']=15\n",
    "plt.tight_layout()\n",
    "# plt.show()\n",
    "plt.savefig('Only regulation between biomass1 and biomass2(Obj=b1+b2+b3)',dpi=300)"
   ]
  },
  {
   "cell_type": "code",
   "execution_count": null,
   "metadata": {},
   "outputs": [],
   "source": []
  }
 ],
 "metadata": {
  "kernelspec": {
   "display_name": "Python 3 (ipykernel)",
   "language": "python",
   "name": "python3"
  },
  "language_info": {
   "codemirror_mode": {
    "name": "ipython",
    "version": 3
   },
   "file_extension": ".py",
   "mimetype": "text/x-python",
   "name": "python",
   "nbconvert_exporter": "python",
   "pygments_lexer": "ipython3",
   "version": "3.11.6"
  },
  "toc": {
   "base_numbering": 1,
   "nav_menu": {},
   "number_sections": true,
   "sideBar": true,
   "skip_h1_title": false,
   "title_cell": "Table of Contents",
   "title_sidebar": "Contents",
   "toc_cell": false,
   "toc_position": {
    "height": "calc(100% - 180px)",
    "left": "10px",
    "top": "150px",
    "width": "350px"
   },
   "toc_section_display": true,
   "toc_window_display": true
  },
  "varInspector": {
   "cols": {
    "lenName": 16,
    "lenType": 16,
    "lenVar": 40
   },
   "kernels_config": {
    "python": {
     "delete_cmd_postfix": "",
     "delete_cmd_prefix": "del ",
     "library": "var_list.py",
     "varRefreshCmd": "print(var_dic_list())"
    },
    "r": {
     "delete_cmd_postfix": ") ",
     "delete_cmd_prefix": "rm(",
     "library": "var_list.r",
     "varRefreshCmd": "cat(var_dic_list()) "
    }
   },
   "types_to_exclude": [
    "module",
    "function",
    "builtin_function_or_method",
    "instance",
    "_Feature"
   ],
   "window_display": false
  }
 },
 "nbformat": 4,
 "nbformat_minor": 2
}
