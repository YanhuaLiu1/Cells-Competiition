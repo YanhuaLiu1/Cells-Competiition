{
 "cells": [
  {
   "cell_type": "markdown",
   "metadata": {},
   "source": [
    "# Competition for glucose, with internal goods X and Y, and social objective (model), Time-step growth model"
   ]
  },
  {
   "cell_type": "code",
   "execution_count": 3,
   "metadata": {},
   "outputs": [],
   "source": [
    "import cobra\n",
    "import pandas as pd\n",
    "import numpy as np\n",
    "import pickle\n",
    "import math\n",
    "from cobra.flux_analysis import pfba"
   ]
  },
  {
   "cell_type": "code",
   "execution_count": 4,
   "metadata": {},
   "outputs": [
    {
     "name": "stdout",
     "output_type": "stream",
     "text": [
      "Scaling...\n",
      " A: min|aij| =  1.000e+00  max|aij| =  1.000e+00  ratio =  1.000e+00\n",
      "Problem data seem to be well scaled\n"
     ]
    },
    {
     "name": "stderr",
     "output_type": "stream",
     "text": [
      "/Users/yanhualiu/Desktop/New_topic/model_building/model_building_exercise_by_yanhua/Cells' competition paper/Three cell types considering growth for paper/Cell types just including one mutation as cell type1/utils/findBiomarkers.py:6: FutureWarning: Passing a negative integer is deprecated in version 1.0 and will not be supported in future version. Instead, use None to not limit the column width.\n",
      "  pd.set_option('display.max_colwidth', -1)\n"
     ]
    }
   ],
   "source": [
    "# import map visualization tools\n",
    "from utils import show_map\n",
    "import escher\n",
    "map_loc = 'Three_cells_system_modelIIMap.json' # the escher map used below\n",
    "# show all output\n",
    "from IPython.core.interactiveshell import InteractiveShell\n",
    "InteractiveShell.ast_node_interactivity = \"all\"\n",
    "\n",
    "M = cobra.io.load_json_model('Three_cells_system_modelII.json')\n",
    "model = M.copy()"
   ]
  },
  {
   "cell_type": "code",
   "execution_count": 3,
   "metadata": {},
   "outputs": [
    {
     "name": "stdout",
     "output_type": "stream",
     "text": [
      "An empty solution was passed.\n"
     ]
    },
    {
     "data": {
      "application/vnd.jupyter.widget-view+json": {
       "model_id": "3b402982f68d44bb804ecdc872bd08d1",
       "version_major": 2,
       "version_minor": 0
      },
      "text/plain": [
       "Builder(hide_secondary_metabolites=False, highlight_missing=True, reaction_data={}, reaction_scale=[{'type': '…"
      ]
     },
     "metadata": {},
     "output_type": "display_data"
    }
   ],
   "source": [
    "b = show_map([],map_loc)\n",
    "b"
   ]
  },
  {
   "cell_type": "code",
   "execution_count": 5,
   "metadata": {},
   "outputs": [],
   "source": [
    "### Internal goods X and Y\n",
    "model.reactions.EX_Com_goodX_e.lower_bound=0\n",
    "model.reactions.EX_Com_goodY_e.lower_bound=0\n",
    "model.reactions.EX_glucose_e.lower_bound=-1\n",
    "quadratic_objective = M.problem.Objective(model.reactions.biomass1.flux_expression +\n",
    "    model.reactions.biomass2.flux_expression + model.reactions.biomass3.flux_expression ,direction='max')\n",
    "model.objective = quadratic_objective"
   ]
  },
  {
   "cell_type": "code",
   "execution_count": 6,
   "metadata": {},
   "outputs": [
    {
     "data": {
      "text/plain": [
       "0.5"
      ]
     },
     "execution_count": 6,
     "metadata": {},
     "output_type": "execute_result"
    },
    {
     "data": {
      "application/vnd.jupyter.widget-view+json": {
       "model_id": "e92aba090e5444c897d21d98d51f9b29",
       "version_major": 2,
       "version_minor": 0
      },
      "text/plain": [
       "Builder(hide_secondary_metabolites=False, highlight_missing=True, reaction_data={'EX_glucose_e': -1.0, 'GlcT':…"
      ]
     },
     "metadata": {},
     "output_type": "display_data"
    }
   ],
   "source": [
    "sol = model.optimize()\n",
    "sol.objective_value\n",
    "fbasol = model.optimize()\n",
    "b = show_map(fbasol,map_loc)\n",
    "b"
   ]
  },
  {
   "cell_type": "code",
   "execution_count": 6,
   "metadata": {},
   "outputs": [
    {
     "data": {
      "text/html": [
       "<div>\n",
       "<style scoped>\n",
       "    .dataframe tbody tr th:only-of-type {\n",
       "        vertical-align: middle;\n",
       "    }\n",
       "\n",
       "    .dataframe tbody tr th {\n",
       "        vertical-align: top;\n",
       "    }\n",
       "\n",
       "    .dataframe thead th {\n",
       "        text-align: right;\n",
       "    }\n",
       "</style>\n",
       "<table border=\"1\" class=\"dataframe\">\n",
       "  <thead>\n",
       "    <tr style=\"text-align: right;\">\n",
       "      <th></th>\n",
       "      <th>minimum</th>\n",
       "      <th>maximum</th>\n",
       "    </tr>\n",
       "  </thead>\n",
       "  <tbody>\n",
       "    <tr>\n",
       "      <th>EX_glucose_e</th>\n",
       "      <td>-1.00</td>\n",
       "      <td>-1.00</td>\n",
       "    </tr>\n",
       "    <tr>\n",
       "      <th>GlcT</th>\n",
       "      <td>1.00</td>\n",
       "      <td>1.00</td>\n",
       "    </tr>\n",
       "    <tr>\n",
       "      <th>GTI1</th>\n",
       "      <td>0.00</td>\n",
       "      <td>0.75</td>\n",
       "    </tr>\n",
       "    <tr>\n",
       "      <th>GTI2</th>\n",
       "      <td>0.25</td>\n",
       "      <td>0.75</td>\n",
       "    </tr>\n",
       "    <tr>\n",
       "      <th>GTI3</th>\n",
       "      <td>0.00</td>\n",
       "      <td>0.75</td>\n",
       "    </tr>\n",
       "    <tr>\n",
       "      <th>biomass1</th>\n",
       "      <td>0.00</td>\n",
       "      <td>0.50</td>\n",
       "    </tr>\n",
       "    <tr>\n",
       "      <th>biomass2</th>\n",
       "      <td>0.00</td>\n",
       "      <td>0.50</td>\n",
       "    </tr>\n",
       "    <tr>\n",
       "      <th>biomass3</th>\n",
       "      <td>0.00</td>\n",
       "      <td>0.50</td>\n",
       "    </tr>\n",
       "    <tr>\n",
       "      <th>DI1X</th>\n",
       "      <td>0.00</td>\n",
       "      <td>0.25</td>\n",
       "    </tr>\n",
       "    <tr>\n",
       "      <th>DI2Y</th>\n",
       "      <td>0.25</td>\n",
       "      <td>0.25</td>\n",
       "    </tr>\n",
       "  </tbody>\n",
       "</table>\n",
       "</div>"
      ],
      "text/plain": [
       "              minimum  maximum\n",
       "EX_glucose_e -1.00    -1.00   \n",
       "GlcT          1.00     1.00   \n",
       "GTI1          0.00     0.75   \n",
       "GTI2          0.25     0.75   \n",
       "GTI3          0.00     0.75   \n",
       "biomass1      0.00     0.50   \n",
       "biomass2      0.00     0.50   \n",
       "biomass3      0.00     0.50   \n",
       "DI1X          0.00     0.25   \n",
       "DI2Y          0.25     0.25   "
      ]
     },
     "execution_count": 6,
     "metadata": {},
     "output_type": "execute_result"
    }
   ],
   "source": [
    "### FVA result\n",
    "rxnsOfInterest=['EX_glucose_e','GlcT','GTI1','GTI2','GTI3',\n",
    "                'biomass1','biomass2','biomass3','DI1X','DI2Y']\n",
    "fvasol = cobra.flux_analysis.flux_variability_analysis(model,reaction_list=rxnsOfInterest,fraction_of_optimum=1)\n",
    "fvasol"
   ]
  },
  {
   "cell_type": "markdown",
   "metadata": {},
   "source": [
    "# Time stepwise growth calculation (model1)"
   ]
  },
  {
   "cell_type": "markdown",
   "metadata": {},
   "source": [
    "## Without regulation"
   ]
  },
  {
   "cell_type": "markdown",
   "metadata": {},
   "source": [
    "### Control (Cell type 3 gets regulation from cell type 2 and exists regulation to cell type 2.)"
   ]
  },
  {
   "cell_type": "code",
   "execution_count": null,
   "metadata": {},
   "outputs": [],
   "source": [
    "model1=model.copy()\n",
    "model2=model1.copy()"
   ]
  },
  {
   "cell_type": "code",
   "execution_count": null,
   "metadata": {},
   "outputs": [],
   "source": [
    "import matplotlib.pyplot as plt\n",
    "plt.figure()\n",
    "T_list=[0]\n",
    "Fluxes1_list=[0.2018]\n",
    "Fluxes2_list=[0.2787]\n",
    "Fluxes3_list=[0.0195]\n",
    "B1_vals=[0.39]\n",
    "B2_vals=[0.59]\n",
    "B3_vals=[0.02]\n",
    "\n",
    "def B1(t):\n",
    "    if(t<=0):\n",
    "        return 0.39\n",
    "    return B1_vals[int((t-1)/1)]*0.95+0.1*Fluxes1_list[-1]\n",
    "def B2(t):\n",
    "    if(t<=0):\n",
    "        return 0.59\n",
    "    return B2_vals[int((t-1)/1)]*0.95+0.1*Fluxes2_list[-1]\n",
    "def B3(t):\n",
    "    if(t<=0):\n",
    "        return 0.02\n",
    "    return B3_vals[int((t-1)/1)]*0.95+0.1*Fluxes3_list[-1]\n",
    "A=1.2\n",
    "for t in np.arange(1,500,1):\n",
    "    B1_t = B1(t)\n",
    "    B2_t = B2(t)\n",
    "    B3_t = B3(t)\n",
    "#     B1_vals.append(B1_t)\n",
    "#     B2_vals.append(B2_t)\n",
    "#     B3_vals.append(B3_t)\n",
    "    b1=0.5*0.2*B1_vals[-1]*(math.pow(B2_vals[-1],A))/(0.2*B1_vals[-1]*(math.pow(B2_vals[-1],A))+0.3*B2_vals[-1]*(math.pow(B1_vals[-1],A))+0.2*B3_vals[-1])\n",
    "    b2=0.5*0.3*B2_vals[-1]*(math.pow(B1_vals[-1],A))/(0.2*B1_vals[-1]*(math.pow(B2_vals[-1],A))+0.3*B2_vals[-1]*(math.pow(B1_vals[-1],A))+0.2*B3_vals[-1])\n",
    "    b3=0.5*0.2*B3_vals[-1]/(0.2*B1_vals[-1]*(math.pow(B2_vals[-1],A))+0.3*B2_vals[-1]*(math.pow(B1_vals[-1],A))+0.2*B3_vals[-1])\n",
    "    B1_vals.append(B1_t)\n",
    "    B2_vals.append(B2_t)\n",
    "    B3_vals.append(B3_t)\n",
    "    \n",
    "    model2.reactions.biomass3.upper_bound=b3\n",
    "    model2.reactions.biomass2.upper_bound=b2\n",
    "    model2.reactions.biomass1.upper_bound=b1\n",
    "    model2.reactions.DI1X.upper_bound=3*B1_vals[-1]\n",
    "    model2.reactions.DI2Y.upper_bound=3*B2_vals[-1]\n",
    "    model2.reactions.DI3X.upper_bound=3*B3_vals[-1]\n",
    "    sol = model2.optimize()\n",
    "    obj_val = sol.objective_value\n",
    "    Fluxes3=sol.fluxes.loc['biomass3']\n",
    "    Fluxes2=sol.fluxes.loc['biomass2']\n",
    "    Fluxes1=sol.fluxes.loc['biomass1']\n",
    "\n",
    "    \n",
    "    Fluxes1_list.append(Fluxes1)\n",
    "    Fluxes2_list.append(Fluxes2)\n",
    "    Fluxes3_list.append(Fluxes3)\n",
    "    \n",
    "    T=t/10\n",
    "    T_list.append(T)\n",
    "print(Fluxes1_list[0],Fluxes2_list[0],Fluxes3_list[0])           \n",
    "plt.scatter(T_list,Fluxes1_list,color='orange',s=10)\n",
    "plt.scatter(T_list,Fluxes2_list,color='purple',s=10)\n",
    "plt.scatter(T_list,Fluxes3_list,color='red',s=10)\n",
    "# plt.scatter(T_list,B1_vals,color='orange',s=10)\n",
    "# plt.scatter(T_list,B2_vals,color='purple',s=10)\n",
    "# plt.scatter(T_list,B3_vals,color='red',s=10)\n",
    "\n",
    "plt.xlabel(\"time (h)\",fontsize=15)\n",
    "\n",
    "plt.ylim(0,0.5)\n",
    "plt.title('Stepwise growth (µ1=µ3=0.2, µ2=0.3; 'r'$\\varepsilon=1.2$'')',fontsize=12)\n",
    "plt.ylabel(\"Biomass synthesis rate\", fontsize=12)\n",
    "plt.legend(['b1(t)','b2(t)','b3(t)'],loc='upper right')\n",
    "\n",
    "# plt.ylim(0,1)\n",
    "# plt.title('Stepwise growth (µ1=µ3=0.2, µ2=0.3; 'r'$\\varepsilon=1.2$'')',fontsize=12)\n",
    "# plt.ylabel(\"Cell number\",fontsize=12)\n",
    "# plt.legend(['B1(t)','B2(t)','B3(t)'],loc='upper right')\n",
    "\n",
    "plt.rc('xtick', labelsize=16) \n",
    "plt.rc('ytick', labelsize=16)\n",
    "plt.rcParams['legend.fontsize']=15\n",
    "plt.tight_layout()\n",
    "# plt.show()\n",
    "plt.savefig('Only regulation between biomass1 and biomass2(Obj=b1+b2+b3)',dpi=300)"
   ]
  },
  {
   "cell_type": "markdown",
   "metadata": {},
   "source": [
    "### Case 1 (Cell type 3 lost regulation from cell type 2 and lost regulation to cell type 2.)"
   ]
  },
  {
   "cell_type": "code",
   "execution_count": 10,
   "metadata": {},
   "outputs": [],
   "source": [
    "model1=model.copy()\n",
    "model2=model1.copy()"
   ]
  },
  {
   "cell_type": "code",
   "execution_count": 74,
   "metadata": {
    "scrolled": false
   },
   "outputs": [
    {
     "data": {
      "text/plain": [
       "<Figure size 640x480 with 0 Axes>"
      ]
     },
     "execution_count": 74,
     "metadata": {},
     "output_type": "execute_result"
    },
    {
     "name": "stdout",
     "output_type": "stream",
     "text": [
      "0.2018 0.2787 0.0195\n"
     ]
    },
    {
     "data": {
      "text/plain": [
       "<matplotlib.collections.PathCollection at 0x145448d60>"
      ]
     },
     "execution_count": 74,
     "metadata": {},
     "output_type": "execute_result"
    },
    {
     "data": {
      "text/plain": [
       "<matplotlib.collections.PathCollection at 0x1454490f0>"
      ]
     },
     "execution_count": 74,
     "metadata": {},
     "output_type": "execute_result"
    },
    {
     "data": {
      "text/plain": [
       "<matplotlib.collections.PathCollection at 0x145438b20>"
      ]
     },
     "execution_count": 74,
     "metadata": {},
     "output_type": "execute_result"
    },
    {
     "data": {
      "text/plain": [
       "Text(0.5, 0, 'time (h)')"
      ]
     },
     "execution_count": 74,
     "metadata": {},
     "output_type": "execute_result"
    },
    {
     "data": {
      "text/plain": [
       "(0.0, 0.5)"
      ]
     },
     "execution_count": 74,
     "metadata": {},
     "output_type": "execute_result"
    },
    {
     "data": {
      "text/plain": [
       "Text(0.5, 1.0, 'Stepwise growth (µ1=µ3=0.2, µ2=0.3; $\\\\varepsilon=1.2$)')"
      ]
     },
     "execution_count": 74,
     "metadata": {},
     "output_type": "execute_result"
    },
    {
     "data": {
      "text/plain": [
       "Text(0, 0.5, 'Biomass synthesis rate')"
      ]
     },
     "execution_count": 74,
     "metadata": {},
     "output_type": "execute_result"
    },
    {
     "data": {
      "text/plain": [
       "<matplotlib.legend.Legend at 0x14546c0d0>"
      ]
     },
     "execution_count": 74,
     "metadata": {},
     "output_type": "execute_result"
    },
    {
     "data": {
      "image/png": "[encoded data removed]",
      "text/plain": [
       "<Figure size 640x480 with 1 Axes>"
      ]
     },
     "metadata": {},
     "output_type": "display_data"
    }
   ],
   "source": [
    "import matplotlib.pyplot as plt\n",
    "plt.figure()\n",
    "T_list=[0]\n",
    "Fluxes1_list=[0.2018]\n",
    "Fluxes2_list=[0.2787]\n",
    "Fluxes3_list=[0.0195]\n",
    "B1_vals=[0.39]\n",
    "B2_vals=[0.59]\n",
    "B3_vals=[0.02]\n",
    "\n",
    "def B1(t):\n",
    "    if(t<=0):\n",
    "        return 0.39\n",
    "    return B1_vals[int((t-1)/1)]*0.95+0.1*Fluxes1_list[-1]\n",
    "def B2(t):\n",
    "    if(t<=0):\n",
    "        return 0.59\n",
    "    return B2_vals[int((t-1)/1)]*0.95+0.1*Fluxes2_list[-1]\n",
    "def B3(t):\n",
    "    if(t<=0):\n",
    "        return 0.02\n",
    "    return B3_vals[int((t-1)/1)]*0.95+0.1*Fluxes3_list[-1]\n",
    "A=1.2\n",
    "for t in np.arange(1,500,1):\n",
    "    B1_t = B1(t)\n",
    "    B2_t = B2(t)\n",
    "    B3_t = B3(t)\n",
    "#     B1_vals.append(B1_t)\n",
    "#     B2_vals.append(B2_t)\n",
    "#     B3_vals.append(B3_t)\n",
    "    b1=0.5*0.2*B1_vals[-1]*(math.pow(B2_vals[-1],A))/(0.2*B1_vals[-1]*(math.pow(B2_vals[-1],A))+0.3*B2_vals[-1]*(math.pow(B1_vals[-1],A))+0.2*B3_vals[-1])\n",
    "    b2=0.5*0.3*B2_vals[-1]*(math.pow(B1_vals[-1],A))/(0.2*B1_vals[-1]*(math.pow(B2_vals[-1],A))+0.3*B2_vals[-1]*(math.pow(B1_vals[-1],A))+0.2*B3_vals[-1])\n",
    "    b3=0.5*0.2*B3_vals[-1]/(0.2*B1_vals[-1]*(math.pow(B2_vals[-1],A))+0.3*B2_vals[-1]*(math.pow(B1_vals[-1],A))+0.2*B3_vals[-1])\n",
    "    B1_vals.append(B1_t)\n",
    "    B2_vals.append(B2_t)\n",
    "    B3_vals.append(B3_t)\n",
    "    \n",
    "    model2.reactions.biomass3.upper_bound=b3\n",
    "    model2.reactions.biomass2.upper_bound=b2\n",
    "    model2.reactions.biomass1.upper_bound=b1\n",
    "    model2.reactions.DI1X.upper_bound=3*B1_vals[-1]\n",
    "    model2.reactions.DI2Y.upper_bound=3*B2_vals[-1]\n",
    "    model2.reactions.DI3X.upper_bound=3*B3_vals[-1]\n",
    "    sol = model2.optimize()\n",
    "    obj_val = sol.objective_value\n",
    "    Fluxes3=sol.fluxes.loc['biomass3']\n",
    "    Fluxes2=sol.fluxes.loc['biomass2']\n",
    "    Fluxes1=sol.fluxes.loc['biomass1']\n",
    "\n",
    "    \n",
    "    Fluxes1_list.append(Fluxes1)\n",
    "    Fluxes2_list.append(Fluxes2)\n",
    "    Fluxes3_list.append(Fluxes3)\n",
    "    \n",
    "    T=t/10\n",
    "    T_list.append(T)\n",
    "print(Fluxes1_list[0],Fluxes2_list[0],Fluxes3_list[0])           \n",
    "plt.scatter(T_list,Fluxes1_list,color='orange',s=10)\n",
    "plt.scatter(T_list,Fluxes2_list,color='purple',s=10)\n",
    "plt.scatter(T_list,Fluxes3_list,color='red',s=10)\n",
    "# plt.scatter(T_list,B1_vals,color='orange',s=10)\n",
    "# plt.scatter(T_list,B2_vals,color='purple',s=10)\n",
    "# plt.scatter(T_list,B3_vals,color='red',s=10)\n",
    "\n",
    "plt.xlabel(\"time (h)\",fontsize=15)\n",
    "\n",
    "plt.ylim(0,0.5)\n",
    "plt.title('Stepwise growth (µ1=µ3=0.2, µ2=0.3; 'r'$\\varepsilon=1.2$'')',fontsize=12)\n",
    "plt.ylabel(\"Biomass synthesis rate\", fontsize=12)\n",
    "plt.legend(['b1(t)','b2(t)','b3(t)'],loc='upper right')\n",
    "\n",
    "# plt.ylim(0,1)\n",
    "# plt.title('Stepwise growth (µ1=µ3=0.2, µ2=0.3; 'r'$\\varepsilon=1.2$'')',fontsize=12)\n",
    "# plt.ylabel(\"Cell number\",fontsize=12)\n",
    "# plt.legend(['B1(t)','B2(t)','B3(t)'],loc='upper right')\n",
    "\n",
    "plt.rc('xtick', labelsize=16) \n",
    "plt.rc('ytick', labelsize=16)\n",
    "plt.rcParams['legend.fontsize']=15\n",
    "plt.tight_layout()\n",
    "# plt.show()\n",
    "plt.savefig('Only regulation between biomass1 and biomass2(Obj=b1+b2+b3)',dpi=300)"
   ]
  },
  {
   "cell_type": "code",
   "execution_count": 38,
   "metadata": {},
   "outputs": [
    {
     "name": "stdout",
     "output_type": "stream",
     "text": [
      "0.5\n"
     ]
    }
   ],
   "source": [
    "print(b1+b2+b3)"
   ]
  },
  {
   "cell_type": "markdown",
   "metadata": {},
   "source": [
    "### Case 2 (Cell type 3 lost regulation from cell type 2 and still existed regulation to cell type 2.)"
   ]
  },
  {
   "cell_type": "code",
   "execution_count": 57,
   "metadata": {},
   "outputs": [],
   "source": [
    "model1=model.copy()\n",
    "model2=model1.copy()"
   ]
  },
  {
   "cell_type": "code",
   "execution_count": 58,
   "metadata": {},
   "outputs": [
    {
     "data": {
      "text/plain": [
       "<Figure size 640x480 with 0 Axes>"
      ]
     },
     "execution_count": 58,
     "metadata": {},
     "output_type": "execute_result"
    },
    {
     "name": "stdout",
     "output_type": "stream",
     "text": [
      "0.1506 0.3417 0.0077\n"
     ]
    },
    {
     "data": {
      "text/plain": [
       "<matplotlib.collections.PathCollection at 0x1411c7b80>"
      ]
     },
     "execution_count": 58,
     "metadata": {},
     "output_type": "execute_result"
    },
    {
     "data": {
      "text/plain": [
       "<matplotlib.collections.PathCollection at 0x1411c7010>"
      ]
     },
     "execution_count": 58,
     "metadata": {},
     "output_type": "execute_result"
    },
    {
     "data": {
      "text/plain": [
       "<matplotlib.collections.PathCollection at 0x14122b640>"
      ]
     },
     "execution_count": 58,
     "metadata": {},
     "output_type": "execute_result"
    },
    {
     "data": {
      "text/plain": [
       "Text(0.5, 0, 'time (h)')"
      ]
     },
     "execution_count": 58,
     "metadata": {},
     "output_type": "execute_result"
    },
    {
     "data": {
      "text/plain": [
       "(0.0, 0.5)"
      ]
     },
     "execution_count": 58,
     "metadata": {},
     "output_type": "execute_result"
    },
    {
     "data": {
      "text/plain": [
       "Text(0.5, 1.0, 'Stepwise growth (µ1=µ3=0.2, µ2=0.3; $\\\\varepsilon=0$)')"
      ]
     },
     "execution_count": 58,
     "metadata": {},
     "output_type": "execute_result"
    },
    {
     "data": {
      "text/plain": [
       "Text(0, 0.5, 'Biomass synthesis rate')"
      ]
     },
     "execution_count": 58,
     "metadata": {},
     "output_type": "execute_result"
    },
    {
     "data": {
      "text/plain": [
       "<matplotlib.legend.Legend at 0x1411bf610>"
      ]
     },
     "execution_count": 58,
     "metadata": {},
     "output_type": "execute_result"
    },
    {
     "data": {
      "image/png": "[encoded data removed]",
      "text/plain": [
       "<Figure size 640x480 with 1 Axes>"
      ]
     },
     "metadata": {},
     "output_type": "display_data"
    }
   ],
   "source": [
    "import matplotlib.pyplot as plt\n",
    "plt.figure()\n",
    "T_list=[0]\n",
    "Fluxes1_list=[0.1506]\n",
    "Fluxes2_list=[0.3417]\n",
    "Fluxes3_list=[0.0077]\n",
    "B1_vals=[0.39]\n",
    "B2_vals=[0.59]\n",
    "B3_vals=[0.02]\n",
    "\n",
    "def B1(t):\n",
    "    if(t<=0):\n",
    "        return 0.39\n",
    "    return B1_vals[int((t-1)/1)]*0.95+0.1*Fluxes1_list[-1]\n",
    "def B2(t):\n",
    "    if(t<=0):\n",
    "        return 0.59\n",
    "    return B2_vals[int((t-1)/1)]*0.95+0.1*Fluxes2_list[-1]\n",
    "def B3(t):\n",
    "    if(t<=0):\n",
    "        return 0.02\n",
    "    return B3_vals[int((t-1)/1)]*0.95+0.1*Fluxes3_list[-1]\n",
    "A=0\n",
    "for t in np.arange(1,500,1):\n",
    "    B1_t = B1(t)\n",
    "    B2_t = B2(t)\n",
    "    B3_t = B3(t)\n",
    "#     B1_vals.append(B1_t)\n",
    "#     B2_vals.append(B2_t)\n",
    "#     B3_vals.append(B3_t)\n",
    "    b1=0.5*0.2*B1_vals[-1]*(math.pow(B2_vals[-1],A))/(0.2*B1_vals[-1]*(math.pow(B2_vals[-1],A))+0.3*B2_vals[-1]*(math.pow((B1_vals[-1]+B3_vals[-1]),A))+0.2*B3_vals[-1])\n",
    "    b2=0.5*0.3*B2_vals[-1]*(math.pow((B1_vals[-1]+B3_vals[-1]),A))/(0.2*B1_vals[-1]*(math.pow(B2_vals[-1],A))+0.3*B2_vals[-1]*(math.pow((B1_vals[-1]+B3_vals[-1]),A))+0.2*B3_vals[-1])\n",
    "    b3=0.5*0.2*B3_vals[-1]/(0.2*B1_vals[-1]*(math.pow(B2_vals[-1],A))+0.3*B2_vals[-1]*(math.pow((B1_vals[-1]+B3_vals[-1]),A))+0.2*B3_vals[-1])\n",
    "    B1_vals.append(B1_t)\n",
    "    B2_vals.append(B2_t)\n",
    "    B3_vals.append(B3_t)\n",
    "    \n",
    "    model2.reactions.biomass3.upper_bound=b3\n",
    "    model2.reactions.biomass2.upper_bound=b2\n",
    "    model2.reactions.biomass1.upper_bound=b1\n",
    "    model2.reactions.DI1X.upper_bound=3*B1_vals[-1]\n",
    "    model2.reactions.DI2Y.upper_bound=3*B2_vals[-1]\n",
    "    model2.reactions.DI3X.upper_bound=3*B3_vals[-1]\n",
    "    sol = model2.optimize()\n",
    "    obj_val = sol.objective_value\n",
    "    Fluxes3=sol.fluxes.loc['biomass3']\n",
    "    Fluxes2=sol.fluxes.loc['biomass2']\n",
    "    Fluxes1=sol.fluxes.loc['biomass1']\n",
    "\n",
    "    \n",
    "    Fluxes1_list.append(Fluxes1)\n",
    "    Fluxes2_list.append(Fluxes2)\n",
    "    Fluxes3_list.append(Fluxes3)\n",
    "    \n",
    "    T=t/10\n",
    "    T_list.append(T)\n",
    "print(Fluxes1_list[0],Fluxes2_list[0],Fluxes3_list[0])           \n",
    "plt.scatter(T_list,Fluxes1_list,color='orange',s=10)\n",
    "plt.scatter(T_list,Fluxes2_list,color='purple',s=10)\n",
    "plt.scatter(T_list,Fluxes3_list,color='red',s=10)\n",
    "# plt.scatter(T_list,B1_vals,color='orange',s=10)\n",
    "# plt.scatter(T_list,B2_vals,color='purple',s=10)\n",
    "# plt.scatter(T_list,B3_vals,color='red',s=10)\n",
    "\n",
    "plt.xlabel(\"time (h)\",fontsize=15)\n",
    "\n",
    "plt.ylim(0,0.5)\n",
    "plt.title('Stepwise growth (µ1=µ3=0.2, µ2=0.3; 'r'$\\varepsilon=0$'')',fontsize=12)\n",
    "plt.ylabel(\"Biomass synthesis rate\", fontsize=12)\n",
    "plt.legend(['b1(t)','b2(t)','b3(t)'],loc='upper right')\n",
    "\n",
    "# plt.ylim(0,1)\n",
    "# plt.title('Stepwise growth (µ1=µ3=0.2, µ2=0.3; 'r'$\\varepsilon=0$'')',fontsize=12)\n",
    "# plt.ylabel(\"Cell number\",fontsize=12)\n",
    "# plt.legend(['B1(t)','B2(t)','B3(t)'],loc='upper right')\n",
    "\n",
    "plt.rc('xtick', labelsize=16) \n",
    "plt.rc('ytick', labelsize=16)\n",
    "plt.rcParams['legend.fontsize']=15\n",
    "plt.tight_layout()\n",
    "# plt.show()\n",
    "plt.savefig('Only regulation between biomass1 and biomass2(Obj=b1+b2+b3)',dpi=300)"
   ]
  },
  {
   "cell_type": "code",
   "execution_count": 19,
   "metadata": {},
   "outputs": [
    {
     "name": "stdout",
     "output_type": "stream",
     "text": [
      "5.9264550771782915e-08 0.2869930498762703 0.7130068908591778\n"
     ]
    }
   ],
   "source": [
    "print(B1_vals[-1],B2_vals[-1],B3_vals[-1])"
   ]
  },
  {
   "cell_type": "code",
   "execution_count": 18,
   "metadata": {},
   "outputs": [
    {
     "name": "stdout",
     "output_type": "stream",
     "text": [
      "0.5\n"
     ]
    }
   ],
   "source": [
    "print(b1+b2+b3)"
   ]
  },
  {
   "cell_type": "markdown",
   "metadata": {},
   "source": [
    "### Case 3 (Cell type lost regulation to cell type 2, but still existed regulation from cell type 2) "
   ]
  },
  {
   "cell_type": "code",
   "execution_count": 92,
   "metadata": {},
   "outputs": [],
   "source": [
    "model1=model.copy()\n",
    "model2=model1.copy()"
   ]
  },
  {
   "cell_type": "code",
   "execution_count": 93,
   "metadata": {},
   "outputs": [
    {
     "data": {
      "text/plain": [
       "<Figure size 640x480 with 0 Axes>"
      ]
     },
     "execution_count": 93,
     "metadata": {},
     "output_type": "execute_result"
    },
    {
     "name": "stdout",
     "output_type": "stream",
     "text": [
      "0.1506 0.3417 0.0077\n"
     ]
    },
    {
     "data": {
      "text/plain": [
       "<matplotlib.collections.PathCollection at 0x13fc137c0>"
      ]
     },
     "execution_count": 93,
     "metadata": {},
     "output_type": "execute_result"
    },
    {
     "data": {
      "text/plain": [
       "<matplotlib.collections.PathCollection at 0x13fc13ca0>"
      ]
     },
     "execution_count": 93,
     "metadata": {},
     "output_type": "execute_result"
    },
    {
     "data": {
      "text/plain": [
       "<matplotlib.collections.PathCollection at 0x13faef820>"
      ]
     },
     "execution_count": 93,
     "metadata": {},
     "output_type": "execute_result"
    },
    {
     "data": {
      "text/plain": [
       "Text(0.5, 0, 'time (h)')"
      ]
     },
     "execution_count": 93,
     "metadata": {},
     "output_type": "execute_result"
    },
    {
     "data": {
      "text/plain": [
       "(0.0, 1.0)"
      ]
     },
     "execution_count": 93,
     "metadata": {},
     "output_type": "execute_result"
    },
    {
     "data": {
      "text/plain": [
       "Text(0.5, 1.0, 'Stepwise growth (µ1=µ3=0.2, µ2=0.3; $\\\\varepsilon=0$)')"
      ]
     },
     "execution_count": 93,
     "metadata": {},
     "output_type": "execute_result"
    },
    {
     "data": {
      "text/plain": [
       "Text(0, 0.5, 'Cell number')"
      ]
     },
     "execution_count": 93,
     "metadata": {},
     "output_type": "execute_result"
    },
    {
     "data": {
      "text/plain": [
       "<matplotlib.legend.Legend at 0x13fc1d720>"
      ]
     },
     "execution_count": 93,
     "metadata": {},
     "output_type": "execute_result"
    },
    {
     "data": {
      "image/png": "[encoded data removed]",
      "text/plain": [
       "<Figure size 640x480 with 1 Axes>"
      ]
     },
     "metadata": {},
     "output_type": "display_data"
    }
   ],
   "source": [
    "import matplotlib.pyplot as plt\n",
    "plt.figure()\n",
    "T_list=[0]\n",
    "Fluxes1_list=[0.1506]\n",
    "Fluxes2_list=[0.3417]\n",
    "Fluxes3_list=[0.0077]\n",
    "B1_vals=[0.39]\n",
    "B2_vals=[0.59]\n",
    "B3_vals=[0.02]\n",
    "\n",
    "def B1(t):\n",
    "    if(t<=0):\n",
    "        return 0.39\n",
    "    return B1_vals[int((t-1)/1)]*0.95+0.1*Fluxes1_list[-1]\n",
    "def B2(t):\n",
    "    if(t<=0):\n",
    "        return 0.59\n",
    "    return B2_vals[int((t-1)/1)]*0.95+0.1*Fluxes2_list[-1]\n",
    "def B3(t):\n",
    "    if(t<=0):\n",
    "        return 0.02\n",
    "    return B3_vals[int((t-1)/1)]*0.95+0.1*Fluxes3_list[-1]\n",
    "A=0\n",
    "for t in np.arange(1,500,1):\n",
    "    B1_t = B1(t)\n",
    "    B2_t = B2(t)\n",
    "    B3_t = B3(t)\n",
    "#     B1_vals.append(B1_t)\n",
    "#     B2_vals.append(B2_t)\n",
    "#     B3_vals.append(B3_t)\n",
    "    b1=0.5*0.2*B1_vals[-1]*(math.pow(B2_vals[-1],A))/(0.2*B1_vals[-1]*(math.pow(B2_vals[-1],A))+0.3*B2_vals[-1]*(math.pow(B1_vals[-1],A))+0.2*B3_vals[-1]*(math.pow(B2_vals[-1],A)))\n",
    "    b2=0.5*0.3*B2_vals[-1]*(math.pow(B1_vals[-1],A))/(0.2*B1_vals[-1]*(math.pow(B2_vals[-1],A))+0.3*B2_vals[-1]*(math.pow(B1_vals[-1],A))+0.2*B3_vals[-1]*(math.pow(B2_vals[-1],A)))\n",
    "    b3=0.5*0.2*B3_vals[-1]*(math.pow(B2_vals[-1],A))/(0.2*B1_vals[-1]*(math.pow(B2_vals[-1],A))+0.3*B2_vals[-1]*(math.pow(B1_vals[-1],A))+0.2*B3_vals[-1]*(math.pow(B2_vals[-1],A)))\n",
    "    B1_vals.append(B1_t)\n",
    "    B2_vals.append(B2_t)\n",
    "    B3_vals.append(B3_t)\n",
    "    \n",
    "    model2.reactions.biomass3.upper_bound=b3\n",
    "    model2.reactions.biomass2.upper_bound=b2\n",
    "    model2.reactions.biomass1.upper_bound=b1\n",
    "    model2.reactions.DI1X.upper_bound=3*B1_vals[-1]\n",
    "    model2.reactions.DI2Y.upper_bound=3*B2_vals[-1]\n",
    "    model2.reactions.DI3X.upper_bound=3*B3_vals[-1]\n",
    "    sol = model2.optimize()\n",
    "    obj_val = sol.objective_value\n",
    "    Fluxes3=sol.fluxes.loc['biomass3']\n",
    "    Fluxes2=sol.fluxes.loc['biomass2']\n",
    "    Fluxes1=sol.fluxes.loc['biomass1']\n",
    "\n",
    "    \n",
    "    Fluxes1_list.append(Fluxes1)\n",
    "    Fluxes2_list.append(Fluxes2)\n",
    "    Fluxes3_list.append(Fluxes3)\n",
    "    \n",
    "    T=t/10\n",
    "    T_list.append(T)\n",
    "print(Fluxes1_list[0],Fluxes2_list[0],Fluxes3_list[0])           \n",
    "# plt.scatter(T_list,Fluxes1_list,color='orange',s=10)\n",
    "# plt.scatter(T_list,Fluxes2_list,color='purple',s=10)\n",
    "# plt.scatter(T_list,Fluxes3_list,color='red',s=10)\n",
    "plt.scatter(T_list,B1_vals,color='orange',s=10)\n",
    "plt.scatter(T_list,B2_vals,color='purple',s=10)\n",
    "plt.scatter(T_list,B3_vals,color='red',s=10)\n",
    "\n",
    "plt.xlabel(\"time (h)\",fontsize=15)\n",
    "\n",
    "# plt.ylim(0,0.5)\n",
    "# plt.title('Stepwise growth (µ1=µ3=0.2, µ2=0.3; 'r'$\\varepsilon=0$'')',fontsize=12)\n",
    "# plt.ylabel(\"Biomass synthesis rate\", fontsize=12)\n",
    "# plt.legend(['b1(t)','b2(t)','b3(t)'],loc='upper right')\n",
    "\n",
    "plt.ylim(0,1)\n",
    "plt.title('Stepwise growth (µ1=µ3=0.2, µ2=0.3; 'r'$\\varepsilon=0$'')',fontsize=12)\n",
    "plt.ylabel(\"Cell number\",fontsize=12)\n",
    "plt.legend(['B1(t)','B2(t)','B3(t)'],loc='upper right')\n",
    "\n",
    "plt.rc('xtick', labelsize=16) \n",
    "plt.rc('ytick', labelsize=16)\n",
    "plt.rcParams['legend.fontsize']=15\n",
    "plt.tight_layout()\n",
    "# plt.show()\n",
    "plt.savefig('Only regulation between biomass1 and biomass2(Obj=b1+b2+b3)',dpi=300)"
   ]
  },
  {
   "cell_type": "code",
   "execution_count": null,
   "metadata": {},
   "outputs": [],
   "source": []
  },
  {
   "cell_type": "markdown",
   "metadata": {},
   "source": [
    "## Without regulation high initial cell number"
   ]
  },
  {
   "cell_type": "code",
   "execution_count": 1,
   "metadata": {},
   "outputs": [],
   "source": [
    "import math"
   ]
  },
  {
   "cell_type": "code",
   "execution_count": 10,
   "metadata": {},
   "outputs": [],
   "source": [
    "model1=model.copy()\n",
    "model2=model1.copy()"
   ]
  },
  {
   "cell_type": "code",
   "execution_count": 11,
   "metadata": {},
   "outputs": [
    {
     "data": {
      "text/plain": [
       "<Figure size 640x480 with 0 Axes>"
      ]
     },
     "execution_count": 11,
     "metadata": {},
     "output_type": "execute_result"
    },
    {
     "name": "stdout",
     "output_type": "stream",
     "text": [
      "0.1933 0.2899 0.0168\n"
     ]
    },
    {
     "data": {
      "text/plain": [
       "<matplotlib.collections.PathCollection at 0x144a10610>"
      ]
     },
     "execution_count": 11,
     "metadata": {},
     "output_type": "execute_result"
    },
    {
     "data": {
      "text/plain": [
       "<matplotlib.collections.PathCollection at 0x144a128c0>"
      ]
     },
     "execution_count": 11,
     "metadata": {},
     "output_type": "execute_result"
    },
    {
     "data": {
      "text/plain": [
       "<matplotlib.collections.PathCollection at 0x1449b3e20>"
      ]
     },
     "execution_count": 11,
     "metadata": {},
     "output_type": "execute_result"
    },
    {
     "data": {
      "text/plain": [
       "Text(0.5, 0, 't (month)')"
      ]
     },
     "execution_count": 11,
     "metadata": {},
     "output_type": "execute_result"
    },
    {
     "data": {
      "text/plain": [
       "(0.0, 1.0)"
      ]
     },
     "execution_count": 11,
     "metadata": {},
     "output_type": "execute_result"
    },
    {
     "data": {
      "text/plain": [
       "<matplotlib.collections.LineCollection at 0x1389132b0>"
      ]
     },
     "execution_count": 11,
     "metadata": {},
     "output_type": "execute_result"
    },
    {
     "data": {
      "text/plain": [
       "Text(0.5, 1.0, 'Stepwise growth (µ1=µ3=0.2, µ2=0.3; $\\\\varepsilon=1$)')"
      ]
     },
     "execution_count": 11,
     "metadata": {},
     "output_type": "execute_result"
    },
    {
     "data": {
      "text/plain": [
       "Text(0, 0.5, 'Cell number (billions)')"
      ]
     },
     "execution_count": 11,
     "metadata": {},
     "output_type": "execute_result"
    },
    {
     "data": {
      "text/plain": [
       "<matplotlib.legend.Legend at 0x144a3a9b0>"
      ]
     },
     "execution_count": 11,
     "metadata": {},
     "output_type": "execute_result"
    },
    {
     "data": {
      "image/png": "[encoded data removed]",
      "text/plain": [
       "<Figure size 640x480 with 1 Axes>"
      ]
     },
     "metadata": {},
     "output_type": "display_data"
    }
   ],
   "source": [
    "## B1=0.39; B2=0.59; B3=0.02; Fluxes1=0.1933; Fluxes2=0.2899; Fluxes3=0.0168\n",
    "## B1=3.9; B2=5.9; B3=0.02; Fluxes1=0.1999; Fluxes2=0.2999; Fluxes3=0.0002\n",
    "import matplotlib.pyplot as plt\n",
    "plt.figure()\n",
    "T_list=[0]\n",
    "Fluxes1_list=[0.1933]\n",
    "Fluxes2_list=[0.2899]\n",
    "Fluxes3_list=[0.0168]\n",
    "B1_vals=[0.39]\n",
    "B2_vals=[0.59]\n",
    "B3_vals=[0.02]\n",
    "\n",
    "def B1(t):\n",
    "    if(t<=0):\n",
    "        return 0.39\n",
    "    return B1_vals[int((t-1)/1)]*0.95+0.1*Fluxes1_list[-1]\n",
    "def B2(t):\n",
    "    if(t<=0):\n",
    "        return 0.59\n",
    "    return B2_vals[int((t-1)/1)]*0.95+0.1*Fluxes2_list[-1]\n",
    "def B3(t):\n",
    "    if(t<=0):\n",
    "        return 0.02\n",
    "    return B3_vals[int((t-1)/1)]*0.95+0.1*Fluxes3_list[-1]\n",
    "\n",
    "for t in np.arange(1,500,1):\n",
    "    B1_t = B1(t)\n",
    "    B2_t = B2(t)\n",
    "    B3_t = B3(t)\n",
    "    \n",
    "#     B1_vals.append(B1_t)\n",
    "#     B2_vals.append(B2_t)\n",
    "#     B3_vals.append(B3_t)\n",
    "    \n",
    "    b1=0.5*0.2*B1(t-0.1)*(math.pow(B2(t-0.1),1))/(0.2*B1(t-0.1)*(math.pow(B2(t-0.1),1))+0.3*B2(t-0.1)*(math.pow(B1(t-0.1),1))+0.2*B3(t-0.1))\n",
    "    b2=0.5*0.3*B2(t-0.1)*(math.pow(B1(t-0.1),1))/(0.2*B1(t-0.1)*(math.pow(B2(t-0.1),1))+0.3*B2(t-0.1)*(math.pow(B1(t-0.1),1))+0.2*B3(t-0.1))\n",
    "    b3=0.5*0.2*B3(t-0.1)/(0.2*B1(t-0.1)*(math.pow(B2(t-0.1),1))+0.3*B2(t-0.1)*(math.pow(B1(t-0.1),1))+0.2*B3(t-0.1))\n",
    "    \n",
    "    B1_vals.append(B1_t)\n",
    "    B2_vals.append(B2_t)\n",
    "    B3_vals.append(B3_t)\n",
    "    \n",
    "    model2.reactions.biomass3.upper_bound=b3\n",
    "    model2.reactions.biomass2.upper_bound=b2\n",
    "    model2.reactions.biomass1.upper_bound=b1\n",
    "    model2.reactions.DI1X.upper_bound=3*B1_vals[-1]\n",
    "    model2.reactions.DI2Y.upper_bound=3*B2_vals[-1]\n",
    "    model2.reactions.DI3X.upper_bound=3*B3_vals[-1]\n",
    "    sol = model2.optimize()\n",
    "    obj_val = sol.objective_value\n",
    "    Fluxes3=sol.fluxes.loc['biomass3']\n",
    "    Fluxes2=sol.fluxes.loc['biomass2']\n",
    "    Fluxes1=sol.fluxes.loc['biomass1']\n",
    "\n",
    "    Fluxes1_list.append(Fluxes1)\n",
    "    Fluxes2_list.append(Fluxes2)\n",
    "    Fluxes3_list.append(Fluxes3)\n",
    "    \n",
    "    T=t/10\n",
    "    T_list.append(T)\n",
    "            \n",
    "print(Fluxes1_list[0],Fluxes2_list[0],Fluxes3_list[0])\n",
    "# plt.scatter(T_list,Fluxes1_list,color='orange',s=10)\n",
    "# plt.scatter(T_list,Fluxes2_list,color='purple',s=10)\n",
    "# plt.scatter(T_list,Fluxes3_list,color='red',s=10)\n",
    "plt.scatter(T_list,B1_vals,color='orange',s=10)\n",
    "plt.scatter(T_list,B2_vals,color='purple',s=10)\n",
    "plt.scatter(T_list,B3_vals,color='red',s=10)\n",
    "\n",
    "plt.xlabel(\"t (month)\",fontsize=15)\n",
    "\n",
    "# plt.ylabel(\"Biomass synthesis value\")\n",
    "# plt.legend(['b1','b2','b3'])\n",
    "\n",
    "plt.ylim(0,1)\n",
    "plt.hlines(y=0.4, xmin=0, xmax=50,colors='black', linestyles='solid',linewidth=2)\n",
    "plt.title('Stepwise growth (µ1=µ3=0.2, µ2=0.3; 'r'$\\varepsilon=1$'')',fontsize=12)\n",
    "plt.ylabel(\"Cell number (billions)\",fontsize=12)\n",
    "plt.legend(['B1(t)','B2(t)','B3(t)'],loc='upper right')\n",
    "\n",
    "plt.rc('xtick', labelsize=16) \n",
    "plt.rc('ytick', labelsize=16)\n",
    "plt.rcParams['legend.fontsize']=15\n",
    "plt.tight_layout()\n",
    "# plt.show()\n",
    "plt.savefig('Only regulation between biomass1 and biomass2(Obj=b1+b2+b3)',dpi=600)"
   ]
  },
  {
   "cell_type": "markdown",
   "metadata": {},
   "source": [
    "## The influence of cells' death rate"
   ]
  },
  {
   "cell_type": "markdown",
   "metadata": {},
   "source": [
    "I: [kD=0.5 (Cell1 and Cell2); kD=0.5 (Cell3)]\n",
    "II: [kD=0.9 (Cell1 and Cell2); kD=0.5 (Cell3)]\n",
    "III: [kD=0.9 (Cell1 and Cell2); kD=0.9 (Cell3)]\n",
    "IV: [kD=0.5 (Cell1 and Cell2); kD=0.9 (Cell3)]"
   ]
  },
  {
   "cell_type": "code",
   "execution_count": 18,
   "metadata": {},
   "outputs": [],
   "source": [
    "import math\n",
    "model1=model.copy()\n",
    "model2=model1.copy()"
   ]
  },
  {
   "cell_type": "code",
   "execution_count": 19,
   "metadata": {},
   "outputs": [
    {
     "data": {
      "text/plain": [
       "<Figure size 640x480 with 0 Axes>"
      ]
     },
     "execution_count": 19,
     "metadata": {},
     "output_type": "execute_result"
    },
    {
     "name": "stdout",
     "output_type": "stream",
     "text": [
      "0.1933 0.2899 0.0168\n"
     ]
    },
    {
     "data": {
      "text/plain": [
       "<matplotlib.collections.PathCollection at 0x14d0d3af0>"
      ]
     },
     "execution_count": 19,
     "metadata": {},
     "output_type": "execute_result"
    },
    {
     "data": {
      "text/plain": [
       "<matplotlib.collections.PathCollection at 0x14d0d1030>"
      ]
     },
     "execution_count": 19,
     "metadata": {},
     "output_type": "execute_result"
    },
    {
     "data": {
      "text/plain": [
       "<matplotlib.collections.PathCollection at 0x14fdf6fb0>"
      ]
     },
     "execution_count": 19,
     "metadata": {},
     "output_type": "execute_result"
    },
    {
     "data": {
      "text/plain": [
       "Text(0.5, 0, 't (month)')"
      ]
     },
     "execution_count": 19,
     "metadata": {},
     "output_type": "execute_result"
    },
    {
     "data": {
      "text/plain": [
       "(0.0, 1.0)"
      ]
     },
     "execution_count": 19,
     "metadata": {},
     "output_type": "execute_result"
    },
    {
     "data": {
      "text/plain": [
       "<matplotlib.collections.LineCollection at 0x14fdf6fe0>"
      ]
     },
     "execution_count": 19,
     "metadata": {},
     "output_type": "execute_result"
    },
    {
     "data": {
      "text/plain": [
       "Text(0.5, 1.0, 'Stepwise growth (µ1=µ3=0.2, µ2=0.3; $\\\\varepsilon=1$)')"
      ]
     },
     "execution_count": 19,
     "metadata": {},
     "output_type": "execute_result"
    },
    {
     "data": {
      "text/plain": [
       "Text(0, 0.5, 'Cell number (billions)')"
      ]
     },
     "execution_count": 19,
     "metadata": {},
     "output_type": "execute_result"
    },
    {
     "data": {
      "text/plain": [
       "<matplotlib.legend.Legend at 0x14fdf70d0>"
      ]
     },
     "execution_count": 19,
     "metadata": {},
     "output_type": "execute_result"
    },
    {
     "data": {
      "image/png": "[encoded data removed]",
      "text/plain": [
       "<Figure size 640x480 with 1 Axes>"
      ]
     },
     "metadata": {},
     "output_type": "display_data"
    }
   ],
   "source": [
    "#Kd1=Kd2=Kd3=0.5; Fluxes1=0.1933; Fluxes2=0.2899; Fluxes3=0.0168;\n",
    "#Kd1=Kd2=0.9; Kd3=0.5; Fluxes1=0.1933; Fluxes2=0.2899; Fluxes3=0.0168;\n",
    "#Kd1=Kd2=Kd3=0.9; Fluxes1=0.1933; Fluxes2=0.2899; Fluxes3=0.0168;\n",
    "#Kd1=Kd1=0.5; Kd1=0.9; Fluxes1=0.1933; Fluxes2=0.2899; Fluxes3=0.0168;\n",
    "import matplotlib.pyplot as plt\n",
    "plt.figure()\n",
    "T_list=[0]\n",
    "Fluxes1_list=[0.1933]\n",
    "Fluxes2_list=[0.2899]\n",
    "Fluxes3_list=[0.0168]\n",
    "B1_vals=[0.39]\n",
    "B2_vals=[0.59]\n",
    "B3_vals=[0.02]\n",
    "\n",
    "def B1(t):\n",
    "    if(t<=0):\n",
    "        return 0.39\n",
    "    return B1_vals[int((t-1)/1)]*0.91+0.1*Fluxes1_list[-1]\n",
    "def B2(t):\n",
    "    if(t<=0):\n",
    "        return 0.59\n",
    "    return B2_vals[int((t-1)/1)]*0.91+0.1*Fluxes2_list[-1]\n",
    "def B3(t):\n",
    "    if(t<=0):\n",
    "        return 0.02\n",
    "    return B3_vals[int((t-1)/1)]*0.95+0.1*Fluxes3_list[-1]\n",
    "\n",
    "for t in np.arange(1,500,1):\n",
    "    B1_t = B1(t)\n",
    "    B2_t = B2(t)\n",
    "    B3_t = B3(t)\n",
    "\n",
    "    b1=0.5*0.2*B1_vals[-1]*(math.pow(B2_vals[-1],1))/(0.2*B1_vals[-1]*(math.pow(B2_vals[-1],1))+0.3*B2_vals[-1]*(math.pow(B1_vals[-1],1))+0.2*B3_vals[-1])\n",
    "    b2=0.5*0.3*B2_vals[-1]*(math.pow(B1_vals[-1],1))/(0.2*B1_vals[-1]*(math.pow(B2_vals[-1],1))+0.3*B2_vals[-1]*(math.pow(B1_vals[-1],1))+0.2*B3_vals[-1])\n",
    "    b3=0.5*0.2*B3_vals[-1]/(0.2*B1_vals[-1]*(math.pow(B2_vals[-1],1))+0.3*B2_vals[-1]*(math.pow(B1_vals[-1],1))+0.2*B3_vals[-1])\n",
    "    B1_vals.append(B1_t)\n",
    "    B2_vals.append(B2_t)\n",
    "    B3_vals.append(B3_t)\n",
    "    \n",
    "    model2.reactions.biomass3.upper_bound=b3\n",
    "    model2.reactions.biomass2.upper_bound=b2\n",
    "    model2.reactions.biomass1.upper_bound=b1\n",
    "    model2.reactions.DI1X.upper_bound=3*B1_vals[-1]\n",
    "    model2.reactions.DI2Y.upper_bound=3*B2_vals[-1]\n",
    "    model2.reactions.DI3X.upper_bound=3*B3_vals[-1]\n",
    "    sol = model2.optimize()\n",
    "    obj_val = sol.objective_value\n",
    "    Fluxes3=sol.fluxes.loc['biomass3']\n",
    "    Fluxes2=sol.fluxes.loc['biomass2']\n",
    "    Fluxes1=sol.fluxes.loc['biomass1']\n",
    "\n",
    "    \n",
    "    Fluxes1_list.append(Fluxes1)\n",
    "    Fluxes2_list.append(Fluxes2)\n",
    "    Fluxes3_list.append(Fluxes3)\n",
    "    \n",
    "    T=t/10\n",
    "    T_list.append(T)\n",
    "            \n",
    "print(Fluxes1_list[0],Fluxes2_list[0],Fluxes3_list[0])\n",
    "\n",
    "# plt.scatter(T_list,Fluxes1_list,color='orange',s=10)\n",
    "# plt.scatter(T_list,Fluxes2_list,color='purple',s=10)\n",
    "# plt.scatter(T_list,Fluxes3_list,color='red',s=10)\n",
    "plt.scatter(T_list,B1_vals,color='orange',s=10)\n",
    "plt.scatter(T_list,B2_vals,color='purple',s=10)\n",
    "plt.scatter(T_list,B3_vals,color='red',s=10)\n",
    "\n",
    "plt.xlabel(\"t (month)\",fontsize=15)\n",
    "# plt.ylabel(\"Biomass synthesis value\")\n",
    "# plt.legend(['b1(t)','b2(t)','b3(t)'])\n",
    "\n",
    "plt.ylim(0,1)\n",
    "plt.hlines(y=0.4, xmin=0, xmax=50,colors='black', linestyles='solid',linewidth=2)\n",
    "plt.title('Stepwise growth (µ1=µ3=0.2, µ2=0.3; 'r'$\\varepsilon=1$'')',fontsize=12)\n",
    "plt.ylabel(\"Cell number (billions)\",fontsize=12)\n",
    "plt.legend(['B1(t)','B2(t)','B3(t)'],loc='upper right')\n",
    "plt.rc('xtick', labelsize=16) \n",
    "plt.rc('ytick', labelsize=16)\n",
    "plt.rcParams['legend.fontsize']=15\n",
    "plt.tight_layout()\n",
    "# plt.show()\n",
    "plt.savefig('Only regulation between biomass1 and biomass2(Obj=b1+b2+b3)',dpi=600)"
   ]
  },
  {
   "cell_type": "code",
   "execution_count": null,
   "metadata": {},
   "outputs": [],
   "source": []
  },
  {
   "cell_type": "markdown",
   "metadata": {},
   "source": [
    "## With regulation"
   ]
  },
  {
   "cell_type": "markdown",
   "metadata": {},
   "source": [
    "### Regulation method I (Three cell types regulated each other.)"
   ]
  },
  {
   "cell_type": "code",
   "execution_count": 12,
   "metadata": {},
   "outputs": [],
   "source": [
    "import math\n",
    "model1=model.copy()\n",
    "model2=model1.copy()"
   ]
  },
  {
   "cell_type": "code",
   "execution_count": 13,
   "metadata": {},
   "outputs": [
    {
     "data": {
      "text/plain": [
       "<Figure size 640x480 with 0 Axes>"
      ]
     },
     "execution_count": 13,
     "metadata": {},
     "output_type": "execute_result"
    },
    {
     "name": "stdout",
     "output_type": "stream",
     "text": [
      "0.1429 0.2143 0.1429\n"
     ]
    },
    {
     "data": {
      "text/plain": [
       "<matplotlib.collections.PathCollection at 0x13e29bf70>"
      ]
     },
     "execution_count": 13,
     "metadata": {},
     "output_type": "execute_result"
    },
    {
     "data": {
      "text/plain": [
       "<matplotlib.collections.PathCollection at 0x13e298280>"
      ]
     },
     "execution_count": 13,
     "metadata": {},
     "output_type": "execute_result"
    },
    {
     "data": {
      "text/plain": [
       "<matplotlib.collections.PathCollection at 0x13e29bcd0>"
      ]
     },
     "execution_count": 13,
     "metadata": {},
     "output_type": "execute_result"
    },
    {
     "data": {
      "text/plain": [
       "Text(0.5, 0, 't (month)')"
      ]
     },
     "execution_count": 13,
     "metadata": {},
     "output_type": "execute_result"
    },
    {
     "data": {
      "text/plain": [
       "Text(0.5, 1.0, 'Stepwise growth (µ1=µ3=0.2, µ2=0.3; $\\\\varepsilon=1$; $\\\\gamma=1$)')"
      ]
     },
     "execution_count": 13,
     "metadata": {},
     "output_type": "execute_result"
    },
    {
     "data": {
      "text/plain": [
       "(0.0, 1.0)"
      ]
     },
     "execution_count": 13,
     "metadata": {},
     "output_type": "execute_result"
    },
    {
     "data": {
      "text/plain": [
       "Text(0, 0.5, 'Cell number (billions)')"
      ]
     },
     "execution_count": 13,
     "metadata": {},
     "output_type": "execute_result"
    },
    {
     "data": {
      "text/plain": [
       "<matplotlib.legend.Legend at 0x13e29be80>"
      ]
     },
     "execution_count": 13,
     "metadata": {},
     "output_type": "execute_result"
    },
    {
     "data": {
      "image/png": "[encoded data removed]",
      "text/plain": [
       "<Figure size 640x480 with 1 Axes>"
      ]
     },
     "metadata": {},
     "output_type": "display_data"
    }
   ],
   "source": [
    "### 𝛆=1;𝞬=0;Fluxes1=0.1933;Fluxes2=0.2899;Fluxes3=0.0168\n",
    "### 𝛆=1;𝞬=0.2;Fluxes1=0.1893;Fluxes2=0.2839;Fluxes3=0.0268\n",
    "### 𝛆=1;𝞬=0.5;Fluxes1=0.1789;Fluxes2=0.2684;Fluxes3=0.0527\n",
    "### 𝛆=1;𝞬=1;Fluxes1=0.1429;Fluxes2=0.2143;Fluxes3=0.1429\n",
    "### 𝛆=1;𝞬=1.5;Fluxes1=0.0849;Fluxes2=0.1273;Fluxes3=0.2878\n",
    "import matplotlib.pyplot as plt\n",
    "plt.figure()\n",
    "T_list=[0]\n",
    "Fluxes1_list=[0.1429]\n",
    "Fluxes2_list=[0.2143]\n",
    "Fluxes3_list=[0.1429]\n",
    "B1_vals=[0.39]\n",
    "B2_vals=[0.59]\n",
    "B3_vals=[0.02]\n",
    "\n",
    "def B1(t):\n",
    "    if(t<=0):\n",
    "        return 0.39\n",
    "    return B1_vals[int((t-1)/1)]*0.95+0.1*Fluxes1_list[-1]\n",
    "def B2(t):\n",
    "    if(t<=0):\n",
    "        return 0.59\n",
    "    return B2_vals[int((t-1)/1)]*0.95+0.1*Fluxes2_list[-1]\n",
    "def B3(t):\n",
    "    if(t<=0):\n",
    "        return 0.02\n",
    "    return B3_vals[int((t-1)/1)]*0.95+0.1*Fluxes3_list[-1]\n",
    "\n",
    "A=1\n",
    "for t in np.arange(1,500,1):\n",
    "    B1_t = B1(t)\n",
    "    B2_t = B2(t)\n",
    "    B3_t = B3(t)\n",
    "    \n",
    "#     B1_vals.append(B1_t)\n",
    "#     B2_vals.append(B2_t)\n",
    "#     B3_vals.append(B3_t)\n",
    "    \n",
    "    b1=0.5*0.2*B1_vals[-1]*(math.pow(B2_vals[-1],1))*(math.pow(B3_vals[-1],A))/(0.2*B1_vals[-1]*(math.pow(B2_vals[-1],1))*(math.pow(B3_vals[-1],A))+0.3*B2_vals[-1]*(math.pow(B1_vals[-1],1))*(math.pow(B3_vals[-1],A))+0.2*B3_vals[-1]*(math.pow(B1_vals[-1],A))*(math.pow(B2_vals[-1],A))) \n",
    "    b2=0.5*0.3*B2_vals[-1]*(math.pow(B1_vals[-1],1))*(math.pow(B3_vals[-1],A))/(0.2*B1_vals[-1]*(math.pow(B2_vals[-1],1))*(math.pow(B3_vals[-1],A))+0.3*B2_vals[-1]*(math.pow(B1_vals[-1],1))*(math.pow(B3_vals[-1],A))+0.2*B3_vals[-1]*(math.pow(B1_vals[-1],A))*(math.pow(B2_vals[-1],A)))\n",
    "    b3=0.5*0.2*B3_vals[-1]*(math.pow(B1_vals[-1],A))*(math.pow(B2_vals[-1],A))/(0.2*B1_vals[-1]*(math.pow(B2_vals[-1],1))*(math.pow(B3_vals[-1],A))+0.3*B2_vals[-1]*(math.pow(B1_vals[-1],1))*(math.pow(B3_vals[-1],A))+0.2*B3_vals[-1]*(math.pow(B1_vals[-1],A))*(math.pow(B2_vals[-1],A)))\n",
    "    \n",
    "    B1_vals.append(B1_t)\n",
    "    B2_vals.append(B2_t)\n",
    "    B3_vals.append(B3_t)\n",
    "   \n",
    "    model2.reactions.biomass1.upper_bound=b1\n",
    "    model2.reactions.biomass2.upper_bound=b2\n",
    "    model2.reactions.biomass3.upper_bound=b3\n",
    "    model2.reactions.DI1X.upper_bound=3*B1_vals[-1]\n",
    "    model2.reactions.DI2Y.upper_bound=3*B2_vals[-1]\n",
    "    model2.reactions.DI3X.upper_bound=3*B3_vals[-1]\n",
    "    sol = model2.optimize()\n",
    "    obj_val = sol.objective_value\n",
    "    Fluxes1=sol.fluxes.loc['biomass1']\n",
    "    Fluxes2=sol.fluxes.loc['biomass2']\n",
    "    Fluxes3=sol.fluxes.loc['biomass3']\n",
    "  \n",
    "    Fluxes1_list.append(Fluxes1)\n",
    "    Fluxes2_list.append(Fluxes2)\n",
    "    Fluxes3_list.append(Fluxes3)\n",
    "\n",
    "    T=t/10\n",
    "    T_list.append(T)\n",
    "print(Fluxes1_list[0],Fluxes2_list[0],Fluxes3_list[0])\n",
    "# plt.scatter(T_list,Fluxes1_list,color='orange',s=10)\n",
    "# plt.scatter(T_list,Fluxes2_list,color='purple',s=10)\n",
    "# plt.scatter(T_list,Fluxes3_list,color='red',s=10)\n",
    "plt.scatter(T_list,B1_vals,color='orange',s=10)\n",
    "plt.scatter(T_list,B2_vals,color='purple',s=10)\n",
    "plt.scatter(T_list,B3_vals,color='red',s=10)\n",
    "\n",
    "\n",
    "plt.xlabel(\"t (month)\",fontsize=15)\n",
    "plt.title('Stepwise growth (µ1=µ3=0.2, µ2=0.3; 'r'$\\varepsilon=1$''; 'r'$\\gamma=1$'')',fontsize=12)\n",
    "\n",
    "# plt.ylabel(\"Biomass value (B) and biomass synthesis rate (b)\")\n",
    "# plt.legend(['b1(t)','b2(t)','b3(t)','B1(t)','B2(t)','B3(t)'])\n",
    "\n",
    "plt.ylim(0,1)\n",
    "plt.ylabel(\"Cell number (billions)\",fontsize=12)\n",
    "plt.legend(['B1(t)','B2(t)','B3(t)'],loc='upper right')\n",
    "\n",
    "# plt.ylim(0,0.5)\n",
    "# plt.ylabel(\"Biomass synthesis rate\",fontsize=12)\n",
    "# plt.legend(['b1(t)','b2(t)','b3(t)'],loc='upper right')\n",
    "\n",
    "plt.rc('xtick', labelsize=16) \n",
    "plt.rc('ytick', labelsize=16)\n",
    "plt.rcParams['legend.fontsize'] = 15\n",
    "plt.tight_layout()\n",
    "# plt.show()\n",
    "plt.savefig('Regulation among three cell types (Obj=b1+b2+b3)',dpi=600)"
   ]
  },
  {
   "cell_type": "code",
   "execution_count": 99,
   "metadata": {},
   "outputs": [
    {
     "name": "stdout",
     "output_type": "stream",
     "text": [
      "0.15285210495855547 0.22927815743783317 0.1178697376036113\n"
     ]
    }
   ],
   "source": [
    "print(Fluxes1_list[-1],Fluxes2_list[-1],Fluxes3_list[-1])"
   ]
  },
  {
   "cell_type": "code",
   "execution_count": 100,
   "metadata": {},
   "outputs": [
    {
     "name": "stdout",
     "output_type": "stream",
     "text": [
      "0.305704209917096 0.4585563148756829 0.2357394752072202\n"
     ]
    }
   ],
   "source": [
    "print(B1_vals[-1], B2_vals[-1], B3_vals[-1])"
   ]
  },
  {
   "cell_type": "markdown",
   "metadata": {},
   "source": [
    "### Regulation method II (Cell type3 did not regulate other two.)"
   ]
  },
  {
   "cell_type": "code",
   "execution_count": 23,
   "metadata": {},
   "outputs": [],
   "source": [
    "import math\n",
    "model1=model.copy()\n",
    "model2=model1.copy()"
   ]
  },
  {
   "cell_type": "code",
   "execution_count": 24,
   "metadata": {},
   "outputs": [
    {
     "data": {
      "text/plain": [
       "<Figure size 640x480 with 0 Axes>"
      ]
     },
     "execution_count": 24,
     "metadata": {},
     "output_type": "execute_result"
    },
    {
     "name": "stdout",
     "output_type": "stream",
     "text": [
      "0.1933 0.2899 0.0168\n"
     ]
    },
    {
     "data": {
      "text/plain": [
       "<matplotlib.collections.PathCollection at 0x141cf9540>"
      ]
     },
     "execution_count": 24,
     "metadata": {},
     "output_type": "execute_result"
    },
    {
     "data": {
      "text/plain": [
       "<matplotlib.collections.PathCollection at 0x13efa7dc0>"
      ]
     },
     "execution_count": 24,
     "metadata": {},
     "output_type": "execute_result"
    },
    {
     "data": {
      "text/plain": [
       "<matplotlib.collections.PathCollection at 0x13ef5ec50>"
      ]
     },
     "execution_count": 24,
     "metadata": {},
     "output_type": "execute_result"
    },
    {
     "data": {
      "text/plain": [
       "Text(0.5, 0, 't (month)')"
      ]
     },
     "execution_count": 24,
     "metadata": {},
     "output_type": "execute_result"
    },
    {
     "data": {
      "text/plain": [
       "Text(0.5, 1.0, 'Stepwise growth (µ1=µ3=0.2, µ2=0.3; $\\\\varepsilon=1$; $\\\\gamma=0$)')"
      ]
     },
     "execution_count": 24,
     "metadata": {},
     "output_type": "execute_result"
    },
    {
     "data": {
      "text/plain": [
       "(0.0, 1.0)"
      ]
     },
     "execution_count": 24,
     "metadata": {},
     "output_type": "execute_result"
    },
    {
     "data": {
      "text/plain": [
       "Text(0, 0.5, 'Cell number (billions)')"
      ]
     },
     "execution_count": 24,
     "metadata": {},
     "output_type": "execute_result"
    },
    {
     "data": {
      "text/plain": [
       "<matplotlib.legend.Legend at 0x13ef24d00>"
      ]
     },
     "execution_count": 24,
     "metadata": {},
     "output_type": "execute_result"
    },
    {
     "data": {
      "image/png": "[encoded data removed]",
      "text/plain": [
       "<Figure size 640x480 with 1 Axes>"
      ]
     },
     "metadata": {},
     "output_type": "display_data"
    }
   ],
   "source": [
    "### 𝛆=1;𝞬=0;Fluxes1=0.1933;Fluxes1=0.2899;Fluxes1=0.0168\n",
    "### 𝛆=1;𝞬=0.2;Fluxes1=0.1950;Fluxes2=0.2924;Fluxes3=0.0126\n",
    "### 𝛆=1;𝞬=0.3;Fluxes1=0.1956;Fluxes2=0.2934;Fluxes3=0.0110\n",
    "### 𝛆=1;𝞬=0.4;Fluxes1=0.1962;Fluxes2=0.2943;Fluxes3=0.0095\n",
    "### 𝛆=1;𝞬=0.5;Fluxes1=0.1967;Fluxes2=0.2951;Fluxes3=0.0082\n",
    "\n",
    "import matplotlib.pyplot as plt\n",
    "plt.figure()\n",
    "T_list=[0]\n",
    "Fluxes1_list=[0.1933]\n",
    "Fluxes2_list=[0.2899]\n",
    "Fluxes3_list=[0.0168]\n",
    "B1_vals=[0.39]\n",
    "B2_vals=[0.59]\n",
    "B3_vals=[0.02]\n",
    "\n",
    "def B1(t):\n",
    "    if(t<=0):\n",
    "        return 0.39\n",
    "    return B1_vals[int((t-1)/1)]*0.95+0.1*Fluxes1_list[-1]\n",
    "def B2(t):\n",
    "    if(t<=0):\n",
    "        return 0.59\n",
    "    return B2_vals[int((t-1)/1)]*0.95+0.1*Fluxes2_list[-1]\n",
    "def B3(t):\n",
    "    if(t<=0):\n",
    "        return 0.02\n",
    "    return B3_vals[int((t-1)/1)]*0.95+0.1*Fluxes3_list[-1]\n",
    "\n",
    "A=0\n",
    "for t in np.arange(1,2000,1):\n",
    "    B1_t = B1(t)\n",
    "    B2_t = B2(t)\n",
    "    B3_t = B3(t)\n",
    "    \n",
    "#     B1_vals.append(B1_t)\n",
    "#     B2_vals.append(B2_t)\n",
    "#     B3_vals.append(B3_t)\n",
    "\n",
    "    b1=0.5*0.2*B1_vals[-1]*(math.pow(B2_vals[-1],1))/(0.2*B1_vals[-1]*(math.pow(B2_vals[-1],1))+0.3*B2_vals[-1]*(math.pow(B1_vals[-1],1))+0.2*B3_vals[-1]*(math.pow(B1_vals[-1],A))*(math.pow(B2_vals[-1],A))) \n",
    "    b2=0.5*0.3*B2_vals[-1]*(math.pow(B1_vals[-1],1))/(0.2*B1_vals[-1]*(math.pow(B2_vals[-1],1))+0.3*B2_vals[-1]*(math.pow(B1_vals[-1],1))+0.2*B3_vals[-1]*(math.pow(B1_vals[-1],A))*(math.pow(B2_vals[-1],A)))\n",
    "    b3=0.5*0.2*B3_vals[-1]*(math.pow(B1_vals[-1],A))*(math.pow(B2_vals[-1],A))/(0.2*B1_vals[-1]*(math.pow(B2_vals[-1],1))+0.3*B2_vals[-1]*(math.pow(B1_vals[-1],1))+0.2*B3_vals[-1]*(math.pow(B1_vals[-1],A))*(math.pow(B2_vals[-1],A)))\n",
    "    \n",
    "    B1_vals.append(B1_t)\n",
    "    B2_vals.append(B2_t)\n",
    "    B3_vals.append(B3_t)\n",
    "   \n",
    "    model2.reactions.biomass1.upper_bound=b1\n",
    "    model2.reactions.biomass2.upper_bound=b2\n",
    "    model2.reactions.biomass3.upper_bound=b3\n",
    "    model2.reactions.DI1X.upper_bound=3*B1_vals[-1]\n",
    "    model2.reactions.DI2Y.upper_bound=3*B2_vals[-1]\n",
    "    model2.reactions.DI3X.upper_bound=3*B3_vals[-1]\n",
    "    sol = model2.optimize()\n",
    "    obj_val = sol.objective_value\n",
    "    Fluxes1=sol.fluxes.loc['biomass1']\n",
    "    Fluxes2=sol.fluxes.loc['biomass2']\n",
    "    Fluxes3=sol.fluxes.loc['biomass3']\n",
    "  \n",
    "    Fluxes1_list.append(Fluxes1)\n",
    "    Fluxes2_list.append(Fluxes2)\n",
    "    Fluxes3_list.append(Fluxes3)\n",
    "    \n",
    "    T=t/10\n",
    "    T_list.append(T)\n",
    "print(Fluxes1_list[0],Fluxes2_list[0],Fluxes3_list[0])\n",
    "\n",
    "# plt.scatter(T_list,Fluxes1_list,color='orange',s=10)\n",
    "# plt.scatter(T_list,Fluxes2_list,color='purple',s=10)\n",
    "# plt.scatter(T_list,Fluxes3_list,color='red',s=10)\n",
    "plt.scatter(T_list,B1_vals,color='orange',s=10)\n",
    "plt.scatter(T_list,B2_vals,color='purple',s=10)\n",
    "plt.scatter(T_list,B3_vals,color='red',s=10)\n",
    "\n",
    "plt.xlabel(\"t (month)\",fontsize=15)\n",
    "plt.title('Stepwise growth (µ1=µ3=0.2, µ2=0.3; 'r'$\\varepsilon=1$''; 'r'$\\gamma=0$'')',fontsize=12)\n",
    "# plt.ylabel(\"Biomass value (B) and biomass synthesis rate (b)\")\n",
    "# plt.legend(['b1','b2','b3','B1','B2','B3'])\n",
    "\n",
    "plt.ylim(0,1)\n",
    "plt.ylabel(\"Cell number (billions)\",fontsize=12)\n",
    "plt.legend(['B1(t)','B2(t)','B3(t)'],loc='upper right')\n",
    "\n",
    "# plt.ylim(0,0.5)\n",
    "# plt.ylabel(\"Biomass synthesis rate\",fontsize=12)\n",
    "# plt.legend(['b1(t)','b2(t)','b3(t)'],loc='upper right')\n",
    "\n",
    "plt.rc('xtick', labelsize=16) \n",
    "plt.rc('ytick', labelsize=16)\n",
    "plt.rcParams['legend.fontsize'] = 15\n",
    "plt.tight_layout()\n",
    "# plt.show()\n",
    "plt.savefig('Regulation for the third cell type (Obj=b1+b2+b3)',dpi=600)"
   ]
  },
  {
   "cell_type": "markdown",
   "metadata": {},
   "source": [
    "### Regulation method III (Cell type3 and cell type2 only regulated each other.)"
   ]
  },
  {
   "cell_type": "code",
   "execution_count": 236,
   "metadata": {},
   "outputs": [],
   "source": [
    "import math\n",
    "model1=model.copy()\n",
    "model2=model1.copy()"
   ]
  },
  {
   "cell_type": "code",
   "execution_count": 238,
   "metadata": {},
   "outputs": [
    {
     "data": {
      "text/plain": [
       "<Figure size 640x480 with 0 Axes>"
      ]
     },
     "execution_count": 238,
     "metadata": {},
     "output_type": "execute_result"
    },
    {
     "name": "stdout",
     "output_type": "stream",
     "text": [
      "0.4552 0.0202 0.0246\n"
     ]
    },
    {
     "data": {
      "text/plain": [
       "<matplotlib.collections.PathCollection at 0x150eb9f90>"
      ]
     },
     "execution_count": 238,
     "metadata": {},
     "output_type": "execute_result"
    },
    {
     "data": {
      "text/plain": [
       "<matplotlib.collections.PathCollection at 0x153045270>"
      ]
     },
     "execution_count": 238,
     "metadata": {},
     "output_type": "execute_result"
    },
    {
     "data": {
      "text/plain": [
       "<matplotlib.collections.PathCollection at 0x1457ae8c0>"
      ]
     },
     "execution_count": 238,
     "metadata": {},
     "output_type": "execute_result"
    },
    {
     "data": {
      "text/plain": [
       "Text(0.5, 0, 'time (h)')"
      ]
     },
     "execution_count": 238,
     "metadata": {},
     "output_type": "execute_result"
    },
    {
     "data": {
      "text/plain": [
       "Text(0.5, 1.0, 'Stepwise growth (µ1=µ3=0.2, µ2=0.3; δ=1; $\\\\gamma=0.9$)')"
      ]
     },
     "execution_count": 238,
     "metadata": {},
     "output_type": "execute_result"
    },
    {
     "data": {
      "text/plain": [
       "(0.0, 1.0)"
      ]
     },
     "execution_count": 238,
     "metadata": {},
     "output_type": "execute_result"
    },
    {
     "data": {
      "text/plain": [
       "Text(0, 0.5, 'Cell number')"
      ]
     },
     "execution_count": 238,
     "metadata": {},
     "output_type": "execute_result"
    },
    {
     "data": {
      "text/plain": [
       "<matplotlib.legend.Legend at 0x150ebbe80>"
      ]
     },
     "execution_count": 238,
     "metadata": {},
     "output_type": "execute_result"
    },
    {
     "data": {
      "image/png": "[encoded data removed]",
      "text/plain": [
       "<Figure size 640x480 with 1 Axes>"
      ]
     },
     "metadata": {},
     "output_type": "display_data"
    }
   ],
   "source": [
    "### 𝛆=1\n",
    "import matplotlib.pyplot as plt\n",
    "plt.figure()\n",
    "T_list=[0]\n",
    "Fluxes1_list=[0.4552]\n",
    "Fluxes2_list=[0.0202]\n",
    "Fluxes3_list=[0.0246]\n",
    "B1_vals=[0.39]\n",
    "B2_vals=[0.59]\n",
    "B3_vals=[0.02]\n",
    "\n",
    "def B1(t):\n",
    "    if(t<=0):\n",
    "        return 0.39\n",
    "    return B1_vals[int((t-1)/1)]*0.95+0.1*Fluxes1_list[-1]\n",
    "def B2(t):\n",
    "    if(t<=0):\n",
    "        return 0.59\n",
    "    return B2_vals[int((t-1)/1)]*0.95+0.1*Fluxes2_list[-1]\n",
    "def B3(t):\n",
    "    if(t<=0):\n",
    "        return 0.02\n",
    "    return B3_vals[int((t-1)/1)]*0.95+0.1*Fluxes3_list[-1]\n",
    "\n",
    "for t in np.arange(1,2000,1):\n",
    "    B1_t = B1(t)\n",
    "    B2_t = B2(t)\n",
    "    B3_t = B3(t)\n",
    "#     B1_vals.append(B1_t)\n",
    "#     B2_vals.append(B2_t)\n",
    "#     B3_vals.append(B3_t)\n",
    "    b1=0.5*0.2*B1_vals[-1]*(math.pow(B2_vals[-1],1))/(0.2*B1_vals[-1]*(math.pow(B2_vals[-1],1))+0.3*B2_vals[-1]*(math.pow(B1_vals[-1],1))*(math.pow(B3_vals[-1],0.9))+0.2*B3_vals[-1]*(math.pow(B2_vals[-1],0.9))) \n",
    "    b2=0.5*0.3*B2_vals[-1]*(math.pow(B1_vals[-1],1))*(math.pow(B3_vals[-1],0.9))/(0.2*B1_vals[-1]*(math.pow(B2_vals[-1],1))+0.3*B2_vals[-1]*(math.pow(B1_vals[-1],1))*(math.pow(B3_vals[-1],0.9))+0.2*B3_vals[-1]*(math.pow(B2_vals[-1],0.9)))\n",
    "    b3=0.5*0.2*B3_vals[-1]*(math.pow(B2_vals[-1],0.9))/(0.2*B1_vals[-1]*(math.pow(B2_vals[-1],1))+0.3*B2_vals[-1]*(math.pow(B1_vals[-1],1))*(math.pow(B3_vals[-1],0.9))+0.2*B3_vals[-1]*(math.pow(B2_vals[-1],0.9)))\n",
    "    B1_vals.append(B1_t)\n",
    "    B2_vals.append(B2_t)\n",
    "    B3_vals.append(B3_t)\n",
    "   \n",
    "    model2.reactions.biomass1.upper_bound=b1\n",
    "    model2.reactions.biomass2.upper_bound=b2\n",
    "    model2.reactions.biomass3.upper_bound=b3\n",
    "    model2.reactions.DI1X.upper_bound=3*B1_vals[-1]\n",
    "    model2.reactions.DI2Y.upper_bound=3*B2_vals[-1]\n",
    "    model2.reactions.DI3X.upper_bound=3*B3_vals[-1]\n",
    "    sol = model2.optimize()\n",
    "    obj_val = sol.objective_value\n",
    "    Fluxes1=sol.fluxes.loc['biomass1']\n",
    "    Fluxes2=sol.fluxes.loc['biomass2']\n",
    "    Fluxes3=sol.fluxes.loc['biomass3']\n",
    "  \n",
    "    Fluxes1_list.append(Fluxes1)\n",
    "    Fluxes2_list.append(Fluxes2)\n",
    "    Fluxes3_list.append(Fluxes3)\n",
    "    T=t/10\n",
    "    T_list.append(T)        \n",
    "print(Fluxes1_list[0],Fluxes2_list[0],Fluxes3_list[0])\n",
    "\n",
    "# plt.scatter(T_list,Fluxes1_list,color='orange',s=10)\n",
    "# plt.scatter(T_list,Fluxes2_list,color='purple',s=10)\n",
    "# plt.scatter(T_list,Fluxes3_list,color='red',s=10)\n",
    "plt.scatter(T_list,B1_vals,color='orange',s=10)\n",
    "plt.scatter(T_list,B2_vals,color='purple',s=10)\n",
    "plt.scatter(T_list,B3_vals,color='red',s=10)\n",
    "\n",
    "plt.xlabel(\"time (h)\",fontsize=15)\n",
    "plt.title('Stepwise growth (µ1=µ3=0.2, µ2=0.3; 'r'$\\varepsilon=1$''; 'r'$\\gamma=0.9$'')',fontsize=12)\n",
    "# plt.ylabel(\"Biomass value (B) and biomass synthesis rate (b)\")\n",
    "# plt.legend(['b1','b2','b3','B1','B2','B3'])\n",
    "plt.ylim(0,1)\n",
    "plt.ylabel(\"Cell number\",fontsize=12)\n",
    "plt.legend(['B1(t)','B2(t)','B3(t)'],loc='upper right')\n",
    "\n",
    "# plt.ylim(0,0.5)\n",
    "# plt.ylabel(\"Biomass synthesis rate\",fontsize=12)\n",
    "# plt.legend(['b1(t)','b2(t)','b3(t)'],loc='upper right')\n",
    "\n",
    "plt.rc('xtick', labelsize=16) \n",
    "plt.rc('ytick', labelsize=16)\n",
    "plt.rcParams['legend.fontsize'] = 15\n",
    "plt.tight_layout()\n",
    "# plt.show()\n",
    "plt.savefig('Regulation for the third cell type (Obj=b1+b2+b3)',dpi=300)"
   ]
  },
  {
   "cell_type": "markdown",
   "metadata": {},
   "source": [
    "### Regulation method IV (Cell type3 only regulated by cell type2.)"
   ]
  },
  {
   "cell_type": "code",
   "execution_count": 88,
   "metadata": {},
   "outputs": [],
   "source": [
    "import math\n",
    "model1=model.copy()\n",
    "model2=model1.copy()"
   ]
  },
  {
   "cell_type": "code",
   "execution_count": 89,
   "metadata": {},
   "outputs": [
    {
     "data": {
      "text/plain": [
       "<Figure size 640x480 with 0 Axes>"
      ]
     },
     "execution_count": 89,
     "metadata": {},
     "output_type": "execute_result"
    },
    {
     "name": "stdout",
     "output_type": "stream",
     "text": [
      "0.1948 0.2922 0.013\n"
     ]
    },
    {
     "data": {
      "text/plain": [
       "<matplotlib.collections.PathCollection at 0x14f194e80>"
      ]
     },
     "execution_count": 89,
     "metadata": {},
     "output_type": "execute_result"
    },
    {
     "data": {
      "text/plain": [
       "<matplotlib.collections.PathCollection at 0x14f195240>"
      ]
     },
     "execution_count": 89,
     "metadata": {},
     "output_type": "execute_result"
    },
    {
     "data": {
      "text/plain": [
       "<matplotlib.collections.PathCollection at 0x14e517f70>"
      ]
     },
     "execution_count": 89,
     "metadata": {},
     "output_type": "execute_result"
    },
    {
     "data": {
      "text/plain": [
       "Text(0.5, 0, 'time (h)')"
      ]
     },
     "execution_count": 89,
     "metadata": {},
     "output_type": "execute_result"
    },
    {
     "data": {
      "text/plain": [
       "Text(0.5, 1.0, 'Stepwise growth (µ1=µ3=0.2, µ2=0.3; $\\\\varepsilon=1$; $\\\\gamma=0$)')"
      ]
     },
     "execution_count": 89,
     "metadata": {},
     "output_type": "execute_result"
    },
    {
     "data": {
      "text/plain": [
       "(0.0, 0.5)"
      ]
     },
     "execution_count": 89,
     "metadata": {},
     "output_type": "execute_result"
    },
    {
     "data": {
      "text/plain": [
       "Text(0, 0.5, 'Biomass synthesis rate')"
      ]
     },
     "execution_count": 89,
     "metadata": {},
     "output_type": "execute_result"
    },
    {
     "data": {
      "text/plain": [
       "<matplotlib.legend.Legend at 0x14f1942b0>"
      ]
     },
     "execution_count": 89,
     "metadata": {},
     "output_type": "execute_result"
    },
    {
     "data": {
      "image/png": "[encoded data removed]",
      "text/plain": [
       "<Figure size 640x480 with 1 Axes>"
      ]
     },
     "metadata": {},
     "output_type": "display_data"
    }
   ],
   "source": [
    "### 𝛆=1;𝞬=0;Fluxes1=0.1933;Fluxes1=0.2899;Fluxes1=0.0168\n",
    "### 𝛆=1;𝞬=0.5;Fluxes1=0.1948;Fluxes1=0.2922;Fluxes1=0.0130\n",
    "### 𝛆=1;𝞬=0.8;Fluxes1=0.1955;Fluxes1=0.2933;Fluxes1=0.0112\n",
    "### 𝛆=1;𝞬=1;Fluxes1=0.1960;Fluxes1=0.2940;Fluxes1=0.0101\n",
    "\n",
    "import matplotlib.pyplot as plt\n",
    "plt.figure()\n",
    "T_list=[0]\n",
    "Fluxes1_list=[0.1948]\n",
    "Fluxes2_list=[0.2922]\n",
    "Fluxes3_list=[0.0130]\n",
    "B1_vals=[0.39]\n",
    "B2_vals=[0.59]\n",
    "B3_vals=[0.02]\n",
    "\n",
    "def B1(t):\n",
    "    if(t<=0):\n",
    "        return 0.39\n",
    "    return B1_vals[int((t-1)/1)]*0.95+0.1*Fluxes1_list[-1]\n",
    "def B2(t):\n",
    "    if(t<=0):\n",
    "        return 0.59\n",
    "    return B2_vals[int((t-1)/1)]*0.95+0.1*Fluxes2_list[-1]\n",
    "def B3(t):\n",
    "    if(t<=0):\n",
    "        return 0.02\n",
    "    return B3_vals[int((t-1)/1)]*0.95+0.1*Fluxes3_list[-1]\n",
    "A=0.5\n",
    "for t in np.arange(1,2000,1):\n",
    "    B1_t = B1(t)\n",
    "    B2_t = B2(t)\n",
    "    B3_t = B3(t)\n",
    "#     B1_vals.append(B1_t)\n",
    "#     B2_vals.append(B2_t)\n",
    "#     B3_vals.append(B3_t)\n",
    "\n",
    "    b1=0.5*0.2*B1_vals[-1]*(math.pow(B2_vals[-1],1))/(0.2*B1_vals[-1]*(math.pow(B2_vals[-1],1))+0.3*B2_vals[-1]*(math.pow(B1_vals[-1],1))+0.2*B3_vals[-1]*(math.pow(B2_vals[-1],A))) \n",
    "    b2=0.5*0.3*B2_vals[-1]*(math.pow(B1_vals[-1],1))/(0.2*B1_vals[-1]*(math.pow(B2_vals[-1],1))+0.3*B2_vals[-1]*(math.pow(B1_vals[-1],1))+0.2*B3_vals[-1]*(math.pow(B2_vals[-1],A)))\n",
    "    b3=0.5*0.2*B3_vals[-1]*(math.pow(B2_vals[-1],A))/(0.2*B1_vals[-1]*(math.pow(B2_vals[-1],1))+0.3*B2_vals[-1]*(math.pow(B1_vals[-1],1))+0.2*B3_vals[-1]*(math.pow(B2_vals[-1],A)))\n",
    "    \n",
    "    B1_vals.append(B1_t)\n",
    "    B2_vals.append(B2_t)\n",
    "    B3_vals.append(B3_t) \n",
    "        \n",
    "    model2.reactions.biomass1.upper_bound=b1\n",
    "    model2.reactions.biomass2.upper_bound=b2\n",
    "    model2.reactions.biomass3.upper_bound=b3\n",
    "    model2.reactions.DI1X.upper_bound=3*B1_vals[-1]\n",
    "    model2.reactions.DI2Y.upper_bound=3*B2_vals[-1]\n",
    "    model2.reactions.DI3X.upper_bound=3*B3_vals[-1]\n",
    "    sol = model2.optimize()\n",
    "    obj_val = sol.objective_value\n",
    "    Fluxes1=sol.fluxes.loc['biomass1']\n",
    "    Fluxes2=sol.fluxes.loc['biomass2']\n",
    "    Fluxes3=sol.fluxes.loc['biomass3']\n",
    "    Fluxes1_list.append(Fluxes1)\n",
    "    Fluxes2_list.append(Fluxes2)\n",
    "    Fluxes3_list.append(Fluxes3)\n",
    "    T=t/10\n",
    "    T_list.append(T)        \n",
    "print(Fluxes1_list[0],Fluxes2_list[0],Fluxes3_list[0])\n",
    "\n",
    "plt.scatter(T_list,Fluxes1_list,color='orange',s=10)\n",
    "plt.scatter(T_list,Fluxes2_list,color='purple',s=10)\n",
    "plt.scatter(T_list,Fluxes3_list,color='red',s=10)\n",
    "# plt.scatter(T_list,B1_vals,color='orange',s=10)\n",
    "# plt.scatter(T_list,B2_vals,color='purple',s=10)\n",
    "# plt.scatter(T_list,B3_vals,color='red',s=10)\n",
    "\n",
    "plt.xlabel(\"time (h)\",fontsize=15)\n",
    "plt.title('Stepwise growth (µ1=µ3=0.2, µ2=0.3; 'r'$\\varepsilon=1$''; 'r'$\\gamma=0$'')',fontsize=12)\n",
    "# plt.ylabel(\"Biomass value (B) and biomass synthesis rate (b)\")\n",
    "# plt.legend(['b1','b2','b3','B1','B2','B3'])\n",
    "# plt.ylim(0,1)\n",
    "# plt.ylabel(\"Cell number\",fontsize=12)\n",
    "# plt.legend(['B1(t)','B2(t)','B3(t)'],loc='upper right')\n",
    "\n",
    "plt.ylim(0,0.5)\n",
    "plt.ylabel(\"Biomass synthesis rate\",fontsize=12)\n",
    "plt.legend(['b1(t)','b2(t)','b3(t)'],loc='upper right')\n",
    "\n",
    "plt.rc('xtick', labelsize=16) \n",
    "plt.rc('ytick', labelsize=16)\n",
    "plt.rcParams['legend.fontsize'] = 15\n",
    "plt.tight_layout()\n",
    "plt.show()\n",
    "# plt.savefig('Regulation for the third cell type (Obj=b1+b2+b3)',dpi=300)"
   ]
  },
  {
   "cell_type": "code",
   "execution_count": null,
   "metadata": {},
   "outputs": [],
   "source": []
  },
  {
   "cell_type": "markdown",
   "metadata": {},
   "source": [
    "## Treatment evaluation"
   ]
  },
  {
   "cell_type": "markdown",
   "metadata": {},
   "source": [
    "### Therapy 1 (Decreasing the tumor cell number only (specific drugs))"
   ]
  },
  {
   "cell_type": "code",
   "execution_count": 36,
   "metadata": {},
   "outputs": [],
   "source": [
    "import math\n",
    "model1=model.copy()\n",
    "model2=model1.copy()"
   ]
  },
  {
   "cell_type": "code",
   "execution_count": 37,
   "metadata": {
    "scrolled": false
   },
   "outputs": [
    {
     "data": {
      "text/plain": [
       "<Figure size 640x480 with 0 Axes>"
      ]
     },
     "execution_count": 37,
     "metadata": {},
     "output_type": "execute_result"
    },
    {
     "name": "stdout",
     "output_type": "stream",
     "text": [
      "0.1318 0.1978 0.1704\n"
     ]
    },
    {
     "data": {
      "text/plain": [
       "<matplotlib.collections.PathCollection at 0x1388a6ef0>"
      ]
     },
     "execution_count": 37,
     "metadata": {},
     "output_type": "execute_result"
    },
    {
     "data": {
      "text/plain": [
       "<matplotlib.collections.PathCollection at 0x1388a7370>"
      ]
     },
     "execution_count": 37,
     "metadata": {},
     "output_type": "execute_result"
    },
    {
     "data": {
      "text/plain": [
       "<matplotlib.collections.PathCollection at 0x13864bac0>"
      ]
     },
     "execution_count": 37,
     "metadata": {},
     "output_type": "execute_result"
    },
    {
     "data": {
      "text/plain": [
       "Text(0.5, 0, 'time (h)')"
      ]
     },
     "execution_count": 37,
     "metadata": {},
     "output_type": "execute_result"
    },
    {
     "data": {
      "text/plain": [
       "(0.0, 1.0)"
      ]
     },
     "execution_count": 37,
     "metadata": {},
     "output_type": "execute_result"
    },
    {
     "data": {
      "text/plain": [
       "Text(0, 0.5, 'Cell number')"
      ]
     },
     "execution_count": 37,
     "metadata": {},
     "output_type": "execute_result"
    },
    {
     "data": {
      "text/plain": [
       "<matplotlib.legend.Legend at 0x1386bf1c0>"
      ]
     },
     "execution_count": 37,
     "metadata": {},
     "output_type": "execute_result"
    },
    {
     "data": {
      "image/png": "[encoded data removed]",
      "text/plain": [
       "<Figure size 640x480 with 1 Axes>"
      ]
     },
     "metadata": {},
     "output_type": "display_data"
    }
   ],
   "source": [
    "### 𝛆=1\n",
    "import matplotlib.pyplot as plt\n",
    "plt.figure()\n",
    "T_list=[12.1]\n",
    "Fluxes1_list=[0.1318]\n",
    "Fluxes2_list=[0.1978]\n",
    "Fluxes3_list=[0.1704]\n",
    "B1_vals=[0.2042]\n",
    "B2_vals=[0.3064]\n",
    "B3_vals=[0.0809]\n",
    "\n",
    "def B1(t):\n",
    "    if(t<=121):\n",
    "        return 0.2042\n",
    "    return B1_vals[int((t-122)/1)]*0.95+0.1*Fluxes1_list[-1]\n",
    "def B2(t):\n",
    "    if(t<=121):\n",
    "        return 0.3064\n",
    "    return B2_vals[int((t-122)/1)]*0.95+0.1*Fluxes2_list[-1]\n",
    "def B3(t):\n",
    "    if(t<=121):\n",
    "        return 0.0809\n",
    "    return B3_vals[int((t-122)/1)]*0.85+0.1*Fluxes3_list[-1]\n",
    "\n",
    "for t in np.arange(122,500,1):\n",
    "    B1_t = B1(t)\n",
    "    B2_t = B2(t)\n",
    "    B3_t = B3(t)\n",
    "#     B1_vals.append(B1_t)\n",
    "#     B2_vals.append(B2_t)\n",
    "#     B3_vals.append(B3_t)\n",
    "        \n",
    "    b1=0.5*0.2*B1_vals[-1]*(math.pow(B2_vals[-1],1))/(0.2*B1_vals[-1]*(math.pow(B2_vals[-1],1))+0.3*B2_vals[-1]*(math.pow(B1_vals[-1],1))+0.2*B3_vals[-1])\n",
    "    b2=0.5*0.3*B2_vals[-1]*(math.pow(B1_vals[-1],1))/(0.2*B1_vals[-1]*(math.pow(B2_vals[-1],1))+0.3*B2_vals[-1]*(math.pow(B1_vals[-1],1))+0.2*B3_vals[-1])\n",
    "    b3=0.5*0.2*B3_vals[-1]/(0.2*B1_vals[-1]*(math.pow(B2_vals[-1],1))+0.3*B2_vals[-1]*(math.pow(B1_vals[-1],1))+0.2*B3_vals[-1])\n",
    "    B1_vals.append(B1_t)\n",
    "    B2_vals.append(B2_t)\n",
    "    B3_vals.append(B3_t)\n",
    "    \n",
    "    model2.reactions.biomass3.upper_bound=b3\n",
    "    model2.reactions.biomass2.upper_bound=b2\n",
    "    model2.reactions.biomass1.upper_bound=b1\n",
    "    model2.reactions.DI1X.upper_bound=3*B1_vals[-1]\n",
    "    model2.reactions.DI2Y.upper_bound=3*B2_vals[-1]\n",
    "    model2.reactions.DI3X.upper_bound=3*B3_vals[-1]\n",
    "    sol = model2.optimize()\n",
    "    obj_val = sol.objective_value\n",
    "    Fluxes3=sol.fluxes.loc['biomass3']\n",
    "    Fluxes2=sol.fluxes.loc['biomass2']\n",
    "    Fluxes1=sol.fluxes.loc['biomass1']\n",
    "\n",
    "    Fluxes1_list.append(Fluxes1)\n",
    "    Fluxes2_list.append(Fluxes2)\n",
    "    Fluxes3_list.append(Fluxes3)\n",
    "#     T=t/10\n",
    "    T=t/10\n",
    "    T_list.append(T)        \n",
    "print(Fluxes1_list[0],Fluxes2_list[0],Fluxes3_list[0])\n",
    "\n",
    "# plt.scatter(T_list,Fluxes1_list,color='orange',s=10)\n",
    "# plt.scatter(T_list,Fluxes2_list,color='purple',s=10)\n",
    "# plt.scatter(T_list,Fluxes3_list,color='red',s=10)\n",
    "plt.scatter(T_list,B1_vals,color='orange',s=10)\n",
    "plt.scatter(T_list,B2_vals,color='purple',s=10)\n",
    "plt.scatter(T_list,B3_vals,color='red',s=10)\n",
    "\n",
    "\n",
    "plt.xlabel(\"time (h)\",fontsize=15)\n",
    "# plt.ylim(0,0.5)\n",
    "# plt.ylabel(\"Biomass synthesis rate\", fontsize=12)\n",
    "# plt.legend(['b1(t)','b2(t)','b3(t)'],loc='upper right')\n",
    "\n",
    "plt.ylim(0,1)\n",
    "plt.ylabel(\"Cell number\",fontsize=12)\n",
    "plt.legend(['B1(t)','B2(t)','B3(t)'],loc='upper right')\n",
    "\n",
    "plt.rc('xtick', labelsize=16) \n",
    "plt.rc('ytick', labelsize=16)\n",
    "plt.rcParams['legend.fontsize']=15\n",
    "plt.tight_layout()\n",
    "plt.show()\n",
    "# plt.savefig('Regulation reaction lower bound for biomass1 and biomass2(Obj=b1+b2+b3)(without system break)',dpi=300)"
   ]
  },
  {
   "cell_type": "code",
   "execution_count": 29,
   "metadata": {},
   "outputs": [
    {
     "name": "stderr",
     "output_type": "stream",
     "text": [
      "/var/folders/d7/l6g7ly057s9bcdclxhvjs64h0000gn/T/ipykernel_11062/1325841880.py:15: FutureWarning: save is not part of the public API, usage can give in unexpected results and will be removed in a future version\n",
      "  writer1.save()\n",
      "/var/folders/d7/l6g7ly057s9bcdclxhvjs64h0000gn/T/ipykernel_11062/1325841880.py:16: FutureWarning: save is not part of the public API, usage can give in unexpected results and will be removed in a future version\n",
      "  writer2.save()\n",
      "/var/folders/d7/l6g7ly057s9bcdclxhvjs64h0000gn/T/ipykernel_11062/1325841880.py:17: FutureWarning: save is not part of the public API, usage can give in unexpected results and will be removed in a future version\n",
      "  writer3.save()\n"
     ]
    }
   ],
   "source": [
    "import pandas as pd\n",
    "df1 = pd.DataFrame(columns=['Cell1 number'])\n",
    "df2 = pd.DataFrame(columns=['Cell2 number'])\n",
    "df3 = pd.DataFrame(columns=['Cell3 number'])\n",
    "for i in range(379):\n",
    "    df1.loc[i] = B1_vals[i]\n",
    "    df2.loc[i] = B2_vals[i]\n",
    "    df3.loc[i] = B3_vals[i]\n",
    "writer1 = pd.ExcelWriter(\"cell type1.xlsx\")\n",
    "writer2 = pd.ExcelWriter(\"cell type2.xlsx\")\n",
    "writer3 = pd.ExcelWriter(\"cell type3.xlsx\")\n",
    "df1.to_excel(writer1, sheet_name=\"Cell1\")\n",
    "df2.to_excel(writer2, sheet_name=\"Cell2\")\n",
    "df3.to_excel(writer3, sheet_name=\"Cell3\")\n",
    "writer1.save()\n",
    "writer2.save()\n",
    "writer3.save()\n",
    "writer1.close()\n",
    "writer2.close()\n",
    "writer3.close()"
   ]
  },
  {
   "cell_type": "markdown",
   "metadata": {},
   "source": [
    "### Therapy 2 (Bringing regulation from cell type 2 back for tumor cells biomass synthesis)"
   ]
  },
  {
   "cell_type": "code",
   "execution_count": 251,
   "metadata": {},
   "outputs": [],
   "source": [
    "import math\n",
    "model1=model.copy()\n",
    "model2=model1.copy()"
   ]
  },
  {
   "cell_type": "code",
   "execution_count": 252,
   "metadata": {},
   "outputs": [
    {
     "data": {
      "text/plain": [
       "<Figure size 640x480 with 0 Axes>"
      ]
     },
     "execution_count": 252,
     "metadata": {},
     "output_type": "execute_result"
    },
    {
     "name": "stdout",
     "output_type": "stream",
     "text": [
      "0.1933 0.2899 0.0168\n"
     ]
    },
    {
     "data": {
      "text/plain": [
       "<matplotlib.collections.PathCollection at 0x145e4d9f0>"
      ]
     },
     "execution_count": 252,
     "metadata": {},
     "output_type": "execute_result"
    },
    {
     "data": {
      "text/plain": [
       "<matplotlib.collections.PathCollection at 0x14299f040>"
      ]
     },
     "execution_count": 252,
     "metadata": {},
     "output_type": "execute_result"
    },
    {
     "data": {
      "text/plain": [
       "<matplotlib.collections.PathCollection at 0x1456f4af0>"
      ]
     },
     "execution_count": 252,
     "metadata": {},
     "output_type": "execute_result"
    },
    {
     "data": {
      "text/plain": [
       "Text(0.5, 0, 'time (h)')"
      ]
     },
     "execution_count": 252,
     "metadata": {},
     "output_type": "execute_result"
    },
    {
     "data": {
      "text/plain": [
       "(0.0, 1.0)"
      ]
     },
     "execution_count": 252,
     "metadata": {},
     "output_type": "execute_result"
    },
    {
     "data": {
      "text/plain": [
       "Text(0, 0.5, 'Cell number')"
      ]
     },
     "execution_count": 252,
     "metadata": {},
     "output_type": "execute_result"
    },
    {
     "data": {
      "text/plain": [
       "<matplotlib.legend.Legend at 0x145ebfd00>"
      ]
     },
     "execution_count": 252,
     "metadata": {},
     "output_type": "execute_result"
    },
    {
     "data": {
      "image/png": "[encoded data removed]",
      "text/plain": [
       "<Figure size 640x480 with 1 Axes>"
      ]
     },
     "metadata": {},
     "output_type": "display_data"
    }
   ],
   "source": [
    "### 𝛆=1\n",
    "import matplotlib.pyplot as plt\n",
    "plt.figure()\n",
    "T_list=[0]\n",
    "Fluxes1_list=[0.1933]\n",
    "Fluxes2_list=[0.2899]\n",
    "Fluxes3_list=[0.0168]\n",
    "B1_vals=[0.39]\n",
    "B2_vals=[0.59]\n",
    "B3_vals=[0.02]\n",
    "\n",
    "def B1(t):\n",
    "    if(t<=0):\n",
    "        return 0.39\n",
    "    return B1_vals[int((t-1)/1)]*0.95+0.1*Fluxes1_list[-1]\n",
    "def B2(t):\n",
    "    if(t<=0):\n",
    "        return 0.59\n",
    "    return B2_vals[int((t-1)/1)]*0.95+0.1*Fluxes2_list[-1]\n",
    "def B3(t):\n",
    "    if(t<=0):\n",
    "        return 0.02\n",
    "    return B3_vals[int((t-1)/1)]*0.95+0.1*Fluxes3_list[-1]\n",
    "A=0\n",
    "B=1\n",
    "for t in np.arange(1,2000,1):\n",
    "    B1_t = B1(t)\n",
    "    B2_t = B2(t)\n",
    "    B3_t = B3(t)\n",
    "#     B1_vals.append(B1_t)\n",
    "#     B2_vals.append(B2_t)\n",
    "#     B3_vals.append(B3_t)\n",
    "        \n",
    "    b1=0.5*0.2*B1_vals[-1]*(math.pow(B2_vals[-1],B))/(0.2*B1_vals[-1]*(math.pow(B2_vals[-1],B))+0.3*B2_vals[-1]*(math.pow(B1_vals[-1],B))+0.2*B3_vals[-1]*(math.pow(B2_vals[-1],A)))\n",
    "    b2=0.5*0.3*B2_vals[-1]*(math.pow(B1_vals[-1],B))/(0.2*B1_vals[-1]*(math.pow(B2_vals[-1],B))+0.3*B2_vals[-1]*(math.pow(B1_vals[-1],B))+0.2*B3_vals[-1]*(math.pow(B2_vals[-1],A)))\n",
    "    b3=0.5*0.2*B3_vals[-1]*(math.pow(B2_vals[-1],A))/(0.2*B1_vals[-1]*(math.pow(B2_vals[-1],B))+0.3*B2_vals[-1]*(math.pow(B1_vals[-1],B))+0.2*B3_vals[-1]*(math.pow(B2_vals[-1],A)))\n",
    "    \n",
    "    B1_vals.append(B1_t)\n",
    "    B2_vals.append(B2_t)\n",
    "    B3_vals.append(B3_t)\n",
    "    \n",
    "    model2.reactions.biomass3.upper_bound=b3\n",
    "    model2.reactions.biomass2.upper_bound=b2\n",
    "    model2.reactions.biomass1.upper_bound=b1\n",
    "    model2.reactions.DI1X.upper_bound=3*B1_vals[-1]\n",
    "    model2.reactions.DI2Y.upper_bound=3*B2_vals[-1]\n",
    "    model2.reactions.DI3X.upper_bound=3*B3_vals[-1]\n",
    "    sol = model2.optimize()\n",
    "    obj_val = sol.objective_value\n",
    "    Fluxes3=sol.fluxes.loc['biomass3']\n",
    "    Fluxes2=sol.fluxes.loc['biomass2']\n",
    "    Fluxes1=sol.fluxes.loc['biomass1']\n",
    "\n",
    "    Fluxes1_list.append(Fluxes1)\n",
    "    Fluxes2_list.append(Fluxes2)\n",
    "    Fluxes3_list.append(Fluxes3)\n",
    "\n",
    "    T=t/10\n",
    "    T_list.append(T)        \n",
    "print(Fluxes1_list[0],Fluxes2_list[0],Fluxes3_list[0])\n",
    "\n",
    "# plt.scatter(T_list,Fluxes1_list,color='orange',s=10)\n",
    "# plt.scatter(T_list,Fluxes2_list,color='purple',s=10)\n",
    "# plt.scatter(T_list,Fluxes3_list,color='red',s=10)\n",
    "plt.scatter(T_list,B1_vals,color='orange',s=10)\n",
    "plt.scatter(T_list,B2_vals,color='purple',s=10)\n",
    "plt.scatter(T_list,B3_vals,color='red',s=10)\n",
    "\n",
    "plt.xlabel(\"time (h)\",fontsize=15)\n",
    "\n",
    "# plt.ylim(0,0.5)\n",
    "# plt.ylabel(\"Biomass synthesis rate\", fontsize=12)\n",
    "# plt.legend(['b1(t)','b2(t)','b3(t)'],loc='upper right')\n",
    "\n",
    "plt.ylim(0,1)\n",
    "plt.ylabel(\"Cell number\",fontsize=12)\n",
    "plt.legend(['B1(t)','B2(t)','B3(t)'],loc='upper right')\n",
    "\n",
    "plt.rc('xtick', labelsize=16) \n",
    "plt.rc('ytick', labelsize=16)\n",
    "plt.rcParams['legend.fontsize']=15\n",
    "plt.tight_layout()\n",
    "plt.show()\n",
    "# plt.savefig('Regulation reaction lower bound for biomass1 and biomass2(Obj=b1+b2+b3)(without system break)',dpi=300)"
   ]
  },
  {
   "cell_type": "code",
   "execution_count": 254,
   "metadata": {},
   "outputs": [
    {
     "name": "stderr",
     "output_type": "stream",
     "text": [
      "/var/folders/d7/l6g7ly057s9bcdclxhvjs64h0000gn/T/ipykernel_12179/719053100.py:15: FutureWarning: save is not part of the public API, usage can give in unexpected results and will be removed in a future version\n",
      "  writer1.save()\n",
      "/var/folders/d7/l6g7ly057s9bcdclxhvjs64h0000gn/T/ipykernel_12179/719053100.py:16: FutureWarning: save is not part of the public API, usage can give in unexpected results and will be removed in a future version\n",
      "  writer2.save()\n",
      "/var/folders/d7/l6g7ly057s9bcdclxhvjs64h0000gn/T/ipykernel_12179/719053100.py:17: FutureWarning: save is not part of the public API, usage can give in unexpected results and will be removed in a future version\n",
      "  writer3.save()\n"
     ]
    }
   ],
   "source": [
    "import pandas as pd\n",
    "df1 = pd.DataFrame(columns=['Cell1 number'])\n",
    "df2 = pd.DataFrame(columns=['Cell2 number'])\n",
    "df3 = pd.DataFrame(columns=['Cell3 number'])\n",
    "for i in range(2000):\n",
    "    df1.loc[i] = B1_vals[i]\n",
    "    df2.loc[i] = B2_vals[i]\n",
    "    df3.loc[i] = B3_vals[i]\n",
    "writer1 = pd.ExcelWriter(\"cell type1.xlsx\")\n",
    "writer2 = pd.ExcelWriter(\"cell type2.xlsx\")\n",
    "writer3 = pd.ExcelWriter(\"cell type3.xlsx\")\n",
    "df1.to_excel(writer1, sheet_name=\"Cell1\")\n",
    "df2.to_excel(writer2, sheet_name=\"Cell2\")\n",
    "df3.to_excel(writer3, sheet_name=\"Cell3\")\n",
    "writer1.save()\n",
    "writer2.save()\n",
    "writer3.save()\n",
    "writer1.close()\n",
    "writer2.close()\n",
    "writer3.close()"
   ]
  },
  {
   "cell_type": "markdown",
   "metadata": {},
   "source": [
    "### Simulate Warburg mutation"
   ]
  },
  {
   "cell_type": "code",
   "execution_count": 144,
   "metadata": {},
   "outputs": [],
   "source": [
    "# import map visualization tools\n",
    "from utils import show_map\n",
    "import escher\n",
    "map_loc = 'Three_cells_system_modelIIIMap.json' # the escher map used below\n",
    "# show all output\n",
    "from IPython.core.interactiveshell import InteractiveShell\n",
    "InteractiveShell.ast_node_interactivity = \"all\"\n",
    "\n",
    "M = cobra.io.load_json_model('Three_cells_system_modelIII.json')\n",
    "model = M.copy()"
   ]
  },
  {
   "cell_type": "code",
   "execution_count": 145,
   "metadata": {},
   "outputs": [
    {
     "name": "stdout",
     "output_type": "stream",
     "text": [
      "An empty solution was passed.\n"
     ]
    },
    {
     "data": {
      "application/vnd.jupyter.widget-view+json": {
       "model_id": "df8a4d4c1e2c41a6b34957e913b45cc8",
       "version_major": 2,
       "version_minor": 0
      },
      "text/plain": [
       "Builder(hide_secondary_metabolites=False, highlight_missing=True, reaction_data={}, reaction_scale=[{'type': '…"
      ]
     },
     "metadata": {},
     "output_type": "display_data"
    }
   ],
   "source": [
    "b = show_map([],map_loc)\n",
    "b"
   ]
  },
  {
   "cell_type": "code",
   "execution_count": 146,
   "metadata": {},
   "outputs": [],
   "source": [
    "### Internal goods X and Y\n",
    "model.reactions.EX_Com_goodX_e.lower_bound=0\n",
    "model.reactions.EX_Com_goodY_e.lower_bound=0\n",
    "model.reactions.EX_glucose_e.lower_bound=-1\n",
    "quadratic_objective = M.problem.Objective(model.reactions.biomass1.flux_expression +\n",
    "    model.reactions.biomass2.flux_expression + model.reactions.biomass3.flux_expression ,direction='max')\n",
    "model.objective = quadratic_objective"
   ]
  },
  {
   "cell_type": "code",
   "execution_count": 147,
   "metadata": {},
   "outputs": [
    {
     "data": {
      "text/plain": [
       "0.5"
      ]
     },
     "execution_count": 147,
     "metadata": {},
     "output_type": "execute_result"
    },
    {
     "data": {
      "application/vnd.jupyter.widget-view+json": {
       "model_id": "881d669a5d6848ee8c36e4d9cb195b0a",
       "version_major": 2,
       "version_minor": 0
      },
      "text/plain": [
       "Builder(hide_secondary_metabolites=False, highlight_missing=True, reaction_data={'EX_glucose_e': -1.0, 'GlcT':…"
      ]
     },
     "metadata": {},
     "output_type": "display_data"
    }
   ],
   "source": [
    "sol = model.optimize()\n",
    "sol.objective_value\n",
    "fbasol = model.optimize()\n",
    "b = show_map(fbasol,map_loc)\n",
    "b"
   ]
  },
  {
   "cell_type": "code",
   "execution_count": 187,
   "metadata": {},
   "outputs": [],
   "source": [
    "import math\n",
    "model1=model.copy()\n",
    "model2=model1.copy()"
   ]
  },
  {
   "cell_type": "code",
   "execution_count": 188,
   "metadata": {},
   "outputs": [
    {
     "data": {
      "text/plain": [
       "<Figure size 640x480 with 0 Axes>"
      ]
     },
     "execution_count": 188,
     "metadata": {},
     "output_type": "execute_result"
    },
    {
     "name": "stdout",
     "output_type": "stream",
     "text": [
      "0.1933 0.2899 0.0112\n"
     ]
    },
    {
     "data": {
      "text/plain": [
       "<matplotlib.collections.PathCollection at 0x140de99f0>"
      ]
     },
     "execution_count": 188,
     "metadata": {},
     "output_type": "execute_result"
    },
    {
     "data": {
      "text/plain": [
       "<matplotlib.collections.PathCollection at 0x142b2feb0>"
      ]
     },
     "execution_count": 188,
     "metadata": {},
     "output_type": "execute_result"
    },
    {
     "data": {
      "text/plain": [
       "<matplotlib.collections.PathCollection at 0x140641b10>"
      ]
     },
     "execution_count": 188,
     "metadata": {},
     "output_type": "execute_result"
    },
    {
     "data": {
      "text/plain": [
       "(0.0, 1.0)"
      ]
     },
     "execution_count": 188,
     "metadata": {},
     "output_type": "execute_result"
    },
    {
     "data": {
      "text/plain": [
       "Text(0, 0.5, 'Cell number')"
      ]
     },
     "execution_count": 188,
     "metadata": {},
     "output_type": "execute_result"
    },
    {
     "data": {
      "text/plain": [
       "<matplotlib.legend.Legend at 0x1402724a0>"
      ]
     },
     "execution_count": 188,
     "metadata": {},
     "output_type": "execute_result"
    },
    {
     "data": {
      "image/png": "[encoded data removed]",
      "text/plain": [
       "<Figure size 640x480 with 1 Axes>"
      ]
     },
     "metadata": {},
     "output_type": "display_data"
    }
   ],
   "source": [
    "### 𝛆=1\n",
    "import matplotlib.pyplot as plt\n",
    "plt.figure()\n",
    "T_list=[0]\n",
    "Fluxes1_list=[0.1933]\n",
    "Fluxes2_list=[0.2899]\n",
    "Fluxes3_list=[0.0112]\n",
    "B1_vals=[0.39]\n",
    "B2_vals=[0.59]\n",
    "B3_vals=[0.02]\n",
    "\n",
    "def B1(t):\n",
    "    if(t<=0):\n",
    "        return 0.39\n",
    "    return B1_vals[int((t-1)/1)]*0.95+0.1*Fluxes1_list[-1]\n",
    "def B2(t):\n",
    "    if(t<=0):\n",
    "        return 0.59\n",
    "    return B2_vals[int((t-1)/1)]*0.95+0.1*Fluxes2_list[-1]\n",
    "def B3(t):\n",
    "    if(t<=0):\n",
    "        return 0.02\n",
    "    return B3_vals[int((t-1)/1)]*0.95+0.1*Fluxes3_list[-1]\n",
    "A=0\n",
    "B=1\n",
    "for t in np.arange(1,500,1):\n",
    "    B1_t = B1(t)\n",
    "    B2_t = B2(t)\n",
    "    B3_t = B3(t)\n",
    "#     B1_vals.append(B1_t)\n",
    "#     B2_vals.append(B2_t)\n",
    "#     B3_vals.append(B3_t)\n",
    "        \n",
    "    b1=0.5*0.2*B1_vals[-1]*(math.pow(B2_vals[-1],B))/(0.2*B1_vals[-1]*(math.pow(B2_vals[-1],B))+0.3*B2_vals[-1]*(math.pow(B1_vals[-1],B))+0.2*B3_vals[-1]*(math.pow(B2_vals[-1],A)))\n",
    "    b2=0.5*0.3*B2_vals[-1]*(math.pow(B1_vals[-1],B))/(0.2*B1_vals[-1]*(math.pow(B2_vals[-1],B))+0.3*B2_vals[-1]*(math.pow(B1_vals[-1],B))+0.2*B3_vals[-1]*(math.pow(B2_vals[-1],A)))\n",
    "    b3=0.5*0.2*B3_vals[-1]*(math.pow(B2_vals[-1],A))/(0.2*B1_vals[-1]*(math.pow(B2_vals[-1],B))+0.3*B2_vals[-1]*(math.pow(B1_vals[-1],B))+0.2*B3_vals[-1]*(math.pow(B2_vals[-1],A)))\n",
    "    \n",
    "    B1_vals.append(B1_t)\n",
    "    B2_vals.append(B2_t)\n",
    "    B3_vals.append(B3_t)\n",
    "    \n",
    "    model2.reactions.biomass3.upper_bound=b3\n",
    "    model2.reactions.biomass2.upper_bound=b2\n",
    "    model2.reactions.biomass1.upper_bound=b1\n",
    "    model2.reactions.DI1X.upper_bound=3*B1_vals[-1]\n",
    "    model2.reactions.DI2Y.upper_bound=3*B2_vals[-1]\n",
    "    model2.reactions.DI3X.upper_bound=3*B3_vals[-1]\n",
    "    sol = model2.optimize()\n",
    "    obj_val = sol.objective_value\n",
    "    Fluxes3=sol.fluxes.loc['biomass3']\n",
    "    Fluxes2=sol.fluxes.loc['biomass2']\n",
    "    Fluxes1=sol.fluxes.loc['biomass1']\n",
    "\n",
    "    Fluxes1_list.append(Fluxes1)\n",
    "    Fluxes2_list.append(Fluxes2)\n",
    "    Fluxes3_list.append(Fluxes3)\n",
    "\n",
    "    T=t/10\n",
    "    T_list.append(T)        \n",
    "print(Fluxes1_list[0],Fluxes2_list[0],Fluxes3_list[0])\n",
    "\n",
    "# plt.scatter(T_list,Fluxes1_list,color='orange',s=10)\n",
    "# plt.scatter(T_list,Fluxes2_list,color='purple',s=10)\n",
    "# plt.scatter(T_list,Fluxes3_list,color='red',s=10)\n",
    "plt.scatter(T_list,B1_vals,color='orange',s=10)\n",
    "plt.scatter(T_list,B2_vals,color='purple',s=10)\n",
    "plt.scatter(T_list,B3_vals,color='red',s=10)\n",
    "\n",
    "\n",
    "# plt.xlabel(\"time (h)\",fontsize=15)\n",
    "# plt.ylim(0,0.5)\n",
    "# plt.ylabel(\"Biomass synthesis rate\", fontsize=12)\n",
    "# plt.legend(['b1(t)','b2(t)','b3(t)'],loc='upper right')\n",
    "\n",
    "plt.ylim(0,1)\n",
    "plt.ylabel(\"Cell number\",fontsize=12)\n",
    "plt.legend(['B1(t)','B2(t)','B3(t)'],loc='upper right')\n",
    "\n",
    "plt.rc('xtick', labelsize=16) \n",
    "plt.rc('ytick', labelsize=16)\n",
    "plt.rcParams['legend.fontsize']=15\n",
    "plt.tight_layout()\n",
    "plt.show()\n",
    "# plt.savefig('Regulation reaction lower bound for biomass1 and biomass2(Obj=b1+b2+b3)(without system break)',dpi=300)"
   ]
  },
  {
   "cell_type": "markdown",
   "metadata": {},
   "source": [
    "#### Treatment 1 (when tumor cell number over than 0.1)---decreasing glucose concentration"
   ]
  },
  {
   "cell_type": "code",
   "execution_count": 236,
   "metadata": {},
   "outputs": [],
   "source": [
    "import math\n",
    "model1=model.copy()\n",
    "model1.reactions.EX_glucose_e.lower_bound=-0.5\n",
    "model2=model1.copy()"
   ]
  },
  {
   "cell_type": "code",
   "execution_count": 237,
   "metadata": {},
   "outputs": [
    {
     "data": {
      "text/plain": [
       "<Figure size 640x480 with 0 Axes>"
      ]
     },
     "execution_count": 237,
     "metadata": {},
     "output_type": "execute_result"
    },
    {
     "name": "stdout",
     "output_type": "stream",
     "text": [
      "0.0812 0.1218 0.0313\n"
     ]
    },
    {
     "data": {
      "text/plain": [
       "<matplotlib.collections.PathCollection at 0x14551e7a0>"
      ]
     },
     "execution_count": 237,
     "metadata": {},
     "output_type": "execute_result"
    },
    {
     "data": {
      "text/plain": [
       "<matplotlib.collections.PathCollection at 0x14551eb30>"
      ]
     },
     "execution_count": 237,
     "metadata": {},
     "output_type": "execute_result"
    },
    {
     "data": {
      "text/plain": [
       "<matplotlib.collections.PathCollection at 0x1451a37c0>"
      ]
     },
     "execution_count": 237,
     "metadata": {},
     "output_type": "execute_result"
    },
    {
     "data": {
      "text/plain": [
       "(0.0, 1.0)"
      ]
     },
     "execution_count": 237,
     "metadata": {},
     "output_type": "execute_result"
    },
    {
     "data": {
      "text/plain": [
       "Text(0, 0.5, 'Cell number')"
      ]
     },
     "execution_count": 237,
     "metadata": {},
     "output_type": "execute_result"
    },
    {
     "data": {
      "text/plain": [
       "<matplotlib.legend.Legend at 0x137b97460>"
      ]
     },
     "execution_count": 237,
     "metadata": {},
     "output_type": "execute_result"
    },
    {
     "data": {
      "image/png": "[encoded data removed]",
      "text/plain": [
       "<Figure size 640x480 with 1 Axes>"
      ]
     },
     "metadata": {},
     "output_type": "display_data"
    }
   ],
   "source": [
    "### 𝛆=1\n",
    "import matplotlib.pyplot as plt\n",
    "plt.figure()\n",
    "T_list=[19.7]\n",
    "Fluxes1_list=[0.0812]\n",
    "Fluxes2_list=[0.1218]\n",
    "Fluxes3_list=[0.0313]\n",
    "B1_vals=[0.3398]\n",
    "B2_vals=[0.5097]\n",
    "B3_vals=[0.1003]\n",
    "\n",
    "def B1(t):\n",
    "    if(t<=197):\n",
    "        return 0.3398\n",
    "    return B1_vals[int((t-198)/1)]*0.95+0.1*Fluxes1_list[-1]\n",
    "def B2(t):\n",
    "    if(t<=197):\n",
    "        return 0.5097\n",
    "    return B2_vals[int((t-198)/1)]*0.95+0.1*Fluxes2_list[-1]\n",
    "def B3(t):\n",
    "    if(t<=197):\n",
    "        return 0.1003\n",
    "    return B3_vals[int((t-198)/1)]*0.95+0.1*Fluxes3_list[-1]\n",
    "A=0\n",
    "B=1\n",
    "for t in np.arange(198,500,1):\n",
    "    B1_t = B1(t)\n",
    "    B2_t = B2(t)\n",
    "    B3_t = B3(t)\n",
    "#     B1_vals.append(B1_t)\n",
    "#     B2_vals.append(B2_t)\n",
    "#     B3_vals.append(B3_t)\n",
    "        \n",
    "    b1=0.25*0.2*B1_vals[-1]*(math.pow(B2_vals[-1],B))/(0.2*B1_vals[-1]*(math.pow(B2_vals[-1],B))+0.3*B2_vals[-1]*(math.pow(B1_vals[-1],B))+0.2*B3_vals[-1]*(math.pow(B2_vals[-1],A)))\n",
    "    b2=0.25*0.3*B2_vals[-1]*(math.pow(B1_vals[-1],B))/(0.2*B1_vals[-1]*(math.pow(B2_vals[-1],B))+0.3*B2_vals[-1]*(math.pow(B1_vals[-1],B))+0.2*B3_vals[-1]*(math.pow(B2_vals[-1],A)))\n",
    "    b3=0.25*0.2*B3_vals[-1]*(math.pow(B2_vals[-1],A))/(0.2*B1_vals[-1]*(math.pow(B2_vals[-1],B))+0.3*B2_vals[-1]*(math.pow(B1_vals[-1],B))+0.2*B3_vals[-1]*(math.pow(B2_vals[-1],A)))\n",
    "    \n",
    "    B1_vals.append(B1_t)\n",
    "    B2_vals.append(B2_t)\n",
    "    B3_vals.append(B3_t)\n",
    "    \n",
    "    model2.reactions.biomass3.upper_bound=b3\n",
    "    model2.reactions.biomass2.upper_bound=b2\n",
    "    model2.reactions.biomass1.upper_bound=b1\n",
    "    model2.reactions.DI1X.upper_bound=3*B1_vals[-1]\n",
    "    model2.reactions.DI2Y.upper_bound=3*B2_vals[-1]\n",
    "    model2.reactions.DI3X.upper_bound=3*B3_vals[-1]\n",
    "    sol = model2.optimize()\n",
    "    obj_val = sol.objective_value\n",
    "    Fluxes3=sol.fluxes.loc['biomass3']\n",
    "    Fluxes2=sol.fluxes.loc['biomass2']\n",
    "    Fluxes1=sol.fluxes.loc['biomass1']\n",
    "\n",
    "    Fluxes1_list.append(Fluxes1)\n",
    "    Fluxes2_list.append(Fluxes2)\n",
    "    Fluxes3_list.append(Fluxes3)\n",
    "\n",
    "    T=t/10\n",
    "    T_list.append(T)        \n",
    "print(Fluxes1_list[0],Fluxes2_list[0],Fluxes3_list[0])\n",
    "\n",
    "# plt.scatter(T_list,Fluxes1_list,color='orange',s=10)\n",
    "# plt.scatter(T_list,Fluxes2_list,color='purple',s=10)\n",
    "# plt.scatter(T_list,Fluxes3_list,color='red',s=10)\n",
    "plt.scatter(T_list,B1_vals,color='orange',s=10)\n",
    "plt.scatter(T_list,B2_vals,color='purple',s=10)\n",
    "plt.scatter(T_list,B3_vals,color='red',s=10)\n",
    "\n",
    "\n",
    "# plt.xlabel(\"time (h)\",fontsize=15)\n",
    "# plt.ylim(0,0.5)\n",
    "# plt.ylabel(\"Biomass synthesis rate\", fontsize=12)\n",
    "# plt.legend(['b1(t)','b2(t)','b3(t)'],loc='upper right')\n",
    "\n",
    "plt.ylim(0,1)\n",
    "plt.ylabel(\"Cell number\",fontsize=12)\n",
    "plt.legend(['B1(t)','B2(t)','B3(t)'],loc='upper right')\n",
    "\n",
    "plt.rc('xtick', labelsize=16) \n",
    "plt.rc('ytick', labelsize=16)\n",
    "plt.rcParams['legend.fontsize']=15\n",
    "plt.tight_layout()\n",
    "plt.show()\n",
    "# plt.savefig('Regulation reaction lower bound for biomass1 and biomass2(Obj=b1+b2+b3)(without system break)',dpi=300)"
   ]
  },
  {
   "cell_type": "code",
   "execution_count": 238,
   "metadata": {},
   "outputs": [
    {
     "name": "stderr",
     "output_type": "stream",
     "text": [
      "/var/folders/d7/l6g7ly057s9bcdclxhvjs64h0000gn/T/ipykernel_12179/3150513902.py:15: FutureWarning: save is not part of the public API, usage can give in unexpected results and will be removed in a future version\n",
      "  writer1.save()\n",
      "/var/folders/d7/l6g7ly057s9bcdclxhvjs64h0000gn/T/ipykernel_12179/3150513902.py:16: FutureWarning: save is not part of the public API, usage can give in unexpected results and will be removed in a future version\n",
      "  writer2.save()\n",
      "/var/folders/d7/l6g7ly057s9bcdclxhvjs64h0000gn/T/ipykernel_12179/3150513902.py:17: FutureWarning: save is not part of the public API, usage can give in unexpected results and will be removed in a future version\n",
      "  writer3.save()\n"
     ]
    }
   ],
   "source": [
    "import pandas as pd\n",
    "df1 = pd.DataFrame(columns=['Cell1 number'])\n",
    "df2 = pd.DataFrame(columns=['Cell2 number'])\n",
    "df3 = pd.DataFrame(columns=['Cell3 number'])\n",
    "for i in range(303):\n",
    "    df1.loc[i] = B1_vals[i]\n",
    "    df2.loc[i] = B2_vals[i]\n",
    "    df3.loc[i] = B3_vals[i]\n",
    "writer1 = pd.ExcelWriter(\"cell type1.xlsx\")\n",
    "writer2 = pd.ExcelWriter(\"cell type2.xlsx\")\n",
    "writer3 = pd.ExcelWriter(\"cell type3.xlsx\")\n",
    "df1.to_excel(writer1, sheet_name=\"Cell1\")\n",
    "df2.to_excel(writer2, sheet_name=\"Cell2\")\n",
    "df3.to_excel(writer3, sheet_name=\"Cell3\")\n",
    "writer1.save()\n",
    "writer2.save()\n",
    "writer3.save()\n",
    "writer1.close()\n",
    "writer2.close()\n",
    "writer3.close()"
   ]
  },
  {
   "cell_type": "markdown",
   "metadata": {},
   "source": [
    "#### Treatment 2 (when tumor cell number over than 0.4)---decreasing glucose concentration"
   ]
  },
  {
   "cell_type": "code",
   "execution_count": 231,
   "metadata": {},
   "outputs": [],
   "source": [
    "import math\n",
    "model1=model.copy()\n",
    "model1.reactions.EX_glucose_e.lower_bound=-0.5\n",
    "model2=model1.copy()"
   ]
  },
  {
   "cell_type": "code",
   "execution_count": 232,
   "metadata": {},
   "outputs": [
    {
     "data": {
      "text/plain": [
       "<Figure size 640x480 with 0 Axes>"
      ]
     },
     "execution_count": 232,
     "metadata": {},
     "output_type": "execute_result"
    },
    {
     "name": "stdout",
     "output_type": "stream",
     "text": [
      "0.0639 0.0959 0.0602\n"
     ]
    },
    {
     "data": {
      "text/plain": [
       "<matplotlib.collections.PathCollection at 0x14511f580>"
      ]
     },
     "execution_count": 232,
     "metadata": {},
     "output_type": "execute_result"
    },
    {
     "data": {
      "text/plain": [
       "<matplotlib.collections.PathCollection at 0x14511f940>"
      ]
     },
     "execution_count": 232,
     "metadata": {},
     "output_type": "execute_result"
    },
    {
     "data": {
      "text/plain": [
       "<matplotlib.collections.PathCollection at 0x144dcaa40>"
      ]
     },
     "execution_count": 232,
     "metadata": {},
     "output_type": "execute_result"
    },
    {
     "data": {
      "text/plain": [
       "Text(0.5, 0, 'time (h)')"
      ]
     },
     "execution_count": 232,
     "metadata": {},
     "output_type": "execute_result"
    },
    {
     "data": {
      "text/plain": [
       "(0.0, 1.0)"
      ]
     },
     "execution_count": 232,
     "metadata": {},
     "output_type": "execute_result"
    },
    {
     "data": {
      "text/plain": [
       "Text(0, 0.5, 'Cell number')"
      ]
     },
     "execution_count": 232,
     "metadata": {},
     "output_type": "execute_result"
    },
    {
     "data": {
      "text/plain": [
       "<matplotlib.legend.Legend at 0x144da7430>"
      ]
     },
     "execution_count": 232,
     "metadata": {},
     "output_type": "execute_result"
    },
    {
     "data": {
      "image/png": "[encoded data removed]",
      "text/plain": [
       "<Figure size 640x480 with 1 Axes>"
      ]
     },
     "metadata": {},
     "output_type": "display_data"
    }
   ],
   "source": [
    "### 𝛆=1\n",
    "import matplotlib.pyplot as plt\n",
    "plt.figure()\n",
    "T_list=[28.8]\n",
    "Fluxes1_list=[0.0639]\n",
    "Fluxes2_list=[0.0959]\n",
    "Fluxes3_list=[0.0602]\n",
    "B1_vals=[0.1587]\n",
    "B2_vals=[0.2380]\n",
    "B3_vals=[0.4022]\n",
    "\n",
    "def B1(t):\n",
    "    if(t<=288):\n",
    "        return 0.1587\n",
    "    return B1_vals[int((t-289)/1)]*0.95+0.1*Fluxes1_list[-1]\n",
    "def B2(t):\n",
    "    if(t<=288):\n",
    "        return 0.2380\n",
    "    return B2_vals[int((t-289)/1)]*0.95+0.1*Fluxes2_list[-1]\n",
    "def B3(t):\n",
    "    if(t<=288):\n",
    "        return 0.4022\n",
    "    return B3_vals[int((t-289)/1)]*0.95+0.1*Fluxes3_list[-1]\n",
    "A=0\n",
    "B=1\n",
    "for t in np.arange(289,500,1):\n",
    "    B1_t = B1(t)\n",
    "    B2_t = B2(t)\n",
    "    B3_t = B3(t)\n",
    "#     B1_vals.append(B1_t)\n",
    "#     B2_vals.append(B2_t)\n",
    "#     B3_vals.append(B3_t)\n",
    "        \n",
    "    b1=0.25*0.2*B1_vals[-1]*(math.pow(B2_vals[-1],B))/(0.2*B1_vals[-1]*(math.pow(B2_vals[-1],B))+0.3*B2_vals[-1]*(math.pow(B1_vals[-1],B))+0.2*B3_vals[-1]*(math.pow(B2_vals[-1],A)))\n",
    "    b2=0.25*0.3*B2_vals[-1]*(math.pow(B1_vals[-1],B))/(0.2*B1_vals[-1]*(math.pow(B2_vals[-1],B))+0.3*B2_vals[-1]*(math.pow(B1_vals[-1],B))+0.2*B3_vals[-1]*(math.pow(B2_vals[-1],A)))\n",
    "    b3=0.25*0.2*B3_vals[-1]*(math.pow(B2_vals[-1],A))/(0.2*B1_vals[-1]*(math.pow(B2_vals[-1],B))+0.3*B2_vals[-1]*(math.pow(B1_vals[-1],B))+0.2*B3_vals[-1]*(math.pow(B2_vals[-1],A)))\n",
    "    \n",
    "    B1_vals.append(B1_t)\n",
    "    B2_vals.append(B2_t)\n",
    "    B3_vals.append(B3_t)\n",
    "    \n",
    "    model2.reactions.biomass3.upper_bound=b3\n",
    "    model2.reactions.biomass2.upper_bound=b2\n",
    "    model2.reactions.biomass1.upper_bound=b1\n",
    "    model2.reactions.DI1X.upper_bound=3*B1_vals[-1]\n",
    "    model2.reactions.DI2Y.upper_bound=3*B2_vals[-1]\n",
    "    model2.reactions.DI3X.upper_bound=3*B3_vals[-1]\n",
    "    sol = model2.optimize()\n",
    "    obj_val = sol.objective_value\n",
    "    Fluxes3=sol.fluxes.loc['biomass3']\n",
    "    Fluxes2=sol.fluxes.loc['biomass2']\n",
    "    Fluxes1=sol.fluxes.loc['biomass1']\n",
    "\n",
    "    Fluxes1_list.append(Fluxes1)\n",
    "    Fluxes2_list.append(Fluxes2)\n",
    "    Fluxes3_list.append(Fluxes3)\n",
    "\n",
    "    T=t/10\n",
    "    T_list.append(T)        \n",
    "print(Fluxes1_list[0],Fluxes2_list[0],Fluxes3_list[0])\n",
    "\n",
    "# plt.scatter(T_list,Fluxes1_list,color='orange',s=10)\n",
    "# plt.scatter(T_list,Fluxes2_list,color='purple',s=10)\n",
    "# plt.scatter(T_list,Fluxes3_list,color='red',s=10)\n",
    "plt.scatter(T_list,B1_vals,color='orange',s=10)\n",
    "plt.scatter(T_list,B2_vals,color='purple',s=10)\n",
    "plt.scatter(T_list,B3_vals,color='red',s=10)\n",
    "\n",
    "\n",
    "plt.xlabel(\"time (h)\",fontsize=15)\n",
    "# plt.ylim(0,0.5)\n",
    "# plt.ylabel(\"Biomass synthesis rate\", fontsize=12)\n",
    "# plt.legend(['b1(t)','b2(t)','b3(t)'],loc='upper right')\n",
    "\n",
    "plt.ylim(0,1)\n",
    "plt.ylabel(\"Cell number\",fontsize=12)\n",
    "plt.legend(['B1(t)','B2(t)','B3(t)'],loc='upper right')\n",
    "\n",
    "plt.rc('xtick', labelsize=16) \n",
    "plt.rc('ytick', labelsize=16)\n",
    "plt.rcParams['legend.fontsize']=15\n",
    "plt.tight_layout()\n",
    "plt.show()\n",
    "# plt.savefig('Regulation reaction lower bound for biomass1 and biomass2(Obj=b1+b2+b3)(without system break)',dpi=300)"
   ]
  },
  {
   "cell_type": "code",
   "execution_count": 233,
   "metadata": {},
   "outputs": [
    {
     "name": "stderr",
     "output_type": "stream",
     "text": [
      "/var/folders/d7/l6g7ly057s9bcdclxhvjs64h0000gn/T/ipykernel_12179/1075205644.py:15: FutureWarning: save is not part of the public API, usage can give in unexpected results and will be removed in a future version\n",
      "  writer1.save()\n",
      "/var/folders/d7/l6g7ly057s9bcdclxhvjs64h0000gn/T/ipykernel_12179/1075205644.py:16: FutureWarning: save is not part of the public API, usage can give in unexpected results and will be removed in a future version\n",
      "  writer2.save()\n",
      "/var/folders/d7/l6g7ly057s9bcdclxhvjs64h0000gn/T/ipykernel_12179/1075205644.py:17: FutureWarning: save is not part of the public API, usage can give in unexpected results and will be removed in a future version\n",
      "  writer3.save()\n"
     ]
    }
   ],
   "source": [
    "import pandas as pd\n",
    "df1 = pd.DataFrame(columns=['Cell1 number'])\n",
    "df2 = pd.DataFrame(columns=['Cell2 number'])\n",
    "df3 = pd.DataFrame(columns=['Cell3 number'])\n",
    "for i in range(212):\n",
    "    df1.loc[i] = B1_vals[i]\n",
    "    df2.loc[i] = B2_vals[i]\n",
    "    df3.loc[i] = B3_vals[i]\n",
    "writer1 = pd.ExcelWriter(\"cell type1.xlsx\")\n",
    "writer2 = pd.ExcelWriter(\"cell type2.xlsx\")\n",
    "writer3 = pd.ExcelWriter(\"cell type3.xlsx\")\n",
    "df1.to_excel(writer1, sheet_name=\"Cell1\")\n",
    "df2.to_excel(writer2, sheet_name=\"Cell2\")\n",
    "df3.to_excel(writer3, sheet_name=\"Cell3\")\n",
    "writer1.save()\n",
    "writer2.save()\n",
    "writer3.save()\n",
    "writer1.close()\n",
    "writer2.close()\n",
    "writer3.close()"
   ]
  },
  {
   "cell_type": "code",
   "execution_count": 185,
   "metadata": {},
   "outputs": [],
   "source": [
    "import math\n",
    "model1=model.copy()\n",
    "model1.reactions.EX_glucose_e.lower_bound=-1\n",
    "model2=model1.copy()"
   ]
  },
  {
   "cell_type": "code",
   "execution_count": 186,
   "metadata": {},
   "outputs": [
    {
     "data": {
      "text/plain": [
       "<Figure size 640x480 with 0 Axes>"
      ]
     },
     "execution_count": 186,
     "metadata": {},
     "output_type": "execute_result"
    },
    {
     "name": "stdout",
     "output_type": "stream",
     "text": [
      "0.11908858819388443 0.1786328822908266 0.1348523530101926\n"
     ]
    },
    {
     "data": {
      "text/plain": [
       "<matplotlib.collections.PathCollection at 0x140dad120>"
      ]
     },
     "execution_count": 186,
     "metadata": {},
     "output_type": "execute_result"
    },
    {
     "data": {
      "text/plain": [
       "<matplotlib.collections.PathCollection at 0x140d6ed40>"
      ]
     },
     "execution_count": 186,
     "metadata": {},
     "output_type": "execute_result"
    },
    {
     "data": {
      "text/plain": [
       "<matplotlib.collections.PathCollection at 0x140d6ffa0>"
      ]
     },
     "execution_count": 186,
     "metadata": {},
     "output_type": "execute_result"
    },
    {
     "data": {
      "text/plain": [
       "Text(0.5, 0, 'time (h)')"
      ]
     },
     "execution_count": 186,
     "metadata": {},
     "output_type": "execute_result"
    },
    {
     "data": {
      "text/plain": [
       "(0.0, 1.0)"
      ]
     },
     "execution_count": 186,
     "metadata": {},
     "output_type": "execute_result"
    },
    {
     "data": {
      "text/plain": [
       "Text(0, 0.5, 'Cell number')"
      ]
     },
     "execution_count": 186,
     "metadata": {},
     "output_type": "execute_result"
    },
    {
     "data": {
      "text/plain": [
       "<matplotlib.legend.Legend at 0x140d6ee30>"
      ]
     },
     "execution_count": 186,
     "metadata": {},
     "output_type": "execute_result"
    },
    {
     "data": {
      "image/png": "[encoded data removed]",
      "text/plain": [
       "<Figure size 640x480 with 1 Axes>"
      ]
     },
     "metadata": {},
     "output_type": "display_data"
    }
   ],
   "source": [
    "### 𝛆=1\n",
    "import matplotlib.pyplot as plt\n",
    "plt.figure()\n",
    "T_list=[]\n",
    "Fluxes1_list=[]\n",
    "Fluxes2_list=[]\n",
    "Fluxes3_list=[]\n",
    "B1_vals=[]\n",
    "B2_vals=[]\n",
    "B3_vals=[]\n",
    "\n",
    "def B1(t):\n",
    "    if(t<=0):\n",
    "        return 0.1605\n",
    "    return B1_vals[int((t-1)/1)]*0.95+0.1*Fluxes1_list[-1]\n",
    "def B2(t):\n",
    "    if(t<=0):\n",
    "        return 0.2498\n",
    "    return B2_vals[int((t-1)/1)]*0.95+0.1*Fluxes2_list[-1]\n",
    "def B3(t):\n",
    "    if(t<=0):\n",
    "        return 0.0681\n",
    "    return B3_vals[int((t-1)/1)]*0.95+0.1*Fluxes3_list[-1]\n",
    "A=0\n",
    "B=1\n",
    "for t in np.arange(0,500,1):\n",
    "    B1_t = B1(t)\n",
    "    B2_t = B2(t)\n",
    "    B3_t = B3(t)\n",
    "    B1_vals.append(B1_t)\n",
    "    B2_vals.append(B2_t)\n",
    "    B3_vals.append(B3_t)\n",
    "        \n",
    "    b1=0.5*0.2*B1_vals[-1]*(math.pow(B2_vals[-1],B))/(0.2*B1_vals[-1]*(math.pow(B2_vals[-1],B))+0.3*B2_vals[-1]*(math.pow(B1_vals[-1],B))+0.2*B3_vals[-1]*(math.pow(B2_vals[-1],A)))\n",
    "    b2=0.5*0.3*B2_vals[-1]*(math.pow(B1_vals[-1],B))/(0.2*B1_vals[-1]*(math.pow(B2_vals[-1],B))+0.3*B2_vals[-1]*(math.pow(B1_vals[-1],B))+0.2*B3_vals[-1]*(math.pow(B2_vals[-1],A)))\n",
    "    b3=0.5*0.2*B3_vals[-1]*(math.pow(B2_vals[-1],A))/(0.2*B1_vals[-1]*(math.pow(B2_vals[-1],B))+0.3*B2_vals[-1]*(math.pow(B1_vals[-1],B))+0.2*B3_vals[-1]*(math.pow(B2_vals[-1],A)))\n",
    "    \n",
    "#     B1_vals.append(B1_t)\n",
    "#     B2_vals.append(B2_t)\n",
    "#     B3_vals.append(B3_t)\n",
    "    \n",
    "    model2.reactions.biomass3.upper_bound=b3\n",
    "    model2.reactions.biomass2.upper_bound=b2\n",
    "    model2.reactions.biomass1.upper_bound=b1\n",
    "    model2.reactions.DI1X.upper_bound=3*B1_vals[-1]\n",
    "    model2.reactions.DI2Y.upper_bound=3*B2_vals[-1]\n",
    "    model2.reactions.DI3X.upper_bound=3*B3_vals[-1]\n",
    "    sol = model2.optimize()\n",
    "    obj_val = sol.objective_value\n",
    "    Fluxes3=sol.fluxes.loc['biomass3']\n",
    "    Fluxes2=sol.fluxes.loc['biomass2']\n",
    "    Fluxes1=sol.fluxes.loc['biomass1']\n",
    "\n",
    "    Fluxes1_list.append(Fluxes1)\n",
    "    Fluxes2_list.append(Fluxes2)\n",
    "    Fluxes3_list.append(Fluxes3)\n",
    "\n",
    "    T=t/10\n",
    "    T_list.append(T)        \n",
    "print(Fluxes1_list[0],Fluxes2_list[0],Fluxes3_list[0])\n",
    "\n",
    "# plt.scatter(T_list,Fluxes1_list,color='orange',s=10)\n",
    "# plt.scatter(T_list,Fluxes2_list,color='purple',s=10)\n",
    "# plt.scatter(T_list,Fluxes3_list,color='red',s=10)\n",
    "plt.scatter(T_list,B1_vals,color='orange',s=10)\n",
    "plt.scatter(T_list,B2_vals,color='purple',s=10)\n",
    "plt.scatter(T_list,B3_vals,color='red',s=10)\n",
    "\n",
    "\n",
    "plt.xlabel(\"time (h)\",fontsize=15)\n",
    "# plt.ylim(0,0.5)\n",
    "# plt.ylabel(\"Biomass synthesis rate\", fontsize=12)\n",
    "# plt.legend(['b1(t)','b2(t)','b3(t)'],loc='upper right')\n",
    "\n",
    "plt.ylim(0,1)\n",
    "plt.ylabel(\"Cell number\",fontsize=12)\n",
    "plt.legend(['B1(t)','B2(t)','B3(t)'],loc='upper right')\n",
    "\n",
    "plt.rc('xtick', labelsize=16) \n",
    "plt.rc('ytick', labelsize=16)\n",
    "plt.rcParams['legend.fontsize']=15\n",
    "plt.tight_layout()\n",
    "plt.show()\n",
    "# plt.savefig('Regulation reaction lower bound for biomass1 and biomass2(Obj=b1+b2+b3)(without system break)',dpi=300)"
   ]
  },
  {
   "cell_type": "markdown",
   "metadata": {},
   "source": [
    "### Four cell types in the system"
   ]
  },
  {
   "cell_type": "markdown",
   "metadata": {},
   "source": [
    "###Now, we simulate a case where four cell types inside, cell type3 is the mutant of cell type1 and cell type4 is from drug resistance."
   ]
  },
  {
   "cell_type": "code",
   "execution_count": 66,
   "metadata": {},
   "outputs": [],
   "source": [
    "# import map visualization tools\n",
    "from utils import show_map\n",
    "import escher\n",
    "map_loc = 'Three_cells_system_modelIVMap.json' # the escher map used below\n",
    "# show all output\n",
    "from IPython.core.interactiveshell import InteractiveShell\n",
    "InteractiveShell.ast_node_interactivity = \"all\"\n",
    "\n",
    "M = cobra.io.load_json_model('Three_cells_system_modelIV.json')\n",
    "model = M.copy()"
   ]
  },
  {
   "cell_type": "code",
   "execution_count": 67,
   "metadata": {},
   "outputs": [
    {
     "name": "stdout",
     "output_type": "stream",
     "text": [
      "An empty solution was passed.\n"
     ]
    },
    {
     "data": {
      "application/vnd.jupyter.widget-view+json": {
       "model_id": "328c1da39fd74660b94090481add562e",
       "version_major": 2,
       "version_minor": 0
      },
      "text/plain": [
       "Builder(hide_secondary_metabolites=False, highlight_missing=True, reaction_data={}, reaction_scale=[{'type': '…"
      ]
     },
     "metadata": {},
     "output_type": "display_data"
    }
   ],
   "source": [
    "b = show_map([],map_loc)\n",
    "b"
   ]
  },
  {
   "cell_type": "code",
   "execution_count": 68,
   "metadata": {},
   "outputs": [],
   "source": [
    "### Internal goods X and Y\n",
    "model.reactions.EX_Com_goodX_e.lower_bound=0\n",
    "model.reactions.EX_Com_goodY_e.lower_bound=0\n",
    "model.reactions.EX_glucose_e.lower_bound=-1\n",
    "quadratic_objective = M.problem.Objective(model.reactions.biomass1.flux_expression +\n",
    "    model.reactions.biomass2.flux_expression + model.reactions.biomass3.flux_expression ,direction='max')\n",
    "model.objective = quadratic_objective"
   ]
  },
  {
   "cell_type": "code",
   "execution_count": 69,
   "metadata": {},
   "outputs": [
    {
     "data": {
      "text/plain": [
       "0.5"
      ]
     },
     "execution_count": 69,
     "metadata": {},
     "output_type": "execute_result"
    },
    {
     "data": {
      "application/vnd.jupyter.widget-view+json": {
       "model_id": "14ca00c5ed8f49b685380ac302ac2c37",
       "version_major": 2,
       "version_minor": 0
      },
      "text/plain": [
       "Builder(hide_secondary_metabolites=False, highlight_missing=True, reaction_data={'EX_glucose_e': -1.0, 'GlcT':…"
      ]
     },
     "metadata": {},
     "output_type": "display_data"
    }
   ],
   "source": [
    "sol = model.optimize()\n",
    "sol.objective_value\n",
    "fbasol = model.optimize()\n",
    "b = show_map(fbasol,map_loc)\n",
    "b"
   ]
  },
  {
   "cell_type": "code",
   "execution_count": 77,
   "metadata": {},
   "outputs": [],
   "source": [
    "import math\n",
    "model1=model.copy()\n",
    "model2=model1.copy()"
   ]
  },
  {
   "cell_type": "markdown",
   "metadata": {},
   "source": [
    "##t=50months new cell type (type 4) has drug resistance."
   ]
  },
  {
   "cell_type": "code",
   "execution_count": 78,
   "metadata": {},
   "outputs": [
    {
     "data": {
      "text/plain": [
       "<Figure size 640x480 with 0 Axes>"
      ]
     },
     "execution_count": 78,
     "metadata": {},
     "output_type": "execute_result"
    },
    {
     "name": "stdout",
     "output_type": "stream",
     "text": [
      "0.1749 0.2623 0.0521 0.0107\n"
     ]
    },
    {
     "data": {
      "text/plain": [
       "<matplotlib.collections.PathCollection at 0x13d6c84c0>"
      ]
     },
     "execution_count": 78,
     "metadata": {},
     "output_type": "execute_result"
    },
    {
     "data": {
      "text/plain": [
       "<matplotlib.collections.PathCollection at 0x13d5d91b0>"
      ]
     },
     "execution_count": 78,
     "metadata": {},
     "output_type": "execute_result"
    },
    {
     "data": {
      "text/plain": [
       "<matplotlib.collections.PathCollection at 0x13d6688e0>"
      ]
     },
     "execution_count": 78,
     "metadata": {},
     "output_type": "execute_result"
    },
    {
     "data": {
      "text/plain": [
       "<matplotlib.collections.PathCollection at 0x13d669ff0>"
      ]
     },
     "execution_count": 78,
     "metadata": {},
     "output_type": "execute_result"
    },
    {
     "data": {
      "text/plain": [
       "Text(0.5, 0, 'time (h)')"
      ]
     },
     "execution_count": 78,
     "metadata": {},
     "output_type": "execute_result"
    },
    {
     "data": {
      "text/plain": [
       "(0.0, 0.5)"
      ]
     },
     "execution_count": 78,
     "metadata": {},
     "output_type": "execute_result"
    },
    {
     "data": {
      "text/plain": [
       "Text(0, 0.5, 'Biomass synthesis rate')"
      ]
     },
     "execution_count": 78,
     "metadata": {},
     "output_type": "execute_result"
    },
    {
     "data": {
      "text/plain": [
       "<matplotlib.legend.Legend at 0x13d681480>"
      ]
     },
     "execution_count": 78,
     "metadata": {},
     "output_type": "execute_result"
    },
    {
     "data": {
      "image/png": "[encoded data removed]",
      "text/plain": [
       "<Figure size 640x480 with 1 Axes>"
      ]
     },
     "metadata": {},
     "output_type": "display_data"
    }
   ],
   "source": [
    "### 𝛆=1\n",
    "import matplotlib.pyplot as plt\n",
    "plt.figure()\n",
    "T_list=[50]\n",
    "Fluxes1_list=[0.1749]\n",
    "Fluxes2_list=[0.2623]\n",
    "Fluxes3_list=[0.0521]\n",
    "Fluxes4_list=[0.0107]\n",
    "B1_vals=[0.3478]\n",
    "B2_vals=[0.5216]\n",
    "B3_vals=[0.1106]\n",
    "B4_vals=[0.02]\n",
    "def B1(t):\n",
    "    if(t<=500):\n",
    "        return 0.3478\n",
    "    return B1_vals[int((t-501)/1)]*0.95+0.1*Fluxes1_list[-1]\n",
    "def B2(t):\n",
    "    if(t<=500):\n",
    "        return 0.5216\n",
    "    return B2_vals[int((t-501)/1)]*0.95+0.1*Fluxes2_list[-1]\n",
    "def B3(t):\n",
    "    if(t<=500):\n",
    "        return 0.1106\n",
    "    return B3_vals[int((t-501)/1)]*0.95+0.1*Fluxes3_list[-1]\n",
    "def B4(t):\n",
    "    if(t<=500):\n",
    "        return 0.02\n",
    "    return B4_vals[int((t-501)/1)]*0.95+0.1*Fluxes4_list[-1]\n",
    "A=1.1\n",
    "B=1\n",
    "C=0.2\n",
    "D=0.9\n",
    "for t in np.arange(501,2000,1):\n",
    "    B1_t = B1(t)\n",
    "    B2_t = B2(t)\n",
    "    B3_t = B3(t)\n",
    "    B4_t = B4(t)\n",
    "    \n",
    "#     B1_vals.append(B1_t)\n",
    "#     B2_vals.append(B2_t)\n",
    "#     B3_vals.append(B3_t)\n",
    "#     B4_vals.append(B4_t) \n",
    "    \n",
    "    b1=0.5*0.2*B1_vals[-1]*(math.pow(B2_vals[-1],B))/(0.2*B1_vals[-1]*(math.pow(B2_vals[-1],B))+0.3*B2_vals[-1]*(math.pow(B1_vals[-1],B))+0.2*B3_vals[-1]*(math.pow(B2_vals[-1],A))+C*B4_vals[-1]*(math.pow(B2_vals[-1],D)))\n",
    "    b2=0.5*0.3*B2_vals[-1]*(math.pow(B1_vals[-1],B))/(0.2*B1_vals[-1]*(math.pow(B2_vals[-1],B))+0.3*B2_vals[-1]*(math.pow(B1_vals[-1],B))+0.2*B3_vals[-1]*(math.pow(B2_vals[-1],A))+C*B4_vals[-1]*(math.pow(B2_vals[-1],D)))\n",
    "    b3=0.5*0.2*B3_vals[-1]*(math.pow(B2_vals[-1],A))/(0.2*B1_vals[-1]*(math.pow(B2_vals[-1],B))+0.3*B2_vals[-1]*(math.pow(B1_vals[-1],B))+0.2*B3_vals[-1]*(math.pow(B2_vals[-1],A))+C*B4_vals[-1]*(math.pow(B2_vals[-1],D)))\n",
    "    b4=0.5*C*B4_vals[-1]*(math.pow(B2_vals[-1],D))/(0.2*B1_vals[-1]*(math.pow(B2_vals[-1],B))+0.3*B2_vals[-1]*(math.pow(B1_vals[-1],B))+0.2*B3_vals[-1]*(math.pow(B2_vals[-1],A))+C*B4_vals[-1]*(math.pow(B2_vals[-1],D)))\n",
    "    \n",
    "    B1_vals.append(B1_t)\n",
    "    B2_vals.append(B2_t)\n",
    "    B3_vals.append(B3_t)\n",
    "    B4_vals.append(B4_t)\n",
    "                                                    \n",
    "    model2.reactions.biomass3.upper_bound=b3\n",
    "    model2.reactions.biomass2.upper_bound=b2\n",
    "    model2.reactions.biomass1.upper_bound=b1\n",
    "    model2.reactions.biomass4.upper_bound=b4\n",
    "    model2.reactions.DI1X.upper_bound=3*B1_vals[-1]\n",
    "    model2.reactions.DI2Y.upper_bound=3*B2_vals[-1]\n",
    "    model2.reactions.DI3X.upper_bound=3*B3_vals[-1]\n",
    "    model2.reactions.DI4X.upper_bound=3*B4_vals[-1]                                                \n",
    "    sol = model2.optimize()\n",
    "    obj_val = sol.objective_value\n",
    "    Fluxes3=sol.fluxes.loc['biomass3']\n",
    "    Fluxes2=sol.fluxes.loc['biomass2']\n",
    "    Fluxes1=sol.fluxes.loc['biomass1']\n",
    "    Fluxes4=sol.fluxes.loc['biomass4']\n",
    "                                                    \n",
    "    Fluxes1_list.append(Fluxes1)\n",
    "    Fluxes2_list.append(Fluxes2)\n",
    "    Fluxes3_list.append(Fluxes3)\n",
    "    Fluxes4_list.append(Fluxes4)\n",
    "                                                    \n",
    "    T=t/10\n",
    "    T_list.append(T)        \n",
    "print(Fluxes1_list[0],Fluxes2_list[0],Fluxes3_list[0],Fluxes4_list[0])\n",
    "\n",
    "plt.scatter(T_list,Fluxes1_list,color='orange',s=10)\n",
    "plt.scatter(T_list,Fluxes2_list,color='purple',s=10)\n",
    "plt.scatter(T_list,Fluxes3_list,color='red',s=10)\n",
    "plt.scatter(T_list,Fluxes4_list,color='tomato',s=10)                                                    \n",
    "# plt.scatter(T_list,B1_vals,color='orange',s=10)\n",
    "# plt.scatter(T_list,B2_vals,color='purple',s=10)\n",
    "# plt.scatter(T_list,B3_vals,color='red',s=10)\n",
    "# plt.scatter(T_list,B4_vals,color='tomato',s=10)\n",
    "\n",
    "plt.xlabel(\"time (h)\",fontsize=15)\n",
    "plt.ylim(0,0.5)\n",
    "plt.ylabel(\"Biomass synthesis rate\", fontsize=12)\n",
    "plt.legend(['b1(t)','b2(t)','b3(t)','b4(t)'],loc='upper right')\n",
    "\n",
    "# plt.ylim(0,1)\n",
    "# plt.ylabel(\"Cell number\",fontsize=12)\n",
    "# plt.legend(['B1(t)','B2(t)','B3(t)','B4(t)'],loc='upper right')\n",
    "\n",
    "plt.rc('xtick', labelsize=16) \n",
    "plt.rc('ytick', labelsize=16)\n",
    "plt.rcParams['legend.fontsize']=15\n",
    "plt.tight_layout()\n",
    "plt.show()\n",
    "# plt.savefig('Regulation reaction lower bound for biomass1 and biomass2(Obj=b1+b2+b3)(without system break)',dpi=300)"
   ]
  },
  {
   "cell_type": "code",
   "execution_count": 81,
   "metadata": {},
   "outputs": [
    {
     "name": "stderr",
     "output_type": "stream",
     "text": [
      "/var/folders/d7/l6g7ly057s9bcdclxhvjs64h0000gn/T/ipykernel_12179/4024766525.py:19: FutureWarning: save is not part of the public API, usage can give in unexpected results and will be removed in a future version\n",
      "  writer1.save()\n",
      "/var/folders/d7/l6g7ly057s9bcdclxhvjs64h0000gn/T/ipykernel_12179/4024766525.py:20: FutureWarning: save is not part of the public API, usage can give in unexpected results and will be removed in a future version\n",
      "  writer2.save()\n",
      "/var/folders/d7/l6g7ly057s9bcdclxhvjs64h0000gn/T/ipykernel_12179/4024766525.py:21: FutureWarning: save is not part of the public API, usage can give in unexpected results and will be removed in a future version\n",
      "  writer3.save()\n",
      "/var/folders/d7/l6g7ly057s9bcdclxhvjs64h0000gn/T/ipykernel_12179/4024766525.py:22: FutureWarning: save is not part of the public API, usage can give in unexpected results and will be removed in a future version\n",
      "  writer4.save()\n"
     ]
    }
   ],
   "source": [
    "import pandas as pd\n",
    "df1 = pd.DataFrame(columns=['Cell1 number'])\n",
    "df2 = pd.DataFrame(columns=['Cell2 number'])\n",
    "df3 = pd.DataFrame(columns=['Cell3 number'])\n",
    "df4 = pd.DataFrame(columns=['Cell4 number'])\n",
    "for i in range(1500):\n",
    "    df1.loc[i] = B1_vals[i]\n",
    "    df2.loc[i] = B2_vals[i]\n",
    "    df3.loc[i] = B3_vals[i]\n",
    "    df4.loc[i] = B4_vals[i]\n",
    "writer1 = pd.ExcelWriter(\"cell type1.xlsx\")\n",
    "writer2 = pd.ExcelWriter(\"cell type2.xlsx\")\n",
    "writer3 = pd.ExcelWriter(\"cell type3.xlsx\")\n",
    "writer4 = pd.ExcelWriter(\"cell type4.xlsx\")\n",
    "df1.to_excel(writer1, sheet_name=\"Cell1\")\n",
    "df2.to_excel(writer2, sheet_name=\"Cell2\")\n",
    "df3.to_excel(writer3, sheet_name=\"Cell3\")\n",
    "df4.to_excel(writer4, sheet_name=\"Cell4\")\n",
    "writer1.save()\n",
    "writer2.save()\n",
    "writer3.save()\n",
    "writer4.save()\n",
    "writer1.close()\n",
    "writer2.close()\n",
    "writer3.close()\n",
    "writer4.close()"
   ]
  },
  {
   "cell_type": "code",
   "execution_count": null,
   "metadata": {},
   "outputs": [],
   "source": []
  },
  {
   "cell_type": "code",
   "execution_count": null,
   "metadata": {},
   "outputs": [],
   "source": []
  }
 ],
 "metadata": {
  "kernelspec": {
   "display_name": "Python 3 (ipykernel)",
   "language": "python",
   "name": "python3"
  },
  "language_info": {
   "codemirror_mode": {
    "name": "ipython",
    "version": 3
   },
   "file_extension": ".py",
   "mimetype": "text/x-python",
   "name": "python",
   "nbconvert_exporter": "python",
   "pygments_lexer": "ipython3",
   "version": "3.11.6"
  },
  "toc": {
   "base_numbering": 1,
   "nav_menu": {},
   "number_sections": true,
   "sideBar": true,
   "skip_h1_title": false,
   "title_cell": "Table of Contents",
   "title_sidebar": "Contents",
   "toc_cell": false,
   "toc_position": {
    "height": "calc(100% - 180px)",
    "left": "10px",
    "top": "150px",
    "width": "348px"
   },
   "toc_section_display": true,
   "toc_window_display": true
  },
  "varInspector": {
   "cols": {
    "lenName": 16,
    "lenType": 16,
    "lenVar": 40
   },
   "kernels_config": {
    "python": {
     "delete_cmd_postfix": "",
     "delete_cmd_prefix": "del ",
     "library": "var_list.py",
     "varRefreshCmd": "print(var_dic_list())"
    },
    "r": {
     "delete_cmd_postfix": ") ",
     "delete_cmd_prefix": "rm(",
     "library": "var_list.r",
     "varRefreshCmd": "cat(var_dic_list()) "
    }
   },
   "types_to_exclude": [
    "module",
    "function",
    "builtin_function_or_method",
    "instance",
    "_Feature"
   ],
   "window_display": false
  }
 },
 "nbformat": 4,
 "nbformat_minor": 2
}
