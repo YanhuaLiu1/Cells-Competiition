{
 "cells": [
  {
   "cell_type": "markdown",
   "metadata": {},
   "source": [
    "# Competition for glucose, with internal goods X and Y, and social objective (model), Time-step growth model"
   ]
  },
  {
   "cell_type": "markdown",
   "metadata": {},
   "source": [
    "##Here, the case is cell type3 existing regulation to cell type2. Only not receive the regulation from cell type2."
   ]
  },
  {
   "cell_type": "code",
   "execution_count": 1,
   "metadata": {},
   "outputs": [],
   "source": [
    "import cobra\n",
    "import pandas as pd\n",
    "import numpy as np\n",
    "import pickle\n",
    "from cobra.flux_analysis import pfba"
   ]
  },
  {
   "cell_type": "code",
   "execution_count": 2,
   "metadata": {},
   "outputs": [
    {
     "name": "stdout",
     "output_type": "stream",
     "text": [
      "Scaling...\n",
      " A: min|aij| =  1.000e+00  max|aij| =  1.000e+00  ratio =  1.000e+00\n",
      "Problem data seem to be well scaled\n"
     ]
    },
    {
     "name": "stderr",
     "output_type": "stream",
     "text": [
      "/Users/yanhualiu/Desktop/New_topic/model_building/model_building_exercise_by_yanhua/Cells' competition paper/Three cell types considering growth for paper/Cell types just including one mutation as cell type1/utils/findBiomarkers.py:6: FutureWarning: Passing a negative integer is deprecated in version 1.0 and will not be supported in future version. Instead, use None to not limit the column width.\n",
      "  pd.set_option('display.max_colwidth', -1)\n"
     ]
    }
   ],
   "source": [
    "# import map visualization tools\n",
    "from utils import show_map\n",
    "import escher\n",
    "map_loc = 'Three_cells_system_modelMap.json' # the escher map used below\n",
    "# show all output\n",
    "from IPython.core.interactiveshell import InteractiveShell\n",
    "InteractiveShell.ast_node_interactivity = \"all\"\n",
    "\n",
    "M = cobra.io.load_json_model('Three_cells_system_model.json')\n",
    "model = M.copy()"
   ]
  },
  {
   "cell_type": "code",
   "execution_count": 3,
   "metadata": {},
   "outputs": [
    {
     "name": "stdout",
     "output_type": "stream",
     "text": [
      "An empty solution was passed.\n"
     ]
    },
    {
     "data": {
      "application/vnd.jupyter.widget-view+json": {
       "model_id": "fcce58ac01604eac910fdd1e73dea039",
       "version_major": 2,
       "version_minor": 0
      },
      "text/plain": [
       "Builder(hide_secondary_metabolites=False, highlight_missing=True, reaction_data={}, reaction_scale=[{'type': '…"
      ]
     },
     "metadata": {},
     "output_type": "display_data"
    }
   ],
   "source": [
    "b = show_map([],map_loc)\n",
    "b"
   ]
  },
  {
   "cell_type": "code",
   "execution_count": 4,
   "metadata": {},
   "outputs": [],
   "source": [
    "### Internal goods X and Y\n",
    "model.reactions.EX_Com_goodX_e.lower_bound=0\n",
    "model.reactions.EX_Com_goodY_e.lower_bound=0\n",
    "model.reactions.EX_glucose_e.lower_bound=-1\n",
    "quadratic_objective = M.problem.Objective(model.reactions.biomass1.flux_expression + model.reactions.biomass3.flux_expression ,direction='max')\n",
    "model.objective = quadratic_objective"
   ]
  },
  {
   "cell_type": "code",
   "execution_count": 5,
   "metadata": {},
   "outputs": [
    {
     "data": {
      "text/plain": [
       "0.5"
      ]
     },
     "execution_count": 5,
     "metadata": {},
     "output_type": "execute_result"
    },
    {
     "data": {
      "application/vnd.jupyter.widget-view+json": {
       "model_id": "dccfa0d77e89475189fbb8c562e7061b",
       "version_major": 2,
       "version_minor": 0
      },
      "text/plain": [
       "Builder(hide_secondary_metabolites=False, highlight_missing=True, reaction_data={'EX_glucose_e': -1.0, 'GlcT':…"
      ]
     },
     "metadata": {},
     "output_type": "display_data"
    }
   ],
   "source": [
    "sol = model.optimize()\n",
    "sol.objective_value\n",
    "fbasol = model.optimize()\n",
    "b = show_map(fbasol,map_loc)\n",
    "b"
   ]
  },
  {
   "cell_type": "code",
   "execution_count": 6,
   "metadata": {},
   "outputs": [
    {
     "data": {
      "text/html": [
       "<div>\n",
       "<style scoped>\n",
       "    .dataframe tbody tr th:only-of-type {\n",
       "        vertical-align: middle;\n",
       "    }\n",
       "\n",
       "    .dataframe tbody tr th {\n",
       "        vertical-align: top;\n",
       "    }\n",
       "\n",
       "    .dataframe thead th {\n",
       "        text-align: right;\n",
       "    }\n",
       "</style>\n",
       "<table border=\"1\" class=\"dataframe\">\n",
       "  <thead>\n",
       "    <tr style=\"text-align: right;\">\n",
       "      <th></th>\n",
       "      <th>minimum</th>\n",
       "      <th>maximum</th>\n",
       "    </tr>\n",
       "  </thead>\n",
       "  <tbody>\n",
       "    <tr>\n",
       "      <th>EX_glucose_e</th>\n",
       "      <td>-1.00</td>\n",
       "      <td>-1.00</td>\n",
       "    </tr>\n",
       "    <tr>\n",
       "      <th>GlcT</th>\n",
       "      <td>1.00</td>\n",
       "      <td>1.00</td>\n",
       "    </tr>\n",
       "    <tr>\n",
       "      <th>GTI1</th>\n",
       "      <td>0.25</td>\n",
       "      <td>0.75</td>\n",
       "    </tr>\n",
       "    <tr>\n",
       "      <th>GTI2</th>\n",
       "      <td>0.25</td>\n",
       "      <td>0.25</td>\n",
       "    </tr>\n",
       "    <tr>\n",
       "      <th>GTI3</th>\n",
       "      <td>0.00</td>\n",
       "      <td>0.50</td>\n",
       "    </tr>\n",
       "    <tr>\n",
       "      <th>biomass1</th>\n",
       "      <td>0.00</td>\n",
       "      <td>0.50</td>\n",
       "    </tr>\n",
       "    <tr>\n",
       "      <th>biomass2</th>\n",
       "      <td>0.00</td>\n",
       "      <td>0.00</td>\n",
       "    </tr>\n",
       "    <tr>\n",
       "      <th>biomass3</th>\n",
       "      <td>0.00</td>\n",
       "      <td>0.50</td>\n",
       "    </tr>\n",
       "    <tr>\n",
       "      <th>DI1X</th>\n",
       "      <td>0.25</td>\n",
       "      <td>0.25</td>\n",
       "    </tr>\n",
       "    <tr>\n",
       "      <th>DI2Y</th>\n",
       "      <td>0.25</td>\n",
       "      <td>0.25</td>\n",
       "    </tr>\n",
       "  </tbody>\n",
       "</table>\n",
       "</div>"
      ],
      "text/plain": [
       "              minimum  maximum\n",
       "EX_glucose_e -1.00    -1.00   \n",
       "GlcT          1.00     1.00   \n",
       "GTI1          0.25     0.75   \n",
       "GTI2          0.25     0.25   \n",
       "GTI3          0.00     0.50   \n",
       "biomass1      0.00     0.50   \n",
       "biomass2      0.00     0.00   \n",
       "biomass3      0.00     0.50   \n",
       "DI1X          0.25     0.25   \n",
       "DI2Y          0.25     0.25   "
      ]
     },
     "execution_count": 6,
     "metadata": {},
     "output_type": "execute_result"
    }
   ],
   "source": [
    "### FVA result\n",
    "rxnsOfInterest=['EX_glucose_e','GlcT','GTI1','GTI2','GTI3',\n",
    "                'biomass1','biomass2','biomass3','DI1X','DI2Y']\n",
    "fvasol = cobra.flux_analysis.flux_variability_analysis(model,reaction_list=rxnsOfInterest,fraction_of_optimum=1)\n",
    "fvasol"
   ]
  },
  {
   "cell_type": "markdown",
   "metadata": {},
   "source": [
    "# Time stepwise growth calculation (model1)"
   ]
  },
  {
   "cell_type": "markdown",
   "metadata": {},
   "source": [
    "## Without regulation (cell1 and cell2 without/with regulation) "
   ]
  },
  {
   "cell_type": "code",
   "execution_count": 15,
   "metadata": {},
   "outputs": [],
   "source": [
    "import math\n",
    "model1=model.copy()\n",
    "model2=model1.copy()"
   ]
  },
  {
   "cell_type": "code",
   "execution_count": 16,
   "metadata": {
    "scrolled": false
   },
   "outputs": [
    {
     "data": {
      "text/plain": [
       "<Figure size 640x480 with 0 Axes>"
      ]
     },
     "execution_count": 16,
     "metadata": {},
     "output_type": "execute_result"
    },
    {
     "name": "stdout",
     "output_type": "stream",
     "text": [
      "0.1506 0.3417 0.0077\n"
     ]
    },
    {
     "data": {
      "text/plain": [
       "<matplotlib.collections.PathCollection at 0x13f728d90>"
      ]
     },
     "execution_count": 16,
     "metadata": {},
     "output_type": "execute_result"
    },
    {
     "data": {
      "text/plain": [
       "<matplotlib.collections.PathCollection at 0x13f7291e0>"
      ]
     },
     "execution_count": 16,
     "metadata": {},
     "output_type": "execute_result"
    },
    {
     "data": {
      "text/plain": [
       "<matplotlib.collections.PathCollection at 0x13f703c10>"
      ]
     },
     "execution_count": 16,
     "metadata": {},
     "output_type": "execute_result"
    },
    {
     "data": {
      "text/plain": [
       "Text(0.5, 0, 't (month)')"
      ]
     },
     "execution_count": 16,
     "metadata": {},
     "output_type": "execute_result"
    },
    {
     "data": {
      "text/plain": [
       "(0.0, 1.0)"
      ]
     },
     "execution_count": 16,
     "metadata": {},
     "output_type": "execute_result"
    },
    {
     "data": {
      "text/plain": [
       "Text(0.5, 1.0, 'Stepwise growth (µ1=µ3=0.2, µ2=0.3; $\\\\varepsilon=0$)')"
      ]
     },
     "execution_count": 16,
     "metadata": {},
     "output_type": "execute_result"
    },
    {
     "data": {
      "text/plain": [
       "Text(0, 0.5, 'Cell number (billions)')"
      ]
     },
     "execution_count": 16,
     "metadata": {},
     "output_type": "execute_result"
    },
    {
     "data": {
      "text/plain": [
       "<matplotlib.legend.Legend at 0x13f701db0>"
      ]
     },
     "execution_count": 16,
     "metadata": {},
     "output_type": "execute_result"
    },
    {
     "data": {
      "image/png": "[encoded data removed]",
      "text/plain": [
       "<Figure size 640x480 with 1 Axes>"
      ]
     },
     "metadata": {},
     "output_type": "display_data"
    }
   ],
   "source": [
    "##ε=0; Fluxes1=0.1505791505791506; Fluxes2=0.3416988416988417; Fluxes3=0.007722007722007722\n",
    "##ε=0.5; Fluxes1=0.1690085561382721; Fluxes2=0.31970783367194167; Fluxes3=0.011283610189786191\n",
    "##ε=1; Fluxes1=0.18769883351007424; Fluxes2=0.2959866220735786; Fluxes3=0.016314544416347172\n",
    "##ε=2; Fluxes1=0.22290105162916318; Fluxes2=0.24426119151800751; Fluxes3=0.03283775685282937\n",
    "import matplotlib.pyplot as plt\n",
    "plt.figure()\n",
    "T_list=[0]\n",
    "Fluxes1_list=[0.1506]\n",
    "Fluxes2_list=[0.3417]\n",
    "Fluxes3_list=[0.0077]\n",
    "B1_vals=[0.39]\n",
    "B2_vals=[0.59]\n",
    "B3_vals=[0.02]\n",
    "\n",
    "def B1(t):\n",
    "    if(t<=0):\n",
    "        return 0.39\n",
    "    return B1_vals[int((t-1)/1)]*0.95+0.1*Fluxes1_list[-1]\n",
    "def B2(t):\n",
    "    if(t<=0):\n",
    "        return 0.59\n",
    "    return B2_vals[int((t-1)/1)]*0.95+0.1*Fluxes2_list[-1]\n",
    "def B3(t):\n",
    "    if(t<=0):\n",
    "        return 0.02\n",
    "    return B3_vals[int((t-1)/1)]*0.95+0.1*Fluxes3_list[-1]\n",
    "A=0\n",
    "for t in np.arange(1,1000,1):\n",
    "    B1_t = B1(t)\n",
    "    B2_t = B2(t)\n",
    "    B3_t = B3(t)\n",
    "    \n",
    "#     B1_vals.append(B1_t)\n",
    "#     B2_vals.append(B2_t)\n",
    "#     B3_vals.append(B3_t)\n",
    "    \n",
    "    b1=0.5*0.2*B1_vals[-1]*(math.pow(B2_vals[-1],A))/(0.2*B1_vals[-1]*(math.pow(B2_vals[-1],A))+0.3*B2_vals[-1]*(math.pow((B1_vals[-1]+B3_vals[-1]),A))+0.2*B3_vals[-1])\n",
    "    b2=0.5*0.3*B2_vals[-1]*(math.pow((B1_vals[-1]+B3_vals[-1]),A))/(0.2*B1_vals[-1]*(math.pow(B2_vals[-1],A))+0.3*B2_vals[-1]*(math.pow((B1_vals[-1]+B3_vals[-1]),A))+0.2*B3_vals[-1])\n",
    "    b3=0.5*0.2*B3_vals[-1]/(0.2*B1_vals[-1]*(math.pow(B2_vals[-1],A))+0.3*B2_vals[-1]*(math.pow((B1_vals[-1]+B3_vals[-1]),A))+0.2*B3_vals[-1])\n",
    "    \n",
    "    B1_vals.append(B1_t)\n",
    "    B2_vals.append(B2_t)\n",
    "    B3_vals.append(B3_t)\n",
    "    \n",
    "    model2.reactions.biomass3.upper_bound=b3\n",
    "    model2.reactions.biomass2.upper_bound=b2\n",
    "    model2.reactions.biomass1.upper_bound=b1\n",
    "    model2.reactions.DI1X.upper_bound=3*B1_vals[-1]\n",
    "    model2.reactions.DI2Y.upper_bound=3*B2_vals[-1]\n",
    "#     model2.reactions.DI3X.upper_bound=3*B3_vals[-1]\n",
    "    sol = model2.optimize()\n",
    "    obj_val = sol.objective_value\n",
    "    Fluxes3=sol.fluxes.loc['biomass3']\n",
    "    Fluxes2=sol.fluxes.loc['biomass2']\n",
    "    Fluxes1=sol.fluxes.loc['biomass1']\n",
    "    \n",
    "    Fluxes1_list.append(Fluxes1)\n",
    "    Fluxes2_list.append(Fluxes2)\n",
    "    Fluxes3_list.append(Fluxes3)\n",
    "    \n",
    "    T=t/10\n",
    "    T_list.append(T)\n",
    "print(Fluxes1_list[0],Fluxes2_list[0],Fluxes3_list[0])           \n",
    "# plt.scatter(T_list,Fluxes1_list,color='orange',s=10)\n",
    "# plt.scatter(T_list,Fluxes2_list,color='purple',s=10)\n",
    "# plt.scatter(T_list,Fluxes3_list,color='red',s=10)\n",
    "\n",
    "plt.scatter(T_list,B1_vals,color='orange',s=10)\n",
    "plt.scatter(T_list,B2_vals,color='purple',s=10)\n",
    "plt.scatter(T_list,B3_vals,color='red',s=10)\n",
    "\n",
    "plt.xlabel(\"t (month)\",fontsize=15)\n",
    "\n",
    "# plt.ylim(0,0.5)\n",
    "# plt.title('Stepwise growth (µ1=µ3=0.2, µ2=0.3; 'r'$\\varepsilon=2$'')',fontsize=12)\n",
    "# plt.ylabel(\"Biomass synthesis rate\", fontsize=12)\n",
    "# plt.legend(['b1(t)','b2(t)','b3(t)'],loc='upper right')\n",
    "\n",
    "plt.ylim(0,1)\n",
    "plt.title('Stepwise growth (µ1=µ3=0.2, µ2=0.3; 'r'$\\varepsilon=0$'')',fontsize=12)\n",
    "plt.ylabel(\"Cell number (billions)\",fontsize=12)\n",
    "plt.legend(['B1(t)','B2(t)','B3(t)'],loc='upper right')\n",
    "\n",
    "plt.rc('xtick', labelsize=16) \n",
    "plt.rc('ytick', labelsize=16)\n",
    "plt.rcParams['legend.fontsize']=15\n",
    "plt.tight_layout()\n",
    "# plt.show()\n",
    "plt.savefig('Only regulation between biomass1 and biomass2(Obj=b1+b2+b3)',dpi=600)"
   ]
  },
  {
   "cell_type": "code",
   "execution_count": null,
   "metadata": {},
   "outputs": [],
   "source": []
  },
  {
   "cell_type": "code",
   "execution_count": null,
   "metadata": {},
   "outputs": [],
   "source": []
  }
 ],
 "metadata": {
  "kernelspec": {
   "display_name": "Python 3 (ipykernel)",
   "language": "python",
   "name": "python3"
  },
  "language_info": {
   "codemirror_mode": {
    "name": "ipython",
    "version": 3
   },
   "file_extension": ".py",
   "mimetype": "text/x-python",
   "name": "python",
   "nbconvert_exporter": "python",
   "pygments_lexer": "ipython3",
   "version": "3.10.6"
  },
  "toc": {
   "base_numbering": 1,
   "nav_menu": {},
   "number_sections": true,
   "sideBar": true,
   "skip_h1_title": false,
   "title_cell": "Table of Contents",
   "title_sidebar": "Contents",
   "toc_cell": false,
   "toc_position": {
    "height": "calc(100% - 180px)",
    "left": "10px",
    "top": "150px",
    "width": "348px"
   },
   "toc_section_display": true,
   "toc_window_display": true
  },
  "varInspector": {
   "cols": {
    "lenName": 16,
    "lenType": 16,
    "lenVar": 40
   },
   "kernels_config": {
    "python": {
     "delete_cmd_postfix": "",
     "delete_cmd_prefix": "del ",
     "library": "var_list.py",
     "varRefreshCmd": "print(var_dic_list())"
    },
    "r": {
     "delete_cmd_postfix": ") ",
     "delete_cmd_prefix": "rm(",
     "library": "var_list.r",
     "varRefreshCmd": "cat(var_dic_list()) "
    }
   },
   "types_to_exclude": [
    "module",
    "function",
    "builtin_function_or_method",
    "instance",
    "_Feature"
   ],
   "window_display": false
  }
 },
 "nbformat": 4,
 "nbformat_minor": 2
}
