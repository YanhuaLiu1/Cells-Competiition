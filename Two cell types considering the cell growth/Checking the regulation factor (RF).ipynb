{
 "cells": [
  {
   "cell_type": "markdown",
   "metadata": {},
   "source": [
    "# Competition for glucose, with internal goods X and Y, and social objective (model), linear/exponential growth rate"
   ]
  },
  {
   "cell_type": "code",
   "execution_count": 2,
   "metadata": {},
   "outputs": [],
   "source": [
    "import cobra\n",
    "import pandas as pd\n",
    "import numpy as np\n",
    "import pickle\n",
    "from cobra.flux_analysis import pfba"
   ]
  },
  {
   "cell_type": "code",
   "execution_count": 2,
   "metadata": {},
   "outputs": [
    {
     "name": "stdout",
     "output_type": "stream",
     "text": [
      "Scaling...\n",
      " A: min|aij| =  1.000e+00  max|aij| =  1.000e+00  ratio =  1.000e+00\n",
      "Problem data seem to be well scaled\n"
     ]
    },
    {
     "name": "stderr",
     "output_type": "stream",
     "text": [
      "/Users/yanhualiu/Desktop/New_topic/model_building/model_building_exercise_by_yanhua/Cells' competition paper/Two cell types considering growth for paper/utils/findBiomarkers.py:6: FutureWarning: Passing a negative integer is deprecated in version 1.0 and will not be supported in future version. Instead, use None to not limit the column width.\n",
      "  pd.set_option('display.max_colwidth', -1)\n"
     ]
    }
   ],
   "source": [
    "# import map visualization tools\n",
    "from utils import show_map\n",
    "import escher\n",
    "map_loc = 'Two cell system model_map.json' # the escher map used below\n",
    "# show all output\n",
    "from IPython.core.interactiveshell import InteractiveShell\n",
    "InteractiveShell.ast_node_interactivity = \"all\"\n",
    "\n",
    "M = cobra.io.load_json_model('Two cell system model.json')\n",
    "model = M.copy()"
   ]
  },
  {
   "cell_type": "code",
   "execution_count": 3,
   "metadata": {},
   "outputs": [
    {
     "name": "stdout",
     "output_type": "stream",
     "text": [
      "An empty solution was passed.\n"
     ]
    },
    {
     "data": {
      "application/vnd.jupyter.widget-view+json": {
       "model_id": "3bf35c0c7d6244b081a2788ae8eb3075",
       "version_major": 2,
       "version_minor": 0
      },
      "text/plain": [
       "Builder(hide_secondary_metabolites=False, highlight_missing=True, reaction_data={}, reaction_scale=[{'type': '…"
      ]
     },
     "metadata": {},
     "output_type": "display_data"
    }
   ],
   "source": [
    "b = show_map([],map_loc)\n",
    "b"
   ]
  },
  {
   "cell_type": "code",
   "execution_count": 3,
   "metadata": {},
   "outputs": [],
   "source": [
    "### Internal goods X and Y\n",
    "model.reactions.EX_Com_goodX_e.lower_bound=0\n",
    "model.reactions.EX_Com_goodY_e.lower_bound=0\n",
    "model.reactions.EX_glucose_e.lower_bound=-1"
   ]
  },
  {
   "cell_type": "code",
   "execution_count": 4,
   "metadata": {},
   "outputs": [
    {
     "data": {
      "application/vnd.jupyter.widget-view+json": {
       "model_id": "deaa612eb2cb4bf4afedb0744b392561",
       "version_major": 2,
       "version_minor": 0
      },
      "text/plain": [
       "Builder(hide_secondary_metabolites=False, highlight_missing=True, reaction_data={'EX_glucose_e': -1.0, 'GlcT':…"
      ]
     },
     "metadata": {},
     "output_type": "display_data"
    }
   ],
   "source": [
    "fbasol = pfba(model)\n",
    "b = show_map(fbasol,map_loc)\n",
    "b"
   ]
  },
  {
   "cell_type": "code",
   "execution_count": 6,
   "metadata": {},
   "outputs": [
    {
     "data": {
      "text/html": [
       "<div>\n",
       "<style scoped>\n",
       "    .dataframe tbody tr th:only-of-type {\n",
       "        vertical-align: middle;\n",
       "    }\n",
       "\n",
       "    .dataframe tbody tr th {\n",
       "        vertical-align: top;\n",
       "    }\n",
       "\n",
       "    .dataframe thead th {\n",
       "        text-align: right;\n",
       "    }\n",
       "</style>\n",
       "<table border=\"1\" class=\"dataframe\">\n",
       "  <thead>\n",
       "    <tr style=\"text-align: right;\">\n",
       "      <th></th>\n",
       "      <th>minimum</th>\n",
       "      <th>maximum</th>\n",
       "    </tr>\n",
       "  </thead>\n",
       "  <tbody>\n",
       "    <tr>\n",
       "      <th>EX_glucose_e</th>\n",
       "      <td>-1.00</td>\n",
       "      <td>-1.00</td>\n",
       "    </tr>\n",
       "    <tr>\n",
       "      <th>GlcT</th>\n",
       "      <td>1.00</td>\n",
       "      <td>1.00</td>\n",
       "    </tr>\n",
       "    <tr>\n",
       "      <th>GTI1</th>\n",
       "      <td>0.25</td>\n",
       "      <td>0.75</td>\n",
       "    </tr>\n",
       "    <tr>\n",
       "      <th>GTI2</th>\n",
       "      <td>0.25</td>\n",
       "      <td>0.75</td>\n",
       "    </tr>\n",
       "    <tr>\n",
       "      <th>biomass1</th>\n",
       "      <td>0.00</td>\n",
       "      <td>0.50</td>\n",
       "    </tr>\n",
       "    <tr>\n",
       "      <th>biomass2</th>\n",
       "      <td>0.00</td>\n",
       "      <td>0.50</td>\n",
       "    </tr>\n",
       "    <tr>\n",
       "      <th>DI1X</th>\n",
       "      <td>0.25</td>\n",
       "      <td>0.25</td>\n",
       "    </tr>\n",
       "    <tr>\n",
       "      <th>DI2Y</th>\n",
       "      <td>0.25</td>\n",
       "      <td>0.25</td>\n",
       "    </tr>\n",
       "  </tbody>\n",
       "</table>\n",
       "</div>"
      ],
      "text/plain": [
       "              minimum  maximum\n",
       "EX_glucose_e -1.00    -1.00   \n",
       "GlcT          1.00     1.00   \n",
       "GTI1          0.25     0.75   \n",
       "GTI2          0.25     0.75   \n",
       "biomass1      0.00     0.50   \n",
       "biomass2      0.00     0.50   \n",
       "DI1X          0.25     0.25   \n",
       "DI2Y          0.25     0.25   "
      ]
     },
     "execution_count": 6,
     "metadata": {},
     "output_type": "execute_result"
    }
   ],
   "source": [
    "### FVA result\n",
    "rxnsOfInterest=['EX_glucose_e','GlcT','GTI1','GTI2','biomass1','biomass2','DI1X','DI2Y']\n",
    "fvasol = cobra.flux_analysis.flux_variability_analysis(model,reaction_list=rxnsOfInterest,fraction_of_optimum=1)\n",
    "fvasol"
   ]
  },
  {
   "cell_type": "code",
   "execution_count": 7,
   "metadata": {},
   "outputs": [
    {
     "data": {
      "text/plain": [
       "0.5"
      ]
     },
     "execution_count": 7,
     "metadata": {},
     "output_type": "execute_result"
    }
   ],
   "source": [
    "model.solver='glpk'\n",
    "sol = model.optimize()\n",
    "sol.objective_value"
   ]
  },
  {
   "cell_type": "markdown",
   "metadata": {},
   "source": [
    "# With regulation"
   ]
  },
  {
   "cell_type": "markdown",
   "metadata": {},
   "source": [
    "## With stepwise regulation"
   ]
  },
  {
   "cell_type": "markdown",
   "metadata": {},
   "source": [
    "### µ1=0.2; µ2=0.3"
   ]
  },
  {
   "cell_type": "code",
   "execution_count": 3,
   "metadata": {},
   "outputs": [
    {
     "name": "stdout",
     "output_type": "stream",
     "text": [
      "Scaling...\n",
      " A: min|aij| =  1.000e+00  max|aij| =  1.000e+00  ratio =  1.000e+00\n",
      "Problem data seem to be well scaled\n"
     ]
    }
   ],
   "source": [
    "from cobra.flux_analysis import pfba\n",
    "# import map visualization tools\n",
    "from utils import show_map\n",
    "import escher\n",
    "map_loc = 'Two cell system model_map.json' # the escher map used below\n",
    "# show all output\n",
    "from IPython.core.interactiveshell import InteractiveShell\n",
    "InteractiveShell.ast_node_interactivity = \"all\"\n",
    "\n",
    "\n",
    "M = cobra.io.load_json_model('Two cell system model.json')\n",
    "model = M.copy()"
   ]
  },
  {
   "cell_type": "code",
   "execution_count": 15,
   "metadata": {},
   "outputs": [],
   "source": [
    "### Internal goods X and Y\n",
    "model.reactions.EX_Com_goodX_e.lower_bound=0\n",
    "model.reactions.EX_Com_goodY_e.lower_bound=0\n",
    "model.reactions.EX_glucose_e.lower_bound=-1\n",
    "model1=model.copy()\n",
    "model2=model.copy()\n",
    "model3=model.copy()"
   ]
  },
  {
   "cell_type": "code",
   "execution_count": 16,
   "metadata": {},
   "outputs": [
    {
     "data": {
      "text/plain": [
       "<Figure size 640x480 with 0 Axes>"
      ]
     },
     "execution_count": 16,
     "metadata": {},
     "output_type": "execute_result"
    },
    {
     "data": {
      "text/plain": [
       "<matplotlib.collections.PathCollection at 0x137bb8160>"
      ]
     },
     "execution_count": 16,
     "metadata": {},
     "output_type": "execute_result"
    },
    {
     "data": {
      "text/plain": [
       "<matplotlib.collections.PathCollection at 0x1408adc60>"
      ]
     },
     "execution_count": 16,
     "metadata": {},
     "output_type": "execute_result"
    },
    {
     "data": {
      "text/plain": [
       "<matplotlib.collections.PathCollection at 0x14382ee30>"
      ]
     },
     "execution_count": 16,
     "metadata": {},
     "output_type": "execute_result"
    },
    {
     "data": {
      "text/plain": [
       "<matplotlib.collections.PathCollection at 0x14382e950>"
      ]
     },
     "execution_count": 16,
     "metadata": {},
     "output_type": "execute_result"
    },
    {
     "data": {
      "text/plain": [
       "<matplotlib.collections.PathCollection at 0x1438a05b0>"
      ]
     },
     "execution_count": 16,
     "metadata": {},
     "output_type": "execute_result"
    },
    {
     "data": {
      "text/plain": [
       "<matplotlib.collections.PathCollection at 0x1438a09d0>"
      ]
     },
     "execution_count": 16,
     "metadata": {},
     "output_type": "execute_result"
    },
    {
     "data": {
      "text/plain": [
       "Text(0.5, 0, 't (month)')"
      ]
     },
     "execution_count": 16,
     "metadata": {},
     "output_type": "execute_result"
    },
    {
     "data": {
      "text/plain": [
       "(0.0, 1.0)"
      ]
     },
     "execution_count": 16,
     "metadata": {},
     "output_type": "execute_result"
    },
    {
     "data": {
      "text/plain": [
       "Text(0.5, 1.0, 'Cell number in stepwise growth (µ1=0.2;µ2=0.3)')"
      ]
     },
     "execution_count": 16,
     "metadata": {},
     "output_type": "execute_result"
    },
    {
     "data": {
      "text/plain": [
       "Text(0, 0.5, 'Cell number (billions)')"
      ]
     },
     "execution_count": 16,
     "metadata": {},
     "output_type": "execute_result"
    },
    {
     "data": {
      "text/plain": [
       "<matplotlib.legend.Legend at 0x14382d870>"
      ]
     },
     "execution_count": 16,
     "metadata": {},
     "output_type": "execute_result"
    },
    {
     "data": {
      "image/png": "[encoded data removed]",
      "text/plain": [
       "<Figure size 640x480 with 1 Axes>"
      ]
     },
     "metadata": {},
     "output_type": "display_data"
    }
   ],
   "source": [
    "import math\n",
    "import matplotlib.pyplot as plt\n",
    "plt.figure()\n",
    "T_list=[0]\n",
    "# Store the values of B1 and B2 for each time step in lists.\n",
    "B1RS1_vals = [0.4]\n",
    "B2RS1_vals = [0.6]\n",
    "\n",
    "B1RS2_vals=[0.4]\n",
    "B2RS2_vals=[0.6]\n",
    "B1RS3_vals=[0.4]\n",
    "B2RS3_vals=[0.6]\n",
    "\n",
    "FluxesS1_list=[0.1538]\n",
    "FluxesS2_list=[0.3462]\n",
    "Fluxes1SR1_list=[0.1762]\n",
    "Fluxes2SR1_list=[0.3238]\n",
    "Fluxes1SR2_list=[0.2]\n",
    "Fluxes2SR2_list=[0.3]\n",
    "\n",
    "### define actual biomass\n",
    "def B1RS1(t):\n",
    "    if(t<=0):\n",
    "        return 0.4\n",
    "    return B1RS1_vals[int((t-1)/1)]*0.95+0.1*FluxesS1_list[-1]\n",
    "def B2RS1(t):\n",
    "    if(t<=0):\n",
    "        return 0.6\n",
    "    return B2RS1_vals[int((t-1)/1)]*0.95+0.1*FluxesS2_list[-1]\n",
    "def B1RS2(t):\n",
    "    if(t<=0):\n",
    "        return 0.4\n",
    "    return B1RS2_vals[int((t-1)/1)]*0.95+0.1*Fluxes1SR1_list[-1]\n",
    "def B2RS2(t):\n",
    "    if(t<=0):\n",
    "        return 0.6\n",
    "    return B2RS2_vals[int((t-1)/1)]*0.95+0.1*Fluxes2SR1_list[-1]\n",
    "def B1RS3(t):\n",
    "    if(t<=0):\n",
    "        return 0.4\n",
    "    return B1RS3_vals[int((t-1)/1)]*0.95+0.1*Fluxes1SR2_list[-1]\n",
    "def B2RS3(t):\n",
    "    if(t<=0):\n",
    "        return 0.6\n",
    "    return B2RS3_vals[int((t-1)/1)]*0.95+0.1*Fluxes2SR2_list[-1]\n",
    "\n",
    "for t in np.arange(1,500,1):\n",
    "    B1RS1_t = B1RS1(t)\n",
    "    B2RS1_t = B2RS1(t)\n",
    "    B1RS2_t = B1RS2(t)\n",
    "    B2RS2_t = B2RS2(t)\n",
    "    B1RS3_t = B1RS3(t)\n",
    "    B2RS3_t = B2RS3(t)\n",
    "    \n",
    "#     B1RS1_vals.append(B1RS1_t)\n",
    "#     B2RS1_vals.append(B2RS1_t)\n",
    "#     B1RS2_vals.append(B1RS2_t)\n",
    "#     B2RS2_vals.append(B2RS2_t)\n",
    "#     B1RS3_vals.append(B1RS3_t)\n",
    "#     B2RS3_vals.append(B2RS3_t)\n",
    "    A=0.2\n",
    "    b1RS1=0.5*0.2*B1RS1_vals[-1]*math.pow(B2RS1_vals[-1]/(A+B2RS1_vals[-1]),0)/(0.2*B1RS1_vals[-1]*math.pow(B2RS1_vals[-1]/(A+B2RS1_vals[-1]),0)+0.3*B2RS1_vals[-1]*math.pow(B1RS1_vals[-1]/(A+B1RS1_vals[-1]),0))\n",
    "    b2RS1=0.5*0.3*B2RS1_vals[-1]*math.pow(B1RS1_vals[-1]/(A+B1RS1_vals[-1]),0)/(0.2*B1RS1_vals[-1]*math.pow(B2RS1_vals[-1]/(A+B2RS1_vals[-1]),0)+0.3*B2RS1_vals[-1]*math.pow(B1RS1_vals[-1]/(A+B1RS1_vals[-1]),0))\n",
    "    b1RS2=0.5*0.2*B1RS2_vals[-1]*math.pow(B2RS2_vals[-1]/(A+B2RS2_vals[-1]),0.5)/(0.2*B1RS2_vals[-1]*math.pow(B2RS2_vals[-1]/(A+B2RS2_vals[-1]),0.5)+0.3*B2RS2_vals[-1]*math.pow(B1RS2_vals[-1]/(A+B1RS2_vals[-1]),0.5))\n",
    "    b2RS2=0.5*0.3*B2RS2_vals[-1]*math.pow(B1RS2_vals[-1]/(A+B1RS2_vals[-1]),0.5)/(0.2*B1RS2_vals[-1]*math.pow(B2RS2_vals[-1]/(A+B2RS2_vals[-1]),0.5)+0.3*B2RS2_vals[-1]*math.pow(B1RS2_vals[-1]/(A+B1RS2_vals[-1]),0.5))\n",
    "    b1RS3=0.5*0.2*B1RS3_vals[-1]*math.pow(B2RS3_vals[-1]/(A+B2RS3_vals[-1]),1)/(0.2*B1RS3_vals[-1]*math.pow(B2RS3_vals[-1]/(A+B2RS3_vals[-1]),1)+0.3*B2RS3_vals[-1]*math.pow(B1RS3_vals[-1]/(A+B1RS3_vals[-1]),1))\n",
    "    b2RS3=0.5*0.3*B2RS3_vals[-1]*math.pow(B1RS3_vals[-1]/(A+B1RS3_vals[-1]),1)/(0.2*B1RS3_vals[-1]*math.pow(B2RS3_vals[-1]/(A+B2RS3_vals[-1]),1)+0.3*B2RS3_vals[-1]*math.pow(B1RS3_vals[-1]/(A+B1RS3_vals[-1]),1))\n",
    "    \n",
    "    B1RS1_vals.append(B1RS1_t)\n",
    "    B2RS1_vals.append(B2RS1_t)\n",
    "    B1RS2_vals.append(B1RS2_t)\n",
    "    B2RS2_vals.append(B2RS2_t)\n",
    "    B1RS3_vals.append(B1RS3_t)\n",
    "    B2RS3_vals.append(B2RS3_t)\n",
    "    \n",
    "    model1.reactions.biomass1.upper_bound=b1RS1\n",
    "    model1.reactions.biomass2.upper_bound=b2RS1\n",
    "    model1.reactions.DI1X.upper_bound=3*B1RS1_vals[-1]\n",
    "    model1.reactions.DI2Y.upper_bound=3*B2RS1_vals[-1]\n",
    "    ### For regulation power=0.5\n",
    "    model2.reactions.biomass1.upper_bound=b1RS2\n",
    "    model2.reactions.biomass2.upper_bound=b2RS2\n",
    "    model2.reactions.DI1X.upper_bound=3*B1RS2_vals[-1]\n",
    "    model2.reactions.DI2Y.upper_bound=3*B2RS2_vals[-1]\n",
    " ### For regulation power=1\n",
    "    model3.reactions.biomass1.upper_bound=b1RS3\n",
    "    model3.reactions.biomass2.upper_bound=b2RS3\n",
    "    model3.reactions.DI1X.upper_bound=3*B1RS3_vals[-1]\n",
    "    model3.reactions.DI2Y.upper_bound=3*B2RS3_vals[-1]\n",
    "        \n",
    "    sol1 = model1.optimize()\n",
    "    obj_val = sol1.objective_value\n",
    "    FluxesS1=sol1.fluxes.loc['biomass1']\n",
    "    FluxesS2=sol1.fluxes.loc['biomass2']\n",
    "    sol2 = model2.optimize()\n",
    "    obj_val = sol2.objective_value\n",
    "    Fluxes1SR1=sol2.fluxes.loc['biomass1']\n",
    "    Fluxes2SR1=sol2.fluxes.loc['biomass2']\n",
    "    sol3 = model3.optimize()\n",
    "    obj_val = sol3.objective_value\n",
    "    Fluxes1SR2=sol3.fluxes.loc['biomass1']\n",
    "    Fluxes2SR2=sol3.fluxes.loc['biomass2']\n",
    "        \n",
    "    FluxesS1_list.append(FluxesS1)\n",
    "    FluxesS2_list.append(FluxesS2)\n",
    "    Fluxes1SR1_list.append(Fluxes1SR1)\n",
    "    Fluxes2SR1_list.append(Fluxes2SR1)\n",
    "    Fluxes1SR2_list.append(Fluxes1SR2)\n",
    "    Fluxes2SR2_list.append(Fluxes2SR2)\n",
    "    \n",
    "    T=t/10\n",
    "    T_list.append(T)\n",
    "# print(FluxesS1_list[0],FluxesS2_list[0],Fluxes1SR1_list[0],Fluxes2SR1_list[0],Fluxes1SR2_list[0],Fluxes2SR2_list[0])\n",
    "plt.scatter(T_list,B1RS1_vals,color='orange',s=10)\n",
    "plt.scatter(T_list,B2RS1_vals,color='purple',s=10)\n",
    "plt.scatter(T_list,B1RS2_vals,color='blue',s=10)\n",
    "plt.scatter(T_list,B2RS2_vals,color='olive',s=10)\n",
    "plt.scatter(T_list,B1RS3_vals,color='deepskyblue',s=10)\n",
    "plt.scatter(T_list,B2RS3_vals,color='orangered',s=10)\n",
    "\n",
    "# plt.scatter(T_list,FluxesS1_list,color='orange',s=10)\n",
    "# plt.scatter(T_list,FluxesS2_list,color='purple',s=10)\n",
    "# plt.scatter(T_list,Fluxes1SR1_list,color='blue',s=10)\n",
    "# plt.scatter(T_list,Fluxes2SR1_list,color='olive',s=10)\n",
    "# plt.scatter(T_list,Fluxes1SR2_list,color='deepskyblue',s=10)\n",
    "# plt.scatter(T_list,Fluxes2SR2_list,color='orangered',s=10)\n",
    "\n",
    "plt.xlabel(\"t (month)\",fontsize=15)\n",
    "\n",
    "\n",
    "plt.ylim(0,1)\n",
    "plt.title('Cell number in stepwise growth (µ1=0.2;µ2=0.3)',fontsize=12)\n",
    "plt.ylabel(\"Cell number (billions)\",fontsize=12)\n",
    "plt.legend(['B1(t)''('r'$\\varepsilon=0$'')','B2(t)''('r'$\\varepsilon=0$'')','B1R1(t)''('r'$\\varepsilon=0.5$'')',\n",
    "            'B2R1(t)''('r'$\\varepsilon=0.5$'')','B1R2(t)''('r'$\\varepsilon=1$'')','B2R2(t)''('r'$\\varepsilon=1$'')'],\n",
    "           loc='center right')\n",
    "\n",
    "# plt.ylim(0,0.5)\n",
    "# plt.title('biomass synthesis rate in stepwise growth (µ1=0.2;µ2=0.3)',fontsize=12)\n",
    "# plt.ylabel(\"biomass synthesis rate\",fontsize=12)\n",
    "# plt.legend(['b1(t)''('r'$\\varepsilon=0$'')','b2(t)''('r'$\\varepsilon=0$'')','b1R1(t)''('r'$\\varepsilon=0.5$'')',\n",
    "#             'b2R1(t)''('r'$\\varepsilon=0.5$'')','b1R2(t)''('r'$\\varepsilon=1$'')','b2R2(t)''('r'$\\varepsilon=1$'')'],\n",
    "#            loc='center right')\n",
    "\n",
    "plt.rc('xtick', labelsize=16) \n",
    "plt.rc('ytick', labelsize=16)\n",
    "plt.rcParams['legend.fontsize']=15\n",
    "\n",
    "\n",
    "plt.tight_layout()\n",
    "# plt.show()\n",
    "plt.savefig('Biomass value for stepwise growth with normal regulation',dpi=600)"
   ]
  },
  {
   "cell_type": "markdown",
   "metadata": {},
   "source": [
    "##ε=0.1 and 2;  when higher then 0.17, the system could get stable."
   ]
  },
  {
   "cell_type": "code",
   "execution_count": 84,
   "metadata": {},
   "outputs": [
    {
     "data": {
      "text/plain": [
       "<Figure size 640x480 with 0 Axes>"
      ]
     },
     "execution_count": 84,
     "metadata": {},
     "output_type": "execute_result"
    },
    {
     "name": "stdout",
     "output_type": "stream",
     "text": [
      "0.1538 0.3462 0.1582 0.3418 0.25 0.25\n"
     ]
    },
    {
     "data": {
      "text/plain": [
       "<matplotlib.collections.PathCollection at 0x14cac5300>"
      ]
     },
     "execution_count": 84,
     "metadata": {},
     "output_type": "execute_result"
    },
    {
     "data": {
      "text/plain": [
       "<matplotlib.collections.PathCollection at 0x14cac61a0>"
      ]
     },
     "execution_count": 84,
     "metadata": {},
     "output_type": "execute_result"
    },
    {
     "data": {
      "text/plain": [
       "<matplotlib.collections.PathCollection at 0x14cac40d0>"
      ]
     },
     "execution_count": 84,
     "metadata": {},
     "output_type": "execute_result"
    },
    {
     "data": {
      "text/plain": [
       "<matplotlib.collections.PathCollection at 0x14cab70a0>"
      ]
     },
     "execution_count": 84,
     "metadata": {},
     "output_type": "execute_result"
    },
    {
     "data": {
      "text/plain": [
       "<matplotlib.collections.PathCollection at 0x14cac4a60>"
      ]
     },
     "execution_count": 84,
     "metadata": {},
     "output_type": "execute_result"
    },
    {
     "data": {
      "text/plain": [
       "<matplotlib.collections.PathCollection at 0x14bb7c9a0>"
      ]
     },
     "execution_count": 84,
     "metadata": {},
     "output_type": "execute_result"
    },
    {
     "data": {
      "text/plain": [
       "Text(0.5, 0, 't (months)')"
      ]
     },
     "execution_count": 84,
     "metadata": {},
     "output_type": "execute_result"
    },
    {
     "data": {
      "text/plain": [
       "(0.0, 1.0)"
      ]
     },
     "execution_count": 84,
     "metadata": {},
     "output_type": "execute_result"
    },
    {
     "data": {
      "text/plain": [
       "Text(0.5, 1.0, 'Cell number in stepwise growth (µ1=0.2;µ2=0.3)')"
      ]
     },
     "execution_count": 84,
     "metadata": {},
     "output_type": "execute_result"
    },
    {
     "data": {
      "text/plain": [
       "Text(0, 0.5, 'Cell number')"
      ]
     },
     "execution_count": 84,
     "metadata": {},
     "output_type": "execute_result"
    },
    {
     "data": {
      "text/plain": [
       "<matplotlib.legend.Legend at 0x14cab5d20>"
      ]
     },
     "execution_count": 84,
     "metadata": {},
     "output_type": "execute_result"
    },
    {
     "data": {
      "image/png": "[encoded data removed]",
      "text/plain": [
       "<Figure size 640x480 with 1 Axes>"
      ]
     },
     "metadata": {},
     "output_type": "display_data"
    }
   ],
   "source": [
    "import math\n",
    "import matplotlib.pyplot as plt\n",
    "plt.figure()\n",
    "T_list=[0]\n",
    "# Store the values of B1 and B2 for each time step in lists.\n",
    "B1RS1_vals = [0.4]\n",
    "B2RS1_vals = [0.6]\n",
    "\n",
    "B1RS2_vals=[0.4]\n",
    "B2RS2_vals=[0.6]\n",
    "B1RS3_vals=[0.4]\n",
    "B2RS3_vals=[0.6]\n",
    "\n",
    "FluxesS1_list=[0.1538]\n",
    "FluxesS2_list=[0.3462]\n",
    "Fluxes1SR1_list=[0.1582]\n",
    "Fluxes2SR1_list=[0.3418]\n",
    "Fluxes1SR2_list=[0.25]\n",
    "Fluxes2SR2_list=[0.25]\n",
    "\n",
    "### define actual biomass\n",
    "def B1RS1(t):\n",
    "    if(t<=0):\n",
    "        return 0.4\n",
    "    return B1RS1_vals[int((t-1)/1)]*0.95+0.1*FluxesS1_list[-1]\n",
    "def B2RS1(t):\n",
    "    if(t<=0):\n",
    "        return 0.6\n",
    "    return B2RS1_vals[int((t-1)/1)]*0.95+0.1*FluxesS2_list[-1]\n",
    "def B1RS2(t):\n",
    "    if(t<=0):\n",
    "        return 0.4\n",
    "    return B1RS2_vals[int((t-1)/1)]*0.95+0.1*Fluxes1SR1_list[-1]\n",
    "def B2RS2(t):\n",
    "    if(t<=0):\n",
    "        return 0.6\n",
    "    return B2RS2_vals[int((t-1)/1)]*0.95+0.1*Fluxes2SR1_list[-1]\n",
    "def B1RS3(t):\n",
    "    if(t<=0):\n",
    "        return 0.4\n",
    "    return B1RS3_vals[int((t-1)/1)]*0.95+0.1*Fluxes1SR2_list[-1]\n",
    "def B2RS3(t):\n",
    "    if(t<=0):\n",
    "        return 0.6\n",
    "    return B2RS3_vals[int((t-1)/1)]*0.95+0.1*Fluxes2SR2_list[-1]\n",
    "\n",
    "for t in np.arange(1,500,1):\n",
    "    B1RS1_t = B1RS1(t)\n",
    "    B2RS1_t = B2RS1(t)\n",
    "    B1RS2_t = B1RS2(t)\n",
    "    B2RS2_t = B2RS2(t)\n",
    "    B1RS3_t = B1RS3(t)\n",
    "    B2RS3_t = B2RS3(t)\n",
    "    \n",
    "#     B1RS1_vals.append(B1RS1_t)\n",
    "#     B2RS1_vals.append(B2RS1_t)\n",
    "#     B1RS2_vals.append(B1RS2_t)\n",
    "#     B2RS2_vals.append(B2RS2_t)\n",
    "#     B1RS3_vals.append(B1RS3_t)\n",
    "#     B2RS3_vals.append(B2RS3_t)\n",
    "    \n",
    "    b1RS1=0.5*0.2*B1RS1_vals[-1]*math.pow(B2RS1_vals[-1],0)/(0.2*B1RS1_vals[-1]*math.pow(B2RS1_vals[-1],0)+0.3*B2RS1_vals[-1]*math.pow(B1RS1_vals[-1],0))\n",
    "    b2RS1=0.5*0.3*B2RS1_vals[-1]*math.pow(B1RS1_vals[-1],0)/(0.2*B1RS1_vals[-1]*math.pow(B2RS1_vals[-1],0)+0.3*B2RS1_vals[-1]*math.pow(B1RS1_vals[-1],0))\n",
    "    b1RS2=0.5*0.2*B1RS2_vals[-1]*math.pow(B2RS2_vals[-1],0.1)/(0.2*B1RS2_vals[-1]*math.pow(B2RS2_vals[-1],0.1)+0.3*B2RS2_vals[-1]*math.pow(B1RS2_vals[-1],0.1))\n",
    "    b2RS2=0.5*0.3*B2RS2_vals[-1]*math.pow(B1RS2_vals[-1],0.1)/(0.2*B1RS2_vals[-1]*math.pow(B2RS2_vals[-1],0.1)+0.3*B2RS2_vals[-1]*math.pow(B1RS2_vals[-1],0.1))\n",
    "    b1RS3=0.5*0.2*B1RS3_vals[-1]*math.pow(B2RS3_vals[-1],2)/(0.2*B1RS3_vals[-1]*math.pow(B2RS3_vals[-1],2)+0.3*B2RS3_vals[-1]*math.pow(B1RS3_vals[-1],2))\n",
    "    b2RS3=0.5*0.3*B2RS3_vals[-1]*math.pow(B1RS3_vals[-1],2)/(0.2*B1RS3_vals[-1]*math.pow(B2RS3_vals[-1],2)+0.3*B2RS3_vals[-1]*math.pow(B1RS3_vals[-1],2))\n",
    "    \n",
    "    B1RS1_vals.append(B1RS1_t)\n",
    "    B2RS1_vals.append(B2RS1_t)\n",
    "    B1RS2_vals.append(B1RS2_t)\n",
    "    B2RS2_vals.append(B2RS2_t)\n",
    "    B1RS3_vals.append(B1RS3_t)\n",
    "    B2RS3_vals.append(B2RS3_t)\n",
    "    \n",
    "    model1.reactions.biomass1.upper_bound=b1RS1\n",
    "    model1.reactions.biomass2.upper_bound=b2RS1\n",
    "    model1.reactions.DI1X.upper_bound=3*B1RS1_vals[-1]\n",
    "    model1.reactions.DI2Y.upper_bound=3*B2RS1_vals[-1]\n",
    "    ### For regulation power=0.1\n",
    "    model2.reactions.biomass1.upper_bound=b1RS2\n",
    "    model2.reactions.biomass2.upper_bound=b2RS2\n",
    "    model2.reactions.DI1X.upper_bound=3*B1RS2_vals[-1]\n",
    "    model2.reactions.DI2Y.upper_bound=3*B2RS2_vals[-1]\n",
    " ### For regulation power=2\n",
    "    model3.reactions.biomass1.upper_bound=b1RS3\n",
    "    model3.reactions.biomass2.upper_bound=b2RS3\n",
    "    model3.reactions.DI1X.upper_bound=3*B1RS3_vals[-1]\n",
    "    model3.reactions.DI2Y.upper_bound=3*B2RS3_vals[-1]\n",
    "        \n",
    "    sol1 = model1.optimize()\n",
    "    obj_val = sol1.objective_value\n",
    "    FluxesS1=sol1.fluxes.loc['biomass1']\n",
    "    FluxesS2=sol1.fluxes.loc['biomass2']\n",
    "    sol2 = model2.optimize()\n",
    "    obj_val = sol2.objective_value\n",
    "    Fluxes1SR1=sol2.fluxes.loc['biomass1']\n",
    "    Fluxes2SR1=sol2.fluxes.loc['biomass2']\n",
    "    sol3 = model3.optimize()\n",
    "    obj_val = sol3.objective_value\n",
    "    Fluxes1SR2=sol3.fluxes.loc['biomass1']\n",
    "    Fluxes2SR2=sol3.fluxes.loc['biomass2']\n",
    "        \n",
    "    FluxesS1_list.append(FluxesS1)\n",
    "    FluxesS2_list.append(FluxesS2)\n",
    "    Fluxes1SR1_list.append(Fluxes1SR1)\n",
    "    Fluxes2SR1_list.append(Fluxes2SR1)\n",
    "    Fluxes1SR2_list.append(Fluxes1SR2)\n",
    "    Fluxes2SR2_list.append(Fluxes2SR2)\n",
    "    \n",
    "    T=t/10\n",
    "    T_list.append(T)\n",
    "print(FluxesS1_list[0],FluxesS2_list[0],Fluxes1SR1_list[0],Fluxes2SR1_list[0],Fluxes1SR2_list[0],Fluxes2SR2_list[0])\n",
    "plt.scatter(T_list,B1RS1_vals,color='orange',s=10)\n",
    "plt.scatter(T_list,B2RS1_vals,color='purple',s=10)\n",
    "plt.scatter(T_list,B1RS2_vals,color='blue',s=10)\n",
    "plt.scatter(T_list,B2RS2_vals,color='olive',s=10)\n",
    "plt.scatter(T_list,B1RS3_vals,color='deepskyblue',s=10)\n",
    "plt.scatter(T_list,B2RS3_vals,color='orangered',s=10)\n",
    "\n",
    "# plt.scatter(T_list,FluxesS1_list,color='orange',s=10)\n",
    "# plt.scatter(T_list,FluxesS2_list,color='purple',s=10)\n",
    "# plt.scatter(T_list,Fluxes1SR1_list,color='blue',s=10)\n",
    "# plt.scatter(T_list,Fluxes2SR1_list,color='olive',s=10)\n",
    "# plt.scatter(T_list,Fluxes1SR2_list,color='deepskyblue',s=10)\n",
    "# plt.scatter(T_list,Fluxes2SR2_list,color='orangered',s=10)\n",
    "\n",
    "plt.xlabel(\"t (month)\",fontsize=15)\n",
    "\n",
    "\n",
    "plt.ylim(0,1)\n",
    "plt.title('Cell number in stepwise growth (µ1=0.2;µ2=0.3)',fontsize=12)\n",
    "plt.ylabel(\"Cell number\",fontsize=12)\n",
    "plt.legend(['B1(t)''('r'$\\epsilon=0$'')','B2(t)''('r'$\\epsilon=0$'')','B1R1(t)''('r'$\\epsilon=0.1$'')',\n",
    "            'B2R1(t)''('r'$\\epsilon=0.1$'')','B1R2(t)''('r'$\\epsilon=2$'')','B2R2(t)''('r'$\\epsilon=2$'')'],\n",
    "           loc='center right')\n",
    "\n",
    "# plt.ylim(0,0.5)\n",
    "# plt.title('biomass synthesis rate in stepwise growth (µ1=0.2;µ2=0.3)',fontsize=12)\n",
    "# plt.ylabel(\"biomass synthesis rate\",fontsize=12)\n",
    "# plt.legend(['b1(t)''('r'$\\epsilon=0$'')','b2(t)''('r'$\\epsilon=0$'')','b1R1(t)''('r'$\\epsilon=0.1$'')',\n",
    "#             'b2R1(t)''('r'$\\epsilon=0.1$'')','b1R2(t)''('r'$\\epsilon=2$'')','b2R2(t)''('r'$\\epsilon=2$'')'],\n",
    "#            loc='center right')\n",
    "\n",
    "plt.rc('xtick', labelsize=16) \n",
    "plt.rc('ytick', labelsize=16)\n",
    "plt.rcParams['legend.fontsize']=15\n",
    "\n",
    "\n",
    "plt.tight_layout()\n",
    "# plt.show()\n",
    "plt.savefig('Biomass synthesis value for exponential growth with normal regulation',dpi=300)\n",
    "# plt.savefig('Biomass value for exponential growth with regulation',dpi=300)"
   ]
  },
  {
   "cell_type": "markdown",
   "metadata": {},
   "source": [
    "### µ1=0.15; µ2=0.35"
   ]
  },
  {
   "cell_type": "code",
   "execution_count": 33,
   "metadata": {},
   "outputs": [],
   "source": [
    "from cobra.flux_analysis import pfba\n",
    "# import map visualization tools\n",
    "from utils import show_map\n",
    "import escher\n",
    "map_loc = 'Two cell system model_map.json' # the escher map used below\n",
    "# show all output\n",
    "from IPython.core.interactiveshell import InteractiveShell\n",
    "InteractiveShell.ast_node_interactivity = \"all\"\n",
    "\n",
    "\n",
    "M = cobra.io.load_json_model('Two cell system model.json')\n",
    "model = M.copy()"
   ]
  },
  {
   "cell_type": "code",
   "execution_count": 34,
   "metadata": {},
   "outputs": [],
   "source": [
    "### Internal goods X and Y\n",
    "model.reactions.EX_Com_goodX_e.lower_bound=0\n",
    "model.reactions.EX_Com_goodY_e.lower_bound=0\n",
    "model.reactions.EX_glucose_e.lower_bound=-1\n",
    "model1=model.copy()\n",
    "model2=model.copy()\n",
    "model3=model.copy()"
   ]
  },
  {
   "cell_type": "code",
   "execution_count": 35,
   "metadata": {},
   "outputs": [
    {
     "data": {
      "text/plain": [
       "<Figure size 640x480 with 0 Axes>"
      ]
     },
     "execution_count": 35,
     "metadata": {},
     "output_type": "execute_result"
    },
    {
     "data": {
      "text/plain": [
       "<matplotlib.collections.PathCollection at 0x142808520>"
      ]
     },
     "execution_count": 35,
     "metadata": {},
     "output_type": "execute_result"
    },
    {
     "data": {
      "text/plain": [
       "<matplotlib.collections.PathCollection at 0x14280b9d0>"
      ]
     },
     "execution_count": 35,
     "metadata": {},
     "output_type": "execute_result"
    },
    {
     "data": {
      "text/plain": [
       "<matplotlib.collections.PathCollection at 0x142809570>"
      ]
     },
     "execution_count": 35,
     "metadata": {},
     "output_type": "execute_result"
    },
    {
     "data": {
      "text/plain": [
       "<matplotlib.collections.PathCollection at 0x14280b910>"
      ]
     },
     "execution_count": 35,
     "metadata": {},
     "output_type": "execute_result"
    },
    {
     "data": {
      "text/plain": [
       "<matplotlib.collections.PathCollection at 0x14280b8e0>"
      ]
     },
     "execution_count": 35,
     "metadata": {},
     "output_type": "execute_result"
    },
    {
     "data": {
      "text/plain": [
       "<matplotlib.collections.PathCollection at 0x1433d4490>"
      ]
     },
     "execution_count": 35,
     "metadata": {},
     "output_type": "execute_result"
    },
    {
     "data": {
      "text/plain": [
       "Text(0.5, 0, 't (month)')"
      ]
     },
     "execution_count": 35,
     "metadata": {},
     "output_type": "execute_result"
    },
    {
     "data": {
      "text/plain": [
       "(0.0, 1.0)"
      ]
     },
     "execution_count": 35,
     "metadata": {},
     "output_type": "execute_result"
    },
    {
     "data": {
      "text/plain": [
       "Text(0.5, 1.0, 'Cell number in stepwise growth (µ1=0.15;µ2=0.35)')"
      ]
     },
     "execution_count": 35,
     "metadata": {},
     "output_type": "execute_result"
    },
    {
     "data": {
      "text/plain": [
       "Text(0, 0.5, 'Cell number (billions)')"
      ]
     },
     "execution_count": 35,
     "metadata": {},
     "output_type": "execute_result"
    },
    {
     "data": {
      "text/plain": [
       "<matplotlib.legend.Legend at 0x14280ba00>"
      ]
     },
     "execution_count": 35,
     "metadata": {},
     "output_type": "execute_result"
    },
    {
     "data": {
      "image/png": "[encoded data removed]",
      "text/plain": [
       "<Figure size 640x480 with 1 Axes>"
      ]
     },
     "metadata": {},
     "output_type": "display_data"
    }
   ],
   "source": [
    "import math\n",
    "import matplotlib.pyplot as plt\n",
    "plt.figure()\n",
    "T_list=[0]\n",
    "# Store the values of B1 and B2 for each time step in lists.\n",
    "B1RS1_vals = [0.3]\n",
    "B2RS1_vals = [0.7]\n",
    "\n",
    "B1RS2_vals=[0.3]\n",
    "B2RS2_vals=[0.7]\n",
    "B1RS3_vals=[0.3]\n",
    "B2RS3_vals=[0.7]\n",
    "\n",
    "FluxesS1_list=[0.0776]\n",
    "FluxesS2_list=[0.4224]\n",
    "Fluxes1SR1_list=[0.1095]\n",
    "Fluxes2SR1_list=[0.3905]\n",
    "Fluxes1SR2_list=[0.15]\n",
    "Fluxes2SR2_list=[0.35]\n",
    "\n",
    "### define actual biomass\n",
    "def B1RS1(t):\n",
    "    if(t<=0):\n",
    "        return 0.3\n",
    "    return B1RS1_vals[int((t-1)/1)]*0.95+0.1*FluxesS1_list[-1]\n",
    "def B2RS1(t):\n",
    "    if(t<=0):\n",
    "        return 0.7\n",
    "    return B2RS1_vals[int((t-1)/1)]*0.95+0.1*FluxesS2_list[-1]\n",
    "def B1RS2(t):\n",
    "    if(t<=0):\n",
    "        return 0.3\n",
    "    return B1RS2_vals[int((t-1)/1)]*0.95+0.1*Fluxes1SR1_list[-1]\n",
    "def B2RS2(t):\n",
    "    if(t<=0):\n",
    "        return 0.7\n",
    "    return B2RS2_vals[int((t-1)/1)]*0.95+0.1*Fluxes2SR1_list[-1]\n",
    "def B1RS3(t):\n",
    "    if(t<=0):\n",
    "        return 0.3\n",
    "    return B1RS3_vals[int((t-1)/1)]*0.95+0.1*Fluxes1SR2_list[-1]\n",
    "def B2RS3(t):\n",
    "    if(t<=0):\n",
    "        return 0.7\n",
    "    return B2RS3_vals[int((t-1)/1)]*0.95+0.1*Fluxes2SR2_list[-1]\n",
    "\n",
    "for t in np.arange(1,500,1):\n",
    "    B1RS1_t = B1RS1(t)\n",
    "    B2RS1_t = B2RS1(t)\n",
    "    B1RS2_t = B1RS2(t)\n",
    "    B2RS2_t = B2RS2(t)\n",
    "    B1RS3_t = B1RS3(t)\n",
    "    B2RS3_t = B2RS3(t)\n",
    "    \n",
    "    b1RS1=0.5*0.15*B1RS1_vals[-1]*math.pow(B2RS1_vals[-1],0)/(0.15*B1RS1_vals[-1]*math.pow(B2RS1_vals[-1],0)+0.35*B2RS1_vals[-1]*math.pow(B1RS1_vals[-1],0))\n",
    "    b2RS1=0.5*0.35*B2RS1_vals[-1]*math.pow(B1RS1_vals[-1],0)/(0.15*B1RS1_vals[-1]*math.pow(B2RS1_vals[-1],0)+0.35*B2RS1_vals[-1]*math.pow(B1RS1_vals[-1],0))\n",
    "    b1RS2=0.5*0.15*B1RS2_vals[-1]*math.pow(B2RS2_vals[-1],0.5)/(0.15*B1RS2_vals[-1]*math.pow(B2RS2_vals[-1],0.5)+0.35*B2RS2_vals[-1]*math.pow(B1RS2_vals[-1],0.5))\n",
    "    b2RS2=0.5*0.35*B2RS2_vals[-1]*math.pow(B1RS2_vals[-1],0.5)/(0.15*B1RS2_vals[-1]*math.pow(B2RS2_vals[-1],0.5)+0.35*B2RS2_vals[-1]*math.pow(B1RS2_vals[-1],0.5))\n",
    "    b1RS3=0.5*0.15*B1RS3_vals[-1]*math.pow(B2RS3_vals[-1],1)/(0.15*B1RS3_vals[-1]*math.pow(B2RS3_vals[-1],1)+0.35*B2RS3_vals[-1]*math.pow(B1RS3_vals[-1],1))\n",
    "    b2RS3=0.5*0.35*B2RS3_vals[-1]*math.pow(B1RS3_vals[-1],1)/(0.15*B1RS3_vals[-1]*math.pow(B2RS3_vals[-1],1)+0.35*B2RS3_vals[-1]*math.pow(B1RS3_vals[-1],1))\n",
    "    B1RS1_vals.append(B1RS1_t)\n",
    "    B2RS1_vals.append(B2RS1_t)\n",
    "    B1RS2_vals.append(B1RS2_t)\n",
    "    B2RS2_vals.append(B2RS2_t)\n",
    "    B1RS3_vals.append(B1RS3_t)\n",
    "    B2RS3_vals.append(B2RS3_t)\n",
    "    model1.reactions.biomass1.upper_bound=b1RS1\n",
    "    model1.reactions.biomass2.upper_bound=b2RS1\n",
    "    model1.reactions.DI1X.upper_bound=3*B1RS1_vals[-1]\n",
    "    model1.reactions.DI2Y.upper_bound=3*B2RS1_vals[-1]\n",
    "    ### For regulation power=0.5\n",
    "    model2.reactions.biomass1.upper_bound=b1RS2\n",
    "    model2.reactions.biomass2.upper_bound=b2RS2\n",
    "    model2.reactions.DI1X.upper_bound=3*B1RS2_vals[-1]\n",
    "    model2.reactions.DI2Y.upper_bound=3*B2RS2_vals[-1]\n",
    " ### For regulation power=1\n",
    "    model3.reactions.biomass1.upper_bound=b1RS3\n",
    "    model3.reactions.biomass2.upper_bound=b2RS3\n",
    "    model3.reactions.DI1X.upper_bound=3*B1RS3_vals[-1]\n",
    "    model3.reactions.DI2Y.upper_bound=3*B2RS3_vals[-1]\n",
    "        \n",
    "    sol1 = model1.optimize()\n",
    "    obj_val = sol1.objective_value\n",
    "    FluxesS1=sol1.fluxes.loc['biomass1']\n",
    "    FluxesS2=sol1.fluxes.loc['biomass2']\n",
    "    sol2 = model2.optimize()\n",
    "    obj_val = sol2.objective_value\n",
    "    Fluxes1SR1=sol2.fluxes.loc['biomass1']\n",
    "    Fluxes2SR1=sol2.fluxes.loc['biomass2']\n",
    "    sol3 = model3.optimize()\n",
    "    obj_val = sol3.objective_value\n",
    "    Fluxes1SR2=sol3.fluxes.loc['biomass1']\n",
    "    Fluxes2SR2=sol3.fluxes.loc['biomass2']\n",
    "        \n",
    "    FluxesS1_list.append(FluxesS1)\n",
    "    FluxesS2_list.append(FluxesS2)\n",
    "    Fluxes1SR1_list.append(Fluxes1SR1)\n",
    "    Fluxes2SR1_list.append(Fluxes2SR1)\n",
    "    Fluxes1SR2_list.append(Fluxes1SR2)\n",
    "    Fluxes2SR2_list.append(Fluxes2SR2)\n",
    "    \n",
    "    T=t/10\n",
    "    T_list.append(T)\n",
    "# print(FluxesS1_list[0],FluxesS2_list[0],Fluxes1SR1_list[0],Fluxes2SR1_list[0],Fluxes1SR2_list[0],Fluxes2SR2_list[0])\n",
    "plt.scatter(T_list,B1RS1_vals,color='orange',s=10)\n",
    "plt.scatter(T_list,B2RS1_vals,color='purple',s=10)\n",
    "plt.scatter(T_list,B1RS2_vals,color='blue',s=10)\n",
    "plt.scatter(T_list,B2RS2_vals,color='olive',s=10)\n",
    "plt.scatter(T_list,B1RS3_vals,color='deepskyblue',s=10)\n",
    "plt.scatter(T_list,B2RS3_vals,color='orangered',s=10)\n",
    "\n",
    "# plt.scatter(T_list,FluxesS1_list,color='orange',s=10)\n",
    "# plt.scatter(T_list,FluxesS2_list,color='purple',s=10)\n",
    "# plt.scatter(T_list,Fluxes1SR1_list,color='blue',s=10)\n",
    "# plt.scatter(T_list,Fluxes2SR1_list,color='olive',s=10)\n",
    "# plt.scatter(T_list,Fluxes1SR2_list,color='deepskyblue',s=10)\n",
    "# plt.scatter(T_list,Fluxes2SR2_list,color='orangered',s=10)\n",
    "\n",
    "plt.xlabel(\"t (month)\",fontsize=15)\n",
    "\n",
    "\n",
    "plt.ylim(0,1)\n",
    "plt.title('Cell number in stepwise growth (µ1=0.15;µ2=0.35)',fontsize=12)\n",
    "plt.ylabel(\"Cell number (billions)\",fontsize=12)\n",
    "plt.legend(['B1(t)''('r'$\\epsilon=0$'')','B2(t)''('r'$\\epsilon=0$'')','B1R1(t)''('r'$\\epsilon=0.5$'')',\n",
    "            'B2R1(t)''('r'$\\epsilon=0.5$'')','B1R2(t)''('r'$\\epsilon=1$'')','B2R2(t)''('r'$\\epsilon=1$'')'],\n",
    "           loc='center right')\n",
    "\n",
    "# plt.ylim(0,0.5)\n",
    "# plt.title('biomass synthesis rate in stepwise growth (µ1=0.15;µ2=0.35)',fontsize=12)\n",
    "# plt.ylabel(\"biomass synthesis rate\",fontsize=12)\n",
    "# plt.legend(['b1(t)''('r'$\\epsilon=0$'')','b2(t)''('r'$\\epsilon=0$'')','b1R1(t)''('r'$\\epsilon=0.5$'')',\n",
    "#             'b2R1(t)''('r'$\\epsilon=0.5$'')','b1R2(t)''('r'$\\epsilon=1$'')','b2R2(t)''('r'$\\epsilon=1$'')'],\n",
    "#            loc='center right')\n",
    "\n",
    "plt.rc('xtick', labelsize=16) \n",
    "plt.rc('ytick', labelsize=16)\n",
    "plt.rcParams['legend.fontsize']=15\n",
    "\n",
    "\n",
    "plt.tight_layout()\n",
    "# plt.show()\n",
    "plt.savefig('Biomass synthesis value for exponential growth with normal regulation',dpi=600)\n",
    "# plt.savefig('Biomass value for exponential growth with regulation',dpi=300)"
   ]
  },
  {
   "cell_type": "markdown",
   "metadata": {},
   "source": [
    "##ε=0.1 and 2;  when higher then 0.36, the system could get stable."
   ]
  },
  {
   "cell_type": "code",
   "execution_count": 90,
   "metadata": {},
   "outputs": [
    {
     "data": {
      "text/plain": [
       "<Figure size 640x480 with 0 Axes>"
      ]
     },
     "execution_count": 90,
     "metadata": {},
     "output_type": "execute_result"
    },
    {
     "name": "stdout",
     "output_type": "stream",
     "text": [
      "0.0776 0.4224 0.0833 0.4147 0.25 0.25\n"
     ]
    },
    {
     "data": {
      "text/plain": [
       "<matplotlib.collections.PathCollection at 0x14e003ca0>"
      ]
     },
     "execution_count": 90,
     "metadata": {},
     "output_type": "execute_result"
    },
    {
     "data": {
      "text/plain": [
       "<matplotlib.collections.PathCollection at 0x14e0014e0>"
      ]
     },
     "execution_count": 90,
     "metadata": {},
     "output_type": "execute_result"
    },
    {
     "data": {
      "text/plain": [
       "<matplotlib.collections.PathCollection at 0x14e0019f0>"
      ]
     },
     "execution_count": 90,
     "metadata": {},
     "output_type": "execute_result"
    },
    {
     "data": {
      "text/plain": [
       "<matplotlib.collections.PathCollection at 0x14f6f27d0>"
      ]
     },
     "execution_count": 90,
     "metadata": {},
     "output_type": "execute_result"
    },
    {
     "data": {
      "text/plain": [
       "<matplotlib.collections.PathCollection at 0x14f657e50>"
      ]
     },
     "execution_count": 90,
     "metadata": {},
     "output_type": "execute_result"
    },
    {
     "data": {
      "text/plain": [
       "<matplotlib.collections.PathCollection at 0x14dfb9060>"
      ]
     },
     "execution_count": 90,
     "metadata": {},
     "output_type": "execute_result"
    },
    {
     "data": {
      "text/plain": [
       "Text(0.5, 0, 't (months)')"
      ]
     },
     "execution_count": 90,
     "metadata": {},
     "output_type": "execute_result"
    },
    {
     "data": {
      "text/plain": [
       "(0.0, 1.0)"
      ]
     },
     "execution_count": 90,
     "metadata": {},
     "output_type": "execute_result"
    },
    {
     "data": {
      "text/plain": [
       "Text(0.5, 1.0, 'Cell number in stepwise growth (µ1=0.15;µ2=0.35)')"
      ]
     },
     "execution_count": 90,
     "metadata": {},
     "output_type": "execute_result"
    },
    {
     "data": {
      "text/plain": [
       "Text(0, 0.5, 'Cell number')"
      ]
     },
     "execution_count": 90,
     "metadata": {},
     "output_type": "execute_result"
    },
    {
     "data": {
      "text/plain": [
       "<matplotlib.legend.Legend at 0x14f6f28f0>"
      ]
     },
     "execution_count": 90,
     "metadata": {},
     "output_type": "execute_result"
    },
    {
     "data": {
      "image/png": "[encoded data removed]",
      "text/plain": [
       "<Figure size 640x480 with 1 Axes>"
      ]
     },
     "metadata": {},
     "output_type": "display_data"
    }
   ],
   "source": [
    "import math\n",
    "import matplotlib.pyplot as plt\n",
    "plt.figure()\n",
    "T_list=[0]\n",
    "# Store the values of B1 and B2 for each time step in lists.\n",
    "B1RS1_vals = [0.3]\n",
    "B2RS1_vals = [0.7]\n",
    "\n",
    "B1RS2_vals=[0.3]\n",
    "B2RS2_vals=[0.7]\n",
    "B1RS3_vals=[0.3]\n",
    "B2RS3_vals=[0.7]\n",
    "\n",
    "FluxesS1_list=[0.0776]\n",
    "FluxesS2_list=[0.4224]\n",
    "Fluxes1SR1_list=[0.0833]\n",
    "Fluxes2SR1_list=[0.4147]\n",
    "Fluxes1SR2_list=[0.25]\n",
    "Fluxes2SR2_list=[0.25]\n",
    "\n",
    "### define actual biomass\n",
    "def B1RS1(t):\n",
    "    if(t<=0):\n",
    "        return 0.3\n",
    "    return B1RS1_vals[int((t-1)/1)]*0.95+0.1*FluxesS1_list[-1]\n",
    "def B2RS1(t):\n",
    "    if(t<=0):\n",
    "        return 0.7\n",
    "    return B2RS1_vals[int((t-1)/1)]*0.95+0.1*FluxesS2_list[-1]\n",
    "def B1RS2(t):\n",
    "    if(t<=0):\n",
    "        return 0.3\n",
    "    return B1RS2_vals[int((t-1)/1)]*0.95+0.1*Fluxes1SR1_list[-1]\n",
    "def B2RS2(t):\n",
    "    if(t<=0):\n",
    "        return 0.7\n",
    "    return B2RS2_vals[int((t-1)/1)]*0.95+0.1*Fluxes2SR1_list[-1]\n",
    "def B1RS3(t):\n",
    "    if(t<=0):\n",
    "        return 0.3\n",
    "    return B1RS3_vals[int((t-1)/1)]*0.95+0.1*Fluxes1SR2_list[-1]\n",
    "def B2RS3(t):\n",
    "    if(t<=0):\n",
    "        return 0.7\n",
    "    return B2RS3_vals[int((t-1)/1)]*0.95+0.1*Fluxes2SR2_list[-1]\n",
    "\n",
    "for t in np.arange(1,500,1):\n",
    "    B1RS1_t = B1RS1(t)\n",
    "    B2RS1_t = B2RS1(t)\n",
    "    B1RS2_t = B1RS2(t)\n",
    "    B2RS2_t = B2RS2(t)\n",
    "    B1RS3_t = B1RS3(t)\n",
    "    B2RS3_t = B2RS3(t)\n",
    "    \n",
    "    \n",
    "    b1RS1=0.5*0.15*B1RS1_vals[-1]*math.pow(B2RS1_vals[-1],0)/(0.15*B1RS1_vals[-1]*math.pow(B2RS1_vals[-1],0)+0.35*B2RS1_vals[-1]*math.pow(B1RS1_vals[-1],0))\n",
    "    b2RS1=0.5*0.35*B2RS1_vals[-1]*math.pow(B1RS1_vals[-1],0)/(0.15*B1RS1_vals[-1]*math.pow(B2RS1_vals[-1],0)+0.35*B2RS1_vals[-1]*math.pow(B1RS1_vals[-1],0))\n",
    "    b1RS2=0.5*0.15*B1RS2_vals[-1]*math.pow(B2RS2_vals[-1],0.1)/(0.15*B1RS2_vals[-1]*math.pow(B2RS2_vals[-1],0.1)+0.35*B2RS2_vals[-1]*math.pow(B1RS2_vals[-1],0.1))\n",
    "    b2RS2=0.5*0.35*B2RS2_vals[-1]*math.pow(B1RS2_vals[-1],0.1)/(0.15*B1RS2_vals[-1]*math.pow(B2RS2_vals[-1],0.1)+0.35*B2RS2_vals[-1]*math.pow(B1RS2_vals[-1],0.1))\n",
    "    b1RS3=0.5*0.15*B1RS3_vals[-1]*math.pow(B2RS3_vals[-1],2)/(0.15*B1RS3_vals[-1]*math.pow(B2RS3_vals[-1],2)+0.35*B2RS3_vals[-1]*math.pow(B1RS3_vals[-1],2))\n",
    "    b2RS3=0.5*0.35*B2RS3_vals[-1]*math.pow(B1RS3_vals[-1],2)/(0.15*B1RS3_vals[-1]*math.pow(B2RS3_vals[-1],2)+0.35*B2RS3_vals[-1]*math.pow(B1RS3_vals[-1],2))\n",
    "    \n",
    "    B1RS1_vals.append(B1RS1_t)\n",
    "    B2RS1_vals.append(B2RS1_t)\n",
    "    B1RS2_vals.append(B1RS2_t)\n",
    "    B2RS2_vals.append(B2RS2_t)\n",
    "    B1RS3_vals.append(B1RS3_t)\n",
    "    B2RS3_vals.append(B2RS3_t)\n",
    "    \n",
    "    model1.reactions.biomass1.upper_bound=b1RS1\n",
    "    model1.reactions.biomass2.upper_bound=b2RS1\n",
    "    model1.reactions.DI1X.upper_bound=3*B1RS1_vals[-1]\n",
    "    model1.reactions.DI2Y.upper_bound=3*B2RS1_vals[-1]\n",
    "    ### For regulation power=0.1\n",
    "    model2.reactions.biomass1.upper_bound=b1RS2\n",
    "    model2.reactions.biomass2.upper_bound=b2RS2\n",
    "    model2.reactions.DI1X.upper_bound=3*B1RS2_vals[-1]\n",
    "    model2.reactions.DI2Y.upper_bound=3*B2RS2_vals[-1]\n",
    " ### For regulation power=2\n",
    "    model3.reactions.biomass1.upper_bound=b1RS3\n",
    "    model3.reactions.biomass2.upper_bound=b2RS3\n",
    "    model3.reactions.DI1X.upper_bound=3*B1RS3_vals[-1]\n",
    "    model3.reactions.DI2Y.upper_bound=3*B2RS3_vals[-1]\n",
    "        \n",
    "    sol1 = model1.optimize()\n",
    "    obj_val = sol1.objective_value\n",
    "    FluxesS1=sol1.fluxes.loc['biomass1']\n",
    "    FluxesS2=sol1.fluxes.loc['biomass2']\n",
    "    sol2 = model2.optimize()\n",
    "    obj_val = sol2.objective_value\n",
    "    Fluxes1SR1=sol2.fluxes.loc['biomass1']\n",
    "    Fluxes2SR1=sol2.fluxes.loc['biomass2']\n",
    "    sol3 = model3.optimize()\n",
    "    obj_val = sol3.objective_value\n",
    "    Fluxes1SR2=sol3.fluxes.loc['biomass1']\n",
    "    Fluxes2SR2=sol3.fluxes.loc['biomass2']\n",
    "        \n",
    "    FluxesS1_list.append(FluxesS1)\n",
    "    FluxesS2_list.append(FluxesS2)\n",
    "    Fluxes1SR1_list.append(Fluxes1SR1)\n",
    "    Fluxes2SR1_list.append(Fluxes2SR1)\n",
    "    Fluxes1SR2_list.append(Fluxes1SR2)\n",
    "    Fluxes2SR2_list.append(Fluxes2SR2)\n",
    "    \n",
    "    T=t/10\n",
    "    T_list.append(T)\n",
    "print(FluxesS1_list[0],FluxesS2_list[0],Fluxes1SR1_list[0],Fluxes2SR1_list[0],Fluxes1SR2_list[0],Fluxes2SR2_list[0])\n",
    "plt.scatter(T_list,B1RS1_vals,color='orange',s=10)\n",
    "plt.scatter(T_list,B2RS1_vals,color='purple',s=10)\n",
    "plt.scatter(T_list,B1RS2_vals,color='blue',s=10)\n",
    "plt.scatter(T_list,B2RS2_vals,color='olive',s=10)\n",
    "plt.scatter(T_list,B1RS3_vals,color='deepskyblue',s=10)\n",
    "plt.scatter(T_list,B2RS3_vals,color='orangered',s=10)\n",
    "\n",
    "# plt.scatter(T_list,FluxesS1_list,color='orange',s=10)\n",
    "# plt.scatter(T_list,FluxesS2_list,color='purple',s=10)\n",
    "# plt.scatter(T_list,Fluxes1SR1_list,color='blue',s=10)\n",
    "# plt.scatter(T_list,Fluxes2SR1_list,color='olive',s=10)\n",
    "# plt.scatter(T_list,Fluxes1SR2_list,color='deepskyblue',s=10)\n",
    "# plt.scatter(T_list,Fluxes2SR2_list,color='orangered',s=10)\n",
    "\n",
    "plt.xlabel(\"t (month)\",fontsize=15)\n",
    "\n",
    "\n",
    "plt.ylim(0,1)\n",
    "plt.title('Cell number in stepwise growth (µ1=0.15;µ2=0.35)',fontsize=12)\n",
    "plt.ylabel(\"Cell number\",fontsize=15)\n",
    "plt.legend(['B1(t)''('r'$\\epsilon=0$'')','B2(t)''('r'$\\epsilon=0$'')','B1R1(t)''('r'$\\epsilon=0.1$'')',\n",
    "            'B2R1(t)''('r'$\\epsilon=0.1$'')','B1R2(t)''('r'$\\epsilon=2$'')','B2R2(t)''('r'$\\epsilon=2$'')'],\n",
    "           loc='center right')\n",
    "\n",
    "# plt.ylim(0,0.5)\n",
    "# plt.title('biomass synthesis rate in stepwise growth (µ1=0.15;µ2=0.35)',fontsize=12)\n",
    "# plt.ylabel(\"biomass synthesis rate\",fontsize=12)\n",
    "# plt.legend(['b1(t)''('r'$\\epsilon=0$'')','b2(t)''('r'$\\epsilon=0$'')','b1R1(t)''('r'$\\epsilon=0.1$'')',\n",
    "#             'b2R1(t)''('r'$\\epsilon=0.1$'')','b1R2(t)''('r'$\\epsilon=2$'')','b2R2(t)''('r'$\\epsilon=2$'')'],\n",
    "#            loc='center right')\n",
    "\n",
    "plt.rc('xtick', labelsize=16) \n",
    "plt.rc('ytick', labelsize=16)\n",
    "plt.rcParams['legend.fontsize']=15\n",
    "\n",
    "\n",
    "plt.tight_layout()\n",
    "# plt.show()\n",
    "plt.savefig('Biomass synthesis value for exponential growth with normal regulation',dpi=300)\n",
    "# plt.savefig('Biomass value for exponential growth with regulation',dpi=300)"
   ]
  },
  {
   "cell_type": "markdown",
   "metadata": {},
   "source": [
    "### µ1=0.05; µ2=0.45"
   ]
  },
  {
   "cell_type": "code",
   "execution_count": 30,
   "metadata": {},
   "outputs": [],
   "source": [
    "from cobra.flux_analysis import pfba\n",
    "# import map visualization tools\n",
    "from utils import show_map\n",
    "import escher\n",
    "map_loc = 'Two cell system model_map.json' # the escher map used below\n",
    "# show all output\n",
    "from IPython.core.interactiveshell import InteractiveShell\n",
    "InteractiveShell.ast_node_interactivity = \"all\"\n",
    "\n",
    "\n",
    "M = cobra.io.load_json_model('Two cell system model.json')\n",
    "model = M.copy()"
   ]
  },
  {
   "cell_type": "code",
   "execution_count": 31,
   "metadata": {},
   "outputs": [],
   "source": [
    "### Internal goods X and Y\n",
    "model.reactions.EX_Com_goodX_e.lower_bound=0\n",
    "model.reactions.EX_Com_goodY_e.lower_bound=0\n",
    "model.reactions.EX_glucose_e.lower_bound=-1\n",
    "model1=model.copy()\n",
    "model2=model.copy()\n",
    "model3=model.copy()"
   ]
  },
  {
   "cell_type": "code",
   "execution_count": 32,
   "metadata": {},
   "outputs": [
    {
     "data": {
      "text/plain": [
       "<Figure size 640x480 with 0 Axes>"
      ]
     },
     "execution_count": 32,
     "metadata": {},
     "output_type": "execute_result"
    },
    {
     "data": {
      "text/plain": [
       "<matplotlib.collections.PathCollection at 0x142a066e0>"
      ]
     },
     "execution_count": 32,
     "metadata": {},
     "output_type": "execute_result"
    },
    {
     "data": {
      "text/plain": [
       "<matplotlib.collections.PathCollection at 0x142a04250>"
      ]
     },
     "execution_count": 32,
     "metadata": {},
     "output_type": "execute_result"
    },
    {
     "data": {
      "text/plain": [
       "<matplotlib.collections.PathCollection at 0x142ad8a00>"
      ]
     },
     "execution_count": 32,
     "metadata": {},
     "output_type": "execute_result"
    },
    {
     "data": {
      "text/plain": [
       "<matplotlib.collections.PathCollection at 0x142ad8b20>"
      ]
     },
     "execution_count": 32,
     "metadata": {},
     "output_type": "execute_result"
    },
    {
     "data": {
      "text/plain": [
       "<matplotlib.collections.PathCollection at 0x142ad8af0>"
      ]
     },
     "execution_count": 32,
     "metadata": {},
     "output_type": "execute_result"
    },
    {
     "data": {
      "text/plain": [
       "<matplotlib.collections.PathCollection at 0x142b1db10>"
      ]
     },
     "execution_count": 32,
     "metadata": {},
     "output_type": "execute_result"
    },
    {
     "data": {
      "text/plain": [
       "Text(0.5, 0, 't (month)')"
      ]
     },
     "execution_count": 32,
     "metadata": {},
     "output_type": "execute_result"
    },
    {
     "data": {
      "text/plain": [
       "(0.0, 1.0)"
      ]
     },
     "execution_count": 32,
     "metadata": {},
     "output_type": "execute_result"
    },
    {
     "data": {
      "text/plain": [
       "Text(0.5, 1.0, 'Cell number in stepwise growth (µ1=0.05;µ2=0.45)')"
      ]
     },
     "execution_count": 32,
     "metadata": {},
     "output_type": "execute_result"
    },
    {
     "data": {
      "text/plain": [
       "Text(0, 0.5, 'Cell number (billions)')"
      ]
     },
     "execution_count": 32,
     "metadata": {},
     "output_type": "execute_result"
    },
    {
     "data": {
      "text/plain": [
       "<matplotlib.legend.Legend at 0x13c571a50>"
      ]
     },
     "execution_count": 32,
     "metadata": {},
     "output_type": "execute_result"
    },
    {
     "data": {
      "image/png": "[encoded data removed]",
      "text/plain": [
       "<Figure size 640x480 with 1 Axes>"
      ]
     },
     "metadata": {},
     "output_type": "display_data"
    }
   ],
   "source": [
    "import math\n",
    "import matplotlib.pyplot as plt\n",
    "plt.figure()\n",
    "T_list=[0]\n",
    "# Store the values of B1 and B2 for each time step in lists.\n",
    "B1RS1_vals = [0.1]\n",
    "B2RS1_vals = [0.9]\n",
    "\n",
    "B1RS2_vals=[0.1]\n",
    "B2RS2_vals=[0.9]\n",
    "B1RS3_vals=[0.1]\n",
    "B2RS3_vals=[0.9]\n",
    "\n",
    "FluxesS1_list=[0.0061]\n",
    "FluxesS2_list=[0.4939]\n",
    "Fluxes1SR1_list=[0.0179]\n",
    "Fluxes2SR1_list=[0.4821]\n",
    "Fluxes1SR2_list=[0.05]\n",
    "Fluxes2SR2_list=[0.45]\n",
    "\n",
    "### define actual biomass\n",
    "def B1RS1(t):\n",
    "    if(t<=0):\n",
    "        return 0.1\n",
    "    return B1RS1_vals[int((t-1)/1)]*0.95+0.1*FluxesS1_list[-1]\n",
    "def B2RS1(t):\n",
    "    if(t<=0):\n",
    "        return 0.9\n",
    "    return B2RS1_vals[int((t-1)/1)]*0.95+0.1*FluxesS2_list[-1]\n",
    "def B1RS2(t):\n",
    "    if(t<=0):\n",
    "        return 0.1\n",
    "    return B1RS2_vals[int((t-1)/1)]*0.95+0.1*Fluxes1SR1_list[-1]\n",
    "def B2RS2(t):\n",
    "    if(t<=0):\n",
    "        return 0.9\n",
    "    return B2RS2_vals[int((t-1)/1)]*0.95+0.1*Fluxes2SR1_list[-1]\n",
    "def B1RS3(t):\n",
    "    if(t<=0):\n",
    "        return 0.1\n",
    "    return B1RS3_vals[int((t-1)/1)]*0.95+0.1*Fluxes1SR2_list[-1]\n",
    "def B2RS3(t):\n",
    "    if(t<=0):\n",
    "        return 0.9\n",
    "    return B2RS3_vals[int((t-1)/1)]*0.95+0.1*Fluxes2SR2_list[-1]\n",
    "\n",
    "for t in np.arange(1,500,1):\n",
    "    B1RS1_t = B1RS1(t)\n",
    "    B2RS1_t = B2RS1(t)\n",
    "    B1RS2_t = B1RS2(t)\n",
    "    B2RS2_t = B2RS2(t)\n",
    "    B1RS3_t = B1RS3(t)\n",
    "    B2RS3_t = B2RS3(t)\n",
    "    \n",
    "    b1RS1=0.5*0.05*B1RS1_vals[-1]*math.pow(B2RS1_vals[-1],0)/(0.05*B1RS1_vals[-1]*math.pow(B2RS1_vals[-1],0)+0.45*B2RS1_vals[-1]*math.pow(B1RS1_vals[-1],0))\n",
    "    b2RS1=0.5*0.45*B2RS1_vals[-1]*math.pow(B1RS1_vals[-1],0)/(0.05*B1RS1_vals[-1]*math.pow(B2RS1_vals[-1],0)+0.45*B2RS1_vals[-1]*math.pow(B1RS1_vals[-1],0))\n",
    "    b1RS2=0.5*0.05*B1RS2_vals[-1]*math.pow(B2RS2_vals[-1],0.5)/(0.05*B1RS2_vals[-1]*math.pow(B2RS2_vals[-1],0.5)+0.45*B2RS2_vals[-1]*math.pow(B1RS2_vals[-1],0.5))\n",
    "    b2RS2=0.5*0.45*B2RS2_vals[-1]*math.pow(B1RS2_vals[-1],0.5)/(0.05*B1RS2_vals[-1]*math.pow(B2RS2_vals[-1],0.5)+0.45*B2RS2_vals[-1]*math.pow(B1RS2_vals[-1],0.5))\n",
    "    b1RS3=0.5*0.05*B1RS3_vals[-1]*math.pow(B2RS3_vals[-1],1)/(0.05*B1RS3_vals[-1]*math.pow(B2RS3_vals[-1],1)+0.45*B2RS3_vals[-1]*math.pow(B1RS3_vals[-1],1))\n",
    "    b2RS3=0.5*0.45*B2RS3_vals[-1]*math.pow(B1RS3_vals[-1],1)/(0.05*B1RS3_vals[-1]*math.pow(B2RS3_vals[-1],1)+0.45*B2RS3_vals[-1]*math.pow(B1RS3_vals[-1],1))\n",
    "    B1RS1_vals.append(B1RS1_t)\n",
    "    B2RS1_vals.append(B2RS1_t)\n",
    "    B1RS2_vals.append(B1RS2_t)\n",
    "    B2RS2_vals.append(B2RS2_t)\n",
    "    B1RS3_vals.append(B1RS3_t)\n",
    "    B2RS3_vals.append(B2RS3_t)\n",
    "    \n",
    "    model1.reactions.biomass1.upper_bound=b1RS1\n",
    "    model1.reactions.biomass2.upper_bound=b2RS1\n",
    "    model1.reactions.DI1X.upper_bound=3*B1RS1_vals[-1]\n",
    "    model1.reactions.DI2Y.upper_bound=3*B2RS1_vals[-1]\n",
    "    ### For regulation power=0.5\n",
    "    model2.reactions.biomass1.upper_bound=b1RS2\n",
    "    model2.reactions.biomass2.upper_bound=b2RS2\n",
    "    model2.reactions.DI1X.upper_bound=3*B1RS2_vals[-1]\n",
    "    model2.reactions.DI2Y.upper_bound=3*B2RS2_vals[-1]\n",
    " ### For regulation power=1\n",
    "    model3.reactions.biomass1.upper_bound=b1RS3\n",
    "    model3.reactions.biomass2.upper_bound=b2RS3\n",
    "    model3.reactions.DI1X.upper_bound=3*B1RS3_vals[-1]\n",
    "    model3.reactions.DI2Y.upper_bound=3*B2RS3_vals[-1]\n",
    "        \n",
    "    sol1 = model1.optimize()\n",
    "    obj_val = sol1.objective_value\n",
    "    FluxesS1=sol1.fluxes.loc['biomass1']\n",
    "    FluxesS2=sol1.fluxes.loc['biomass2']\n",
    "    sol2 = model2.optimize()\n",
    "    obj_val = sol2.objective_value\n",
    "    Fluxes1SR1=sol2.fluxes.loc['biomass1']\n",
    "    Fluxes2SR1=sol2.fluxes.loc['biomass2']\n",
    "    sol3 = model3.optimize()\n",
    "    obj_val = sol3.objective_value\n",
    "    Fluxes1SR2=sol3.fluxes.loc['biomass1']\n",
    "    Fluxes2SR2=sol3.fluxes.loc['biomass2']\n",
    "        \n",
    "    FluxesS1_list.append(FluxesS1)\n",
    "    FluxesS2_list.append(FluxesS2)\n",
    "    Fluxes1SR1_list.append(Fluxes1SR1)\n",
    "    Fluxes2SR1_list.append(Fluxes2SR1)\n",
    "    Fluxes1SR2_list.append(Fluxes1SR2)\n",
    "    Fluxes2SR2_list.append(Fluxes2SR2)\n",
    "    \n",
    "    T=t/10\n",
    "    T_list.append(T)\n",
    "# print(FluxesS1_list[0],FluxesS2_list[0],Fluxes1SR1_list[0],Fluxes2SR1_list[0],Fluxes1SR2_list[0],Fluxes2SR2_list[0])\n",
    "plt.scatter(T_list,B1RS1_vals,color='orange',s=10)\n",
    "plt.scatter(T_list,B2RS1_vals,color='purple',s=10)\n",
    "plt.scatter(T_list,B1RS2_vals,color='blue',s=10)\n",
    "plt.scatter(T_list,B2RS2_vals,color='olive',s=10)\n",
    "plt.scatter(T_list,B1RS3_vals,color='deepskyblue',s=10)\n",
    "plt.scatter(T_list,B2RS3_vals,color='orangered',s=10)\n",
    "\n",
    "# plt.scatter(T_list,FluxesS1_list,color='orange',s=10)\n",
    "# plt.scatter(T_list,FluxesS2_list,color='purple',s=10)\n",
    "# plt.scatter(T_list,Fluxes1SR1_list,color='blue',s=10)\n",
    "# plt.scatter(T_list,Fluxes2SR1_list,color='olive',s=10)\n",
    "# plt.scatter(T_list,Fluxes1SR2_list,color='deepskyblue',s=10)\n",
    "# plt.scatter(T_list,Fluxes2SR2_list,color='orangered',s=10)\n",
    "\n",
    "plt.xlabel(\"t (month)\",fontsize=15)\n",
    "\n",
    "\n",
    "plt.ylim(0,1)\n",
    "plt.title('Cell number in stepwise growth (µ1=0.05;µ2=0.45)',fontsize=12)\n",
    "plt.ylabel(\"Cell number (billions)\",fontsize=12)\n",
    "plt.legend(['B1(t)''('r'$\\epsilon=0$'')','B2(t)''('r'$\\epsilon=0$'')','B1R1(t)''('r'$\\epsilon=0.5$'')',\n",
    "            'B2R1(t)''('r'$\\epsilon=0.5$'')','B1R2(t)''('r'$\\epsilon=1$'')','B2R2(t)''('r'$\\epsilon=1$'')'],\n",
    "           loc='center right')\n",
    "\n",
    "# plt.ylim(0,0.5)\n",
    "# plt.title('biomass synthesis rate in stepwise growth (µ1=0.05;µ2=0.45)',fontsize=12)\n",
    "# plt.ylabel(\"biomass synthesis rate\",fontsize=12)\n",
    "# plt.legend(['b1(t)''('r'$\\epsilon=0$'')','b2(t)''('r'$\\epsilon=0$'')','b1R1(t)''('r'$\\epsilon=0.5$'')',\n",
    "#             'b2R1(t)''('r'$\\epsilon=0.5$'')','b1R2(t)''('r'$\\epsilon=1$'')','b2R2(t)''('r'$\\epsilon=1$'')'],\n",
    "#            loc='center right')\n",
    "\n",
    "plt.rc('xtick', labelsize=16) \n",
    "plt.rc('ytick', labelsize=16)\n",
    "plt.rcParams['legend.fontsize']=15\n",
    "\n",
    "\n",
    "plt.tight_layout()\n",
    "# plt.show()\n",
    "plt.savefig('Biomass synthesis value for exponential growth with normal regulation',dpi=600)\n",
    "# plt.savefig('Biomass value for exponential growth with regulation',dpi=300)"
   ]
  },
  {
   "cell_type": "markdown",
   "metadata": {},
   "source": [
    "##ε=0.1 and 2;  when higher then 0.92, the system could get stable."
   ]
  },
  {
   "cell_type": "code",
   "execution_count": 74,
   "metadata": {},
   "outputs": [
    {
     "data": {
      "text/plain": [
       "<Figure size 640x480 with 0 Axes>"
      ]
     },
     "execution_count": 74,
     "metadata": {},
     "output_type": "execute_result"
    },
    {
     "name": "stdout",
     "output_type": "stream",
     "text": [
      "0.0061 0.4939 0.0076 0.4924 0.25 0.25\n"
     ]
    },
    {
     "data": {
      "text/plain": [
       "<matplotlib.collections.PathCollection at 0x14c0ab1f0>"
      ]
     },
     "execution_count": 74,
     "metadata": {},
     "output_type": "execute_result"
    },
    {
     "data": {
      "text/plain": [
       "<matplotlib.collections.PathCollection at 0x1440fcf70>"
      ]
     },
     "execution_count": 74,
     "metadata": {},
     "output_type": "execute_result"
    },
    {
     "data": {
      "text/plain": [
       "<matplotlib.collections.PathCollection at 0x14c0a9ff0>"
      ]
     },
     "execution_count": 74,
     "metadata": {},
     "output_type": "execute_result"
    },
    {
     "data": {
      "text/plain": [
       "<matplotlib.collections.PathCollection at 0x14c563a90>"
      ]
     },
     "execution_count": 74,
     "metadata": {},
     "output_type": "execute_result"
    },
    {
     "data": {
      "text/plain": [
       "<matplotlib.collections.PathCollection at 0x14bcbb190>"
      ]
     },
     "execution_count": 74,
     "metadata": {},
     "output_type": "execute_result"
    },
    {
     "data": {
      "text/plain": [
       "<matplotlib.collections.PathCollection at 0x14c0aaa10>"
      ]
     },
     "execution_count": 74,
     "metadata": {},
     "output_type": "execute_result"
    },
    {
     "data": {
      "text/plain": [
       "Text(0.5, 0, 't (months)')"
      ]
     },
     "execution_count": 74,
     "metadata": {},
     "output_type": "execute_result"
    },
    {
     "data": {
      "text/plain": [
       "(0.0, 0.5)"
      ]
     },
     "execution_count": 74,
     "metadata": {},
     "output_type": "execute_result"
    },
    {
     "data": {
      "text/plain": [
       "Text(0.5, 1.0, 'biomass synthesis rate in stepwise growth (µ1=0.05;µ2=0.45)')"
      ]
     },
     "execution_count": 74,
     "metadata": {},
     "output_type": "execute_result"
    },
    {
     "data": {
      "text/plain": [
       "Text(0, 0.5, 'biomass synthesis rate')"
      ]
     },
     "execution_count": 74,
     "metadata": {},
     "output_type": "execute_result"
    },
    {
     "data": {
      "text/plain": [
       "<matplotlib.legend.Legend at 0x14c563a60>"
      ]
     },
     "execution_count": 74,
     "metadata": {},
     "output_type": "execute_result"
    },
    {
     "data": {
      "image/png": "[encoded data removed]",
      "text/plain": [
       "<Figure size 640x480 with 1 Axes>"
      ]
     },
     "metadata": {},
     "output_type": "display_data"
    }
   ],
   "source": [
    "import math\n",
    "import matplotlib.pyplot as plt\n",
    "plt.figure()\n",
    "T_list=[0]\n",
    "# Store the values of B1 and B2 for each time step in lists.\n",
    "B1RS1_vals = [0.1]\n",
    "B2RS1_vals = [0.9]\n",
    "\n",
    "B1RS2_vals=[0.1]\n",
    "B2RS2_vals=[0.9]\n",
    "B1RS3_vals=[0.1]\n",
    "B2RS3_vals=[0.9]\n",
    "\n",
    "FluxesS1_list=[0.0061]\n",
    "FluxesS2_list=[0.4939]\n",
    "Fluxes1SR1_list=[0.0076]\n",
    "Fluxes2SR1_list=[0.4924]\n",
    "Fluxes1SR2_list=[0.25]\n",
    "Fluxes2SR2_list=[0.25]\n",
    "\n",
    "### define actual biomass\n",
    "def B1RS1(t):\n",
    "    if(t<=0):\n",
    "        return 0.1\n",
    "    return B1RS1_vals[int((t-1)/1)]*0.95+0.1*FluxesS1_list[-1]\n",
    "def B2RS1(t):\n",
    "    if(t<=0):\n",
    "        return 0.9\n",
    "    return B2RS1_vals[int((t-1)/1)]*0.95+0.1*FluxesS2_list[-1]\n",
    "def B1RS2(t):\n",
    "    if(t<=0):\n",
    "        return 0.1\n",
    "    return B1RS2_vals[int((t-1)/1)]*0.95+0.1*Fluxes1SR1_list[-1]\n",
    "def B2RS2(t):\n",
    "    if(t<=0):\n",
    "        return 0.9\n",
    "    return B2RS2_vals[int((t-1)/1)]*0.95+0.1*Fluxes2SR1_list[-1]\n",
    "def B1RS3(t):\n",
    "    if(t<=0):\n",
    "        return 0.1\n",
    "    return B1RS3_vals[int((t-1)/1)]*0.95+0.1*Fluxes1SR2_list[-1]\n",
    "def B2RS3(t):\n",
    "    if(t<=0):\n",
    "        return 0.9\n",
    "    return B2RS3_vals[int((t-1)/1)]*0.95+0.1*Fluxes2SR2_list[-1]\n",
    "\n",
    "for t in np.arange(1,500,1):\n",
    "    B1RS1_t = B1RS1(t)\n",
    "    B2RS1_t = B2RS1(t)\n",
    "    B1RS2_t = B1RS2(t)\n",
    "    B2RS2_t = B2RS2(t)\n",
    "    B1RS3_t = B1RS3(t)\n",
    "    B2RS3_t = B2RS3(t)\n",
    "    \n",
    "    b1RS1=0.5*0.05*B1RS1_vals[-1]*math.pow(B2RS1_vals[-1],0)/(0.05*B1RS1_vals[-1]*math.pow(B2RS1_vals[-1],0)+0.45*B2RS1_vals[-1]*math.pow(B1RS1_vals[-1],0))\n",
    "    b2RS1=0.5*0.45*B2RS1_vals[-1]*math.pow(B1RS1_vals[-1],0)/(0.05*B1RS1_vals[-1]*math.pow(B2RS1_vals[-1],0)+0.45*B2RS1_vals[-1]*math.pow(B1RS1_vals[-1],0))\n",
    "    b1RS2=0.5*0.05*B1RS2_vals[-1]*math.pow(B2RS2_vals[-1],0.1)/(0.05*B1RS2_vals[-1]*math.pow(B2RS2_vals[-1],0.1)+0.45*B2RS2_vals[-1]*math.pow(B1RS2_vals[-1],0.1))\n",
    "    b2RS2=0.5*0.45*B2RS2_vals[-1]*math.pow(B1RS2_vals[-1],0.1)/(0.05*B1RS2_vals[-1]*math.pow(B2RS2_vals[-1],0.1)+0.45*B2RS2_vals[-1]*math.pow(B1RS2_vals[-1],0.1))\n",
    "    b1RS3=0.5*0.05*B1RS3_vals[-1]*math.pow(B2RS3_vals[-1],2)/(0.05*B1RS3_vals[-1]*math.pow(B2RS3_vals[-1],2)+0.45*B2RS3_vals[-1]*math.pow(B1RS3_vals[-1],2))\n",
    "    b2RS3=0.5*0.45*B2RS3_vals[-1]*math.pow(B1RS3_vals[-1],2)/(0.05*B1RS3_vals[-1]*math.pow(B2RS3_vals[-1],2)+0.45*B2RS3_vals[-1]*math.pow(B1RS3_vals[-1],2))\n",
    "    \n",
    "    B1RS1_vals.append(B1RS1_t)\n",
    "    B2RS1_vals.append(B2RS1_t)\n",
    "    B1RS2_vals.append(B1RS2_t)\n",
    "    B2RS2_vals.append(B2RS2_t)\n",
    "    B1RS3_vals.append(B1RS3_t)\n",
    "    B2RS3_vals.append(B2RS3_t)\n",
    "    \n",
    "    model1.reactions.biomass1.upper_bound=b1RS1\n",
    "    model1.reactions.biomass2.upper_bound=b2RS1\n",
    "    model1.reactions.DI1X.upper_bound=3*B1RS1_vals[-1]\n",
    "    model1.reactions.DI2Y.upper_bound=3*B2RS1_vals[-1]\n",
    "    ### For regulation power=0.5\n",
    "    model2.reactions.biomass1.upper_bound=b1RS2\n",
    "    model2.reactions.biomass2.upper_bound=b2RS2\n",
    "    model2.reactions.DI1X.upper_bound=3*B1RS2_vals[-1]\n",
    "    model2.reactions.DI2Y.upper_bound=3*B2RS2_vals[-1]\n",
    " ### For regulation power=1\n",
    "    model3.reactions.biomass1.upper_bound=b1RS3\n",
    "    model3.reactions.biomass2.upper_bound=b2RS3\n",
    "    model3.reactions.DI1X.upper_bound=3*B1RS3_vals[-1]\n",
    "    model3.reactions.DI2Y.upper_bound=3*B2RS3_vals[-1]\n",
    "        \n",
    "    sol1 = model1.optimize()\n",
    "    obj_val = sol1.objective_value\n",
    "    FluxesS1=sol1.fluxes.loc['biomass1']\n",
    "    FluxesS2=sol1.fluxes.loc['biomass2']\n",
    "    sol2 = model2.optimize()\n",
    "    obj_val = sol2.objective_value\n",
    "    Fluxes1SR1=sol2.fluxes.loc['biomass1']\n",
    "    Fluxes2SR1=sol2.fluxes.loc['biomass2']\n",
    "    sol3 = model3.optimize()\n",
    "    obj_val = sol3.objective_value\n",
    "    Fluxes1SR2=sol3.fluxes.loc['biomass1']\n",
    "    Fluxes2SR2=sol3.fluxes.loc['biomass2']\n",
    "        \n",
    "    FluxesS1_list.append(FluxesS1)\n",
    "    FluxesS2_list.append(FluxesS2)\n",
    "    Fluxes1SR1_list.append(Fluxes1SR1)\n",
    "    Fluxes2SR1_list.append(Fluxes2SR1)\n",
    "    Fluxes1SR2_list.append(Fluxes1SR2)\n",
    "    Fluxes2SR2_list.append(Fluxes2SR2)\n",
    "    \n",
    "    T=t/10\n",
    "    T_list.append(T)\n",
    "print(FluxesS1_list[0],FluxesS2_list[0],Fluxes1SR1_list[0],Fluxes2SR1_list[0],Fluxes1SR2_list[0],Fluxes2SR2_list[0])\n",
    "# plt.scatter(T_list,B1RS1_vals,color='orange',s=10)\n",
    "# plt.scatter(T_list,B2RS1_vals,color='purple',s=10)\n",
    "# plt.scatter(T_list,B1RS2_vals,color='blue',s=10)\n",
    "# plt.scatter(T_list,B2RS2_vals,color='olive',s=10)\n",
    "# plt.scatter(T_list,B1RS3_vals,color='deepskyblue',s=10)\n",
    "# plt.scatter(T_list,B2RS3_vals,color='orangered',s=10)\n",
    "\n",
    "plt.scatter(T_list,FluxesS1_list,color='orange',s=10)\n",
    "plt.scatter(T_list,FluxesS2_list,color='purple',s=10)\n",
    "plt.scatter(T_list,Fluxes1SR1_list,color='blue',s=10)\n",
    "plt.scatter(T_list,Fluxes2SR1_list,color='olive',s=10)\n",
    "plt.scatter(T_list,Fluxes1SR2_list,color='deepskyblue',s=10)\n",
    "plt.scatter(T_list,Fluxes2SR2_list,color='orangered',s=10)\n",
    "\n",
    "plt.xlabel(\"t (months)\",fontsize=15)\n",
    "\n",
    "\n",
    "# plt.ylim(0,1)\n",
    "# plt.title('Cell number in stepwise growth (µ1=0.05;µ2=0.45)',fontsize=12)\n",
    "# plt.ylabel(\"Cell number\",fontsize=12)\n",
    "# plt.legend(['B1(t)''('r'$\\epsilon=0$'')','B2(t)''('r'$\\epsilon=0$'')','B1R1(t)''('r'$\\epsilon=0.1$'')',\n",
    "#             'B2R1(t)''('r'$\\epsilon=0.1$'')','B1R2(t)''('r'$\\epsilon=2$'')','B2R2(t)''('r'$\\epsilon=2$'')'],\n",
    "#            loc='center right')\n",
    "\n",
    "plt.ylim(0,0.5)\n",
    "plt.title('biomass synthesis rate in stepwise growth (µ1=0.05;µ2=0.45)',fontsize=12)\n",
    "plt.ylabel(\"biomass synthesis rate\",fontsize=12)\n",
    "plt.legend(['b1(t)''('r'$\\epsilon=0$'')','b2(t)''('r'$\\epsilon=0$'')','b1R1(t)''('r'$\\epsilon=0.1$'')',\n",
    "            'b2R1(t)''('r'$\\epsilon=0.1$'')','b1R2(t)''('r'$\\epsilon=2$'')','b2R2(t)''('r'$\\epsilon=2$'')'],\n",
    "           loc='center right')\n",
    "\n",
    "plt.rc('xtick', labelsize=16) \n",
    "plt.rc('ytick', labelsize=16)\n",
    "plt.rcParams['legend.fontsize']=15\n",
    "\n",
    "\n",
    "plt.tight_layout()\n",
    "# plt.show()\n",
    "plt.savefig('Biomass synthesis value for exponential growth with normal regulation',dpi=300)\n",
    "# plt.savefig('Biomass value for exponential growth with regulation',dpi=300)"
   ]
  },
  {
   "cell_type": "markdown",
   "metadata": {},
   "source": [
    "### µ1=0.01; µ2=0.49"
   ]
  },
  {
   "cell_type": "code",
   "execution_count": 93,
   "metadata": {},
   "outputs": [],
   "source": [
    "from cobra.flux_analysis import pfba\n",
    "# import map visualization tools\n",
    "from utils import show_map\n",
    "import escher\n",
    "map_loc = 'Two cell system model_map.json' # the escher map used below\n",
    "# show all output\n",
    "from IPython.core.interactiveshell import InteractiveShell\n",
    "InteractiveShell.ast_node_interactivity = \"all\"\n",
    "\n",
    "\n",
    "M = cobra.io.load_json_model('Two cell system model.json')\n",
    "model = M.copy()"
   ]
  },
  {
   "cell_type": "code",
   "execution_count": 94,
   "metadata": {},
   "outputs": [],
   "source": [
    "### Internal goods X and Y\n",
    "model.reactions.EX_Com_goodX_e.lower_bound=0\n",
    "model.reactions.EX_Com_goodY_e.lower_bound=0\n",
    "model.reactions.EX_glucose_e.lower_bound=-1\n",
    "model1=model.copy()\n",
    "model2=model.copy()\n",
    "model3=model.copy()"
   ]
  },
  {
   "cell_type": "code",
   "execution_count": 95,
   "metadata": {},
   "outputs": [
    {
     "data": {
      "text/plain": [
       "<Figure size 640x480 with 0 Axes>"
      ]
     },
     "execution_count": 95,
     "metadata": {},
     "output_type": "execute_result"
    },
    {
     "name": "stdout",
     "output_type": "stream",
     "text": [
      "0.0002 0.1198 0.0015 0.1185 0.01 0.11\n"
     ]
    },
    {
     "data": {
      "text/plain": [
       "<matplotlib.collections.PathCollection at 0x14ffb0250>"
      ]
     },
     "execution_count": 95,
     "metadata": {},
     "output_type": "execute_result"
    },
    {
     "data": {
      "text/plain": [
       "<matplotlib.collections.PathCollection at 0x14fae4550>"
      ]
     },
     "execution_count": 95,
     "metadata": {},
     "output_type": "execute_result"
    },
    {
     "data": {
      "text/plain": [
       "<matplotlib.collections.PathCollection at 0x14fb9a1d0>"
      ]
     },
     "execution_count": 95,
     "metadata": {},
     "output_type": "execute_result"
    },
    {
     "data": {
      "text/plain": [
       "<matplotlib.collections.PathCollection at 0x14ffb0d30>"
      ]
     },
     "execution_count": 95,
     "metadata": {},
     "output_type": "execute_result"
    },
    {
     "data": {
      "text/plain": [
       "<matplotlib.collections.PathCollection at 0x14ffb1180>"
      ]
     },
     "execution_count": 95,
     "metadata": {},
     "output_type": "execute_result"
    },
    {
     "data": {
      "text/plain": [
       "<matplotlib.collections.PathCollection at 0x14fb7b220>"
      ]
     },
     "execution_count": 95,
     "metadata": {},
     "output_type": "execute_result"
    },
    {
     "data": {
      "text/plain": [
       "Text(0.5, 0, 't (months)')"
      ]
     },
     "execution_count": 95,
     "metadata": {},
     "output_type": "execute_result"
    },
    {
     "data": {
      "text/plain": [
       "(0.0, 1.0)"
      ]
     },
     "execution_count": 95,
     "metadata": {},
     "output_type": "execute_result"
    },
    {
     "data": {
      "text/plain": [
       "Text(0.5, 1.0, 'Cell number in stepwise growth (µ1=0.01;µ2=0.49)')"
      ]
     },
     "execution_count": 95,
     "metadata": {},
     "output_type": "execute_result"
    },
    {
     "data": {
      "text/plain": [
       "Text(0, 0.5, 'Cell number')"
      ]
     },
     "execution_count": 95,
     "metadata": {},
     "output_type": "execute_result"
    },
    {
     "data": {
      "text/plain": [
       "<matplotlib.legend.Legend at 0x14fb78c10>"
      ]
     },
     "execution_count": 95,
     "metadata": {},
     "output_type": "execute_result"
    },
    {
     "data": {
      "image/png": "[encoded data removed]",
      "text/plain": [
       "<Figure size 640x480 with 1 Axes>"
      ]
     },
     "metadata": {},
     "output_type": "display_data"
    }
   ],
   "source": [
    "import math\n",
    "import matplotlib.pyplot as plt\n",
    "plt.figure()\n",
    "T_list=[0]\n",
    "# Store the values of B1 and B2 for each time step in lists.\n",
    "B1RS1_vals = [0.02]\n",
    "B2RS1_vals = [0.98]\n",
    "\n",
    "B1RS2_vals=[0.02]\n",
    "B2RS2_vals=[0.98]\n",
    "B1RS3_vals=[0.02]\n",
    "B2RS3_vals=[0.98]\n",
    "\n",
    "FluxesS1_list=[0.0002]\n",
    "FluxesS2_list=[0.1198]\n",
    "Fluxes1SR1_list=[0.0015]\n",
    "Fluxes2SR1_list=[0.1185]\n",
    "Fluxes1SR2_list=[0.01]\n",
    "Fluxes2SR2_list=[0.11]\n",
    "\n",
    "### define actual biomass\n",
    "def B1RS1(t):\n",
    "    if(t<=0):\n",
    "        return 0.02\n",
    "    return B1RS1_vals[int((t-1)/1)]*0.95+0.1*FluxesS1_list[-1]\n",
    "def B2RS1(t):\n",
    "    if(t<=0):\n",
    "        return 0.98\n",
    "    return B2RS1_vals[int((t-1)/1)]*0.95+0.1*FluxesS2_list[-1]\n",
    "def B1RS2(t):\n",
    "    if(t<=0):\n",
    "        return 0.02\n",
    "    return B1RS2_vals[int((t-1)/1)]*0.95+0.1*Fluxes1SR1_list[-1]\n",
    "def B2RS2(t):\n",
    "    if(t<=0):\n",
    "        return 0.98\n",
    "    return B2RS2_vals[int((t-1)/1)]*0.95+0.1*Fluxes2SR1_list[-1]\n",
    "def B1RS3(t):\n",
    "    if(t<=0):\n",
    "        return 0.02\n",
    "    return B1RS3_vals[int((t-1)/1)]*0.95+0.1*Fluxes1SR2_list[-1]\n",
    "def B2RS3(t):\n",
    "    if(t<=0):\n",
    "        return 0.98\n",
    "    return B2RS3_vals[int((t-1)/1)]*0.95+0.1*Fluxes2SR2_list[-1]\n",
    "\n",
    "for t in np.arange(1,1000,1):\n",
    "    B1RS1_t = B1RS1(t)\n",
    "    B2RS1_t = B2RS1(t)\n",
    "    B1RS2_t = B1RS2(t)\n",
    "    B2RS2_t = B2RS2(t)\n",
    "    B1RS3_t = B1RS3(t)\n",
    "    B2RS3_t = B2RS3(t)\n",
    "    \n",
    "#     B1RS1_vals.append(B1RS1_t)\n",
    "#     B2RS1_vals.append(B2RS1_t)\n",
    "#     B1RS2_vals.append(B1RS2_t)\n",
    "#     B2RS2_vals.append(B2RS2_t)\n",
    "#     B1RS3_vals.append(B1RS3_t)\n",
    "#     B2RS3_vals.append(B2RS3_t)\n",
    "    \n",
    "    b1RS1=0.5*0.01*B1RS1_vals[-1]*math.pow(B2RS1_vals[-1],0)/(0.01*B1RS1_vals[-1]*math.pow(B2RS1_vals[-1],0)+0.49*B2RS1_vals[-1]*math.pow(B1RS1_vals[-1],0))\n",
    "    b2RS1=0.5*0.49*B2RS1_vals[-1]*math.pow(B1RS1_vals[-1],0)/(0.01*B1RS1_vals[-1]*math.pow(B2RS1_vals[-1],0)+0.49*B2RS1_vals[-1]*math.pow(B1RS1_vals[-1],0))\n",
    "    b1RS2=0.5*0.01*B1RS2_vals[-1]*math.pow(B2RS2_vals[-1],0.5)/(0.01*B1RS2_vals[-1]*math.pow(B2RS2_vals[-1],0.5)+0.49*B2RS2_vals[-1]*math.pow(B1RS2_vals[-1],0.5))\n",
    "    b2RS2=0.5*0.49*B2RS2_vals[-1]*math.pow(B1RS2_vals[-1],0.5)/(0.01*B1RS2_vals[-1]*math.pow(B2RS2_vals[-1],0.5)+0.49*B2RS2_vals[-1]*math.pow(B1RS2_vals[-1],0.5))\n",
    "    b1RS3=0.5*0.01*B1RS3_vals[-1]*math.pow(B2RS3_vals[-1],1)/(0.01*B1RS3_vals[-1]*math.pow(B2RS3_vals[-1],1)+0.49*B2RS3_vals[-1]*math.pow(B1RS3_vals[-1],1))\n",
    "    b2RS3=0.5*0.49*B2RS3_vals[-1]*math.pow(B1RS3_vals[-1],1)/(0.01*B1RS3_vals[-1]*math.pow(B2RS3_vals[-1],1)+0.49*B2RS3_vals[-1]*math.pow(B1RS3_vals[-1],1))\n",
    "    \n",
    "    B1RS1_vals.append(B1RS1_t)\n",
    "    B2RS1_vals.append(B2RS1_t)\n",
    "    B1RS2_vals.append(B1RS2_t)\n",
    "    B2RS2_vals.append(B2RS2_t)\n",
    "    B1RS3_vals.append(B1RS3_t)\n",
    "    B2RS3_vals.append(B2RS3_t)\n",
    "    \n",
    "    model1.reactions.biomass1.upper_bound=b1RS1\n",
    "    model1.reactions.biomass2.upper_bound=b2RS1\n",
    "    model1.reactions.DI1X.upper_bound=3*B1RS1_vals[-1]\n",
    "    model1.reactions.DI2Y.upper_bound=3*B2RS1_vals[-1]\n",
    "    ### For regulation power=0.5\n",
    "    model2.reactions.biomass1.upper_bound=b1RS2\n",
    "    model2.reactions.biomass2.upper_bound=b2RS2\n",
    "    model2.reactions.DI1X.upper_bound=3*B1RS2_vals[-1]\n",
    "    model2.reactions.DI2Y.upper_bound=3*B2RS2_vals[-1]\n",
    " ### For regulation power=1\n",
    "    model3.reactions.biomass1.upper_bound=b1RS3\n",
    "    model3.reactions.biomass2.upper_bound=b2RS3\n",
    "    model3.reactions.DI1X.upper_bound=3*B1RS3_vals[-1]\n",
    "    model3.reactions.DI2Y.upper_bound=3*B2RS3_vals[-1]\n",
    "        \n",
    "    sol1 = model1.optimize()\n",
    "    obj_val = sol1.objective_value\n",
    "    FluxesS1=sol1.fluxes.loc['biomass1']\n",
    "    FluxesS2=sol1.fluxes.loc['biomass2']\n",
    "    sol2 = model2.optimize()\n",
    "    obj_val = sol2.objective_value\n",
    "    Fluxes1SR1=sol2.fluxes.loc['biomass1']\n",
    "    Fluxes2SR1=sol2.fluxes.loc['biomass2']\n",
    "    sol3 = model3.optimize()\n",
    "    obj_val = sol3.objective_value\n",
    "    Fluxes1SR2=sol3.fluxes.loc['biomass1']\n",
    "    Fluxes2SR2=sol3.fluxes.loc['biomass2']\n",
    "        \n",
    "    FluxesS1_list.append(FluxesS1)\n",
    "    FluxesS2_list.append(FluxesS2)\n",
    "    Fluxes1SR1_list.append(Fluxes1SR1)\n",
    "    Fluxes2SR1_list.append(Fluxes2SR1)\n",
    "    Fluxes1SR2_list.append(Fluxes1SR2)\n",
    "    Fluxes2SR2_list.append(Fluxes2SR2)\n",
    "    \n",
    "    T=t/10\n",
    "    T_list.append(T)\n",
    "print(FluxesS1_list[0],FluxesS2_list[0],Fluxes1SR1_list[0],Fluxes2SR1_list[0],Fluxes1SR2_list[0],Fluxes2SR2_list[0])\n",
    "plt.scatter(T_list,B1RS1_vals,color='orange',s=10)\n",
    "plt.scatter(T_list,B2RS1_vals,color='purple',s=10)\n",
    "plt.scatter(T_list,B1RS2_vals,color='blue',s=10)\n",
    "plt.scatter(T_list,B2RS2_vals,color='olive',s=10)\n",
    "plt.scatter(T_list,B1RS3_vals,color='deepskyblue',s=10)\n",
    "plt.scatter(T_list,B2RS3_vals,color='orangered',s=10)\n",
    "\n",
    "# plt.scatter(T_list,FluxesS1_list,color='orange',s=10)\n",
    "# plt.scatter(T_list,FluxesS2_list,color='purple',s=10)\n",
    "# plt.scatter(T_list,Fluxes1SR1_list,color='blue',s=10)\n",
    "# plt.scatter(T_list,Fluxes2SR1_list,color='olive',s=10)\n",
    "# plt.scatter(T_list,Fluxes1SR2_list,color='deepskyblue',s=10)\n",
    "# plt.scatter(T_list,Fluxes2SR2_list,color='orangered',s=10)\n",
    "\n",
    "plt.xlabel(\"t (months)\",fontsize=15)\n",
    "\n",
    "\n",
    "plt.ylim(0,1)\n",
    "plt.title('Cell number in stepwise growth (µ1=0.01;µ2=0.49)',fontsize=12)\n",
    "plt.ylabel(\"Cell number\",fontsize=12)\n",
    "plt.legend(['B1(t)''('r'$\\epsilon=0$'')','B2(t)''('r'$\\epsilon=0$'')','B1R1(t)''('r'$\\epsilon=0.5$'')',\n",
    "            'B2R1(t)''('r'$\\epsilon=0.5$'')','B1R2(t)''('r'$\\epsilon=1$'')','B2R2(t)''('r'$\\epsilon=1$'')'],\n",
    "           loc='center right')\n",
    "\n",
    "# plt.ylim(0,0.5)\n",
    "# plt.title('biomass synthesis rate in stepwise growth (µ1=0.01;µ2=0.49)',fontsize=12)\n",
    "# plt.ylabel(\"biomass synthesis rate\",fontsize=12)\n",
    "# plt.legend(['b1(t)''('r'$\\epsilon=0$'')','b2(t)''('r'$\\epsilon=0$'')','b1R1(t)''('r'$\\epsilon=0.5$'')',\n",
    "#             'b2R1(t)''('r'$\\epsilon=0.5$'')','b1R2(t)''('r'$\\epsilon=1$'')','b2R2(t)''('r'$\\epsilon=1$'')'],\n",
    "#            loc='center right')\n",
    "\n",
    "plt.rc('xtick', labelsize=16) \n",
    "plt.rc('ytick', labelsize=16)\n",
    "plt.rcParams['legend.fontsize']=15\n",
    "\n",
    "\n",
    "plt.tight_layout()\n",
    "# plt.show()\n",
    "plt.savefig('Biomass synthesis value for exponential growth with normal regulation',dpi=300)\n",
    "# plt.savefig('Biomass value for exponential growth with regulation',dpi=300)"
   ]
  },
  {
   "cell_type": "code",
   "execution_count": 113,
   "metadata": {},
   "outputs": [
    {
     "name": "stdout",
     "output_type": "stream",
     "text": [
      "0.0018518518611360783 0.020370370308347218 0.0061156612922156125 0.06727227421437151 0.02 0.22000000000000025\n"
     ]
    }
   ],
   "source": [
    "print(B1RS1_vals[-1],B2RS1_vals[-1], B1RS2_vals[-1],B2RS2_vals[-1], B1RS3_vals[-1],B2RS3_vals[-1])"
   ]
  },
  {
   "cell_type": "code",
   "execution_count": null,
   "metadata": {},
   "outputs": [],
   "source": []
  },
  {
   "cell_type": "code",
   "execution_count": null,
   "metadata": {},
   "outputs": [],
   "source": []
  }
 ],
 "metadata": {
  "kernelspec": {
   "display_name": "Python 3 (ipykernel)",
   "language": "python",
   "name": "python3"
  },
  "language_info": {
   "codemirror_mode": {
    "name": "ipython",
    "version": 3
   },
   "file_extension": ".py",
   "mimetype": "text/x-python",
   "name": "python",
   "nbconvert_exporter": "python",
   "pygments_lexer": "ipython3",
   "version": "3.10.6"
  },
  "toc": {
   "base_numbering": 1,
   "nav_menu": {},
   "number_sections": true,
   "sideBar": true,
   "skip_h1_title": false,
   "title_cell": "Table of Contents",
   "title_sidebar": "Contents",
   "toc_cell": false,
   "toc_position": {
    "height": "calc(100% - 180px)",
    "left": "10px",
    "top": "150px",
    "width": "318px"
   },
   "toc_section_display": true,
   "toc_window_display": true
  },
  "varInspector": {
   "cols": {
    "lenName": 16,
    "lenType": 16,
    "lenVar": 40
   },
   "kernels_config": {
    "python": {
     "delete_cmd_postfix": "",
     "delete_cmd_prefix": "del ",
     "library": "var_list.py",
     "varRefreshCmd": "print(var_dic_list())"
    },
    "r": {
     "delete_cmd_postfix": ") ",
     "delete_cmd_prefix": "rm(",
     "library": "var_list.r",
     "varRefreshCmd": "cat(var_dic_list()) "
    }
   },
   "types_to_exclude": [
    "module",
    "function",
    "builtin_function_or_method",
    "instance",
    "_Feature"
   ],
   "window_display": false
  }
 },
 "nbformat": 4,
 "nbformat_minor": 2
}
