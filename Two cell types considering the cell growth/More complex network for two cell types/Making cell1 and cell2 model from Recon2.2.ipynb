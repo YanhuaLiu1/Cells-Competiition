{
 "cells": [
  {
   "cell_type": "markdown",
   "metadata": {},
   "source": [
    "# building cell1 model"
   ]
  },
  {
   "cell_type": "code",
   "execution_count": 1,
   "metadata": {},
   "outputs": [
    {
     "name": "stdout",
     "output_type": "stream",
     "text": [
      "Scaling...\n",
      " A: min|aij| =  1.000e+00  max|aij| =  1.000e+00  ratio =  1.000e+00\n",
      "Problem data seem to be well scaled\n"
     ]
    }
   ],
   "source": [
    "import cobra\n",
    "M = cobra.io.load_json_model('Recon2.2_simply_medium_add_reaction_EX_phpyr_e_transport_phpyr.json')\n",
    "model = M.copy()"
   ]
  },
  {
   "cell_type": "code",
   "execution_count": 2,
   "metadata": {},
   "outputs": [
    {
     "data": {
      "text/plain": [
       "{'EX_co2_e': 999999.0,\n",
       " 'EX_glc_e': 1.0,\n",
       " 'EX_h_e': 999999.0,\n",
       " 'EX_h2o_e': 999999.0,\n",
       " 'EX_hco3_e': 999999.0,\n",
       " 'EX_his_L_e': 0.1,\n",
       " 'EX_ile_L_e': 0.1,\n",
       " 'EX_leu_L_e': 0.1,\n",
       " 'EX_lys_L_e': 0.1,\n",
       " 'EX_met_L_e': 0.1,\n",
       " 'EX_nh4_e': 999999.0,\n",
       " 'EX_o2_e': 1000.0,\n",
       " 'EX_phe_L_e': 0.1,\n",
       " 'EX_pi_e': 999999.0,\n",
       " 'EX_so4_e': 999999.0,\n",
       " 'EX_thr_L_e': 0.1,\n",
       " 'EX_trp_L_e': 0.1,\n",
       " 'EX_val_L_e': 0.1}"
      ]
     },
     "execution_count": 2,
     "metadata": {},
     "output_type": "execute_result"
    }
   ],
   "source": [
    "model.medium"
   ]
  },
  {
   "cell_type": "code",
   "execution_count": 3,
   "metadata": {},
   "outputs": [
    {
     "data": {
      "text/plain": [
       "0.16888753778858537"
      ]
     },
     "execution_count": 3,
     "metadata": {},
     "output_type": "execute_result"
    }
   ],
   "source": [
    "model.solver='glpk'\n",
    "sol = model.optimize()\n",
    "sol.objective_value"
   ]
  },
  {
   "cell_type": "code",
   "execution_count": 20,
   "metadata": {},
   "outputs": [
    {
     "data": {
      "text/plain": [
       "0.16888753778858498"
      ]
     },
     "execution_count": 20,
     "metadata": {},
     "output_type": "execute_result"
    }
   ],
   "source": [
    "model1=model.copy()\n",
    "model1.reactions.EX_glc_e.lower_bound=-1\n",
    "model1.reactions.EX_his_L_e.lower_bound=-0.05\n",
    "model1.reactions.EX_ile_L_e.lower_bound=-0.1\n",
    "model1.reactions.EX_leu_L_e.lower_bound=-0.1\n",
    "model1.reactions.EX_lys_L_e.lower_bound=-0.1\n",
    "model1.reactions.EX_met_L_e.lower_bound=-0.1\n",
    "model1.reactions.EX_phe_L_e.lower_bound=-0.1\n",
    "model1.reactions.EX_thr_L_e.lower_bound=-0.1\n",
    "model1.reactions.EX_trp_L_e.lower_bound=-0.1\n",
    "model1.reactions.EX_val_L_e.lower_bound=-0.1\n",
    "\n",
    "model1.solver='glpk'\n",
    "sol = model1.optimize()\n",
    "sol.objective_value"
   ]
  },
  {
   "cell_type": "code",
   "execution_count": 3,
   "metadata": {},
   "outputs": [],
   "source": [
    "for reaction in model.reactions:\n",
    "    reaction.id = f\"{reaction.id}_Cell1\""
   ]
  },
  {
   "cell_type": "code",
   "execution_count": 4,
   "metadata": {},
   "outputs": [],
   "source": [
    "for metabolite in model.metabolites:\n",
    "    metabolite.id = f\"{metabolite.id}_Cell1\""
   ]
  },
  {
   "cell_type": "code",
   "execution_count": 5,
   "metadata": {},
   "outputs": [],
   "source": [
    "cobra.io.save_json_model(model, \"Recon2.2Cell1.json\")"
   ]
  },
  {
   "cell_type": "markdown",
   "metadata": {},
   "source": [
    "# building cell2 model"
   ]
  },
  {
   "cell_type": "code",
   "execution_count": 6,
   "metadata": {},
   "outputs": [],
   "source": [
    "import cobra\n",
    "M = cobra.io.load_json_model('Recon2.2_simply_medium_add_reaction_EX_phpyr_e_transport_phpyr.json')\n",
    "model = M.copy()"
   ]
  },
  {
   "cell_type": "code",
   "execution_count": 7,
   "metadata": {},
   "outputs": [
    {
     "data": {
      "text/plain": [
       "0.16888753778858537"
      ]
     },
     "execution_count": 7,
     "metadata": {},
     "output_type": "execute_result"
    }
   ],
   "source": [
    "model.solver='glpk'\n",
    "sol = model.optimize()\n",
    "sol.objective_value"
   ]
  },
  {
   "cell_type": "code",
   "execution_count": 8,
   "metadata": {},
   "outputs": [],
   "source": [
    "for reaction in model.reactions:\n",
    "    reaction.id = f\"{reaction.id}_Cell2\""
   ]
  },
  {
   "cell_type": "code",
   "execution_count": 9,
   "metadata": {},
   "outputs": [],
   "source": [
    "for metabolite in model.metabolites:\n",
    "    metabolite.id = f\"{metabolite.id}_Cell2\""
   ]
  },
  {
   "cell_type": "code",
   "execution_count": 10,
   "metadata": {},
   "outputs": [],
   "source": [
    "cobra.io.save_json_model(model, \"Recon2.2Cell2.json\")"
   ]
  },
  {
   "cell_type": "markdown",
   "metadata": {},
   "source": [
    "# Combining cell1 and cell2 together"
   ]
  },
  {
   "cell_type": "code",
   "execution_count": 1,
   "metadata": {},
   "outputs": [
    {
     "name": "stdout",
     "output_type": "stream",
     "text": [
      "Scaling...\n",
      " A: min|aij| =  1.000e+00  max|aij| =  1.000e+00  ratio =  1.000e+00\n",
      "Problem data seem to be well scaled\n"
     ]
    }
   ],
   "source": [
    "import cobra\n",
    "from cobra import Model, Reaction, Metabolite\n",
    "\n",
    "M1 = cobra.io.load_json_model('Recon2.2Cell1.json')\n",
    "M2 = cobra.io.load_json_model('Recon2.2Cell2.json')"
   ]
  },
  {
   "cell_type": "code",
   "execution_count": 2,
   "metadata": {},
   "outputs": [],
   "source": [
    "M3 = M1.merge(M2, inplace=False, objective=\"sum\")"
   ]
  },
  {
   "cell_type": "code",
   "execution_count": 3,
   "metadata": {},
   "outputs": [],
   "source": [
    "cobra.io.save_json_model(M3, \"Recon2.2Cell1_2together.json\")"
   ]
  },
  {
   "cell_type": "code",
   "execution_count": null,
   "metadata": {},
   "outputs": [],
   "source": []
  },
  {
   "cell_type": "code",
   "execution_count": null,
   "metadata": {},
   "outputs": [],
   "source": []
  }
 ],
 "metadata": {
  "kernelspec": {
   "display_name": "Python 3 (ipykernel)",
   "language": "python",
   "name": "python3"
  },
  "language_info": {
   "codemirror_mode": {
    "name": "ipython",
    "version": 3
   },
   "file_extension": ".py",
   "mimetype": "text/x-python",
   "name": "python",
   "nbconvert_exporter": "python",
   "pygments_lexer": "ipython3",
   "version": "3.10.6"
  },
  "toc": {
   "base_numbering": 1,
   "nav_menu": {},
   "number_sections": true,
   "sideBar": true,
   "skip_h1_title": false,
   "title_cell": "Table of Contents",
   "title_sidebar": "Contents",
   "toc_cell": false,
   "toc_position": {
    "height": "calc(100% - 180px)",
    "left": "10px",
    "top": "150px",
    "width": "168px"
   },
   "toc_section_display": true,
   "toc_window_display": true
  },
  "varInspector": {
   "cols": {
    "lenName": 16,
    "lenType": 16,
    "lenVar": 40
   },
   "kernels_config": {
    "python": {
     "delete_cmd_postfix": "",
     "delete_cmd_prefix": "del ",
     "library": "var_list.py",
     "varRefreshCmd": "print(var_dic_list())"
    },
    "r": {
     "delete_cmd_postfix": ") ",
     "delete_cmd_prefix": "rm(",
     "library": "var_list.r",
     "varRefreshCmd": "cat(var_dic_list()) "
    }
   },
   "types_to_exclude": [
    "module",
    "function",
    "builtin_function_or_method",
    "instance",
    "_Feature"
   ],
   "window_display": false
  }
 },
 "nbformat": 4,
 "nbformat_minor": 2
}
