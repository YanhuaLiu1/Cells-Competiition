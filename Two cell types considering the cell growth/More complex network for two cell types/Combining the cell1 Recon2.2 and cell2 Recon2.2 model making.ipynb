{
 "cells": [
  {
   "cell_type": "markdown",
   "metadata": {},
   "source": [
    "# Adding blood reactions"
   ]
  },
  {
   "cell_type": "code",
   "execution_count": 1,
   "metadata": {},
   "outputs": [
    {
     "name": "stdout",
     "output_type": "stream",
     "text": [
      "Scaling...\n",
      " A: min|aij| =  1.000e+00  max|aij| =  1.000e+00  ratio =  1.000e+00\n",
      "Problem data seem to be well scaled\n"
     ]
    }
   ],
   "source": [
    "import cobra\n",
    "from cobra import Model, Reaction, Metabolite\n",
    "\n",
    "M1 = cobra.io.load_json_model('Recon2.2Cell1_2together.json')"
   ]
  },
  {
   "cell_type": "code",
   "execution_count": 2,
   "metadata": {},
   "outputs": [
    {
     "data": {
      "text/plain": [
       "0.33777507557717334"
      ]
     },
     "execution_count": 2,
     "metadata": {},
     "output_type": "execute_result"
    }
   ],
   "source": [
    "M1.solver='glpk'\n",
    "sol = M1.optimize()\n",
    "sol.objective_value"
   ]
  },
  {
   "cell_type": "code",
   "execution_count": 10,
   "metadata": {},
   "outputs": [],
   "source": [
    "M=M1.copy()"
   ]
  },
  {
   "cell_type": "code",
   "execution_count": 11,
   "metadata": {},
   "outputs": [],
   "source": [
    "# Metabolites\n",
    "M0_c = Metabolite('M0_c',name='metabolite0',compartment='c')\n",
    "M0_e = Metabolite('M0_e',name='metabolite0',compartment='e')\n",
    "Com_goodX_c = Metabolite('Com_goodX_c',name='Commom good X',compartment='c')\n",
    "Com_goodX_e = Metabolite('Com_goodX_e',name='Commom good X',compartment='e')\n",
    "Com_goodY_c = Metabolite('Com_goodY_c',name='Commom good Y',compartment='c')\n",
    "Com_goodY_e = Metabolite('Com_goodY_e',name='Commom good Y',compartment='e')\n",
    "I1 = Metabolite('I1',name='Intermediate metabolite 1')\n",
    "I2 = Metabolite('I2',name='Intermediate metabolite 2')\n",
    "CO2_c=Metabolite('CO2_c',name='Carbon dioxide',compartment='c')\n",
    "CO2_e=Metabolite('CO2_e',name='Carbon dioxide',compartment='e')\n",
    "by_product_c=Metabolite('by_product_h_c',name='by_product_from_glucose_h',compartment='c')\n",
    "M1_c = Metabolite('M1_c',name='metabolite1',compartment='c')\n",
    "M2_c = Metabolite('M2_c',name='metabolite2',compartment='c')\n",
    "biomass_DNA_c_Cell1=M.metabolites.get_by_id('biomass_DNA_c_Cell1')\n",
    "biomass_RNA_c_Cell1=M.metabolites.get_by_id('biomass_RNA_c_Cell1')\n",
    "biomass_carbohydrate_c_Cell1=M.metabolites.get_by_id('biomass_carbohydrate_c_Cell1')\n",
    "biomass_lipid_c_Cell1=M.metabolites.get_by_id('biomass_lipid_c_Cell1')\n",
    "biomass_other_c_Cell1=M.metabolites.get_by_id('biomass_other_c_Cell1')\n",
    "biomass_protein_c_Cell1=M.metabolites.get_by_id('biomass_protein_c_Cell1')\n",
    "biomass_DNA_c_Cell2=M.metabolites.get_by_id('biomass_DNA_c_Cell2')\n",
    "biomass_RNA_c_Cell2=M.metabolites.get_by_id('biomass_RNA_c_Cell2')\n",
    "biomass_carbohydrate_c_Cell2=M.metabolites.get_by_id('biomass_carbohydrate_c_Cell2')\n",
    "biomass_lipid_c_Cell2=M.metabolites.get_by_id('biomass_lipid_c_Cell2')\n",
    "biomass_other_c_Cell2=M.metabolites.get_by_id('biomass_other_c_Cell2')\n",
    "biomass_protein_c_Cell2=M.metabolites.get_by_id('biomass_protein_c_Cell2')\n",
    "\n",
    "# reactions\n",
    "## exchange reaction of metabolite0\n",
    "EX_M0_e = Reaction('EX_M0_e')\n",
    "M.add_reaction(EX_M0_e)\n",
    "M.reactions.EX_M0_e.lower_bound = -1000 \n",
    "M.reactions.EX_M0_e.upper_bound = 1000 \n",
    "M.reactions.EX_M0_e.add_metabolites({M0_e: -1.0})\n",
    "M.reactions.EX_M0_e.name = 'metabolite0 exchange'\n",
    "## Transport reaction of metabolite0\n",
    "M0T = Reaction('M0T')\n",
    "M.add_reaction(M0T)\n",
    "M.reactions.M0T.lower_bound = -1000 \n",
    "M.reactions.M0T.upper_bound = 1000 \n",
    "M.reactions.M0T.add_metabolites({M0_e: -1.0,M0_c: 1.0})\n",
    "M.reactions.M0T.name = 'metabolite0 transport'\n",
    "## exchange reaction of Com_goodX\n",
    "EX_Com_goodX_e = Reaction('EX_Com_goodX_e')\n",
    "M.add_reaction(EX_Com_goodX_e)\n",
    "M.reactions.EX_Com_goodX_e.lower_bound = -1000 \n",
    "M.reactions.EX_Com_goodX_e.upper_bound = 1000 \n",
    "M.reactions.EX_Com_goodX_e.add_metabolites({Com_goodX_e: -1.0})\n",
    "M.reactions.EX_Com_goodX_e.name = 'Common good X exchange'\n",
    "## Transport reaction of Com_goodX\n",
    "ComgoodXT = Reaction('ComgoodXT')\n",
    "M.add_reaction(ComgoodXT)\n",
    "M.reactions.ComgoodXT.lower_bound = -1000 \n",
    "M.reactions.ComgoodXT.upper_bound = 1000 \n",
    "M.reactions.ComgoodXT.add_metabolites({Com_goodX_e: -1.0,Com_goodX_c: 1.0})\n",
    "M.reactions.ComgoodXT.name = 'Common good X transport'\n",
    "## exchange reaction of Com_goodY\n",
    "EX_Com_goodY_e = Reaction('EX_Com_goodY_e')\n",
    "M.add_reaction(EX_Com_goodY_e)\n",
    "M.reactions.EX_Com_goodY_e.lower_bound = -1000 \n",
    "M.reactions.EX_Com_goodY_e.upper_bound = 1000 \n",
    "M.reactions.EX_Com_goodY_e.add_metabolites({Com_goodY_e: -1.0})\n",
    "M.reactions.EX_Com_goodY_e.name = 'Common good Y exchange'\n",
    "## Transport reaction of Com_goodY\n",
    "ComgoodYT = Reaction('ComgoodYT')\n",
    "M.add_reaction(ComgoodYT)\n",
    "M.reactions.ComgoodYT.lower_bound = -1000 \n",
    "M.reactions.ComgoodYT.upper_bound = 1000 \n",
    "M.reactions.ComgoodYT.add_metabolites({Com_goodY_e: -1.0,Com_goodY_c: 1.0})\n",
    "M.reactions.ComgoodYT.name = 'Common good Y transport'\n",
    "\n",
    "## M0 to I1\n",
    "M0TI1=Reaction('M0TI1')\n",
    "M.add_reaction(M0TI1)\n",
    "M.reactions.M0TI1.lower_bound = 0\n",
    "M.reactions.M0TI1.upper_bound = 1000 \n",
    "M.reactions.M0TI1.add_metabolites({M0_c: -1.0,Com_goodX_c:-1,Com_goodY_c:-1,I1:1})\n",
    "M.reactions.M0TI1.name = 'glucose converted to internediate metabolite 1'\n",
    "## Digesting of I1\n",
    "DI1X=Reaction('DI1X')\n",
    "M.add_reaction(DI1X)\n",
    "M.reactions.DI1X.lower_bound = 0\n",
    "M.reactions.DI1X.upper_bound = 1000 \n",
    "M.reactions.DI1X.add_metabolites({I1: -1.0,Com_goodX_c:4, CO2_c:1})\n",
    "M.reactions.DI1X.name = 'Digesting of internediate metabolite 1 to X'\n",
    "## Digesting of I1\n",
    "DI1M1=Reaction('DI1M1')\n",
    "M.add_reaction(DI1M1)\n",
    "M.reactions.DI1M1.lower_bound = 0\n",
    "M.reactions.DI1M1.upper_bound = 1000 \n",
    "M.reactions.DI1M1.add_metabolites({I1: -1.0, M1_c:1})\n",
    "M.reactions.DI1M1.name = 'Digesting of internediate metabolite 1 to M1'\n",
    "\n",
    "\n",
    "# biomass reaction1\n",
    "biomass_reaction_Cell1_New=Reaction('biomass_reaction_Cell1_New')\n",
    "M.add_reaction(biomass_reaction_Cell1_New)\n",
    "M.reactions.biomass_reaction_Cell1_New.lower_bound = 0\n",
    "M.reactions.biomass_reaction_Cell1_New.upper_bound = 1000 \n",
    "M.reactions.biomass_reaction_Cell1_New.add_metabolites({biomass_DNA_c_Cell1:-0.014, biomass_RNA_c_Cell1:-0.058,\n",
    "                                                        biomass_carbohydrate_c_Cell1:-0.071, biomass_lipid_c_Cell1:-0.097,\n",
    "                                                        biomass_other_c_Cell1:-0.054, biomass_protein_c_Cell1:-0.706,\n",
    "                                                        M1_c:-1})\n",
    "M.reactions.biomass_reaction_Cell1_New.name = 'biomass reaction for Cell1(New)'\n",
    "\n",
    "## M0 to I2\n",
    "M0TI2=Reaction('M0TI2')\n",
    "M.add_reaction(M0TI2)\n",
    "M.reactions.M0TI2.lower_bound = 0\n",
    "M.reactions.M0TI2.upper_bound = 1000 \n",
    "M.reactions.M0TI2.add_metabolites({M0_c: -1.0,Com_goodX_c:-1,Com_goodY_c:-1,I2:1})\n",
    "M.reactions.M0TI2.name = 'glucose converted to internediate metabolite 2'\n",
    "## Digesting of I2\n",
    "DI2Y=Reaction('DI2Y')\n",
    "M.add_reaction(DI2Y)\n",
    "M.reactions.DI2Y.lower_bound = 0\n",
    "M.reactions.DI2Y.upper_bound = 1000 \n",
    "M.reactions.DI2Y.add_metabolites({I2: -1.0,Com_goodY_c:4, CO2_c:1})\n",
    "M.reactions.DI2Y.name = 'Digesting of internediate metabolite 2 to X'\n",
    "## Digesting of I2\n",
    "DI2M2=Reaction('DI2M2')\n",
    "M.add_reaction(DI2M2)\n",
    "M.reactions.DI2M2.lower_bound = 0\n",
    "M.reactions.DI2M2.upper_bound = 1000 \n",
    "M.reactions.DI2M2.add_metabolites({I2: -1.0, M2_c:1})\n",
    "M.reactions.DI2M2.name = 'Digesting of internediate metabolite 2 to M2'\n",
    "\n",
    "\n",
    "# biomass reaction for cell2\n",
    "biomass_reaction_Cell2_New=Reaction('biomass_reaction_Cell2_New')\n",
    "M.add_reaction(biomass_reaction_Cell2_New)\n",
    "M.reactions.biomass_reaction_Cell2_New.lower_bound = 0\n",
    "M.reactions.biomass_reaction_Cell2_New.upper_bound = 1000 \n",
    "M.reactions.biomass_reaction_Cell2_New.add_metabolites({biomass_DNA_c_Cell2:-0.014, biomass_RNA_c_Cell2:-0.058,\n",
    "                                                        biomass_carbohydrate_c_Cell2:-0.071, biomass_lipid_c_Cell2:-0.097,\n",
    "                                                        biomass_other_c_Cell2:-0.054, biomass_protein_c_Cell2:-0.706,\n",
    "                                                        M2_c:-1})\n",
    "M.reactions.biomass_reaction_Cell2_New.name = 'biomass reaction for Cell2(New)'\n",
    "\n",
    "## Exchange reaction of CO2\n",
    "EX_CO2_e = Reaction('EX_CO2_e')\n",
    "M.add_reaction(EX_CO2_e)\n",
    "M.reactions.EX_CO2_e.lower_bound = 0 \n",
    "M.reactions.EX_CO2_e.upper_bound = 1000 \n",
    "M.reactions.EX_CO2_e.add_metabolites({CO2_e:-1})\n",
    "M.reactions.EX_CO2_e.name = 'Carbon dioxide exchange'\n",
    "## Transport reaction of CO2\n",
    "TCO2 = Reaction('TCO2')\n",
    "M.add_reaction(TCO2)\n",
    "M.reactions.TCO2.lower_bound = -1000 \n",
    "M.reactions.TCO2.upper_bound = 1000 \n",
    "M.reactions.TCO2.add_metabolites({CO2_c:1, CO2_e:-1})\n",
    "M.reactions.TCO2.name = 'Carbon dioxide transport'\n",
    "## Producing to by-product\n",
    "GlcTBP = Reaction('GlcTBP')\n",
    "M.add_reaction(GlcTBP)\n",
    "M.reactions.GlcTBP.lower_bound = 0 \n",
    "M.reactions.GlcTBP.upper_bound = 1000 \n",
    "M.reactions.GlcTBP.add_metabolites({M0_c: -1.0, by_product_c:1})\n",
    "M.reactions.GlcTBP.name = 'metabolite0 to by-product in cystol'\n",
    "## Degradation of by-product\n",
    "Byprode = Reaction('Byprode')\n",
    "M.add_reaction(Byprode)\n",
    "M.reactions.Byprode.lower_bound = 0 \n",
    "M.reactions.Byprode.upper_bound = 1000 \n",
    "M.reactions.Byprode.add_metabolites({by_product_c:-1})\n",
    "M.reactions.Byprode.name = 'By-product degradation in cytosol'\n",
    "\n",
    "quadratic_objective = M.problem.Objective(M.reactions.biomass_reaction_Cell1_New.flux_expression +\n",
    "    M.reactions.biomass_reaction_Cell2_New.flux_expression,direction='max')\n",
    "M.objective = quadratic_objective"
   ]
  },
  {
   "cell_type": "code",
   "execution_count": 12,
   "metadata": {},
   "outputs": [
    {
     "data": {
      "text/plain": [
       "0.3377750755771733"
      ]
     },
     "execution_count": 12,
     "metadata": {},
     "output_type": "execute_result"
    }
   ],
   "source": [
    "M.solver='glpk'\n",
    "sol = M.optimize()\n",
    "sol.objective_value"
   ]
  },
  {
   "cell_type": "code",
   "execution_count": 13,
   "metadata": {},
   "outputs": [],
   "source": [
    "cobra.io.save_json_model(M, \"Recon2.2Twocelltypestogether.json\")"
   ]
  },
  {
   "cell_type": "code",
   "execution_count": null,
   "metadata": {},
   "outputs": [],
   "source": []
  }
 ],
 "metadata": {
  "kernelspec": {
   "display_name": "Python 3 (ipykernel)",
   "language": "python",
   "name": "python3"
  },
  "language_info": {
   "codemirror_mode": {
    "name": "ipython",
    "version": 3
   },
   "file_extension": ".py",
   "mimetype": "text/x-python",
   "name": "python",
   "nbconvert_exporter": "python",
   "pygments_lexer": "ipython3",
   "version": "3.10.6"
  },
  "toc": {
   "base_numbering": 1,
   "nav_menu": {},
   "number_sections": true,
   "sideBar": true,
   "skip_h1_title": false,
   "title_cell": "Table of Contents",
   "title_sidebar": "Contents",
   "toc_cell": false,
   "toc_position": {
    "height": "calc(100% - 180px)",
    "left": "10px",
    "top": "150px",
    "width": "168px"
   },
   "toc_section_display": true,
   "toc_window_display": false
  },
  "varInspector": {
   "cols": {
    "lenName": 16,
    "lenType": 16,
    "lenVar": 40
   },
   "kernels_config": {
    "python": {
     "delete_cmd_postfix": "",
     "delete_cmd_prefix": "del ",
     "library": "var_list.py",
     "varRefreshCmd": "print(var_dic_list())"
    },
    "r": {
     "delete_cmd_postfix": ") ",
     "delete_cmd_prefix": "rm(",
     "library": "var_list.r",
     "varRefreshCmd": "cat(var_dic_list()) "
    }
   },
   "types_to_exclude": [
    "module",
    "function",
    "builtin_function_or_method",
    "instance",
    "_Feature"
   ],
   "window_display": false
  }
 },
 "nbformat": 4,
 "nbformat_minor": 2
}
