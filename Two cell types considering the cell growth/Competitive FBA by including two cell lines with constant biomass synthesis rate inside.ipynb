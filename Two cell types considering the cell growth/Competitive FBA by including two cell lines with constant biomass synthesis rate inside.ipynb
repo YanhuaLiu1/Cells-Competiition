{
 "cells": [
  {
   "cell_type": "markdown",
   "metadata": {},
   "source": [
    "# Competition for glucose, with internal goods X and Y, and social objective (model), linear/exponential growth rate"
   ]
  },
  {
   "cell_type": "code",
   "execution_count": 1,
   "metadata": {},
   "outputs": [],
   "source": [
    "import cobra\n",
    "import pandas as pd\n",
    "import numpy as np\n",
    "import pickle\n",
    "from cobra.flux_analysis import pfba"
   ]
  },
  {
   "cell_type": "code",
   "execution_count": 2,
   "metadata": {},
   "outputs": [
    {
     "name": "stdout",
     "output_type": "stream",
     "text": [
      "Scaling...\n",
      " A: min|aij| =  1.000e+00  max|aij| =  1.000e+00  ratio =  1.000e+00\n",
      "Problem data seem to be well scaled\n"
     ]
    },
    {
     "name": "stderr",
     "output_type": "stream",
     "text": [
      "/Users/yanhualiu/Desktop/New_topic/model_building/model_building_exercise_by_yanhua/Cells' competition paper/Two cell types considering growth for paper/utils/findBiomarkers.py:6: FutureWarning: Passing a negative integer is deprecated in version 1.0 and will not be supported in future version. Instead, use None to not limit the column width.\n",
      "  pd.set_option('display.max_colwidth', -1)\n"
     ]
    }
   ],
   "source": [
    "# import map visualization tools\n",
    "from utils import show_map\n",
    "import escher\n",
    "map_loc = 'Two cell system model_map.json' # the escher map used below\n",
    "# show all output\n",
    "from IPython.core.interactiveshell import InteractiveShell\n",
    "InteractiveShell.ast_node_interactivity = \"all\"\n",
    "\n",
    "M = cobra.io.load_json_model('Two cell system model.json')\n",
    "model = M.copy()"
   ]
  },
  {
   "cell_type": "code",
   "execution_count": 3,
   "metadata": {},
   "outputs": [
    {
     "name": "stdout",
     "output_type": "stream",
     "text": [
      "An empty solution was passed.\n"
     ]
    },
    {
     "data": {
      "application/vnd.jupyter.widget-view+json": {
       "model_id": "53ecd89dcacf4a53bf27b013b149510c",
       "version_major": 2,
       "version_minor": 0
      },
      "text/plain": [
       "Builder(hide_secondary_metabolites=False, highlight_missing=True, reaction_data={}, reaction_scale=[{'type': '…"
      ]
     },
     "metadata": {},
     "output_type": "display_data"
    }
   ],
   "source": [
    "b = show_map([],map_loc)\n",
    "b"
   ]
  },
  {
   "cell_type": "code",
   "execution_count": 4,
   "metadata": {},
   "outputs": [],
   "source": [
    "### Internal goods X and Y\n",
    "model.reactions.EX_Com_goodX_e.lower_bound=0\n",
    "model.reactions.EX_Com_goodY_e.lower_bound=0\n",
    "model.reactions.EX_glucose_e.lower_bound=-1"
   ]
  },
  {
   "cell_type": "code",
   "execution_count": 5,
   "metadata": {},
   "outputs": [
    {
     "data": {
      "application/vnd.jupyter.widget-view+json": {
       "model_id": "836c588741f7408a935e74ac1c1bdfc0",
       "version_major": 2,
       "version_minor": 0
      },
      "text/plain": [
       "Builder(hide_secondary_metabolites=False, highlight_missing=True, reaction_data={'EX_glucose_e': -1.0, 'GlcT':…"
      ]
     },
     "metadata": {},
     "output_type": "display_data"
    }
   ],
   "source": [
    "fbasol = pfba(model)\n",
    "b = show_map(fbasol,map_loc)\n",
    "b"
   ]
  },
  {
   "cell_type": "code",
   "execution_count": 6,
   "metadata": {},
   "outputs": [
    {
     "data": {
      "text/html": [
       "<div>\n",
       "<style scoped>\n",
       "    .dataframe tbody tr th:only-of-type {\n",
       "        vertical-align: middle;\n",
       "    }\n",
       "\n",
       "    .dataframe tbody tr th {\n",
       "        vertical-align: top;\n",
       "    }\n",
       "\n",
       "    .dataframe thead th {\n",
       "        text-align: right;\n",
       "    }\n",
       "</style>\n",
       "<table border=\"1\" class=\"dataframe\">\n",
       "  <thead>\n",
       "    <tr style=\"text-align: right;\">\n",
       "      <th></th>\n",
       "      <th>minimum</th>\n",
       "      <th>maximum</th>\n",
       "    </tr>\n",
       "  </thead>\n",
       "  <tbody>\n",
       "    <tr>\n",
       "      <th>EX_glucose_e</th>\n",
       "      <td>-1.00</td>\n",
       "      <td>-1.00</td>\n",
       "    </tr>\n",
       "    <tr>\n",
       "      <th>GlcT</th>\n",
       "      <td>1.00</td>\n",
       "      <td>1.00</td>\n",
       "    </tr>\n",
       "    <tr>\n",
       "      <th>GTI1</th>\n",
       "      <td>0.25</td>\n",
       "      <td>0.75</td>\n",
       "    </tr>\n",
       "    <tr>\n",
       "      <th>GTI2</th>\n",
       "      <td>0.25</td>\n",
       "      <td>0.75</td>\n",
       "    </tr>\n",
       "    <tr>\n",
       "      <th>biomass1</th>\n",
       "      <td>0.00</td>\n",
       "      <td>0.50</td>\n",
       "    </tr>\n",
       "    <tr>\n",
       "      <th>biomass2</th>\n",
       "      <td>0.00</td>\n",
       "      <td>0.50</td>\n",
       "    </tr>\n",
       "    <tr>\n",
       "      <th>DI1X</th>\n",
       "      <td>0.25</td>\n",
       "      <td>0.25</td>\n",
       "    </tr>\n",
       "    <tr>\n",
       "      <th>DI2Y</th>\n",
       "      <td>0.25</td>\n",
       "      <td>0.25</td>\n",
       "    </tr>\n",
       "  </tbody>\n",
       "</table>\n",
       "</div>"
      ],
      "text/plain": [
       "              minimum  maximum\n",
       "EX_glucose_e -1.00    -1.00   \n",
       "GlcT          1.00     1.00   \n",
       "GTI1          0.25     0.75   \n",
       "GTI2          0.25     0.75   \n",
       "biomass1      0.00     0.50   \n",
       "biomass2      0.00     0.50   \n",
       "DI1X          0.25     0.25   \n",
       "DI2Y          0.25     0.25   "
      ]
     },
     "execution_count": 6,
     "metadata": {},
     "output_type": "execute_result"
    }
   ],
   "source": [
    "### FVA result\n",
    "rxnsOfInterest=['EX_glucose_e','GlcT','GTI1','GTI2','biomass1','biomass2','DI1X','DI2Y']\n",
    "fvasol = cobra.flux_analysis.flux_variability_analysis(model,reaction_list=rxnsOfInterest,fraction_of_optimum=1)\n",
    "fvasol"
   ]
  },
  {
   "cell_type": "code",
   "execution_count": 7,
   "metadata": {},
   "outputs": [
    {
     "data": {
      "text/plain": [
       "0.5"
      ]
     },
     "execution_count": 7,
     "metadata": {},
     "output_type": "execute_result"
    }
   ],
   "source": [
    "model.solver='glpk'\n",
    "sol = model.optimize()\n",
    "sol.objective_value"
   ]
  },
  {
   "cell_type": "markdown",
   "metadata": {},
   "source": [
    "## Growing with time (Stepwise growth) for time variant  death rate (constant biomass synthesis)"
   ]
  },
  {
   "cell_type": "markdown",
   "metadata": {},
   "source": [
    "### µ1=0.2; µ2=0.3"
   ]
  },
  {
   "cell_type": "code",
   "execution_count": 8,
   "metadata": {},
   "outputs": [],
   "source": [
    "model2=model.copy()"
   ]
  },
  {
   "cell_type": "code",
   "execution_count": 9,
   "metadata": {},
   "outputs": [
    {
     "data": {
      "text/plain": [
       "<Figure size 640x480 with 0 Axes>"
      ]
     },
     "execution_count": 9,
     "metadata": {},
     "output_type": "execute_result"
    },
    {
     "data": {
      "text/plain": [
       "<matplotlib.collections.PathCollection at 0x1439da7a0>"
      ]
     },
     "execution_count": 9,
     "metadata": {},
     "output_type": "execute_result"
    },
    {
     "data": {
      "text/plain": [
       "<matplotlib.collections.PathCollection at 0x1439d9660>"
      ]
     },
     "execution_count": 9,
     "metadata": {},
     "output_type": "execute_result"
    },
    {
     "data": {
      "text/plain": [
       "Text(0.5, 0, 't (month)')"
      ]
     },
     "execution_count": 9,
     "metadata": {},
     "output_type": "execute_result"
    },
    {
     "data": {
      "text/plain": [
       "(0.0, 1.0)"
      ]
     },
     "execution_count": 9,
     "metadata": {},
     "output_type": "execute_result"
    },
    {
     "data": {
      "text/plain": [
       "Text(0.5, 1.0, 'Time variant death rates ($\\\\beta=0.05$)')"
      ]
     },
     "execution_count": 9,
     "metadata": {},
     "output_type": "execute_result"
    },
    {
     "data": {
      "text/plain": [
       "Text(0, 0.5, 'Specific death rate')"
      ]
     },
     "execution_count": 9,
     "metadata": {},
     "output_type": "execute_result"
    },
    {
     "data": {
      "text/plain": [
       "<matplotlib.legend.Legend at 0x1439d8400>"
      ]
     },
     "execution_count": 9,
     "metadata": {},
     "output_type": "execute_result"
    },
    {
     "data": {
      "image/png": "[encoded data removed]",
      "text/plain": [
       "<Figure size 640x480 with 1 Axes>"
      ]
     },
     "metadata": {},
     "output_type": "display_data"
    }
   ],
   "source": [
    "import math\n",
    "import matplotlib.pyplot as plt\n",
    "plt.figure()\n",
    "T_list=[]\n",
    "Fluxes1_list=[]\n",
    "Fluxes2_list=[]\n",
    "b1_list=[]\n",
    "b2_list=[]\n",
    "µ1_list=[]\n",
    "µ2_list=[]\n",
    "# Store the values of B1 and B2 for each time step in lists.\n",
    "B1_vals = []\n",
    "B2_vals = []\n",
    "\n",
    "def B1(t):\n",
    "    if t <= 0:\n",
    "        return 0.5\n",
    "    return (0.5*0.5*math.exp(-0.5*t/10)+0.2*(1-math.exp(-0.5*t/10)))/0.5\n",
    "            \n",
    "def B2(t):\n",
    "    if t <= 0:\n",
    "        return 0.5\n",
    "    return (0.5*0.5*math.exp(-0.5*t/10)+0.3*(1-math.exp(-0.5*t/10)))/0.5\n",
    "            \n",
    "for t in np.arange(0,500,1):\n",
    "    B1_t = B1(t)\n",
    "    B2_t = B2(t)\n",
    "  \n",
    "    b1=0.2\n",
    "    b2=0.3\n",
    "    b1_list.append(b1)\n",
    "    b2_list.append(b2)\n",
    "    B1_vals.append(B1_t)\n",
    "    B2_vals.append(B2_t)\n",
    "    µ1=0.5*0.2/((0.5*0.5*math.exp(-0.5*t/10))+0.2*(1-math.exp(-0.5*t/10)))\n",
    "    µ2=0.5*0.3/((0.5*0.5*math.exp(-0.5*t/10))+0.3*(1-math.exp(-0.5*t/10)))\n",
    "    µ1_list.append(µ1)\n",
    "    µ2_list.append(µ2)\n",
    "    model2.reactions.biomass1.upper_bound=b1\n",
    "    model2.reactions.biomass2.upper_bound=b2\n",
    "    model2.reactions.DI1X.upper_bound=3*B1_vals[-1]\n",
    "    model2.reactions.DI2Y.upper_bound=3*B2_vals[-1]\n",
    "    sol = model2.optimize()\n",
    "    obj_val = sol.objective_value\n",
    "    Fluxes1=sol.fluxes.loc['biomass1']\n",
    "    Fluxes2=sol.fluxes.loc['biomass2']\n",
    "    Fluxes3=sol.fluxes.loc['DI1X']\n",
    "    Fluxes4=sol.fluxes.loc['DI2Y']\n",
    "    Fluxes5=sol.fluxes.loc['EX_glucose_e']\n",
    "    Fluxes1_list.append(Fluxes1)\n",
    "    Fluxes2_list.append(Fluxes2)\n",
    "\n",
    "    T=t/10\n",
    "    T_list.append(T)\n",
    "\n",
    "# plt.scatter(T_list,B1_vals,color='orange',s=10)\n",
    "# plt.scatter(T_list,B2_vals,color='purple',s=10)\n",
    "plt.scatter(T_list,µ1_list,color='orange',s=10)\n",
    "plt.scatter(T_list,µ2_list,color='purple',s=10)\n",
    "plt.xlabel(\"t (month)\",fontsize=15)\n",
    "\n",
    "\n",
    "# plt.ylim(0,1)\n",
    "# plt.title('Cell number in time variant death rate',fontsize=12)\n",
    "# plt.ylabel(\"Cell number\",fontsize=12)\n",
    "# plt.legend(['B1(t)','B2(t)'],loc='upper right')\n",
    "\n",
    "plt.ylim(0,1)\n",
    "plt.title('Time variant death rates ('r'$\\beta=0.05$'')',fontsize=12)\n",
    "plt.ylabel(\"Specific death rate\",fontsize=12)\n",
    "plt.legend(['µ1.death(t)','µ2.death(t)'],loc='upper right')\n",
    "\n",
    "plt.rc('xtick', labelsize=16) \n",
    "plt.rc('ytick', labelsize=16)\n",
    "plt.rcParams['legend.fontsize']=15\n",
    "plt.tight_layout()\n",
    "\n",
    "# plt.show()\n",
    "plt.savefig('Two cell lines (Stepwise growth)(Obj=b1+b2))',dpi=300)"
   ]
  },
  {
   "cell_type": "code",
   "execution_count": 53,
   "metadata": {},
   "outputs": [
    {
     "name": "stdout",
     "output_type": "stream",
     "text": [
      "0.499999999998175 0.5000000000012166\n"
     ]
    }
   ],
   "source": [
    "print(µ1_list[-1],µ2_list[-1])"
   ]
  },
  {
   "cell_type": "markdown",
   "metadata": {},
   "source": [
    "### µ1=0.15; µ2=0.35"
   ]
  },
  {
   "cell_type": "code",
   "execution_count": 10,
   "metadata": {},
   "outputs": [],
   "source": [
    "model2=model.copy()"
   ]
  },
  {
   "cell_type": "code",
   "execution_count": 11,
   "metadata": {},
   "outputs": [
    {
     "data": {
      "text/plain": [
       "<Figure size 640x480 with 0 Axes>"
      ]
     },
     "execution_count": 11,
     "metadata": {},
     "output_type": "execute_result"
    },
    {
     "data": {
      "text/plain": [
       "<matplotlib.collections.PathCollection at 0x143a1ae00>"
      ]
     },
     "execution_count": 11,
     "metadata": {},
     "output_type": "execute_result"
    },
    {
     "data": {
      "text/plain": [
       "<matplotlib.collections.PathCollection at 0x143a1a7a0>"
      ]
     },
     "execution_count": 11,
     "metadata": {},
     "output_type": "execute_result"
    },
    {
     "data": {
      "text/plain": [
       "Text(0.5, 0, 't (month)')"
      ]
     },
     "execution_count": 11,
     "metadata": {},
     "output_type": "execute_result"
    },
    {
     "data": {
      "text/plain": [
       "(0.0, 1.0)"
      ]
     },
     "execution_count": 11,
     "metadata": {},
     "output_type": "execute_result"
    },
    {
     "data": {
      "text/plain": [
       "Text(0.5, 1.0, 'Time variant death rates ($\\\\beta=0.1$)')"
      ]
     },
     "execution_count": 11,
     "metadata": {},
     "output_type": "execute_result"
    },
    {
     "data": {
      "text/plain": [
       "Text(0, 0.5, 'Specific death rate')"
      ]
     },
     "execution_count": 11,
     "metadata": {},
     "output_type": "execute_result"
    },
    {
     "data": {
      "text/plain": [
       "<matplotlib.legend.Legend at 0x14398b7f0>"
      ]
     },
     "execution_count": 11,
     "metadata": {},
     "output_type": "execute_result"
    },
    {
     "data": {
      "image/png": "[encoded data removed]",
      "text/plain": [
       "<Figure size 640x480 with 1 Axes>"
      ]
     },
     "metadata": {},
     "output_type": "display_data"
    }
   ],
   "source": [
    "import math\n",
    "import matplotlib.pyplot as plt\n",
    "plt.figure()\n",
    "T_list=[]\n",
    "Fluxes1_list=[]\n",
    "Fluxes2_list=[]\n",
    "b1_list=[]\n",
    "b2_list=[]\n",
    "µ1_list=[]\n",
    "µ2_list=[]\n",
    "# Store the values of B1 and B2 for each time step in lists.\n",
    "B1_vals = []\n",
    "B2_vals = []\n",
    "\n",
    "def B1(t):\n",
    "    if t <= 0:\n",
    "        return 0.5\n",
    "    return (0.5*0.5*math.exp(-0.5*t/10)+0.15*(1-math.exp(-0.5*t/10)))/0.5\n",
    "            \n",
    "def B2(t):\n",
    "    if t <= 0:\n",
    "        return 0.5\n",
    "    return (0.5*0.5*math.exp(-0.5*t/10)+0.35*(1-math.exp(-0.5*t/10)))/0.5\n",
    "            \n",
    "for t in np.arange(0,500,1):\n",
    "    B1_t = B1(t)\n",
    "    B2_t = B2(t)\n",
    "  \n",
    "    b1=0.15\n",
    "    b2=0.35\n",
    "    b1_list.append(b1)\n",
    "    b2_list.append(b2)\n",
    "    B1_vals.append(B1_t)\n",
    "    B2_vals.append(B2_t)\n",
    "    µ1=0.5*0.15/((0.5*0.5*math.exp(-0.5*t/10))+0.15*(1-math.exp(-0.5*t/10)))\n",
    "    µ2=0.5*0.35/((0.5*0.5*math.exp(-0.5*t/10))+0.35*(1-math.exp(-0.5*t/10)))\n",
    "    µ1_list.append(µ1)\n",
    "    µ2_list.append(µ2)\n",
    "    model2.reactions.biomass1.upper_bound=b1\n",
    "    model2.reactions.biomass2.upper_bound=b2\n",
    "    model2.reactions.DI1X.upper_bound=3*B1_vals[-1]\n",
    "    model2.reactions.DI2Y.upper_bound=3*B2_vals[-1]\n",
    "    sol = model2.optimize()\n",
    "    obj_val = sol.objective_value\n",
    "    Fluxes1=sol.fluxes.loc['biomass1']\n",
    "    Fluxes2=sol.fluxes.loc['biomass2']\n",
    "    Fluxes3=sol.fluxes.loc['DI1X']\n",
    "    Fluxes4=sol.fluxes.loc['DI2Y']\n",
    "    Fluxes5=sol.fluxes.loc['EX_glucose_e']\n",
    "    Fluxes1_list.append(Fluxes1)\n",
    "    Fluxes2_list.append(Fluxes2)\n",
    "\n",
    "    T=t/10\n",
    "    T_list.append(T)\n",
    "\n",
    "# plt.scatter(T_list,B1_vals,color='orange',s=10)\n",
    "# plt.scatter(T_list,B2_vals,color='purple',s=10)\n",
    "plt.scatter(T_list,µ1_list,color='orange',s=10)\n",
    "plt.scatter(T_list,µ2_list,color='purple',s=10)\n",
    "plt.xlabel(\"t (month)\",fontsize=15)\n",
    "\n",
    "\n",
    "# plt.ylim(0,1)\n",
    "# plt.title('Cell number in time variant death rate',fontsize=12)\n",
    "# plt.ylabel(\"Cell number\",fontsize=12)\n",
    "# plt.legend(['B1(t)','B2(t)'],loc='upper right')\n",
    "\n",
    "plt.ylim(0,1)\n",
    "plt.title('Time variant death rates ('r'$\\beta=0.1$'')',fontsize=12)\n",
    "plt.ylabel(\"Specific death rate\",fontsize=12)\n",
    "plt.legend(['µ1.death(t)','µ2.death(t)'],loc='upper right')\n",
    "\n",
    "plt.rc('xtick', labelsize=16) \n",
    "plt.rc('ytick', labelsize=16)\n",
    "plt.rcParams['legend.fontsize']=15\n",
    "plt.tight_layout()\n",
    "\n",
    "# plt.show()\n",
    "plt.savefig('Two cell lines (Stepwise growth)(Obj=b1+b2))',dpi=300)"
   ]
  },
  {
   "cell_type": "code",
   "execution_count": null,
   "metadata": {},
   "outputs": [],
   "source": [
    "print(µ1_list[-1],µ2_list[-1])"
   ]
  },
  {
   "cell_type": "markdown",
   "metadata": {},
   "source": [
    "### µ1=0.05; µ2=0.45"
   ]
  },
  {
   "cell_type": "code",
   "execution_count": 12,
   "metadata": {},
   "outputs": [],
   "source": [
    "model2=model.copy()"
   ]
  },
  {
   "cell_type": "code",
   "execution_count": 13,
   "metadata": {},
   "outputs": [
    {
     "data": {
      "text/plain": [
       "<Figure size 640x480 with 0 Axes>"
      ]
     },
     "execution_count": 13,
     "metadata": {},
     "output_type": "execute_result"
    },
    {
     "data": {
      "text/plain": [
       "<matplotlib.collections.PathCollection at 0x143a65bd0>"
      ]
     },
     "execution_count": 13,
     "metadata": {},
     "output_type": "execute_result"
    },
    {
     "data": {
      "text/plain": [
       "<matplotlib.collections.PathCollection at 0x143a66350>"
      ]
     },
     "execution_count": 13,
     "metadata": {},
     "output_type": "execute_result"
    },
    {
     "data": {
      "text/plain": [
       "Text(0.5, 0, 't (month)')"
      ]
     },
     "execution_count": 13,
     "metadata": {},
     "output_type": "execute_result"
    },
    {
     "data": {
      "text/plain": [
       "(0.0, 1.0)"
      ]
     },
     "execution_count": 13,
     "metadata": {},
     "output_type": "execute_result"
    },
    {
     "data": {
      "text/plain": [
       "Text(0.5, 1.0, 'Time variant death rates ($\\\\beta=0.2$)')"
      ]
     },
     "execution_count": 13,
     "metadata": {},
     "output_type": "execute_result"
    },
    {
     "data": {
      "text/plain": [
       "Text(0, 0.5, 'Specific death rate')"
      ]
     },
     "execution_count": 13,
     "metadata": {},
     "output_type": "execute_result"
    },
    {
     "data": {
      "text/plain": [
       "<matplotlib.legend.Legend at 0x143d4a440>"
      ]
     },
     "execution_count": 13,
     "metadata": {},
     "output_type": "execute_result"
    },
    {
     "data": {
      "image/png": "[encoded data removed]",
      "text/plain": [
       "<Figure size 640x480 with 1 Axes>"
      ]
     },
     "metadata": {},
     "output_type": "display_data"
    }
   ],
   "source": [
    "import math\n",
    "import matplotlib.pyplot as plt\n",
    "plt.figure()\n",
    "T_list=[]\n",
    "Fluxes1_list=[]\n",
    "Fluxes2_list=[]\n",
    "b1_list=[]\n",
    "b2_list=[]\n",
    "µ1_list=[]\n",
    "µ2_list=[]\n",
    "# Store the values of B1 and B2 for each time step in lists.\n",
    "B1_vals = []\n",
    "B2_vals = []\n",
    "\n",
    "def B1(t):\n",
    "    if t <= 0:\n",
    "        return 0.5\n",
    "    return (0.5*0.5*math.exp(-0.5*t/10)+0.05*(1-math.exp(-0.5*t/10)))/0.5\n",
    "            \n",
    "def B2(t):\n",
    "    if t <= 0:\n",
    "        return 0.5\n",
    "    return (0.5*0.5*math.exp(-0.5*t/10)+0.45*(1-math.exp(-0.5*t/10)))/0.5\n",
    "            \n",
    "for t in np.arange(0,500,1):\n",
    "    B1_t = B1(t)\n",
    "    B2_t = B2(t)\n",
    "  \n",
    "    b1=0.05\n",
    "    b2=0.45\n",
    "    b1_list.append(b1)\n",
    "    b2_list.append(b2)\n",
    "    B1_vals.append(B1_t)\n",
    "    B2_vals.append(B2_t)\n",
    "    µ1=0.5*0.05/((0.5*0.5*math.exp(-0.5*t/10))+0.05*(1-math.exp(-0.5*t/10)))\n",
    "    µ2=0.5*0.45/((0.5*0.5*math.exp(-0.5*t/10))+0.45*(1-math.exp(-0.5*t/10)))\n",
    "    µ1_list.append(µ1)\n",
    "    µ2_list.append(µ2)\n",
    "    model2.reactions.biomass1.upper_bound=b1\n",
    "    model2.reactions.biomass2.upper_bound=b2\n",
    "    model2.reactions.DI1X.upper_bound=3*B1_vals[-1]\n",
    "    model2.reactions.DI2Y.upper_bound=3*B2_vals[-1]\n",
    "    sol = model2.optimize()\n",
    "    obj_val = sol.objective_value\n",
    "    Fluxes1=sol.fluxes.loc['biomass1']\n",
    "    Fluxes2=sol.fluxes.loc['biomass2']\n",
    "    Fluxes3=sol.fluxes.loc['DI1X']\n",
    "    Fluxes4=sol.fluxes.loc['DI2Y']\n",
    "    Fluxes5=sol.fluxes.loc['EX_glucose_e']\n",
    "    Fluxes1_list.append(Fluxes1)\n",
    "    Fluxes2_list.append(Fluxes2)\n",
    "\n",
    "    T=t/10\n",
    "    T_list.append(T)\n",
    "\n",
    "# plt.scatter(T_list,B1_vals,color='orange',s=10)\n",
    "# plt.scatter(T_list,B2_vals,color='purple',s=10)\n",
    "plt.scatter(T_list,µ1_list,color='orange',s=10)\n",
    "plt.scatter(T_list,µ2_list,color='purple',s=10)\n",
    "plt.xlabel(\"t (month)\",fontsize=15)\n",
    "\n",
    "\n",
    "# plt.ylim(0,1)\n",
    "# plt.title('Cell number in time variant death rate',fontsize=12)\n",
    "# plt.ylabel(\"Cell number\",fontsize=12)\n",
    "# plt.legend(['B1(t)','B2(t)'],loc='upper right')\n",
    "\n",
    "plt.ylim(0,1)\n",
    "plt.title('Time variant death rates ('r'$\\beta=0.2$'')',fontsize=12)\n",
    "plt.ylabel(\"Specific death rate\",fontsize=12)\n",
    "plt.legend(['µ1.death(t)','µ2.death(t)'],loc='upper right')\n",
    "\n",
    "plt.rc('xtick', labelsize=16) \n",
    "plt.rc('ytick', labelsize=16)\n",
    "plt.rcParams['legend.fontsize']=15\n",
    "plt.tight_layout()\n",
    "\n",
    "# plt.show()\n",
    "plt.savefig('Two cell lines (Stepwise growth)(Obj=b1+b2))',dpi=300)"
   ]
  },
  {
   "cell_type": "code",
   "execution_count": 50,
   "metadata": {},
   "outputs": [
    {
     "name": "stdout",
     "output_type": "stream",
     "text": [
      "0.4999999999708 0.5000000000032444\n"
     ]
    }
   ],
   "source": [
    "print(µ1_list[-1],µ2_list[-1])"
   ]
  },
  {
   "cell_type": "code",
   "execution_count": null,
   "metadata": {},
   "outputs": [],
   "source": []
  }
 ],
 "metadata": {
  "kernelspec": {
   "display_name": "Python 3 (ipykernel)",
   "language": "python",
   "name": "python3"
  },
  "language_info": {
   "codemirror_mode": {
    "name": "ipython",
    "version": 3
   },
   "file_extension": ".py",
   "mimetype": "text/x-python",
   "name": "python",
   "nbconvert_exporter": "python",
   "pygments_lexer": "ipython3",
   "version": "3.11.6"
  },
  "toc": {
   "base_numbering": 1,
   "nav_menu": {},
   "number_sections": true,
   "sideBar": true,
   "skip_h1_title": false,
   "title_cell": "Table of Contents",
   "title_sidebar": "Contents",
   "toc_cell": false,
   "toc_position": {
    "height": "calc(100% - 180px)",
    "left": "10px",
    "top": "150px",
    "width": "318px"
   },
   "toc_section_display": true,
   "toc_window_display": true
  },
  "varInspector": {
   "cols": {
    "lenName": 16,
    "lenType": 16,
    "lenVar": 40
   },
   "kernels_config": {
    "python": {
     "delete_cmd_postfix": "",
     "delete_cmd_prefix": "del ",
     "library": "var_list.py",
     "varRefreshCmd": "print(var_dic_list())"
    },
    "r": {
     "delete_cmd_postfix": ") ",
     "delete_cmd_prefix": "rm(",
     "library": "var_list.r",
     "varRefreshCmd": "cat(var_dic_list()) "
    }
   },
   "types_to_exclude": [
    "module",
    "function",
    "builtin_function_or_method",
    "instance",
    "_Feature"
   ],
   "window_display": false
  }
 },
 "nbformat": 4,
 "nbformat_minor": 2
}
